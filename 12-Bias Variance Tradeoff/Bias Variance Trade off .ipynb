{
 "cells": [
  {
   "cell_type": "markdown",
   "id": "fe9f49f1",
   "metadata": {},
   "source": [
    "The bias-variance tradeoff is a concept in statistics and machine learning that describes the relationship between a model's complexity, the accuracy of its predictions, and the sources of error that prevent supervised learning algorithms from generalizing beyond their training set.\n",
    "\n",
    "Let's understand this with bow and arrow example: Assume, you are trying to hit target with a bow and a arrow.\n",
    "\n",
    "__Bias__: You are constantly shooting arrows far away from the bullseye. This means your model is too simple and doesn't capture the underlying patterns in the data. It's like making a general guess for every situation, which might not be very accurate. This is called __underfitting__.\n",
    "\n",
    "__Variance__: Variance is like a inconsistant archer who sometimes hits the target but sometimes misses by a lot. This means  your model is too complex, and it's too sensitive to the specific data it's trained on. It's like memorizing the training data instead of learning the general rules. This can lead to poor performance on new, unseen data. This is called \"overfitting.\"\n",
    "\n",
    "So, the trade-off is like finding the right balance between being a consistent archer (low variance) and getting closer to the bullseye (low bias). You want to build a model that generalizes well, meaning it can make accurate predictions on new data it has never seen before.\n",
    "\n",
    "To summarize, the bias-variance trade-off is about finding the right level of complexity for your model. You want it to be just right, not too simple (high bias) or too complex (high variance), so it can make accurate predictions on both the training data and new, unseen data."
   ]
  },
  {
   "cell_type": "code",
   "execution_count": 3,
   "id": "7cbc72ec",
   "metadata": {},
   "outputs": [],
   "source": [
    "from PIL import Image\n",
    "from IPython.display import display"
   ]
  },
  {
   "cell_type": "code",
   "execution_count": 2,
   "id": "8fecb5af",
   "metadata": {},
   "outputs": [
    {
     "ename": "NameError",
     "evalue": "name 'Image' is not defined",
     "output_type": "error",
     "traceback": [
      "\u001b[1;31m---------------------------------------------------------------------------\u001b[0m",
      "\u001b[1;31mNameError\u001b[0m                                 Traceback (most recent call last)",
      "\u001b[1;32m~\\AppData\\Local\\Temp/ipykernel_15272/1134592963.py\u001b[0m in \u001b[0;36m<module>\u001b[1;34m\u001b[0m\n\u001b[1;32m----> 1\u001b[1;33m \u001b[0mimg\u001b[0m \u001b[1;33m=\u001b[0m \u001b[0mImage\u001b[0m\u001b[1;33m.\u001b[0m\u001b[0mopen\u001b[0m\u001b[1;33m(\u001b[0m\u001b[1;34m'bullseye.png'\u001b[0m\u001b[1;33m)\u001b[0m\u001b[1;33m\u001b[0m\u001b[1;33m\u001b[0m\u001b[0m\n\u001b[0m\u001b[0;32m      2\u001b[0m \u001b[0mimg_resized\u001b[0m \u001b[1;33m=\u001b[0m \u001b[0mimg\u001b[0m\u001b[1;33m.\u001b[0m\u001b[0mresize\u001b[0m\u001b[1;33m(\u001b[0m\u001b[1;33m(\u001b[0m\u001b[1;36m400\u001b[0m\u001b[1;33m,\u001b[0m \u001b[1;36m400\u001b[0m\u001b[1;33m)\u001b[0m\u001b[1;33m)\u001b[0m\u001b[1;33m\u001b[0m\u001b[1;33m\u001b[0m\u001b[0m\n\u001b[0;32m      3\u001b[0m \u001b[0mdisplay\u001b[0m\u001b[1;33m(\u001b[0m\u001b[0mimg_resized\u001b[0m\u001b[1;33m)\u001b[0m\u001b[1;33m\u001b[0m\u001b[1;33m\u001b[0m\u001b[0m\n",
      "\u001b[1;31mNameError\u001b[0m: name 'Image' is not defined"
     ]
    }
   ],
   "source": [
    "img = Image.open('bullseye.png')\n",
    "img_resized = img.resize((400, 400))\n",
    "display(img_resized)"
   ]
  },
  {
   "cell_type": "code",
   "execution_count": null,
   "id": "9c849df6",
   "metadata": {},
   "outputs": [],
   "source": []
  }
 ],
 "metadata": {
  "kernelspec": {
   "display_name": "Python 3 (ipykernel)",
   "language": "python",
   "name": "python3"
  },
  "language_info": {
   "codemirror_mode": {
    "name": "ipython",
    "version": 3
   },
   "file_extension": ".py",
   "mimetype": "text/x-python",
   "name": "python",
   "nbconvert_exporter": "python",
   "pygments_lexer": "ipython3",
   "version": "3.9.7"
  }
 },
 "nbformat": 4,
 "nbformat_minor": 5
}
