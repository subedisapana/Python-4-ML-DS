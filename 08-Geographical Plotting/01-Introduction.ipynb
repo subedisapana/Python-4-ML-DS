{
 "cells": [
  {
   "cell_type": "markdown",
   "id": "82a2a7df",
   "metadata": {},
   "source": [
    "Geographical plotting is usually challenging to due the various formats the data can come in.\n",
    "\n",
    "Geographical plotting is a technique used to visualize data on a map. It can be used to display a wide range of information such as population distribution, weather patterns, business locations, and more. There are several tools and libraries available to perform geographical plotting in different programming languages such as Python, R, JavaScript, and more.\n",
    "\n",
    "Geographical plotting can be a powerful tool for understanding spatial relationships and identifying patterns in your data. It can be especially useful in fields like epidemiology, where understanding the geographic spread of a disease can be critical for controlling outbreaks."
   ]
  }
 ],
 "metadata": {
  "kernelspec": {
   "display_name": "Python 3 (ipykernel)",
   "language": "python",
   "name": "python3"
  },
  "language_info": {
   "codemirror_mode": {
    "name": "ipython",
    "version": 3
   },
   "file_extension": ".py",
   "mimetype": "text/x-python",
   "name": "python",
   "nbconvert_exporter": "python",
   "pygments_lexer": "ipython3",
   "version": "3.9.7"
  }
 },
 "nbformat": 4,
 "nbformat_minor": 5
}
