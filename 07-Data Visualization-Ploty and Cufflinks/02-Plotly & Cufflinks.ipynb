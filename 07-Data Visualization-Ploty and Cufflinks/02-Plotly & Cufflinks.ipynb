{
 "cells": [
  {
   "cell_type": "code",
   "execution_count": 1,
   "id": "339b4d77",
   "metadata": {},
   "outputs": [],
   "source": [
    "import pandas as pd\n",
    "import  numpy as np\n",
    "%matplotlib inline"
   ]
  },
  {
   "cell_type": "code",
   "execution_count": 2,
   "id": "e25ba46b",
   "metadata": {},
   "outputs": [],
   "source": [
    "from plotly import __version__\n"
   ]
  },
  {
   "cell_type": "code",
   "execution_count": 3,
   "id": "649f644f",
   "metadata": {},
   "outputs": [
    {
     "name": "stdout",
     "output_type": "stream",
     "text": [
      "5.14.1\n"
     ]
    }
   ],
   "source": [
    "print(__version__)\n"
   ]
  },
  {
   "cell_type": "code",
   "execution_count": 4,
   "id": "dea0812c",
   "metadata": {},
   "outputs": [],
   "source": [
    "import cufflinks as cf\n"
   ]
  },
  {
   "cell_type": "markdown",
   "id": "fd8f6f85",
   "metadata": {},
   "source": [
    "import libraries from plotly.offline. Plotly as a company can support and host online data visualizations, but since we are going to use it as a open source library and we are using it offline,  we need to install offline libraries."
   ]
  },
  {
   "cell_type": "code",
   "execution_count": 5,
   "id": "48619715",
   "metadata": {},
   "outputs": [],
   "source": [
    "from plotly.offline import download_plotlyjs, init_notebook_mode, plot, iplot\n"
   ]
  },
  {
   "cell_type": "code",
   "execution_count": 6,
   "id": "cb430a34",
   "metadata": {},
   "outputs": [
    {
     "data": {
      "text/html": [
       "        <script type=\"text/javascript\">\n",
       "        window.PlotlyConfig = {MathJaxConfig: 'local'};\n",
       "        if (window.MathJax && window.MathJax.Hub && window.MathJax.Hub.Config) {window.MathJax.Hub.Config({SVG: {font: \"STIX-Web\"}});}\n",
       "        if (typeof require !== 'undefined') {\n",
       "        require.undef(\"plotly\");\n",
       "        requirejs.config({\n",
       "            paths: {\n",
       "                'plotly': ['https://cdn.plot.ly/plotly-2.20.0.min']\n",
       "            }\n",
       "        });\n",
       "        require(['plotly'], function(Plotly) {\n",
       "            window._Plotly = Plotly;\n",
       "        });\n",
       "        }\n",
       "        </script>\n",
       "        "
      ]
     },
     "metadata": {},
     "output_type": "display_data"
    }
   ],
   "source": [
    "init_notebook_mode(connected=True) # connects js to notebook. Plotly just connects pandas and python to a interactive js libraries"
   ]
  },
  {
   "cell_type": "code",
   "execution_count": 7,
   "id": "dfd6ffae",
   "metadata": {},
   "outputs": [
    {
     "data": {
      "text/html": [
       "        <script type=\"text/javascript\">\n",
       "        window.PlotlyConfig = {MathJaxConfig: 'local'};\n",
       "        if (window.MathJax && window.MathJax.Hub && window.MathJax.Hub.Config) {window.MathJax.Hub.Config({SVG: {font: \"STIX-Web\"}});}\n",
       "        if (typeof require !== 'undefined') {\n",
       "        require.undef(\"plotly\");\n",
       "        requirejs.config({\n",
       "            paths: {\n",
       "                'plotly': ['https://cdn.plot.ly/plotly-2.20.0.min']\n",
       "            }\n",
       "        });\n",
       "        require(['plotly'], function(Plotly) {\n",
       "            window._Plotly = Plotly;\n",
       "        });\n",
       "        }\n",
       "        </script>\n",
       "        "
      ]
     },
     "metadata": {},
     "output_type": "display_data"
    }
   ],
   "source": [
    "cf.go_offline() #method"
   ]
  },
  {
   "cell_type": "code",
   "execution_count": 8,
   "id": "3f3b39c0",
   "metadata": {},
   "outputs": [],
   "source": [
    "#Data\n",
    "\n",
    "df = pd.DataFrame(np.random.randn(100,4), columns='A B C D'.split())"
   ]
  },
  {
   "cell_type": "code",
   "execution_count": 9,
   "id": "14cd5326",
   "metadata": {},
   "outputs": [
    {
     "data": {
      "text/html": [
       "<div>\n",
       "<style scoped>\n",
       "    .dataframe tbody tr th:only-of-type {\n",
       "        vertical-align: middle;\n",
       "    }\n",
       "\n",
       "    .dataframe tbody tr th {\n",
       "        vertical-align: top;\n",
       "    }\n",
       "\n",
       "    .dataframe thead th {\n",
       "        text-align: right;\n",
       "    }\n",
       "</style>\n",
       "<table border=\"1\" class=\"dataframe\">\n",
       "  <thead>\n",
       "    <tr style=\"text-align: right;\">\n",
       "      <th></th>\n",
       "      <th>A</th>\n",
       "      <th>B</th>\n",
       "      <th>C</th>\n",
       "      <th>D</th>\n",
       "    </tr>\n",
       "  </thead>\n",
       "  <tbody>\n",
       "    <tr>\n",
       "      <th>0</th>\n",
       "      <td>-1.282123</td>\n",
       "      <td>-2.467490</td>\n",
       "      <td>-0.889400</td>\n",
       "      <td>0.184513</td>\n",
       "    </tr>\n",
       "    <tr>\n",
       "      <th>1</th>\n",
       "      <td>-0.399991</td>\n",
       "      <td>-0.910999</td>\n",
       "      <td>0.637244</td>\n",
       "      <td>-0.302218</td>\n",
       "    </tr>\n",
       "    <tr>\n",
       "      <th>2</th>\n",
       "      <td>0.186040</td>\n",
       "      <td>-0.977544</td>\n",
       "      <td>-2.237411</td>\n",
       "      <td>-0.600677</td>\n",
       "    </tr>\n",
       "    <tr>\n",
       "      <th>3</th>\n",
       "      <td>1.945478</td>\n",
       "      <td>-0.805036</td>\n",
       "      <td>-0.317656</td>\n",
       "      <td>-0.305258</td>\n",
       "    </tr>\n",
       "    <tr>\n",
       "      <th>4</th>\n",
       "      <td>-0.597646</td>\n",
       "      <td>0.388084</td>\n",
       "      <td>0.756191</td>\n",
       "      <td>0.012925</td>\n",
       "    </tr>\n",
       "  </tbody>\n",
       "</table>\n",
       "</div>"
      ],
      "text/plain": [
       "          A         B         C         D\n",
       "0 -1.282123 -2.467490 -0.889400  0.184513\n",
       "1 -0.399991 -0.910999  0.637244 -0.302218\n",
       "2  0.186040 -0.977544 -2.237411 -0.600677\n",
       "3  1.945478 -0.805036 -0.317656 -0.305258\n",
       "4 -0.597646  0.388084  0.756191  0.012925"
      ]
     },
     "execution_count": 9,
     "metadata": {},
     "output_type": "execute_result"
    }
   ],
   "source": [
    "df.head()"
   ]
  },
  {
   "cell_type": "code",
   "execution_count": 10,
   "id": "e0a085ee",
   "metadata": {},
   "outputs": [],
   "source": [
    "df2 = pd.DataFrame({'Category': ['A', 'B', 'C'],'Values':[32,45,50] })"
   ]
  },
  {
   "cell_type": "code",
   "execution_count": 11,
   "id": "7f92d522",
   "metadata": {},
   "outputs": [
    {
     "data": {
      "text/html": [
       "<div>\n",
       "<style scoped>\n",
       "    .dataframe tbody tr th:only-of-type {\n",
       "        vertical-align: middle;\n",
       "    }\n",
       "\n",
       "    .dataframe tbody tr th {\n",
       "        vertical-align: top;\n",
       "    }\n",
       "\n",
       "    .dataframe thead th {\n",
       "        text-align: right;\n",
       "    }\n",
       "</style>\n",
       "<table border=\"1\" class=\"dataframe\">\n",
       "  <thead>\n",
       "    <tr style=\"text-align: right;\">\n",
       "      <th></th>\n",
       "      <th>Category</th>\n",
       "      <th>Values</th>\n",
       "    </tr>\n",
       "  </thead>\n",
       "  <tbody>\n",
       "    <tr>\n",
       "      <th>0</th>\n",
       "      <td>A</td>\n",
       "      <td>32</td>\n",
       "    </tr>\n",
       "    <tr>\n",
       "      <th>1</th>\n",
       "      <td>B</td>\n",
       "      <td>45</td>\n",
       "    </tr>\n",
       "    <tr>\n",
       "      <th>2</th>\n",
       "      <td>C</td>\n",
       "      <td>50</td>\n",
       "    </tr>\n",
       "  </tbody>\n",
       "</table>\n",
       "</div>"
      ],
      "text/plain": [
       "  Category  Values\n",
       "0        A      32\n",
       "1        B      45\n",
       "2        C      50"
      ]
     },
     "execution_count": 11,
     "metadata": {},
     "output_type": "execute_result"
    }
   ],
   "source": [
    "df2"
   ]
  },
  {
   "cell_type": "markdown",
   "id": "46686d1f",
   "metadata": {},
   "source": [
    "In Matplotlib, plot is a function used to create a 2D line plot. It takes in two or more arrays of data, representing the x and y coordinates of the points to be plotted. plot can also accept optional arguments to customize the appearance of the plot, such as line color, marker style, and labels for the x and y axes."
   ]
  },
  {
   "cell_type": "code",
   "execution_count": 12,
   "id": "75574698",
   "metadata": {},
   "outputs": [
    {
     "data": {
      "text/plain": [
       "<AxesSubplot:>"
      ]
     },
     "execution_count": 12,
     "metadata": {},
     "output_type": "execute_result"
    },
    {
     "data": {
      "image/png": "[encoded data removed]",
      "text/plain": [
       "<Figure size 432x288 with 1 Axes>"
      ]
     },
     "metadata": {
      "needs_background": "light"
     },
     "output_type": "display_data"
    }
   ],
   "source": [
    "df.plot()"
   ]
  },
  {
   "cell_type": "markdown",
   "id": "25445cad",
   "metadata": {},
   "source": [
    "In Plotly, iplot is a function used to create interactive plots that can be displayed in a Jupyter Notebook or on a web page. Like plot, iplot takes in data arrays for the x and y coordinates, as well as optional arguments for customizing the plot's appearance. However, iplot also includes interactive features such as zooming, panning, and hovering over data points to display additional information."
   ]
  },
  {
   "cell_type": "code",
   "execution_count": 13,
   "id": "1ef8ee72",
   "metadata": {},
   "outputs": [
    {
     "data": {
      "application/vnd.plotly.v1+json": {
       "config": {
        "linkText": "Export to plot.ly",
        "plotlyServerURL": "https://plot.ly",
        "showLink": true
       },
       "data": [
        {
         "line": {
          "color": "rgba(255, 153, 51, 1.0)",
          "dash": "solid",
          "shape": "linear",
          "width": 1.3
         },
         "mode": "lines",
         "name": "A",
         "text": "",
         "type": "scatter",
         "x": [
          0,
          1,
          2,
          3,
          4,
          5,
          6,
          7,
          8,
          9,
          10,
          11,
          12,
          13,
          14,
          15,
          16,
          17,
          18,
          19,
          20,
          21,
          22,
          23,
          24,
          25,
          26,
          27,
          28,
          29,
          30,
          31,
          32,
          33,
          34,
          35,
          36,
          37,
          38,
          39,
          40,
          41,
          42,
          43,
          44,
          45,
          46,
          47,
          48,
          49,
          50,
          51,
          52,
          53,
          54,
          55,
          56,
          57,
          58,
          59,
          60,
          61,
          62,
          63,
          64,
          65,
          66,
          67,
          68,
          69,
          70,
          71,
          72,
          73,
          74,
          75,
          76,
          77,
          78,
          79,
          80,
          81,
          82,
          83,
          84,
          85,
          86,
          87,
          88,
          89,
          90,
          91,
          92,
          93,
          94,
          95,
          96,
          97,
          98,
          99
         ],
         "y": [
          -1.2821232259307913,
          -0.39999089040185204,
          0.18603955462223581,
          1.9454784431368184,
          -0.5976460193168096,
          -1.1357869422281528,
          0.5011941647418091,
          -0.3165890810433005,
          -0.49026251352794514,
          -0.3070155142823813,
          -0.00928407711693977,
          0.40742108364021007,
          -0.8059220890051619,
          -1.6150012335022794,
          0.2831274750204807,
          -0.8071318749394667,
          1.2578496478325498,
          0.5546354700979511,
          -0.8058535128503591,
          -1.325128537682219,
          -0.6293771302746785,
          -0.18505519612184348,
          1.161217988148961,
          -0.9940280665073525,
          -1.0517075260495918,
          -0.021950386799966522,
          1.7059306402459018,
          -0.5431574852715914,
          -1.6652518510749255,
          -0.2293687085613229,
          -0.9330038160520542,
          -0.40135606395472045,
          -0.5904818764111005,
          0.1561604164203169,
          0.05909328601089837,
          -0.27648155744488384,
          1.5426214018051496,
          2.00748019586431,
          -0.23004698398830756,
          -0.9034603928397359,
          -0.8432824015442412,
          0.5985161962702256,
          0.2064791649332286,
          -1.5981203262502197,
          -0.691193621887644,
          1.2648788373359174,
          -0.9812428188552841,
          0.29077257292937864,
          -0.3860304784116714,
          0.7348736205455061,
          -0.30194463093884955,
          -1.1804849866851235,
          1.8555927233230805,
          0.3206204405021417,
          -0.3484647029488913,
          0.17804035824914086,
          -0.005932309547459654,
          -1.09324321057662,
          1.0537325994802822,
          -0.11131747857058517,
          1.5510248050539293,
          0.0641092321739744,
          0.011983916018163067,
          0.07671899326363087,
          -1.6383015593850865,
          -0.8930202201725317,
          2.177001154926578,
          0.10032475555698285,
          0.19801577044420687,
          -0.8143086148611789,
          2.5765300667706303,
          1.1424955734563713,
          -1.1782421287147495,
          0.36719261575559925,
          1.913126328532216,
          0.5316725673593986,
          1.0609389309814266,
          -0.2580418540315302,
          -1.1096209702275894,
          -0.16525766112282678,
          -0.6350618813045671,
          -0.6680136886957433,
          2.2019863428116317,
          -0.6545846207600245,
          -0.9819257347533642,
          0.7686352817125546,
          -0.28770493344401477,
          0.5918740917074815,
          0.5183444223241045,
          -1.7520524718812602,
          1.3980636906330712,
          -1.1245314917361031,
          0.022139236012942463,
          0.7592364488219824,
          0.42600620243372245,
          -1.5866222361761575,
          0.9371724506934582,
          -0.9137856349047465,
          1.6410233938129204,
          -0.16725096651345864
         ]
        },
        {
         "line": {
          "color": "rgba(55, 128, 191, 1.0)",
          "dash": "solid",
          "shape": "linear",
          "width": 1.3
         },
         "mode": "lines",
         "name": "B",
         "text": "",
         "type": "scatter",
         "x": [
          0,
          1,
          2,
          3,
          4,
          5,
          6,
          7,
          8,
          9,
          10,
          11,
          12,
          13,
          14,
          15,
          16,
          17,
          18,
          19,
          20,
          21,
          22,
          23,
          24,
          25,
          26,
          27,
          28,
          29,
          30,
          31,
          32,
          33,
          34,
          35,
          36,
          37,
          38,
          39,
          40,
          41,
          42,
          43,
          44,
          45,
          46,
          47,
          48,
          49,
          50,
          51,
          52,
          53,
          54,
          55,
          56,
          57,
          58,
          59,
          60,
          61,
          62,
          63,
          64,
          65,
          66,
          67,
          68,
          69,
          70,
          71,
          72,
          73,
          74,
          75,
          76,
          77,
          78,
          79,
          80,
          81,
          82,
          83,
          84,
          85,
          86,
          87,
          88,
          89,
          90,
          91,
          92,
          93,
          94,
          95,
          96,
          97,
          98,
          99
         ],
         "y": [
          -2.467489679081685,
          -0.9109994341608991,
          -0.9775439597470429,
          -0.8050359803816095,
          0.3880837334389582,
          0.7226047001728041,
          2.12261391775626,
          -1.585119821691273,
          -1.4789391663694118,
          1.4130010878680048,
          0.5171336797321604,
          0.8200803187753855,
          -0.1651247430133621,
          -0.020378991429335632,
          1.7248920409679187,
          -1.0379234752961863,
          1.0288558054083492,
          -0.4209039800868332,
          0.9359771990048374,
          0.5283817923005579,
          -0.704072800755225,
          0.33848644671342304,
          1.1773768477836346,
          -0.45103721768800803,
          0.13224782035424706,
          0.7204598068251858,
          -0.9342447733723493,
          -1.5204779496076484,
          1.0181798372524824,
          2.0464668998426223,
          0.6454665423594669,
          -0.5056759016895037,
          0.6527386290509671,
          -0.5547342801162942,
          0.3788700033858548,
          -0.3676073288176218,
          0.5656698820540743,
          1.580633720103138,
          -0.12711454975637088,
          -0.3505517026278936,
          -0.7660622716697431,
          1.523972798077345,
          0.8877692878051118,
          -0.10704995915426571,
          1.629723149498767,
          -0.15762680777432658,
          -1.2668726445596794,
          0.20016928924696611,
          0.699254128347382,
          -0.03689603754636403,
          0.30371287844000294,
          0.28611928397815256,
          2.0585330014523042,
          1.0140945140540905,
          -0.8297552712905361,
          0.09013592833499368,
          0.3984442817811917,
          -0.4571516491840917,
          -0.44287898704643447,
          -1.0569149385856347,
          0.04807235507245364,
          -0.34419688596532827,
          0.10004621268753495,
          0.08731147708013766,
          1.0876804228688925,
          1.3099639910003447,
          0.7539412010773562,
          0.11957250636430646,
          2.3106977365467682,
          2.519930816359611,
          0.08534530825215789,
          -0.9825625396071127,
          -0.39525470620522996,
          -3.1375179773086317,
          0.6132469463474309,
          -0.16942740949205784,
          0.09266214650465411,
          -1.0902353511589595,
          0.8250519676663988,
          -0.13858028835181693,
          -0.28940274670430133,
          -0.002690390203971974,
          0.046357330322069706,
          0.85344253401098,
          0.5158074327785028,
          -1.0161437917023335,
          0.4572488313164856,
          -0.10617864673067459,
          -0.5613388514490533,
          0.3160584742132285,
          -0.8654585149192117,
          0.5512673818002701,
          -0.048270305086464724,
          0.7690216936257351,
          0.8258710118208544,
          -0.16396989659898215,
          -0.7355413370519562,
          -0.163054476714875,
          -1.1757281031956057,
          0.7343984686472602
         ]
        },
        {
         "line": {
          "color": "rgba(50, 171, 96, 1.0)",
          "dash": "solid",
          "shape": "linear",
          "width": 1.3
         },
         "mode": "lines",
         "name": "C",
         "text": "",
         "type": "scatter",
         "x": [
          0,
          1,
          2,
          3,
          4,
          5,
          6,
          7,
          8,
          9,
          10,
          11,
          12,
          13,
          14,
          15,
          16,
          17,
          18,
          19,
          20,
          21,
          22,
          23,
          24,
          25,
          26,
          27,
          28,
          29,
          30,
          31,
          32,
          33,
          34,
          35,
          36,
          37,
          38,
          39,
          40,
          41,
          42,
          43,
          44,
          45,
          46,
          47,
          48,
          49,
          50,
          51,
          52,
          53,
          54,
          55,
          56,
          57,
          58,
          59,
          60,
          61,
          62,
          63,
          64,
          65,
          66,
          67,
          68,
          69,
          70,
          71,
          72,
          73,
          74,
          75,
          76,
          77,
          78,
          79,
          80,
          81,
          82,
          83,
          84,
          85,
          86,
          87,
          88,
          89,
          90,
          91,
          92,
          93,
          94,
          95,
          96,
          97,
          98,
          99
         ],
         "y": [
          -0.8893998141162937,
          0.6372436645570296,
          -2.23741081423564,
          -0.31765623347929695,
          0.7561914475460509,
          -0.623860105721561,
          0.6903173494809115,
          -0.5048600551762947,
          2.020714308651883,
          0.23026979636838407,
          0.37398753003537616,
          0.5206609753244256,
          -0.10018920147383852,
          -1.2985299229663352,
          -0.9483501928456123,
          1.135689521637158,
          -0.3337735918049371,
          -1.6326402352224678,
          -0.25866872748129416,
          0.5924898339790267,
          1.2233285790848265,
          -1.474457852245962,
          0.45596964798191353,
          -0.10814969404145522,
          -0.27594004426502083,
          -0.9124845686148109,
          0.01100070388541124,
          -1.9505347477078452,
          -0.15105469124096588,
          0.907630680494936,
          -0.6029292033423908,
          0.990481495159389,
          1.1515227416718936,
          0.44789830857842894,
          -1.7855238667231463,
          -0.5902657180884271,
          0.8584499386080536,
          1.0116028854383643,
          -0.571014671596426,
          -0.3866591298764715,
          0.9949808495557023,
          0.7875792632930714,
          0.29112207583799676,
          -0.3884189898620297,
          -1.6966161836642502,
          1.8160384812003816,
          0.32587379503399005,
          0.2644828784239742,
          -0.08883414710595931,
          -1.8782287388849652,
          0.05256177117982688,
          1.0882529289653526,
          0.8784535728298893,
          1.0193199732692901,
          -0.8088506639910596,
          -1.0223568889142052,
          0.06939344982076391,
          0.6655572511232158,
          -0.38330034677819247,
          -0.7887206396605513,
          -2.1337760011371416,
          -0.505300093639108,
          -0.22328614767833907,
          -1.0417437989607305,
          -0.34560269984827874,
          0.3537127142015969,
          -0.2736786047966587,
          -0.2298074753826692,
          0.8303171527118302,
          -0.8303087103507922,
          1.9162689202891265,
          -0.5565059936724137,
          2.061512699042052,
          0.5734812031194394,
          -1.034854720445252,
          -0.11071862296050343,
          -0.6111748958387944,
          0.28806307986797813,
          1.2021557339158877,
          -1.3410568555000184,
          -0.5043708568868606,
          -0.26905233445725124,
          0.8835614081469708,
          0.31823037951212957,
          -0.20841669540258473,
          1.051719819048651,
          0.3510133756617166,
          0.11514781134378886,
          -2.0386124893706765,
          -1.569657323964556,
          -0.4080591760496254,
          -0.29178810250300924,
          0.40457254548522725,
          -0.7983154563691286,
          -0.2538226193332108,
          -0.678911915924447,
          0.5116043020782122,
          -0.2827194860534984,
          0.6441183952673111,
          -0.2619746150812916
         ]
        },
        {
         "line": {
          "color": "rgba(128, 0, 128, 1.0)",
          "dash": "solid",
          "shape": "linear",
          "width": 1.3
         },
         "mode": "lines",
         "name": "D",
         "text": "",
         "type": "scatter",
         "x": [
          0,
          1,
          2,
          3,
          4,
          5,
          6,
          7,
          8,
          9,
          10,
          11,
          12,
          13,
          14,
          15,
          16,
          17,
          18,
          19,
          20,
          21,
          22,
          23,
          24,
          25,
          26,
          27,
          28,
          29,
          30,
          31,
          32,
          33,
          34,
          35,
          36,
          37,
          38,
          39,
          40,
          41,
          42,
          43,
          44,
          45,
          46,
          47,
          48,
          49,
          50,
          51,
          52,
          53,
          54,
          55,
          56,
          57,
          58,
          59,
          60,
          61,
          62,
          63,
          64,
          65,
          66,
          67,
          68,
          69,
          70,
          71,
          72,
          73,
          74,
          75,
          76,
          77,
          78,
          79,
          80,
          81,
          82,
          83,
          84,
          85,
          86,
          87,
          88,
          89,
          90,
          91,
          92,
          93,
          94,
          95,
          96,
          97,
          98,
          99
         ],
         "y": [
          0.18451300084608604,
          -0.3022177165304333,
          -0.6006769288458926,
          -0.3052576828469785,
          0.012925204395338697,
          0.06072685016311775,
          1.2464010145843716,
          2.2562220704540947,
          1.7541323312485497,
          -2.7953960478174134,
          1.7960094174179742,
          0.8587481039984973,
          1.0574408725210322,
          -1.576207770904765,
          -0.16787222872406804,
          -1.580171289911969,
          -0.7405713053105409,
          -0.12211621622406345,
          -0.02719325408965277,
          0.7455332289902771,
          1.0431039917089024,
          -0.5573515013267838,
          -0.9478720009528269,
          -2.2240467163863453,
          0.47885219514426564,
          0.6635970834572871,
          0.16347637504181256,
          -0.514245754001384,
          0.2450690907864287,
          0.05695716481583332,
          0.6634388719648321,
          -0.39840694654691705,
          0.5490831922887796,
          -1.3498267213886324,
          2.0059690281820273,
          2.4237220564037774,
          0.6409158751104084,
          -1.145590629899955,
          -0.6344692609620162,
          -1.964475569311091,
          -2.553119815804278,
          -0.4154753044515657,
          0.93288515541365,
          0.41607149191763854,
          -0.5223885849225867,
          -0.5097269627705164,
          0.3137166198850058,
          -0.41033148846453166,
          -1.3504160978888808,
          -1.44639215776379,
          -1.2558830397396972,
          0.5085298183118243,
          -0.4844584936706081,
          -1.1095044253580726,
          -0.7520124292610786,
          0.5109618144518884,
          -1.0808074527541336,
          2.0158253236315438,
          0.8194125244241102,
          -1.830150410875788,
          -0.11276219125895252,
          0.7023652442498306,
          1.9866344386381598,
          -1.112745174819402,
          -1.0955180400783469,
          -0.44312559456598377,
          -0.9639932603404257,
          1.419599652907551,
          0.13032087210775575,
          -0.08480607840877766,
          -0.07161572488825718,
          -0.9309787384976403,
          0.11791449149366284,
          -1.1062473942402988,
          -0.35788548437586404,
          -0.3021284959768266,
          -1.3895146183345222,
          1.0207429380778419,
          0.17078822856664266,
          -0.1907799131125399,
          0.4714082561261303,
          0.2754318671952387,
          -0.2514751898440218,
          0.2837712535707717,
          -2.96998439652934,
          -0.1986095130641284,
          0.8367124996316605,
          -1.2139829622550151,
          0.6954813803560759,
          1.3221282513598556,
          -0.28719994075524213,
          2.2187535094641837,
          -0.3975645906718611,
          1.4843046228816186,
          -0.1192081000017448,
          1.0537349037666213,
          -0.6698748203139302,
          0.32146389721568674,
          -1.7296684021234106,
          0.531263702406474
         ]
        }
       ],
       "layout": {
        "legend": {
         "bgcolor": "#F5F6F9",
         "font": {
          "color": "#4D5663"
         }
        },
        "paper_bgcolor": "#F5F6F9",
        "plot_bgcolor": "#F5F6F9",
        "template": {
         "data": {
          "bar": [
           {
            "error_x": {
             "color": "#2a3f5f"
            },
            "error_y": {
             "color": "#2a3f5f"
            },
            "marker": {
             "line": {
              "color": "#E5ECF6",
              "width": 0.5
             },
             "pattern": {
              "fillmode": "overlay",
              "size": 10,
              "solidity": 0.2
             }
            },
            "type": "bar"
           }
          ],
          "barpolar": [
           {
            "marker": {
             "line": {
              "color": "#E5ECF6",
              "width": 0.5
             },
             "pattern": {
              "fillmode": "overlay",
              "size": 10,
              "solidity": 0.2
             }
            },
            "type": "barpolar"
           }
          ],
          "carpet": [
           {
            "aaxis": {
             "endlinecolor": "#2a3f5f",
             "gridcolor": "white",
             "linecolor": "white",
             "minorgridcolor": "white",
             "startlinecolor": "#2a3f5f"
            },
            "baxis": {
             "endlinecolor": "#2a3f5f",
             "gridcolor": "white",
             "linecolor": "white",
             "minorgridcolor": "white",
             "startlinecolor": "#2a3f5f"
            },
            "type": "carpet"
           }
          ],
          "choropleth": [
           {
            "colorbar": {
             "outlinewidth": 0,
             "ticks": ""
            },
            "type": "choropleth"
           }
          ],
          "contour": [
           {
            "colorbar": {
             "outlinewidth": 0,
             "ticks": ""
            },
            "colorscale": [
             [
              0,
              "#0d0887"
             ],
             [
              0.1111111111111111,
              "#46039f"
             ],
             [
              0.2222222222222222,
              "#7201a8"
             ],
             [
              0.3333333333333333,
              "#9c179e"
             ],
             [
              0.4444444444444444,
              "#bd3786"
             ],
             [
              0.5555555555555556,
              "#d8576b"
             ],
             [
              0.6666666666666666,
              "#ed7953"
             ],
             [
              0.7777777777777778,
              "#fb9f3a"
             ],
             [
              0.8888888888888888,
              "#fdca26"
             ],
             [
              1,
              "#f0f921"
             ]
            ],
            "type": "contour"
           }
          ],
          "contourcarpet": [
           {
            "colorbar": {
             "outlinewidth": 0,
             "ticks": ""
            },
            "type": "contourcarpet"
           }
          ],
          "heatmap": [
           {
            "colorbar": {
             "outlinewidth": 0,
             "ticks": ""
            },
            "colorscale": [
             [
              0,
              "#0d0887"
             ],
             [
              0.1111111111111111,
              "#46039f"
             ],
             [
              0.2222222222222222,
              "#7201a8"
             ],
             [
              0.3333333333333333,
              "#9c179e"
             ],
             [
              0.4444444444444444,
              "#bd3786"
             ],
             [
              0.5555555555555556,
              "#d8576b"
             ],
             [
              0.6666666666666666,
              "#ed7953"
             ],
             [
              0.7777777777777778,
              "#fb9f3a"
             ],
             [
              0.8888888888888888,
              "#fdca26"
             ],
             [
              1,
              "#f0f921"
             ]
            ],
            "type": "heatmap"
           }
          ],
          "heatmapgl": [
           {
            "colorbar": {
             "outlinewidth": 0,
             "ticks": ""
            },
            "colorscale": [
             [
              0,
              "#0d0887"
             ],
             [
              0.1111111111111111,
              "#46039f"
             ],
             [
              0.2222222222222222,
              "#7201a8"
             ],
             [
              0.3333333333333333,
              "#9c179e"
             ],
             [
              0.4444444444444444,
              "#bd3786"
             ],
             [
              0.5555555555555556,
              "#d8576b"
             ],
             [
              0.6666666666666666,
              "#ed7953"
             ],
             [
              0.7777777777777778,
              "#fb9f3a"
             ],
             [
              0.8888888888888888,
              "#fdca26"
             ],
             [
              1,
              "#f0f921"
             ]
            ],
            "type": "heatmapgl"
           }
          ],
          "histogram": [
           {
            "marker": {
             "pattern": {
              "fillmode": "overlay",
              "size": 10,
              "solidity": 0.2
             }
            },
            "type": "histogram"
           }
          ],
          "histogram2d": [
           {
            "colorbar": {
             "outlinewidth": 0,
             "ticks": ""
            },
            "colorscale": [
             [
              0,
              "#0d0887"
             ],
             [
              0.1111111111111111,
              "#46039f"
             ],
             [
              0.2222222222222222,
              "#7201a8"
             ],
             [
              0.3333333333333333,
              "#9c179e"
             ],
             [
              0.4444444444444444,
              "#bd3786"
             ],
             [
              0.5555555555555556,
              "#d8576b"
             ],
             [
              0.6666666666666666,
              "#ed7953"
             ],
             [
              0.7777777777777778,
              "#fb9f3a"
             ],
             [
              0.8888888888888888,
              "#fdca26"
             ],
             [
              1,
              "#f0f921"
             ]
            ],
            "type": "histogram2d"
           }
          ],
          "histogram2dcontour": [
           {
            "colorbar": {
             "outlinewidth": 0,
             "ticks": ""
            },
            "colorscale": [
             [
              0,
              "#0d0887"
             ],
             [
              0.1111111111111111,
              "#46039f"
             ],
             [
              0.2222222222222222,
              "#7201a8"
             ],
             [
              0.3333333333333333,
              "#9c179e"
             ],
             [
              0.4444444444444444,
              "#bd3786"
             ],
             [
              0.5555555555555556,
              "#d8576b"
             ],
             [
              0.6666666666666666,
              "#ed7953"
             ],
             [
              0.7777777777777778,
              "#fb9f3a"
             ],
             [
              0.8888888888888888,
              "#fdca26"
             ],
             [
              1,
              "#f0f921"
             ]
            ],
            "type": "histogram2dcontour"
           }
          ],
          "mesh3d": [
           {
            "colorbar": {
             "outlinewidth": 0,
             "ticks": ""
            },
            "type": "mesh3d"
           }
          ],
          "parcoords": [
           {
            "line": {
             "colorbar": {
              "outlinewidth": 0,
              "ticks": ""
             }
            },
            "type": "parcoords"
           }
          ],
          "pie": [
           {
            "automargin": true,
            "type": "pie"
           }
          ],
          "scatter": [
           {
            "fillpattern": {
             "fillmode": "overlay",
             "size": 10,
             "solidity": 0.2
            },
            "type": "scatter"
           }
          ],
          "scatter3d": [
           {
            "line": {
             "colorbar": {
              "outlinewidth": 0,
              "ticks": ""
             }
            },
            "marker": {
             "colorbar": {
              "outlinewidth": 0,
              "ticks": ""
             }
            },
            "type": "scatter3d"
           }
          ],
          "scattercarpet": [
           {
            "marker": {
             "colorbar": {
              "outlinewidth": 0,
              "ticks": ""
             }
            },
            "type": "scattercarpet"
           }
          ],
          "scattergeo": [
           {
            "marker": {
             "colorbar": {
              "outlinewidth": 0,
              "ticks": ""
             }
            },
            "type": "scattergeo"
           }
          ],
          "scattergl": [
           {
            "marker": {
             "colorbar": {
              "outlinewidth": 0,
              "ticks": ""
             }
            },
            "type": "scattergl"
           }
          ],
          "scattermapbox": [
           {
            "marker": {
             "colorbar": {
              "outlinewidth": 0,
              "ticks": ""
             }
            },
            "type": "scattermapbox"
           }
          ],
          "scatterpolar": [
           {
            "marker": {
             "colorbar": {
              "outlinewidth": 0,
              "ticks": ""
             }
            },
            "type": "scatterpolar"
           }
          ],
          "scatterpolargl": [
           {
            "marker": {
             "colorbar": {
              "outlinewidth": 0,
              "ticks": ""
             }
            },
            "type": "scatterpolargl"
           }
          ],
          "scatterternary": [
           {
            "marker": {
             "colorbar": {
              "outlinewidth": 0,
              "ticks": ""
             }
            },
            "type": "scatterternary"
           }
          ],
          "surface": [
           {
            "colorbar": {
             "outlinewidth": 0,
             "ticks": ""
            },
            "colorscale": [
             [
              0,
              "#0d0887"
             ],
             [
              0.1111111111111111,
              "#46039f"
             ],
             [
              0.2222222222222222,
              "#7201a8"
             ],
             [
              0.3333333333333333,
              "#9c179e"
             ],
             [
              0.4444444444444444,
              "#bd3786"
             ],
             [
              0.5555555555555556,
              "#d8576b"
             ],
             [
              0.6666666666666666,
              "#ed7953"
             ],
             [
              0.7777777777777778,
              "#fb9f3a"
             ],
             [
              0.8888888888888888,
              "#fdca26"
             ],
             [
              1,
              "#f0f921"
             ]
            ],
            "type": "surface"
           }
          ],
          "table": [
           {
            "cells": {
             "fill": {
              "color": "#EBF0F8"
             },
             "line": {
              "color": "white"
             }
            },
            "header": {
             "fill": {
              "color": "#C8D4E3"
             },
             "line": {
              "color": "white"
             }
            },
            "type": "table"
           }
          ]
         },
         "layout": {
          "annotationdefaults": {
           "arrowcolor": "#2a3f5f",
           "arrowhead": 0,
           "arrowwidth": 1
          },
          "autotypenumbers": "strict",
          "coloraxis": {
           "colorbar": {
            "outlinewidth": 0,
            "ticks": ""
           }
          },
          "colorscale": {
           "diverging": [
            [
             0,
             "#8e0152"
            ],
            [
             0.1,
             "#c51b7d"
            ],
            [
             0.2,
             "#de77ae"
            ],
            [
             0.3,
             "#f1b6da"
            ],
            [
             0.4,
             "#fde0ef"
            ],
            [
             0.5,
             "#f7f7f7"
            ],
            [
             0.6,
             "#e6f5d0"
            ],
            [
             0.7,
             "#b8e186"
            ],
            [
             0.8,
             "#7fbc41"
            ],
            [
             0.9,
             "#4d9221"
            ],
            [
             1,
             "#276419"
            ]
           ],
           "sequential": [
            [
             0,
             "#0d0887"
            ],
            [
             0.1111111111111111,
             "#46039f"
            ],
            [
             0.2222222222222222,
             "#7201a8"
            ],
            [
             0.3333333333333333,
             "#9c179e"
            ],
            [
             0.4444444444444444,
             "#bd3786"
            ],
            [
             0.5555555555555556,
             "#d8576b"
            ],
            [
             0.6666666666666666,
             "#ed7953"
            ],
            [
             0.7777777777777778,
             "#fb9f3a"
            ],
            [
             0.8888888888888888,
             "#fdca26"
            ],
            [
             1,
             "#f0f921"
            ]
           ],
           "sequentialminus": [
            [
             0,
             "#0d0887"
            ],
            [
             0.1111111111111111,
             "#46039f"
            ],
            [
             0.2222222222222222,
             "#7201a8"
            ],
            [
             0.3333333333333333,
             "#9c179e"
            ],
            [
             0.4444444444444444,
             "#bd3786"
            ],
            [
             0.5555555555555556,
             "#d8576b"
            ],
            [
             0.6666666666666666,
             "#ed7953"
            ],
            [
             0.7777777777777778,
             "#fb9f3a"
            ],
            [
             0.8888888888888888,
             "#fdca26"
            ],
            [
             1,
             "#f0f921"
            ]
           ]
          },
          "colorway": [
           "#636efa",
           "#EF553B",
           "#00cc96",
           "#ab63fa",
           "#FFA15A",
           "#19d3f3",
           "#FF6692",
           "#B6E880",
           "#FF97FF",
           "#FECB52"
          ],
          "font": {
           "color": "#2a3f5f"
          },
          "geo": {
           "bgcolor": "white",
           "lakecolor": "white",
           "landcolor": "#E5ECF6",
           "showlakes": true,
           "showland": true,
           "subunitcolor": "white"
          },
          "hoverlabel": {
           "align": "left"
          },
          "hovermode": "closest",
          "mapbox": {
           "style": "light"
          },
          "paper_bgcolor": "white",
          "plot_bgcolor": "#E5ECF6",
          "polar": {
           "angularaxis": {
            "gridcolor": "white",
            "linecolor": "white",
            "ticks": ""
           },
           "bgcolor": "#E5ECF6",
           "radialaxis": {
            "gridcolor": "white",
            "linecolor": "white",
            "ticks": ""
           }
          },
          "scene": {
           "xaxis": {
            "backgroundcolor": "#E5ECF6",
            "gridcolor": "white",
            "gridwidth": 2,
            "linecolor": "white",
            "showbackground": true,
            "ticks": "",
            "zerolinecolor": "white"
           },
           "yaxis": {
            "backgroundcolor": "#E5ECF6",
            "gridcolor": "white",
            "gridwidth": 2,
            "linecolor": "white",
            "showbackground": true,
            "ticks": "",
            "zerolinecolor": "white"
           },
           "zaxis": {
            "backgroundcolor": "#E5ECF6",
            "gridcolor": "white",
            "gridwidth": 2,
            "linecolor": "white",
            "showbackground": true,
            "ticks": "",
            "zerolinecolor": "white"
           }
          },
          "shapedefaults": {
           "line": {
            "color": "#2a3f5f"
           }
          },
          "ternary": {
           "aaxis": {
            "gridcolor": "white",
            "linecolor": "white",
            "ticks": ""
           },
           "baxis": {
            "gridcolor": "white",
            "linecolor": "white",
            "ticks": ""
           },
           "bgcolor": "#E5ECF6",
           "caxis": {
            "gridcolor": "white",
            "linecolor": "white",
            "ticks": ""
           }
          },
          "title": {
           "x": 0.05
          },
          "xaxis": {
           "automargin": true,
           "gridcolor": "white",
           "linecolor": "white",
           "ticks": "",
           "title": {
            "standoff": 15
           },
           "zerolinecolor": "white",
           "zerolinewidth": 2
          },
          "yaxis": {
           "automargin": true,
           "gridcolor": "white",
           "linecolor": "white",
           "ticks": "",
           "title": {
            "standoff": 15
           },
           "zerolinecolor": "white",
           "zerolinewidth": 2
          }
         }
        },
        "title": {
         "font": {
          "color": "#4D5663"
         }
        },
        "xaxis": {
         "gridcolor": "#E1E5ED",
         "showgrid": true,
         "tickfont": {
          "color": "#4D5663"
         },
         "title": {
          "font": {
           "color": "#4D5663"
          },
          "text": ""
         },
         "zerolinecolor": "#E1E5ED"
        },
        "yaxis": {
         "gridcolor": "#E1E5ED",
         "showgrid": true,
         "tickfont": {
          "color": "#4D5663"
         },
         "title": {
          "font": {
           "color": "#4D5663"
          },
          "text": ""
         },
         "zerolinecolor": "#E1E5ED"
        }
       }
      },
      "text/html": [
       "<div>                            <div id=\"1e105c07-e7f9-437a-92e5-90846fc8f915\" class=\"plotly-graph-div\" style=\"height:525px; width:100%;\"></div>            <script type=\"text/javascript\">                require([\"plotly\"], function(Plotly) {                    window.PLOTLYENV=window.PLOTLYENV || {};\n",
       "                    window.PLOTLYENV.BASE_URL='https://plot.ly';                                    if (document.getElementById(\"1e105c07-e7f9-437a-92e5-90846fc8f915\")) {                    Plotly.newPlot(                        \"1e105c07-e7f9-437a-92e5-90846fc8f915\",                        [{\"line\":{\"color\":\"rgba(255, 153, 51, 1.0)\",\"dash\":\"solid\",\"shape\":\"linear\",\"width\":1.3},\"mode\":\"lines\",\"name\":\"A\",\"text\":\"\",\"x\":[0,1,2,3,4,5,6,7,8,9,10,11,12,13,14,15,16,17,18,19,20,21,22,23,24,25,26,27,28,29,30,31,32,33,34,35,36,37,38,39,40,41,42,43,44,45,46,47,48,49,50,51,52,53,54,55,56,57,58,59,60,61,62,63,64,65,66,67,68,69,70,71,72,73,74,75,76,77,78,79,80,81,82,83,84,85,86,87,88,89,90,91,92,93,94,95,96,97,98,99],\"y\":[-1.2821232259307913,-0.39999089040185204,0.18603955462223581,1.9454784431368184,-0.5976460193168096,-1.1357869422281528,0.5011941647418091,-0.3165890810433005,-0.49026251352794514,-0.3070155142823813,-0.00928407711693977,0.40742108364021007,-0.8059220890051619,-1.6150012335022794,0.2831274750204807,-0.8071318749394667,1.2578496478325498,0.5546354700979511,-0.8058535128503591,-1.325128537682219,-0.6293771302746785,-0.18505519612184348,1.161217988148961,-0.9940280665073525,-1.0517075260495918,-0.021950386799966522,1.7059306402459018,-0.5431574852715914,-1.6652518510749255,-0.2293687085613229,-0.9330038160520542,-0.40135606395472045,-0.5904818764111005,0.1561604164203169,0.05909328601089837,-0.27648155744488384,1.5426214018051496,2.00748019586431,-0.23004698398830756,-0.9034603928397359,-0.8432824015442412,0.5985161962702256,0.2064791649332286,-1.5981203262502197,-0.691193621887644,1.2648788373359174,-0.9812428188552841,0.29077257292937864,-0.3860304784116714,0.7348736205455061,-0.30194463093884955,-1.1804849866851235,1.8555927233230805,0.3206204405021417,-0.3484647029488913,0.17804035824914086,-0.005932309547459654,-1.09324321057662,1.0537325994802822,-0.11131747857058517,1.5510248050539293,0.0641092321739744,0.011983916018163067,0.07671899326363087,-1.6383015593850865,-0.8930202201725317,2.177001154926578,0.10032475555698285,0.19801577044420687,-0.8143086148611789,2.5765300667706303,1.1424955734563713,-1.1782421287147495,0.36719261575559925,1.913126328532216,0.5316725673593986,1.0609389309814266,-0.2580418540315302,-1.1096209702275894,-0.16525766112282678,-0.6350618813045671,-0.6680136886957433,2.2019863428116317,-0.6545846207600245,-0.9819257347533642,0.7686352817125546,-0.28770493344401477,0.5918740917074815,0.5183444223241045,-1.7520524718812602,1.3980636906330712,-1.1245314917361031,0.022139236012942463,0.7592364488219824,0.42600620243372245,-1.5866222361761575,0.9371724506934582,-0.9137856349047465,1.6410233938129204,-0.16725096651345864],\"type\":\"scatter\"},{\"line\":{\"color\":\"rgba(55, 128, 191, 1.0)\",\"dash\":\"solid\",\"shape\":\"linear\",\"width\":1.3},\"mode\":\"lines\",\"name\":\"B\",\"text\":\"\",\"x\":[0,1,2,3,4,5,6,7,8,9,10,11,12,13,14,15,16,17,18,19,20,21,22,23,24,25,26,27,28,29,30,31,32,33,34,35,36,37,38,39,40,41,42,43,44,45,46,47,48,49,50,51,52,53,54,55,56,57,58,59,60,61,62,63,64,65,66,67,68,69,70,71,72,73,74,75,76,77,78,79,80,81,82,83,84,85,86,87,88,89,90,91,92,93,94,95,96,97,98,99],\"y\":[-2.467489679081685,-0.9109994341608991,-0.9775439597470429,-0.8050359803816095,0.3880837334389582,0.7226047001728041,2.12261391775626,-1.585119821691273,-1.4789391663694118,1.4130010878680048,0.5171336797321604,0.8200803187753855,-0.1651247430133621,-0.020378991429335632,1.7248920409679187,-1.0379234752961863,1.0288558054083492,-0.4209039800868332,0.9359771990048374,0.5283817923005579,-0.704072800755225,0.33848644671342304,1.1773768477836346,-0.45103721768800803,0.13224782035424706,0.7204598068251858,-0.9342447733723493,-1.5204779496076484,1.0181798372524824,2.0464668998426223,0.6454665423594669,-0.5056759016895037,0.6527386290509671,-0.5547342801162942,0.3788700033858548,-0.3676073288176218,0.5656698820540743,1.580633720103138,-0.12711454975637088,-0.3505517026278936,-0.7660622716697431,1.523972798077345,0.8877692878051118,-0.10704995915426571,1.629723149498767,-0.15762680777432658,-1.2668726445596794,0.20016928924696611,0.699254128347382,-0.03689603754636403,0.30371287844000294,0.28611928397815256,2.0585330014523042,1.0140945140540905,-0.8297552712905361,0.09013592833499368,0.3984442817811917,-0.4571516491840917,-0.44287898704643447,-1.0569149385856347,0.04807235507245364,-0.34419688596532827,0.10004621268753495,0.08731147708013766,1.0876804228688925,1.3099639910003447,0.7539412010773562,0.11957250636430646,2.3106977365467682,2.519930816359611,0.08534530825215789,-0.9825625396071127,-0.39525470620522996,-3.1375179773086317,0.6132469463474309,-0.16942740949205784,0.09266214650465411,-1.0902353511589595,0.8250519676663988,-0.13858028835181693,-0.28940274670430133,-0.002690390203971974,0.046357330322069706,0.85344253401098,0.5158074327785028,-1.0161437917023335,0.4572488313164856,-0.10617864673067459,-0.5613388514490533,0.3160584742132285,-0.8654585149192117,0.5512673818002701,-0.048270305086464724,0.7690216936257351,0.8258710118208544,-0.16396989659898215,-0.7355413370519562,-0.163054476714875,-1.1757281031956057,0.7343984686472602],\"type\":\"scatter\"},{\"line\":{\"color\":\"rgba(50, 171, 96, 1.0)\",\"dash\":\"solid\",\"shape\":\"linear\",\"width\":1.3},\"mode\":\"lines\",\"name\":\"C\",\"text\":\"\",\"x\":[0,1,2,3,4,5,6,7,8,9,10,11,12,13,14,15,16,17,18,19,20,21,22,23,24,25,26,27,28,29,30,31,32,33,34,35,36,37,38,39,40,41,42,43,44,45,46,47,48,49,50,51,52,53,54,55,56,57,58,59,60,61,62,63,64,65,66,67,68,69,70,71,72,73,74,75,76,77,78,79,80,81,82,83,84,85,86,87,88,89,90,91,92,93,94,95,96,97,98,99],\"y\":[-0.8893998141162937,0.6372436645570296,-2.23741081423564,-0.31765623347929695,0.7561914475460509,-0.623860105721561,0.6903173494809115,-0.5048600551762947,2.020714308651883,0.23026979636838407,0.37398753003537616,0.5206609753244256,-0.10018920147383852,-1.2985299229663352,-0.9483501928456123,1.135689521637158,-0.3337735918049371,-1.6326402352224678,-0.25866872748129416,0.5924898339790267,1.2233285790848265,-1.474457852245962,0.45596964798191353,-0.10814969404145522,-0.27594004426502083,-0.9124845686148109,0.01100070388541124,-1.9505347477078452,-0.15105469124096588,0.907630680494936,-0.6029292033423908,0.990481495159389,1.1515227416718936,0.44789830857842894,-1.7855238667231463,-0.5902657180884271,0.8584499386080536,1.0116028854383643,-0.571014671596426,-0.3866591298764715,0.9949808495557023,0.7875792632930714,0.29112207583799676,-0.3884189898620297,-1.6966161836642502,1.8160384812003816,0.32587379503399005,0.2644828784239742,-0.08883414710595931,-1.8782287388849652,0.05256177117982688,1.0882529289653526,0.8784535728298893,1.0193199732692901,-0.8088506639910596,-1.0223568889142052,0.06939344982076391,0.6655572511232158,-0.38330034677819247,-0.7887206396605513,-2.1337760011371416,-0.505300093639108,-0.22328614767833907,-1.0417437989607305,-0.34560269984827874,0.3537127142015969,-0.2736786047966587,-0.2298074753826692,0.8303171527118302,-0.8303087103507922,1.9162689202891265,-0.5565059936724137,2.061512699042052,0.5734812031194394,-1.034854720445252,-0.11071862296050343,-0.6111748958387944,0.28806307986797813,1.2021557339158877,-1.3410568555000184,-0.5043708568868606,-0.26905233445725124,0.8835614081469708,0.31823037951212957,-0.20841669540258473,1.051719819048651,0.3510133756617166,0.11514781134378886,-2.0386124893706765,-1.569657323964556,-0.4080591760496254,-0.29178810250300924,0.40457254548522725,-0.7983154563691286,-0.2538226193332108,-0.678911915924447,0.5116043020782122,-0.2827194860534984,0.6441183952673111,-0.2619746150812916],\"type\":\"scatter\"},{\"line\":{\"color\":\"rgba(128, 0, 128, 1.0)\",\"dash\":\"solid\",\"shape\":\"linear\",\"width\":1.3},\"mode\":\"lines\",\"name\":\"D\",\"text\":\"\",\"x\":[0,1,2,3,4,5,6,7,8,9,10,11,12,13,14,15,16,17,18,19,20,21,22,23,24,25,26,27,28,29,30,31,32,33,34,35,36,37,38,39,40,41,42,43,44,45,46,47,48,49,50,51,52,53,54,55,56,57,58,59,60,61,62,63,64,65,66,67,68,69,70,71,72,73,74,75,76,77,78,79,80,81,82,83,84,85,86,87,88,89,90,91,92,93,94,95,96,97,98,99],\"y\":[0.18451300084608604,-0.3022177165304333,-0.6006769288458926,-0.3052576828469785,0.012925204395338697,0.06072685016311775,1.2464010145843716,2.2562220704540947,1.7541323312485497,-2.7953960478174134,1.7960094174179742,0.8587481039984973,1.0574408725210322,-1.576207770904765,-0.16787222872406804,-1.580171289911969,-0.7405713053105409,-0.12211621622406345,-0.02719325408965277,0.7455332289902771,1.0431039917089024,-0.5573515013267838,-0.9478720009528269,-2.2240467163863453,0.47885219514426564,0.6635970834572871,0.16347637504181256,-0.514245754001384,0.2450690907864287,0.05695716481583332,0.6634388719648321,-0.39840694654691705,0.5490831922887796,-1.3498267213886324,2.0059690281820273,2.4237220564037774,0.6409158751104084,-1.145590629899955,-0.6344692609620162,-1.964475569311091,-2.553119815804278,-0.4154753044515657,0.93288515541365,0.41607149191763854,-0.5223885849225867,-0.5097269627705164,0.3137166198850058,-0.41033148846453166,-1.3504160978888808,-1.44639215776379,-1.2558830397396972,0.5085298183118243,-0.4844584936706081,-1.1095044253580726,-0.7520124292610786,0.5109618144518884,-1.0808074527541336,2.0158253236315438,0.8194125244241102,-1.830150410875788,-0.11276219125895252,0.7023652442498306,1.9866344386381598,-1.112745174819402,-1.0955180400783469,-0.44312559456598377,-0.9639932603404257,1.419599652907551,0.13032087210775575,-0.08480607840877766,-0.07161572488825718,-0.9309787384976403,0.11791449149366284,-1.1062473942402988,-0.35788548437586404,-0.3021284959768266,-1.3895146183345222,1.0207429380778419,0.17078822856664266,-0.1907799131125399,0.4714082561261303,0.2754318671952387,-0.2514751898440218,0.2837712535707717,-2.96998439652934,-0.1986095130641284,0.8367124996316605,-1.2139829622550151,0.6954813803560759,1.3221282513598556,-0.28719994075524213,2.2187535094641837,-0.3975645906718611,1.4843046228816186,-0.1192081000017448,1.0537349037666213,-0.6698748203139302,0.32146389721568674,-1.7296684021234106,0.531263702406474],\"type\":\"scatter\"}],                        {\"legend\":{\"bgcolor\":\"#F5F6F9\",\"font\":{\"color\":\"#4D5663\"}},\"paper_bgcolor\":\"#F5F6F9\",\"plot_bgcolor\":\"#F5F6F9\",\"template\":{\"data\":{\"barpolar\":[{\"marker\":{\"line\":{\"color\":\"#E5ECF6\",\"width\":0.5},\"pattern\":{\"fillmode\":\"overlay\",\"size\":10,\"solidity\":0.2}},\"type\":\"barpolar\"}],\"bar\":[{\"error_x\":{\"color\":\"#2a3f5f\"},\"error_y\":{\"color\":\"#2a3f5f\"},\"marker\":{\"line\":{\"color\":\"#E5ECF6\",\"width\":0.5},\"pattern\":{\"fillmode\":\"overlay\",\"size\":10,\"solidity\":0.2}},\"type\":\"bar\"}],\"carpet\":[{\"aaxis\":{\"endlinecolor\":\"#2a3f5f\",\"gridcolor\":\"white\",\"linecolor\":\"white\",\"minorgridcolor\":\"white\",\"startlinecolor\":\"#2a3f5f\"},\"baxis\":{\"endlinecolor\":\"#2a3f5f\",\"gridcolor\":\"white\",\"linecolor\":\"white\",\"minorgridcolor\":\"white\",\"startlinecolor\":\"#2a3f5f\"},\"type\":\"carpet\"}],\"choropleth\":[{\"colorbar\":{\"outlinewidth\":0,\"ticks\":\"\"},\"type\":\"choropleth\"}],\"contourcarpet\":[{\"colorbar\":{\"outlinewidth\":0,\"ticks\":\"\"},\"type\":\"contourcarpet\"}],\"contour\":[{\"colorbar\":{\"outlinewidth\":0,\"ticks\":\"\"},\"colorscale\":[[0.0,\"#0d0887\"],[0.1111111111111111,\"#46039f\"],[0.2222222222222222,\"#7201a8\"],[0.3333333333333333,\"#9c179e\"],[0.4444444444444444,\"#bd3786\"],[0.5555555555555556,\"#d8576b\"],[0.6666666666666666,\"#ed7953\"],[0.7777777777777778,\"#fb9f3a\"],[0.8888888888888888,\"#fdca26\"],[1.0,\"#f0f921\"]],\"type\":\"contour\"}],\"heatmapgl\":[{\"colorbar\":{\"outlinewidth\":0,\"ticks\":\"\"},\"colorscale\":[[0.0,\"#0d0887\"],[0.1111111111111111,\"#46039f\"],[0.2222222222222222,\"#7201a8\"],[0.3333333333333333,\"#9c179e\"],[0.4444444444444444,\"#bd3786\"],[0.5555555555555556,\"#d8576b\"],[0.6666666666666666,\"#ed7953\"],[0.7777777777777778,\"#fb9f3a\"],[0.8888888888888888,\"#fdca26\"],[1.0,\"#f0f921\"]],\"type\":\"heatmapgl\"}],\"heatmap\":[{\"colorbar\":{\"outlinewidth\":0,\"ticks\":\"\"},\"colorscale\":[[0.0,\"#0d0887\"],[0.1111111111111111,\"#46039f\"],[0.2222222222222222,\"#7201a8\"],[0.3333333333333333,\"#9c179e\"],[0.4444444444444444,\"#bd3786\"],[0.5555555555555556,\"#d8576b\"],[0.6666666666666666,\"#ed7953\"],[0.7777777777777778,\"#fb9f3a\"],[0.8888888888888888,\"#fdca26\"],[1.0,\"#f0f921\"]],\"type\":\"heatmap\"}],\"histogram2dcontour\":[{\"colorbar\":{\"outlinewidth\":0,\"ticks\":\"\"},\"colorscale\":[[0.0,\"#0d0887\"],[0.1111111111111111,\"#46039f\"],[0.2222222222222222,\"#7201a8\"],[0.3333333333333333,\"#9c179e\"],[0.4444444444444444,\"#bd3786\"],[0.5555555555555556,\"#d8576b\"],[0.6666666666666666,\"#ed7953\"],[0.7777777777777778,\"#fb9f3a\"],[0.8888888888888888,\"#fdca26\"],[1.0,\"#f0f921\"]],\"type\":\"histogram2dcontour\"}],\"histogram2d\":[{\"colorbar\":{\"outlinewidth\":0,\"ticks\":\"\"},\"colorscale\":[[0.0,\"#0d0887\"],[0.1111111111111111,\"#46039f\"],[0.2222222222222222,\"#7201a8\"],[0.3333333333333333,\"#9c179e\"],[0.4444444444444444,\"#bd3786\"],[0.5555555555555556,\"#d8576b\"],[0.6666666666666666,\"#ed7953\"],[0.7777777777777778,\"#fb9f3a\"],[0.8888888888888888,\"#fdca26\"],[1.0,\"#f0f921\"]],\"type\":\"histogram2d\"}],\"histogram\":[{\"marker\":{\"pattern\":{\"fillmode\":\"overlay\",\"size\":10,\"solidity\":0.2}},\"type\":\"histogram\"}],\"mesh3d\":[{\"colorbar\":{\"outlinewidth\":0,\"ticks\":\"\"},\"type\":\"mesh3d\"}],\"parcoords\":[{\"line\":{\"colorbar\":{\"outlinewidth\":0,\"ticks\":\"\"}},\"type\":\"parcoords\"}],\"pie\":[{\"automargin\":true,\"type\":\"pie\"}],\"scatter3d\":[{\"line\":{\"colorbar\":{\"outlinewidth\":0,\"ticks\":\"\"}},\"marker\":{\"colorbar\":{\"outlinewidth\":0,\"ticks\":\"\"}},\"type\":\"scatter3d\"}],\"scattercarpet\":[{\"marker\":{\"colorbar\":{\"outlinewidth\":0,\"ticks\":\"\"}},\"type\":\"scattercarpet\"}],\"scattergeo\":[{\"marker\":{\"colorbar\":{\"outlinewidth\":0,\"ticks\":\"\"}},\"type\":\"scattergeo\"}],\"scattergl\":[{\"marker\":{\"colorbar\":{\"outlinewidth\":0,\"ticks\":\"\"}},\"type\":\"scattergl\"}],\"scattermapbox\":[{\"marker\":{\"colorbar\":{\"outlinewidth\":0,\"ticks\":\"\"}},\"type\":\"scattermapbox\"}],\"scatterpolargl\":[{\"marker\":{\"colorbar\":{\"outlinewidth\":0,\"ticks\":\"\"}},\"type\":\"scatterpolargl\"}],\"scatterpolar\":[{\"marker\":{\"colorbar\":{\"outlinewidth\":0,\"ticks\":\"\"}},\"type\":\"scatterpolar\"}],\"scatter\":[{\"fillpattern\":{\"fillmode\":\"overlay\",\"size\":10,\"solidity\":0.2},\"type\":\"scatter\"}],\"scatterternary\":[{\"marker\":{\"colorbar\":{\"outlinewidth\":0,\"ticks\":\"\"}},\"type\":\"scatterternary\"}],\"surface\":[{\"colorbar\":{\"outlinewidth\":0,\"ticks\":\"\"},\"colorscale\":[[0.0,\"#0d0887\"],[0.1111111111111111,\"#46039f\"],[0.2222222222222222,\"#7201a8\"],[0.3333333333333333,\"#9c179e\"],[0.4444444444444444,\"#bd3786\"],[0.5555555555555556,\"#d8576b\"],[0.6666666666666666,\"#ed7953\"],[0.7777777777777778,\"#fb9f3a\"],[0.8888888888888888,\"#fdca26\"],[1.0,\"#f0f921\"]],\"type\":\"surface\"}],\"table\":[{\"cells\":{\"fill\":{\"color\":\"#EBF0F8\"},\"line\":{\"color\":\"white\"}},\"header\":{\"fill\":{\"color\":\"#C8D4E3\"},\"line\":{\"color\":\"white\"}},\"type\":\"table\"}]},\"layout\":{\"annotationdefaults\":{\"arrowcolor\":\"#2a3f5f\",\"arrowhead\":0,\"arrowwidth\":1},\"autotypenumbers\":\"strict\",\"coloraxis\":{\"colorbar\":{\"outlinewidth\":0,\"ticks\":\"\"}},\"colorscale\":{\"diverging\":[[0,\"#8e0152\"],[0.1,\"#c51b7d\"],[0.2,\"#de77ae\"],[0.3,\"#f1b6da\"],[0.4,\"#fde0ef\"],[0.5,\"#f7f7f7\"],[0.6,\"#e6f5d0\"],[0.7,\"#b8e186\"],[0.8,\"#7fbc41\"],[0.9,\"#4d9221\"],[1,\"#276419\"]],\"sequential\":[[0.0,\"#0d0887\"],[0.1111111111111111,\"#46039f\"],[0.2222222222222222,\"#7201a8\"],[0.3333333333333333,\"#9c179e\"],[0.4444444444444444,\"#bd3786\"],[0.5555555555555556,\"#d8576b\"],[0.6666666666666666,\"#ed7953\"],[0.7777777777777778,\"#fb9f3a\"],[0.8888888888888888,\"#fdca26\"],[1.0,\"#f0f921\"]],\"sequentialminus\":[[0.0,\"#0d0887\"],[0.1111111111111111,\"#46039f\"],[0.2222222222222222,\"#7201a8\"],[0.3333333333333333,\"#9c179e\"],[0.4444444444444444,\"#bd3786\"],[0.5555555555555556,\"#d8576b\"],[0.6666666666666666,\"#ed7953\"],[0.7777777777777778,\"#fb9f3a\"],[0.8888888888888888,\"#fdca26\"],[1.0,\"#f0f921\"]]},\"colorway\":[\"#636efa\",\"#EF553B\",\"#00cc96\",\"#ab63fa\",\"#FFA15A\",\"#19d3f3\",\"#FF6692\",\"#B6E880\",\"#FF97FF\",\"#FECB52\"],\"font\":{\"color\":\"#2a3f5f\"},\"geo\":{\"bgcolor\":\"white\",\"lakecolor\":\"white\",\"landcolor\":\"#E5ECF6\",\"showlakes\":true,\"showland\":true,\"subunitcolor\":\"white\"},\"hoverlabel\":{\"align\":\"left\"},\"hovermode\":\"closest\",\"mapbox\":{\"style\":\"light\"},\"paper_bgcolor\":\"white\",\"plot_bgcolor\":\"#E5ECF6\",\"polar\":{\"angularaxis\":{\"gridcolor\":\"white\",\"linecolor\":\"white\",\"ticks\":\"\"},\"bgcolor\":\"#E5ECF6\",\"radialaxis\":{\"gridcolor\":\"white\",\"linecolor\":\"white\",\"ticks\":\"\"}},\"scene\":{\"xaxis\":{\"backgroundcolor\":\"#E5ECF6\",\"gridcolor\":\"white\",\"gridwidth\":2,\"linecolor\":\"white\",\"showbackground\":true,\"ticks\":\"\",\"zerolinecolor\":\"white\"},\"yaxis\":{\"backgroundcolor\":\"#E5ECF6\",\"gridcolor\":\"white\",\"gridwidth\":2,\"linecolor\":\"white\",\"showbackground\":true,\"ticks\":\"\",\"zerolinecolor\":\"white\"},\"zaxis\":{\"backgroundcolor\":\"#E5ECF6\",\"gridcolor\":\"white\",\"gridwidth\":2,\"linecolor\":\"white\",\"showbackground\":true,\"ticks\":\"\",\"zerolinecolor\":\"white\"}},\"shapedefaults\":{\"line\":{\"color\":\"#2a3f5f\"}},\"ternary\":{\"aaxis\":{\"gridcolor\":\"white\",\"linecolor\":\"white\",\"ticks\":\"\"},\"baxis\":{\"gridcolor\":\"white\",\"linecolor\":\"white\",\"ticks\":\"\"},\"bgcolor\":\"#E5ECF6\",\"caxis\":{\"gridcolor\":\"white\",\"linecolor\":\"white\",\"ticks\":\"\"}},\"title\":{\"x\":0.05},\"xaxis\":{\"automargin\":true,\"gridcolor\":\"white\",\"linecolor\":\"white\",\"ticks\":\"\",\"title\":{\"standoff\":15},\"zerolinecolor\":\"white\",\"zerolinewidth\":2},\"yaxis\":{\"automargin\":true,\"gridcolor\":\"white\",\"linecolor\":\"white\",\"ticks\":\"\",\"title\":{\"standoff\":15},\"zerolinecolor\":\"white\",\"zerolinewidth\":2}}},\"title\":{\"font\":{\"color\":\"#4D5663\"}},\"xaxis\":{\"gridcolor\":\"#E1E5ED\",\"showgrid\":true,\"tickfont\":{\"color\":\"#4D5663\"},\"title\":{\"font\":{\"color\":\"#4D5663\"},\"text\":\"\"},\"zerolinecolor\":\"#E1E5ED\"},\"yaxis\":{\"gridcolor\":\"#E1E5ED\",\"showgrid\":true,\"tickfont\":{\"color\":\"#4D5663\"},\"title\":{\"font\":{\"color\":\"#4D5663\"},\"text\":\"\"},\"zerolinecolor\":\"#E1E5ED\"}},                        {\"showLink\": true, \"linkText\": \"Export to plot.ly\", \"plotlyServerURL\": \"https://plot.ly\", \"responsive\": true}                    ).then(function(){\n",
       "                            \n",
       "var gd = document.getElementById('1e105c07-e7f9-437a-92e5-90846fc8f915');\n",
       "var x = new MutationObserver(function (mutations, observer) {{\n",
       "        var display = window.getComputedStyle(gd).display;\n",
       "        if (!display || display === 'none') {{\n",
       "            console.log([gd, 'removed!']);\n",
       "            Plotly.purge(gd);\n",
       "            observer.disconnect();\n",
       "        }}\n",
       "}});\n",
       "\n",
       "// Listen for the removal of the full notebook cells\n",
       "var notebookContainer = gd.closest('#notebook-container');\n",
       "if (notebookContainer) {{\n",
       "    x.observe(notebookContainer, {childList: true});\n",
       "}}\n",
       "\n",
       "// Listen for the clearing of the current output cell\n",
       "var outputEl = gd.closest('.output');\n",
       "if (outputEl) {{\n",
       "    x.observe(outputEl, {childList: true});\n",
       "}}\n",
       "\n",
       "                        })                };                });            </script>        </div>"
      ]
     },
     "metadata": {},
     "output_type": "display_data"
    }
   ],
   "source": [
    "df.iplot()"
   ]
  },
  {
   "cell_type": "markdown",
   "id": "09c73973",
   "metadata": {},
   "source": [
    "We can do iplot in various types of plot not just line plot, like scatter plot, bar, box, heatmaps and so on."
   ]
  },
  {
   "cell_type": "code",
   "execution_count": 14,
   "id": "b32a3624",
   "metadata": {},
   "outputs": [
    {
     "data": {
      "application/vnd.plotly.v1+json": {
       "config": {
        "linkText": "Export to plot.ly",
        "plotlyServerURL": "https://plot.ly",
        "showLink": true
       },
       "data": [
        {
         "line": {
          "color": "rgba(255, 153, 51, 1.0)",
          "dash": "solid",
          "shape": "linear",
          "width": 1.3
         },
         "mode": "lines",
         "name": "B",
         "text": "",
         "type": "scatter",
         "x": [
          -1.2821232259307913,
          -0.39999089040185204,
          0.18603955462223581,
          1.9454784431368184,
          -0.5976460193168096,
          -1.1357869422281528,
          0.5011941647418091,
          -0.3165890810433005,
          -0.49026251352794514,
          -0.3070155142823813,
          -0.00928407711693977,
          0.40742108364021007,
          -0.8059220890051619,
          -1.6150012335022794,
          0.2831274750204807,
          -0.8071318749394667,
          1.2578496478325498,
          0.5546354700979511,
          -0.8058535128503591,
          -1.325128537682219,
          -0.6293771302746785,
          -0.18505519612184348,
          1.161217988148961,
          -0.9940280665073525,
          -1.0517075260495918,
          -0.021950386799966522,
          1.7059306402459018,
          -0.5431574852715914,
          -1.6652518510749255,
          -0.2293687085613229,
          -0.9330038160520542,
          -0.40135606395472045,
          -0.5904818764111005,
          0.1561604164203169,
          0.05909328601089837,
          -0.27648155744488384,
          1.5426214018051496,
          2.00748019586431,
          -0.23004698398830756,
          -0.9034603928397359,
          -0.8432824015442412,
          0.5985161962702256,
          0.2064791649332286,
          -1.5981203262502197,
          -0.691193621887644,
          1.2648788373359174,
          -0.9812428188552841,
          0.29077257292937864,
          -0.3860304784116714,
          0.7348736205455061,
          -0.30194463093884955,
          -1.1804849866851235,
          1.8555927233230805,
          0.3206204405021417,
          -0.3484647029488913,
          0.17804035824914086,
          -0.005932309547459654,
          -1.09324321057662,
          1.0537325994802822,
          -0.11131747857058517,
          1.5510248050539293,
          0.0641092321739744,
          0.011983916018163067,
          0.07671899326363087,
          -1.6383015593850865,
          -0.8930202201725317,
          2.177001154926578,
          0.10032475555698285,
          0.19801577044420687,
          -0.8143086148611789,
          2.5765300667706303,
          1.1424955734563713,
          -1.1782421287147495,
          0.36719261575559925,
          1.913126328532216,
          0.5316725673593986,
          1.0609389309814266,
          -0.2580418540315302,
          -1.1096209702275894,
          -0.16525766112282678,
          -0.6350618813045671,
          -0.6680136886957433,
          2.2019863428116317,
          -0.6545846207600245,
          -0.9819257347533642,
          0.7686352817125546,
          -0.28770493344401477,
          0.5918740917074815,
          0.5183444223241045,
          -1.7520524718812602,
          1.3980636906330712,
          -1.1245314917361031,
          0.022139236012942463,
          0.7592364488219824,
          0.42600620243372245,
          -1.5866222361761575,
          0.9371724506934582,
          -0.9137856349047465,
          1.6410233938129204,
          -0.16725096651345864
         ],
         "y": [
          -2.467489679081685,
          -0.9109994341608991,
          -0.9775439597470429,
          -0.8050359803816095,
          0.3880837334389582,
          0.7226047001728041,
          2.12261391775626,
          -1.585119821691273,
          -1.4789391663694118,
          1.4130010878680048,
          0.5171336797321604,
          0.8200803187753855,
          -0.1651247430133621,
          -0.020378991429335632,
          1.7248920409679187,
          -1.0379234752961863,
          1.0288558054083492,
          -0.4209039800868332,
          0.9359771990048374,
          0.5283817923005579,
          -0.704072800755225,
          0.33848644671342304,
          1.1773768477836346,
          -0.45103721768800803,
          0.13224782035424706,
          0.7204598068251858,
          -0.9342447733723493,
          -1.5204779496076484,
          1.0181798372524824,
          2.0464668998426223,
          0.6454665423594669,
          -0.5056759016895037,
          0.6527386290509671,
          -0.5547342801162942,
          0.3788700033858548,
          -0.3676073288176218,
          0.5656698820540743,
          1.580633720103138,
          -0.12711454975637088,
          -0.3505517026278936,
          -0.7660622716697431,
          1.523972798077345,
          0.8877692878051118,
          -0.10704995915426571,
          1.629723149498767,
          -0.15762680777432658,
          -1.2668726445596794,
          0.20016928924696611,
          0.699254128347382,
          -0.03689603754636403,
          0.30371287844000294,
          0.28611928397815256,
          2.0585330014523042,
          1.0140945140540905,
          -0.8297552712905361,
          0.09013592833499368,
          0.3984442817811917,
          -0.4571516491840917,
          -0.44287898704643447,
          -1.0569149385856347,
          0.04807235507245364,
          -0.34419688596532827,
          0.10004621268753495,
          0.08731147708013766,
          1.0876804228688925,
          1.3099639910003447,
          0.7539412010773562,
          0.11957250636430646,
          2.3106977365467682,
          2.519930816359611,
          0.08534530825215789,
          -0.9825625396071127,
          -0.39525470620522996,
          -3.1375179773086317,
          0.6132469463474309,
          -0.16942740949205784,
          0.09266214650465411,
          -1.0902353511589595,
          0.8250519676663988,
          -0.13858028835181693,
          -0.28940274670430133,
          -0.002690390203971974,
          0.046357330322069706,
          0.85344253401098,
          0.5158074327785028,
          -1.0161437917023335,
          0.4572488313164856,
          -0.10617864673067459,
          -0.5613388514490533,
          0.3160584742132285,
          -0.8654585149192117,
          0.5512673818002701,
          -0.048270305086464724,
          0.7690216936257351,
          0.8258710118208544,
          -0.16396989659898215,
          -0.7355413370519562,
          -0.163054476714875,
          -1.1757281031956057,
          0.7343984686472602
         ]
        }
       ],
       "layout": {
        "legend": {
         "bgcolor": "#F5F6F9",
         "font": {
          "color": "#4D5663"
         }
        },
        "paper_bgcolor": "#F5F6F9",
        "plot_bgcolor": "#F5F6F9",
        "template": {
         "data": {
          "bar": [
           {
            "error_x": {
             "color": "#2a3f5f"
            },
            "error_y": {
             "color": "#2a3f5f"
            },
            "marker": {
             "line": {
              "color": "#E5ECF6",
              "width": 0.5
             },
             "pattern": {
              "fillmode": "overlay",
              "size": 10,
              "solidity": 0.2
             }
            },
            "type": "bar"
           }
          ],
          "barpolar": [
           {
            "marker": {
             "line": {
              "color": "#E5ECF6",
              "width": 0.5
             },
             "pattern": {
              "fillmode": "overlay",
              "size": 10,
              "solidity": 0.2
             }
            },
            "type": "barpolar"
           }
          ],
          "carpet": [
           {
            "aaxis": {
             "endlinecolor": "#2a3f5f",
             "gridcolor": "white",
             "linecolor": "white",
             "minorgridcolor": "white",
             "startlinecolor": "#2a3f5f"
            },
            "baxis": {
             "endlinecolor": "#2a3f5f",
             "gridcolor": "white",
             "linecolor": "white",
             "minorgridcolor": "white",
             "startlinecolor": "#2a3f5f"
            },
            "type": "carpet"
           }
          ],
          "choropleth": [
           {
            "colorbar": {
             "outlinewidth": 0,
             "ticks": ""
            },
            "type": "choropleth"
           }
          ],
          "contour": [
           {
            "colorbar": {
             "outlinewidth": 0,
             "ticks": ""
            },
            "colorscale": [
             [
              0,
              "#0d0887"
             ],
             [
              0.1111111111111111,
              "#46039f"
             ],
             [
              0.2222222222222222,
              "#7201a8"
             ],
             [
              0.3333333333333333,
              "#9c179e"
             ],
             [
              0.4444444444444444,
              "#bd3786"
             ],
             [
              0.5555555555555556,
              "#d8576b"
             ],
             [
              0.6666666666666666,
              "#ed7953"
             ],
             [
              0.7777777777777778,
              "#fb9f3a"
             ],
             [
              0.8888888888888888,
              "#fdca26"
             ],
             [
              1,
              "#f0f921"
             ]
            ],
            "type": "contour"
           }
          ],
          "contourcarpet": [
           {
            "colorbar": {
             "outlinewidth": 0,
             "ticks": ""
            },
            "type": "contourcarpet"
           }
          ],
          "heatmap": [
           {
            "colorbar": {
             "outlinewidth": 0,
             "ticks": ""
            },
            "colorscale": [
             [
              0,
              "#0d0887"
             ],
             [
              0.1111111111111111,
              "#46039f"
             ],
             [
              0.2222222222222222,
              "#7201a8"
             ],
             [
              0.3333333333333333,
              "#9c179e"
             ],
             [
              0.4444444444444444,
              "#bd3786"
             ],
             [
              0.5555555555555556,
              "#d8576b"
             ],
             [
              0.6666666666666666,
              "#ed7953"
             ],
             [
              0.7777777777777778,
              "#fb9f3a"
             ],
             [
              0.8888888888888888,
              "#fdca26"
             ],
             [
              1,
              "#f0f921"
             ]
            ],
            "type": "heatmap"
           }
          ],
          "heatmapgl": [
           {
            "colorbar": {
             "outlinewidth": 0,
             "ticks": ""
            },
            "colorscale": [
             [
              0,
              "#0d0887"
             ],
             [
              0.1111111111111111,
              "#46039f"
             ],
             [
              0.2222222222222222,
              "#7201a8"
             ],
             [
              0.3333333333333333,
              "#9c179e"
             ],
             [
              0.4444444444444444,
              "#bd3786"
             ],
             [
              0.5555555555555556,
              "#d8576b"
             ],
             [
              0.6666666666666666,
              "#ed7953"
             ],
             [
              0.7777777777777778,
              "#fb9f3a"
             ],
             [
              0.8888888888888888,
              "#fdca26"
             ],
             [
              1,
              "#f0f921"
             ]
            ],
            "type": "heatmapgl"
           }
          ],
          "histogram": [
           {
            "marker": {
             "pattern": {
              "fillmode": "overlay",
              "size": 10,
              "solidity": 0.2
             }
            },
            "type": "histogram"
           }
          ],
          "histogram2d": [
           {
            "colorbar": {
             "outlinewidth": 0,
             "ticks": ""
            },
            "colorscale": [
             [
              0,
              "#0d0887"
             ],
             [
              0.1111111111111111,
              "#46039f"
             ],
             [
              0.2222222222222222,
              "#7201a8"
             ],
             [
              0.3333333333333333,
              "#9c179e"
             ],
             [
              0.4444444444444444,
              "#bd3786"
             ],
             [
              0.5555555555555556,
              "#d8576b"
             ],
             [
              0.6666666666666666,
              "#ed7953"
             ],
             [
              0.7777777777777778,
              "#fb9f3a"
             ],
             [
              0.8888888888888888,
              "#fdca26"
             ],
             [
              1,
              "#f0f921"
             ]
            ],
            "type": "histogram2d"
           }
          ],
          "histogram2dcontour": [
           {
            "colorbar": {
             "outlinewidth": 0,
             "ticks": ""
            },
            "colorscale": [
             [
              0,
              "#0d0887"
             ],
             [
              0.1111111111111111,
              "#46039f"
             ],
             [
              0.2222222222222222,
              "#7201a8"
             ],
             [
              0.3333333333333333,
              "#9c179e"
             ],
             [
              0.4444444444444444,
              "#bd3786"
             ],
             [
              0.5555555555555556,
              "#d8576b"
             ],
             [
              0.6666666666666666,
              "#ed7953"
             ],
             [
              0.7777777777777778,
              "#fb9f3a"
             ],
             [
              0.8888888888888888,
              "#fdca26"
             ],
             [
              1,
              "#f0f921"
             ]
            ],
            "type": "histogram2dcontour"
           }
          ],
          "mesh3d": [
           {
            "colorbar": {
             "outlinewidth": 0,
             "ticks": ""
            },
            "type": "mesh3d"
           }
          ],
          "parcoords": [
           {
            "line": {
             "colorbar": {
              "outlinewidth": 0,
              "ticks": ""
             }
            },
            "type": "parcoords"
           }
          ],
          "pie": [
           {
            "automargin": true,
            "type": "pie"
           }
          ],
          "scatter": [
           {
            "fillpattern": {
             "fillmode": "overlay",
             "size": 10,
             "solidity": 0.2
            },
            "type": "scatter"
           }
          ],
          "scatter3d": [
           {
            "line": {
             "colorbar": {
              "outlinewidth": 0,
              "ticks": ""
             }
            },
            "marker": {
             "colorbar": {
              "outlinewidth": 0,
              "ticks": ""
             }
            },
            "type": "scatter3d"
           }
          ],
          "scattercarpet": [
           {
            "marker": {
             "colorbar": {
              "outlinewidth": 0,
              "ticks": ""
             }
            },
            "type": "scattercarpet"
           }
          ],
          "scattergeo": [
           {
            "marker": {
             "colorbar": {
              "outlinewidth": 0,
              "ticks": ""
             }
            },
            "type": "scattergeo"
           }
          ],
          "scattergl": [
           {
            "marker": {
             "colorbar": {
              "outlinewidth": 0,
              "ticks": ""
             }
            },
            "type": "scattergl"
           }
          ],
          "scattermapbox": [
           {
            "marker": {
             "colorbar": {
              "outlinewidth": 0,
              "ticks": ""
             }
            },
            "type": "scattermapbox"
           }
          ],
          "scatterpolar": [
           {
            "marker": {
             "colorbar": {
              "outlinewidth": 0,
              "ticks": ""
             }
            },
            "type": "scatterpolar"
           }
          ],
          "scatterpolargl": [
           {
            "marker": {
             "colorbar": {
              "outlinewidth": 0,
              "ticks": ""
             }
            },
            "type": "scatterpolargl"
           }
          ],
          "scatterternary": [
           {
            "marker": {
             "colorbar": {
              "outlinewidth": 0,
              "ticks": ""
             }
            },
            "type": "scatterternary"
           }
          ],
          "surface": [
           {
            "colorbar": {
             "outlinewidth": 0,
             "ticks": ""
            },
            "colorscale": [
             [
              0,
              "#0d0887"
             ],
             [
              0.1111111111111111,
              "#46039f"
             ],
             [
              0.2222222222222222,
              "#7201a8"
             ],
             [
              0.3333333333333333,
              "#9c179e"
             ],
             [
              0.4444444444444444,
              "#bd3786"
             ],
             [
              0.5555555555555556,
              "#d8576b"
             ],
             [
              0.6666666666666666,
              "#ed7953"
             ],
             [
              0.7777777777777778,
              "#fb9f3a"
             ],
             [
              0.8888888888888888,
              "#fdca26"
             ],
             [
              1,
              "#f0f921"
             ]
            ],
            "type": "surface"
           }
          ],
          "table": [
           {
            "cells": {
             "fill": {
              "color": "#EBF0F8"
             },
             "line": {
              "color": "white"
             }
            },
            "header": {
             "fill": {
              "color": "#C8D4E3"
             },
             "line": {
              "color": "white"
             }
            },
            "type": "table"
           }
          ]
         },
         "layout": {
          "annotationdefaults": {
           "arrowcolor": "#2a3f5f",
           "arrowhead": 0,
           "arrowwidth": 1
          },
          "autotypenumbers": "strict",
          "coloraxis": {
           "colorbar": {
            "outlinewidth": 0,
            "ticks": ""
           }
          },
          "colorscale": {
           "diverging": [
            [
             0,
             "#8e0152"
            ],
            [
             0.1,
             "#c51b7d"
            ],
            [
             0.2,
             "#de77ae"
            ],
            [
             0.3,
             "#f1b6da"
            ],
            [
             0.4,
             "#fde0ef"
            ],
            [
             0.5,
             "#f7f7f7"
            ],
            [
             0.6,
             "#e6f5d0"
            ],
            [
             0.7,
             "#b8e186"
            ],
            [
             0.8,
             "#7fbc41"
            ],
            [
             0.9,
             "#4d9221"
            ],
            [
             1,
             "#276419"
            ]
           ],
           "sequential": [
            [
             0,
             "#0d0887"
            ],
            [
             0.1111111111111111,
             "#46039f"
            ],
            [
             0.2222222222222222,
             "#7201a8"
            ],
            [
             0.3333333333333333,
             "#9c179e"
            ],
            [
             0.4444444444444444,
             "#bd3786"
            ],
            [
             0.5555555555555556,
             "#d8576b"
            ],
            [
             0.6666666666666666,
             "#ed7953"
            ],
            [
             0.7777777777777778,
             "#fb9f3a"
            ],
            [
             0.8888888888888888,
             "#fdca26"
            ],
            [
             1,
             "#f0f921"
            ]
           ],
           "sequentialminus": [
            [
             0,
             "#0d0887"
            ],
            [
             0.1111111111111111,
             "#46039f"
            ],
            [
             0.2222222222222222,
             "#7201a8"
            ],
            [
             0.3333333333333333,
             "#9c179e"
            ],
            [
             0.4444444444444444,
             "#bd3786"
            ],
            [
             0.5555555555555556,
             "#d8576b"
            ],
            [
             0.6666666666666666,
             "#ed7953"
            ],
            [
             0.7777777777777778,
             "#fb9f3a"
            ],
            [
             0.8888888888888888,
             "#fdca26"
            ],
            [
             1,
             "#f0f921"
            ]
           ]
          },
          "colorway": [
           "#636efa",
           "#EF553B",
           "#00cc96",
           "#ab63fa",
           "#FFA15A",
           "#19d3f3",
           "#FF6692",
           "#B6E880",
           "#FF97FF",
           "#FECB52"
          ],
          "font": {
           "color": "#2a3f5f"
          },
          "geo": {
           "bgcolor": "white",
           "lakecolor": "white",
           "landcolor": "#E5ECF6",
           "showlakes": true,
           "showland": true,
           "subunitcolor": "white"
          },
          "hoverlabel": {
           "align": "left"
          },
          "hovermode": "closest",
          "mapbox": {
           "style": "light"
          },
          "paper_bgcolor": "white",
          "plot_bgcolor": "#E5ECF6",
          "polar": {
           "angularaxis": {
            "gridcolor": "white",
            "linecolor": "white",
            "ticks": ""
           },
           "bgcolor": "#E5ECF6",
           "radialaxis": {
            "gridcolor": "white",
            "linecolor": "white",
            "ticks": ""
           }
          },
          "scene": {
           "xaxis": {
            "backgroundcolor": "#E5ECF6",
            "gridcolor": "white",
            "gridwidth": 2,
            "linecolor": "white",
            "showbackground": true,
            "ticks": "",
            "zerolinecolor": "white"
           },
           "yaxis": {
            "backgroundcolor": "#E5ECF6",
            "gridcolor": "white",
            "gridwidth": 2,
            "linecolor": "white",
            "showbackground": true,
            "ticks": "",
            "zerolinecolor": "white"
           },
           "zaxis": {
            "backgroundcolor": "#E5ECF6",
            "gridcolor": "white",
            "gridwidth": 2,
            "linecolor": "white",
            "showbackground": true,
            "ticks": "",
            "zerolinecolor": "white"
           }
          },
          "shapedefaults": {
           "line": {
            "color": "#2a3f5f"
           }
          },
          "ternary": {
           "aaxis": {
            "gridcolor": "white",
            "linecolor": "white",
            "ticks": ""
           },
           "baxis": {
            "gridcolor": "white",
            "linecolor": "white",
            "ticks": ""
           },
           "bgcolor": "#E5ECF6",
           "caxis": {
            "gridcolor": "white",
            "linecolor": "white",
            "ticks": ""
           }
          },
          "title": {
           "x": 0.05
          },
          "xaxis": {
           "automargin": true,
           "gridcolor": "white",
           "linecolor": "white",
           "ticks": "",
           "title": {
            "standoff": 15
           },
           "zerolinecolor": "white",
           "zerolinewidth": 2
          },
          "yaxis": {
           "automargin": true,
           "gridcolor": "white",
           "linecolor": "white",
           "ticks": "",
           "title": {
            "standoff": 15
           },
           "zerolinecolor": "white",
           "zerolinewidth": 2
          }
         }
        },
        "title": {
         "font": {
          "color": "#4D5663"
         }
        },
        "xaxis": {
         "gridcolor": "#E1E5ED",
         "showgrid": true,
         "tickfont": {
          "color": "#4D5663"
         },
         "title": {
          "font": {
           "color": "#4D5663"
          },
          "text": ""
         },
         "zerolinecolor": "#E1E5ED"
        },
        "yaxis": {
         "gridcolor": "#E1E5ED",
         "showgrid": true,
         "tickfont": {
          "color": "#4D5663"
         },
         "title": {
          "font": {
           "color": "#4D5663"
          },
          "text": ""
         },
         "zerolinecolor": "#E1E5ED"
        }
       }
      },
      "text/html": [
       "<div>                            <div id=\"5de87455-1a50-41fb-bc75-0f33059c8687\" class=\"plotly-graph-div\" style=\"height:525px; width:100%;\"></div>            <script type=\"text/javascript\">                require([\"plotly\"], function(Plotly) {                    window.PLOTLYENV=window.PLOTLYENV || {};\n",
       "                    window.PLOTLYENV.BASE_URL='https://plot.ly';                                    if (document.getElementById(\"5de87455-1a50-41fb-bc75-0f33059c8687\")) {                    Plotly.newPlot(                        \"5de87455-1a50-41fb-bc75-0f33059c8687\",                        [{\"line\":{\"color\":\"rgba(255, 153, 51, 1.0)\",\"dash\":\"solid\",\"shape\":\"linear\",\"width\":1.3},\"mode\":\"lines\",\"name\":\"B\",\"text\":\"\",\"x\":[-1.2821232259307913,-0.39999089040185204,0.18603955462223581,1.9454784431368184,-0.5976460193168096,-1.1357869422281528,0.5011941647418091,-0.3165890810433005,-0.49026251352794514,-0.3070155142823813,-0.00928407711693977,0.40742108364021007,-0.8059220890051619,-1.6150012335022794,0.2831274750204807,-0.8071318749394667,1.2578496478325498,0.5546354700979511,-0.8058535128503591,-1.325128537682219,-0.6293771302746785,-0.18505519612184348,1.161217988148961,-0.9940280665073525,-1.0517075260495918,-0.021950386799966522,1.7059306402459018,-0.5431574852715914,-1.6652518510749255,-0.2293687085613229,-0.9330038160520542,-0.40135606395472045,-0.5904818764111005,0.1561604164203169,0.05909328601089837,-0.27648155744488384,1.5426214018051496,2.00748019586431,-0.23004698398830756,-0.9034603928397359,-0.8432824015442412,0.5985161962702256,0.2064791649332286,-1.5981203262502197,-0.691193621887644,1.2648788373359174,-0.9812428188552841,0.29077257292937864,-0.3860304784116714,0.7348736205455061,-0.30194463093884955,-1.1804849866851235,1.8555927233230805,0.3206204405021417,-0.3484647029488913,0.17804035824914086,-0.005932309547459654,-1.09324321057662,1.0537325994802822,-0.11131747857058517,1.5510248050539293,0.0641092321739744,0.011983916018163067,0.07671899326363087,-1.6383015593850865,-0.8930202201725317,2.177001154926578,0.10032475555698285,0.19801577044420687,-0.8143086148611789,2.5765300667706303,1.1424955734563713,-1.1782421287147495,0.36719261575559925,1.913126328532216,0.5316725673593986,1.0609389309814266,-0.2580418540315302,-1.1096209702275894,-0.16525766112282678,-0.6350618813045671,-0.6680136886957433,2.2019863428116317,-0.6545846207600245,-0.9819257347533642,0.7686352817125546,-0.28770493344401477,0.5918740917074815,0.5183444223241045,-1.7520524718812602,1.3980636906330712,-1.1245314917361031,0.022139236012942463,0.7592364488219824,0.42600620243372245,-1.5866222361761575,0.9371724506934582,-0.9137856349047465,1.6410233938129204,-0.16725096651345864],\"y\":[-2.467489679081685,-0.9109994341608991,-0.9775439597470429,-0.8050359803816095,0.3880837334389582,0.7226047001728041,2.12261391775626,-1.585119821691273,-1.4789391663694118,1.4130010878680048,0.5171336797321604,0.8200803187753855,-0.1651247430133621,-0.020378991429335632,1.7248920409679187,-1.0379234752961863,1.0288558054083492,-0.4209039800868332,0.9359771990048374,0.5283817923005579,-0.704072800755225,0.33848644671342304,1.1773768477836346,-0.45103721768800803,0.13224782035424706,0.7204598068251858,-0.9342447733723493,-1.5204779496076484,1.0181798372524824,2.0464668998426223,0.6454665423594669,-0.5056759016895037,0.6527386290509671,-0.5547342801162942,0.3788700033858548,-0.3676073288176218,0.5656698820540743,1.580633720103138,-0.12711454975637088,-0.3505517026278936,-0.7660622716697431,1.523972798077345,0.8877692878051118,-0.10704995915426571,1.629723149498767,-0.15762680777432658,-1.2668726445596794,0.20016928924696611,0.699254128347382,-0.03689603754636403,0.30371287844000294,0.28611928397815256,2.0585330014523042,1.0140945140540905,-0.8297552712905361,0.09013592833499368,0.3984442817811917,-0.4571516491840917,-0.44287898704643447,-1.0569149385856347,0.04807235507245364,-0.34419688596532827,0.10004621268753495,0.08731147708013766,1.0876804228688925,1.3099639910003447,0.7539412010773562,0.11957250636430646,2.3106977365467682,2.519930816359611,0.08534530825215789,-0.9825625396071127,-0.39525470620522996,-3.1375179773086317,0.6132469463474309,-0.16942740949205784,0.09266214650465411,-1.0902353511589595,0.8250519676663988,-0.13858028835181693,-0.28940274670430133,-0.002690390203971974,0.046357330322069706,0.85344253401098,0.5158074327785028,-1.0161437917023335,0.4572488313164856,-0.10617864673067459,-0.5613388514490533,0.3160584742132285,-0.8654585149192117,0.5512673818002701,-0.048270305086464724,0.7690216936257351,0.8258710118208544,-0.16396989659898215,-0.7355413370519562,-0.163054476714875,-1.1757281031956057,0.7343984686472602],\"type\":\"scatter\"}],                        {\"legend\":{\"bgcolor\":\"#F5F6F9\",\"font\":{\"color\":\"#4D5663\"}},\"paper_bgcolor\":\"#F5F6F9\",\"plot_bgcolor\":\"#F5F6F9\",\"template\":{\"data\":{\"barpolar\":[{\"marker\":{\"line\":{\"color\":\"#E5ECF6\",\"width\":0.5},\"pattern\":{\"fillmode\":\"overlay\",\"size\":10,\"solidity\":0.2}},\"type\":\"barpolar\"}],\"bar\":[{\"error_x\":{\"color\":\"#2a3f5f\"},\"error_y\":{\"color\":\"#2a3f5f\"},\"marker\":{\"line\":{\"color\":\"#E5ECF6\",\"width\":0.5},\"pattern\":{\"fillmode\":\"overlay\",\"size\":10,\"solidity\":0.2}},\"type\":\"bar\"}],\"carpet\":[{\"aaxis\":{\"endlinecolor\":\"#2a3f5f\",\"gridcolor\":\"white\",\"linecolor\":\"white\",\"minorgridcolor\":\"white\",\"startlinecolor\":\"#2a3f5f\"},\"baxis\":{\"endlinecolor\":\"#2a3f5f\",\"gridcolor\":\"white\",\"linecolor\":\"white\",\"minorgridcolor\":\"white\",\"startlinecolor\":\"#2a3f5f\"},\"type\":\"carpet\"}],\"choropleth\":[{\"colorbar\":{\"outlinewidth\":0,\"ticks\":\"\"},\"type\":\"choropleth\"}],\"contourcarpet\":[{\"colorbar\":{\"outlinewidth\":0,\"ticks\":\"\"},\"type\":\"contourcarpet\"}],\"contour\":[{\"colorbar\":{\"outlinewidth\":0,\"ticks\":\"\"},\"colorscale\":[[0.0,\"#0d0887\"],[0.1111111111111111,\"#46039f\"],[0.2222222222222222,\"#7201a8\"],[0.3333333333333333,\"#9c179e\"],[0.4444444444444444,\"#bd3786\"],[0.5555555555555556,\"#d8576b\"],[0.6666666666666666,\"#ed7953\"],[0.7777777777777778,\"#fb9f3a\"],[0.8888888888888888,\"#fdca26\"],[1.0,\"#f0f921\"]],\"type\":\"contour\"}],\"heatmapgl\":[{\"colorbar\":{\"outlinewidth\":0,\"ticks\":\"\"},\"colorscale\":[[0.0,\"#0d0887\"],[0.1111111111111111,\"#46039f\"],[0.2222222222222222,\"#7201a8\"],[0.3333333333333333,\"#9c179e\"],[0.4444444444444444,\"#bd3786\"],[0.5555555555555556,\"#d8576b\"],[0.6666666666666666,\"#ed7953\"],[0.7777777777777778,\"#fb9f3a\"],[0.8888888888888888,\"#fdca26\"],[1.0,\"#f0f921\"]],\"type\":\"heatmapgl\"}],\"heatmap\":[{\"colorbar\":{\"outlinewidth\":0,\"ticks\":\"\"},\"colorscale\":[[0.0,\"#0d0887\"],[0.1111111111111111,\"#46039f\"],[0.2222222222222222,\"#7201a8\"],[0.3333333333333333,\"#9c179e\"],[0.4444444444444444,\"#bd3786\"],[0.5555555555555556,\"#d8576b\"],[0.6666666666666666,\"#ed7953\"],[0.7777777777777778,\"#fb9f3a\"],[0.8888888888888888,\"#fdca26\"],[1.0,\"#f0f921\"]],\"type\":\"heatmap\"}],\"histogram2dcontour\":[{\"colorbar\":{\"outlinewidth\":0,\"ticks\":\"\"},\"colorscale\":[[0.0,\"#0d0887\"],[0.1111111111111111,\"#46039f\"],[0.2222222222222222,\"#7201a8\"],[0.3333333333333333,\"#9c179e\"],[0.4444444444444444,\"#bd3786\"],[0.5555555555555556,\"#d8576b\"],[0.6666666666666666,\"#ed7953\"],[0.7777777777777778,\"#fb9f3a\"],[0.8888888888888888,\"#fdca26\"],[1.0,\"#f0f921\"]],\"type\":\"histogram2dcontour\"}],\"histogram2d\":[{\"colorbar\":{\"outlinewidth\":0,\"ticks\":\"\"},\"colorscale\":[[0.0,\"#0d0887\"],[0.1111111111111111,\"#46039f\"],[0.2222222222222222,\"#7201a8\"],[0.3333333333333333,\"#9c179e\"],[0.4444444444444444,\"#bd3786\"],[0.5555555555555556,\"#d8576b\"],[0.6666666666666666,\"#ed7953\"],[0.7777777777777778,\"#fb9f3a\"],[0.8888888888888888,\"#fdca26\"],[1.0,\"#f0f921\"]],\"type\":\"histogram2d\"}],\"histogram\":[{\"marker\":{\"pattern\":{\"fillmode\":\"overlay\",\"size\":10,\"solidity\":0.2}},\"type\":\"histogram\"}],\"mesh3d\":[{\"colorbar\":{\"outlinewidth\":0,\"ticks\":\"\"},\"type\":\"mesh3d\"}],\"parcoords\":[{\"line\":{\"colorbar\":{\"outlinewidth\":0,\"ticks\":\"\"}},\"type\":\"parcoords\"}],\"pie\":[{\"automargin\":true,\"type\":\"pie\"}],\"scatter3d\":[{\"line\":{\"colorbar\":{\"outlinewidth\":0,\"ticks\":\"\"}},\"marker\":{\"colorbar\":{\"outlinewidth\":0,\"ticks\":\"\"}},\"type\":\"scatter3d\"}],\"scattercarpet\":[{\"marker\":{\"colorbar\":{\"outlinewidth\":0,\"ticks\":\"\"}},\"type\":\"scattercarpet\"}],\"scattergeo\":[{\"marker\":{\"colorbar\":{\"outlinewidth\":0,\"ticks\":\"\"}},\"type\":\"scattergeo\"}],\"scattergl\":[{\"marker\":{\"colorbar\":{\"outlinewidth\":0,\"ticks\":\"\"}},\"type\":\"scattergl\"}],\"scattermapbox\":[{\"marker\":{\"colorbar\":{\"outlinewidth\":0,\"ticks\":\"\"}},\"type\":\"scattermapbox\"}],\"scatterpolargl\":[{\"marker\":{\"colorbar\":{\"outlinewidth\":0,\"ticks\":\"\"}},\"type\":\"scatterpolargl\"}],\"scatterpolar\":[{\"marker\":{\"colorbar\":{\"outlinewidth\":0,\"ticks\":\"\"}},\"type\":\"scatterpolar\"}],\"scatter\":[{\"fillpattern\":{\"fillmode\":\"overlay\",\"size\":10,\"solidity\":0.2},\"type\":\"scatter\"}],\"scatterternary\":[{\"marker\":{\"colorbar\":{\"outlinewidth\":0,\"ticks\":\"\"}},\"type\":\"scatterternary\"}],\"surface\":[{\"colorbar\":{\"outlinewidth\":0,\"ticks\":\"\"},\"colorscale\":[[0.0,\"#0d0887\"],[0.1111111111111111,\"#46039f\"],[0.2222222222222222,\"#7201a8\"],[0.3333333333333333,\"#9c179e\"],[0.4444444444444444,\"#bd3786\"],[0.5555555555555556,\"#d8576b\"],[0.6666666666666666,\"#ed7953\"],[0.7777777777777778,\"#fb9f3a\"],[0.8888888888888888,\"#fdca26\"],[1.0,\"#f0f921\"]],\"type\":\"surface\"}],\"table\":[{\"cells\":{\"fill\":{\"color\":\"#EBF0F8\"},\"line\":{\"color\":\"white\"}},\"header\":{\"fill\":{\"color\":\"#C8D4E3\"},\"line\":{\"color\":\"white\"}},\"type\":\"table\"}]},\"layout\":{\"annotationdefaults\":{\"arrowcolor\":\"#2a3f5f\",\"arrowhead\":0,\"arrowwidth\":1},\"autotypenumbers\":\"strict\",\"coloraxis\":{\"colorbar\":{\"outlinewidth\":0,\"ticks\":\"\"}},\"colorscale\":{\"diverging\":[[0,\"#8e0152\"],[0.1,\"#c51b7d\"],[0.2,\"#de77ae\"],[0.3,\"#f1b6da\"],[0.4,\"#fde0ef\"],[0.5,\"#f7f7f7\"],[0.6,\"#e6f5d0\"],[0.7,\"#b8e186\"],[0.8,\"#7fbc41\"],[0.9,\"#4d9221\"],[1,\"#276419\"]],\"sequential\":[[0.0,\"#0d0887\"],[0.1111111111111111,\"#46039f\"],[0.2222222222222222,\"#7201a8\"],[0.3333333333333333,\"#9c179e\"],[0.4444444444444444,\"#bd3786\"],[0.5555555555555556,\"#d8576b\"],[0.6666666666666666,\"#ed7953\"],[0.7777777777777778,\"#fb9f3a\"],[0.8888888888888888,\"#fdca26\"],[1.0,\"#f0f921\"]],\"sequentialminus\":[[0.0,\"#0d0887\"],[0.1111111111111111,\"#46039f\"],[0.2222222222222222,\"#7201a8\"],[0.3333333333333333,\"#9c179e\"],[0.4444444444444444,\"#bd3786\"],[0.5555555555555556,\"#d8576b\"],[0.6666666666666666,\"#ed7953\"],[0.7777777777777778,\"#fb9f3a\"],[0.8888888888888888,\"#fdca26\"],[1.0,\"#f0f921\"]]},\"colorway\":[\"#636efa\",\"#EF553B\",\"#00cc96\",\"#ab63fa\",\"#FFA15A\",\"#19d3f3\",\"#FF6692\",\"#B6E880\",\"#FF97FF\",\"#FECB52\"],\"font\":{\"color\":\"#2a3f5f\"},\"geo\":{\"bgcolor\":\"white\",\"lakecolor\":\"white\",\"landcolor\":\"#E5ECF6\",\"showlakes\":true,\"showland\":true,\"subunitcolor\":\"white\"},\"hoverlabel\":{\"align\":\"left\"},\"hovermode\":\"closest\",\"mapbox\":{\"style\":\"light\"},\"paper_bgcolor\":\"white\",\"plot_bgcolor\":\"#E5ECF6\",\"polar\":{\"angularaxis\":{\"gridcolor\":\"white\",\"linecolor\":\"white\",\"ticks\":\"\"},\"bgcolor\":\"#E5ECF6\",\"radialaxis\":{\"gridcolor\":\"white\",\"linecolor\":\"white\",\"ticks\":\"\"}},\"scene\":{\"xaxis\":{\"backgroundcolor\":\"#E5ECF6\",\"gridcolor\":\"white\",\"gridwidth\":2,\"linecolor\":\"white\",\"showbackground\":true,\"ticks\":\"\",\"zerolinecolor\":\"white\"},\"yaxis\":{\"backgroundcolor\":\"#E5ECF6\",\"gridcolor\":\"white\",\"gridwidth\":2,\"linecolor\":\"white\",\"showbackground\":true,\"ticks\":\"\",\"zerolinecolor\":\"white\"},\"zaxis\":{\"backgroundcolor\":\"#E5ECF6\",\"gridcolor\":\"white\",\"gridwidth\":2,\"linecolor\":\"white\",\"showbackground\":true,\"ticks\":\"\",\"zerolinecolor\":\"white\"}},\"shapedefaults\":{\"line\":{\"color\":\"#2a3f5f\"}},\"ternary\":{\"aaxis\":{\"gridcolor\":\"white\",\"linecolor\":\"white\",\"ticks\":\"\"},\"baxis\":{\"gridcolor\":\"white\",\"linecolor\":\"white\",\"ticks\":\"\"},\"bgcolor\":\"#E5ECF6\",\"caxis\":{\"gridcolor\":\"white\",\"linecolor\":\"white\",\"ticks\":\"\"}},\"title\":{\"x\":0.05},\"xaxis\":{\"automargin\":true,\"gridcolor\":\"white\",\"linecolor\":\"white\",\"ticks\":\"\",\"title\":{\"standoff\":15},\"zerolinecolor\":\"white\",\"zerolinewidth\":2},\"yaxis\":{\"automargin\":true,\"gridcolor\":\"white\",\"linecolor\":\"white\",\"ticks\":\"\",\"title\":{\"standoff\":15},\"zerolinecolor\":\"white\",\"zerolinewidth\":2}}},\"title\":{\"font\":{\"color\":\"#4D5663\"}},\"xaxis\":{\"gridcolor\":\"#E1E5ED\",\"showgrid\":true,\"tickfont\":{\"color\":\"#4D5663\"},\"title\":{\"font\":{\"color\":\"#4D5663\"},\"text\":\"\"},\"zerolinecolor\":\"#E1E5ED\"},\"yaxis\":{\"gridcolor\":\"#E1E5ED\",\"showgrid\":true,\"tickfont\":{\"color\":\"#4D5663\"},\"title\":{\"font\":{\"color\":\"#4D5663\"},\"text\":\"\"},\"zerolinecolor\":\"#E1E5ED\"}},                        {\"showLink\": true, \"linkText\": \"Export to plot.ly\", \"plotlyServerURL\": \"https://plot.ly\", \"responsive\": true}                    ).then(function(){\n",
       "                            \n",
       "var gd = document.getElementById('5de87455-1a50-41fb-bc75-0f33059c8687');\n",
       "var x = new MutationObserver(function (mutations, observer) {{\n",
       "        var display = window.getComputedStyle(gd).display;\n",
       "        if (!display || display === 'none') {{\n",
       "            console.log([gd, 'removed!']);\n",
       "            Plotly.purge(gd);\n",
       "            observer.disconnect();\n",
       "        }}\n",
       "}});\n",
       "\n",
       "// Listen for the removal of the full notebook cells\n",
       "var notebookContainer = gd.closest('#notebook-container');\n",
       "if (notebookContainer) {{\n",
       "    x.observe(notebookContainer, {childList: true});\n",
       "}}\n",
       "\n",
       "// Listen for the clearing of the current output cell\n",
       "var outputEl = gd.closest('.output');\n",
       "if (outputEl) {{\n",
       "    x.observe(outputEl, {childList: true});\n",
       "}}\n",
       "\n",
       "                        })                };                });            </script>        </div>"
      ]
     },
     "metadata": {},
     "output_type": "display_data"
    }
   ],
   "source": [
    "df.iplot(kind ='scatter', x='A', y='B') # to change the plot type, use kind"
   ]
  },
  {
   "cell_type": "code",
   "execution_count": 15,
   "id": "7eb14edc",
   "metadata": {},
   "outputs": [
    {
     "data": {
      "application/vnd.plotly.v1+json": {
       "config": {
        "linkText": "Export to plot.ly",
        "plotlyServerURL": "https://plot.ly",
        "showLink": true
       },
       "data": [
        {
         "line": {
          "color": "rgba(255, 153, 51, 1.0)",
          "dash": "solid",
          "shape": "linear",
          "width": 1.3
         },
         "marker": {
          "size": 20,
          "symbol": "circle"
         },
         "mode": "markers",
         "name": "B",
         "text": "",
         "type": "scatter",
         "x": [
          -1.2821232259307913,
          -0.39999089040185204,
          0.18603955462223581,
          1.9454784431368184,
          -0.5976460193168096,
          -1.1357869422281528,
          0.5011941647418091,
          -0.3165890810433005,
          -0.49026251352794514,
          -0.3070155142823813,
          -0.00928407711693977,
          0.40742108364021007,
          -0.8059220890051619,
          -1.6150012335022794,
          0.2831274750204807,
          -0.8071318749394667,
          1.2578496478325498,
          0.5546354700979511,
          -0.8058535128503591,
          -1.325128537682219,
          -0.6293771302746785,
          -0.18505519612184348,
          1.161217988148961,
          -0.9940280665073525,
          -1.0517075260495918,
          -0.021950386799966522,
          1.7059306402459018,
          -0.5431574852715914,
          -1.6652518510749255,
          -0.2293687085613229,
          -0.9330038160520542,
          -0.40135606395472045,
          -0.5904818764111005,
          0.1561604164203169,
          0.05909328601089837,
          -0.27648155744488384,
          1.5426214018051496,
          2.00748019586431,
          -0.23004698398830756,
          -0.9034603928397359,
          -0.8432824015442412,
          0.5985161962702256,
          0.2064791649332286,
          -1.5981203262502197,
          -0.691193621887644,
          1.2648788373359174,
          -0.9812428188552841,
          0.29077257292937864,
          -0.3860304784116714,
          0.7348736205455061,
          -0.30194463093884955,
          -1.1804849866851235,
          1.8555927233230805,
          0.3206204405021417,
          -0.3484647029488913,
          0.17804035824914086,
          -0.005932309547459654,
          -1.09324321057662,
          1.0537325994802822,
          -0.11131747857058517,
          1.5510248050539293,
          0.0641092321739744,
          0.011983916018163067,
          0.07671899326363087,
          -1.6383015593850865,
          -0.8930202201725317,
          2.177001154926578,
          0.10032475555698285,
          0.19801577044420687,
          -0.8143086148611789,
          2.5765300667706303,
          1.1424955734563713,
          -1.1782421287147495,
          0.36719261575559925,
          1.913126328532216,
          0.5316725673593986,
          1.0609389309814266,
          -0.2580418540315302,
          -1.1096209702275894,
          -0.16525766112282678,
          -0.6350618813045671,
          -0.6680136886957433,
          2.2019863428116317,
          -0.6545846207600245,
          -0.9819257347533642,
          0.7686352817125546,
          -0.28770493344401477,
          0.5918740917074815,
          0.5183444223241045,
          -1.7520524718812602,
          1.3980636906330712,
          -1.1245314917361031,
          0.022139236012942463,
          0.7592364488219824,
          0.42600620243372245,
          -1.5866222361761575,
          0.9371724506934582,
          -0.9137856349047465,
          1.6410233938129204,
          -0.16725096651345864
         ],
         "y": [
          -2.467489679081685,
          -0.9109994341608991,
          -0.9775439597470429,
          -0.8050359803816095,
          0.3880837334389582,
          0.7226047001728041,
          2.12261391775626,
          -1.585119821691273,
          -1.4789391663694118,
          1.4130010878680048,
          0.5171336797321604,
          0.8200803187753855,
          -0.1651247430133621,
          -0.020378991429335632,
          1.7248920409679187,
          -1.0379234752961863,
          1.0288558054083492,
          -0.4209039800868332,
          0.9359771990048374,
          0.5283817923005579,
          -0.704072800755225,
          0.33848644671342304,
          1.1773768477836346,
          -0.45103721768800803,
          0.13224782035424706,
          0.7204598068251858,
          -0.9342447733723493,
          -1.5204779496076484,
          1.0181798372524824,
          2.0464668998426223,
          0.6454665423594669,
          -0.5056759016895037,
          0.6527386290509671,
          -0.5547342801162942,
          0.3788700033858548,
          -0.3676073288176218,
          0.5656698820540743,
          1.580633720103138,
          -0.12711454975637088,
          -0.3505517026278936,
          -0.7660622716697431,
          1.523972798077345,
          0.8877692878051118,
          -0.10704995915426571,
          1.629723149498767,
          -0.15762680777432658,
          -1.2668726445596794,
          0.20016928924696611,
          0.699254128347382,
          -0.03689603754636403,
          0.30371287844000294,
          0.28611928397815256,
          2.0585330014523042,
          1.0140945140540905,
          -0.8297552712905361,
          0.09013592833499368,
          0.3984442817811917,
          -0.4571516491840917,
          -0.44287898704643447,
          -1.0569149385856347,
          0.04807235507245364,
          -0.34419688596532827,
          0.10004621268753495,
          0.08731147708013766,
          1.0876804228688925,
          1.3099639910003447,
          0.7539412010773562,
          0.11957250636430646,
          2.3106977365467682,
          2.519930816359611,
          0.08534530825215789,
          -0.9825625396071127,
          -0.39525470620522996,
          -3.1375179773086317,
          0.6132469463474309,
          -0.16942740949205784,
          0.09266214650465411,
          -1.0902353511589595,
          0.8250519676663988,
          -0.13858028835181693,
          -0.28940274670430133,
          -0.002690390203971974,
          0.046357330322069706,
          0.85344253401098,
          0.5158074327785028,
          -1.0161437917023335,
          0.4572488313164856,
          -0.10617864673067459,
          -0.5613388514490533,
          0.3160584742132285,
          -0.8654585149192117,
          0.5512673818002701,
          -0.048270305086464724,
          0.7690216936257351,
          0.8258710118208544,
          -0.16396989659898215,
          -0.7355413370519562,
          -0.163054476714875,
          -1.1757281031956057,
          0.7343984686472602
         ]
        }
       ],
       "layout": {
        "legend": {
         "bgcolor": "#F5F6F9",
         "font": {
          "color": "#4D5663"
         }
        },
        "paper_bgcolor": "#F5F6F9",
        "plot_bgcolor": "#F5F6F9",
        "template": {
         "data": {
          "bar": [
           {
            "error_x": {
             "color": "#2a3f5f"
            },
            "error_y": {
             "color": "#2a3f5f"
            },
            "marker": {
             "line": {
              "color": "#E5ECF6",
              "width": 0.5
             },
             "pattern": {
              "fillmode": "overlay",
              "size": 10,
              "solidity": 0.2
             }
            },
            "type": "bar"
           }
          ],
          "barpolar": [
           {
            "marker": {
             "line": {
              "color": "#E5ECF6",
              "width": 0.5
             },
             "pattern": {
              "fillmode": "overlay",
              "size": 10,
              "solidity": 0.2
             }
            },
            "type": "barpolar"
           }
          ],
          "carpet": [
           {
            "aaxis": {
             "endlinecolor": "#2a3f5f",
             "gridcolor": "white",
             "linecolor": "white",
             "minorgridcolor": "white",
             "startlinecolor": "#2a3f5f"
            },
            "baxis": {
             "endlinecolor": "#2a3f5f",
             "gridcolor": "white",
             "linecolor": "white",
             "minorgridcolor": "white",
             "startlinecolor": "#2a3f5f"
            },
            "type": "carpet"
           }
          ],
          "choropleth": [
           {
            "colorbar": {
             "outlinewidth": 0,
             "ticks": ""
            },
            "type": "choropleth"
           }
          ],
          "contour": [
           {
            "colorbar": {
             "outlinewidth": 0,
             "ticks": ""
            },
            "colorscale": [
             [
              0,
              "#0d0887"
             ],
             [
              0.1111111111111111,
              "#46039f"
             ],
             [
              0.2222222222222222,
              "#7201a8"
             ],
             [
              0.3333333333333333,
              "#9c179e"
             ],
             [
              0.4444444444444444,
              "#bd3786"
             ],
             [
              0.5555555555555556,
              "#d8576b"
             ],
             [
              0.6666666666666666,
              "#ed7953"
             ],
             [
              0.7777777777777778,
              "#fb9f3a"
             ],
             [
              0.8888888888888888,
              "#fdca26"
             ],
             [
              1,
              "#f0f921"
             ]
            ],
            "type": "contour"
           }
          ],
          "contourcarpet": [
           {
            "colorbar": {
             "outlinewidth": 0,
             "ticks": ""
            },
            "type": "contourcarpet"
           }
          ],
          "heatmap": [
           {
            "colorbar": {
             "outlinewidth": 0,
             "ticks": ""
            },
            "colorscale": [
             [
              0,
              "#0d0887"
             ],
             [
              0.1111111111111111,
              "#46039f"
             ],
             [
              0.2222222222222222,
              "#7201a8"
             ],
             [
              0.3333333333333333,
              "#9c179e"
             ],
             [
              0.4444444444444444,
              "#bd3786"
             ],
             [
              0.5555555555555556,
              "#d8576b"
             ],
             [
              0.6666666666666666,
              "#ed7953"
             ],
             [
              0.7777777777777778,
              "#fb9f3a"
             ],
             [
              0.8888888888888888,
              "#fdca26"
             ],
             [
              1,
              "#f0f921"
             ]
            ],
            "type": "heatmap"
           }
          ],
          "heatmapgl": [
           {
            "colorbar": {
             "outlinewidth": 0,
             "ticks": ""
            },
            "colorscale": [
             [
              0,
              "#0d0887"
             ],
             [
              0.1111111111111111,
              "#46039f"
             ],
             [
              0.2222222222222222,
              "#7201a8"
             ],
             [
              0.3333333333333333,
              "#9c179e"
             ],
             [
              0.4444444444444444,
              "#bd3786"
             ],
             [
              0.5555555555555556,
              "#d8576b"
             ],
             [
              0.6666666666666666,
              "#ed7953"
             ],
             [
              0.7777777777777778,
              "#fb9f3a"
             ],
             [
              0.8888888888888888,
              "#fdca26"
             ],
             [
              1,
              "#f0f921"
             ]
            ],
            "type": "heatmapgl"
           }
          ],
          "histogram": [
           {
            "marker": {
             "pattern": {
              "fillmode": "overlay",
              "size": 10,
              "solidity": 0.2
             }
            },
            "type": "histogram"
           }
          ],
          "histogram2d": [
           {
            "colorbar": {
             "outlinewidth": 0,
             "ticks": ""
            },
            "colorscale": [
             [
              0,
              "#0d0887"
             ],
             [
              0.1111111111111111,
              "#46039f"
             ],
             [
              0.2222222222222222,
              "#7201a8"
             ],
             [
              0.3333333333333333,
              "#9c179e"
             ],
             [
              0.4444444444444444,
              "#bd3786"
             ],
             [
              0.5555555555555556,
              "#d8576b"
             ],
             [
              0.6666666666666666,
              "#ed7953"
             ],
             [
              0.7777777777777778,
              "#fb9f3a"
             ],
             [
              0.8888888888888888,
              "#fdca26"
             ],
             [
              1,
              "#f0f921"
             ]
            ],
            "type": "histogram2d"
           }
          ],
          "histogram2dcontour": [
           {
            "colorbar": {
             "outlinewidth": 0,
             "ticks": ""
            },
            "colorscale": [
             [
              0,
              "#0d0887"
             ],
             [
              0.1111111111111111,
              "#46039f"
             ],
             [
              0.2222222222222222,
              "#7201a8"
             ],
             [
              0.3333333333333333,
              "#9c179e"
             ],
             [
              0.4444444444444444,
              "#bd3786"
             ],
             [
              0.5555555555555556,
              "#d8576b"
             ],
             [
              0.6666666666666666,
              "#ed7953"
             ],
             [
              0.7777777777777778,
              "#fb9f3a"
             ],
             [
              0.8888888888888888,
              "#fdca26"
             ],
             [
              1,
              "#f0f921"
             ]
            ],
            "type": "histogram2dcontour"
           }
          ],
          "mesh3d": [
           {
            "colorbar": {
             "outlinewidth": 0,
             "ticks": ""
            },
            "type": "mesh3d"
           }
          ],
          "parcoords": [
           {
            "line": {
             "colorbar": {
              "outlinewidth": 0,
              "ticks": ""
             }
            },
            "type": "parcoords"
           }
          ],
          "pie": [
           {
            "automargin": true,
            "type": "pie"
           }
          ],
          "scatter": [
           {
            "fillpattern": {
             "fillmode": "overlay",
             "size": 10,
             "solidity": 0.2
            },
            "type": "scatter"
           }
          ],
          "scatter3d": [
           {
            "line": {
             "colorbar": {
              "outlinewidth": 0,
              "ticks": ""
             }
            },
            "marker": {
             "colorbar": {
              "outlinewidth": 0,
              "ticks": ""
             }
            },
            "type": "scatter3d"
           }
          ],
          "scattercarpet": [
           {
            "marker": {
             "colorbar": {
              "outlinewidth": 0,
              "ticks": ""
             }
            },
            "type": "scattercarpet"
           }
          ],
          "scattergeo": [
           {
            "marker": {
             "colorbar": {
              "outlinewidth": 0,
              "ticks": ""
             }
            },
            "type": "scattergeo"
           }
          ],
          "scattergl": [
           {
            "marker": {
             "colorbar": {
              "outlinewidth": 0,
              "ticks": ""
             }
            },
            "type": "scattergl"
           }
          ],
          "scattermapbox": [
           {
            "marker": {
             "colorbar": {
              "outlinewidth": 0,
              "ticks": ""
             }
            },
            "type": "scattermapbox"
           }
          ],
          "scatterpolar": [
           {
            "marker": {
             "colorbar": {
              "outlinewidth": 0,
              "ticks": ""
             }
            },
            "type": "scatterpolar"
           }
          ],
          "scatterpolargl": [
           {
            "marker": {
             "colorbar": {
              "outlinewidth": 0,
              "ticks": ""
             }
            },
            "type": "scatterpolargl"
           }
          ],
          "scatterternary": [
           {
            "marker": {
             "colorbar": {
              "outlinewidth": 0,
              "ticks": ""
             }
            },
            "type": "scatterternary"
           }
          ],
          "surface": [
           {
            "colorbar": {
             "outlinewidth": 0,
             "ticks": ""
            },
            "colorscale": [
             [
              0,
              "#0d0887"
             ],
             [
              0.1111111111111111,
              "#46039f"
             ],
             [
              0.2222222222222222,
              "#7201a8"
             ],
             [
              0.3333333333333333,
              "#9c179e"
             ],
             [
              0.4444444444444444,
              "#bd3786"
             ],
             [
              0.5555555555555556,
              "#d8576b"
             ],
             [
              0.6666666666666666,
              "#ed7953"
             ],
             [
              0.7777777777777778,
              "#fb9f3a"
             ],
             [
              0.8888888888888888,
              "#fdca26"
             ],
             [
              1,
              "#f0f921"
             ]
            ],
            "type": "surface"
           }
          ],
          "table": [
           {
            "cells": {
             "fill": {
              "color": "#EBF0F8"
             },
             "line": {
              "color": "white"
             }
            },
            "header": {
             "fill": {
              "color": "#C8D4E3"
             },
             "line": {
              "color": "white"
             }
            },
            "type": "table"
           }
          ]
         },
         "layout": {
          "annotationdefaults": {
           "arrowcolor": "#2a3f5f",
           "arrowhead": 0,
           "arrowwidth": 1
          },
          "autotypenumbers": "strict",
          "coloraxis": {
           "colorbar": {
            "outlinewidth": 0,
            "ticks": ""
           }
          },
          "colorscale": {
           "diverging": [
            [
             0,
             "#8e0152"
            ],
            [
             0.1,
             "#c51b7d"
            ],
            [
             0.2,
             "#de77ae"
            ],
            [
             0.3,
             "#f1b6da"
            ],
            [
             0.4,
             "#fde0ef"
            ],
            [
             0.5,
             "#f7f7f7"
            ],
            [
             0.6,
             "#e6f5d0"
            ],
            [
             0.7,
             "#b8e186"
            ],
            [
             0.8,
             "#7fbc41"
            ],
            [
             0.9,
             "#4d9221"
            ],
            [
             1,
             "#276419"
            ]
           ],
           "sequential": [
            [
             0,
             "#0d0887"
            ],
            [
             0.1111111111111111,
             "#46039f"
            ],
            [
             0.2222222222222222,
             "#7201a8"
            ],
            [
             0.3333333333333333,
             "#9c179e"
            ],
            [
             0.4444444444444444,
             "#bd3786"
            ],
            [
             0.5555555555555556,
             "#d8576b"
            ],
            [
             0.6666666666666666,
             "#ed7953"
            ],
            [
             0.7777777777777778,
             "#fb9f3a"
            ],
            [
             0.8888888888888888,
             "#fdca26"
            ],
            [
             1,
             "#f0f921"
            ]
           ],
           "sequentialminus": [
            [
             0,
             "#0d0887"
            ],
            [
             0.1111111111111111,
             "#46039f"
            ],
            [
             0.2222222222222222,
             "#7201a8"
            ],
            [
             0.3333333333333333,
             "#9c179e"
            ],
            [
             0.4444444444444444,
             "#bd3786"
            ],
            [
             0.5555555555555556,
             "#d8576b"
            ],
            [
             0.6666666666666666,
             "#ed7953"
            ],
            [
             0.7777777777777778,
             "#fb9f3a"
            ],
            [
             0.8888888888888888,
             "#fdca26"
            ],
            [
             1,
             "#f0f921"
            ]
           ]
          },
          "colorway": [
           "#636efa",
           "#EF553B",
           "#00cc96",
           "#ab63fa",
           "#FFA15A",
           "#19d3f3",
           "#FF6692",
           "#B6E880",
           "#FF97FF",
           "#FECB52"
          ],
          "font": {
           "color": "#2a3f5f"
          },
          "geo": {
           "bgcolor": "white",
           "lakecolor": "white",
           "landcolor": "#E5ECF6",
           "showlakes": true,
           "showland": true,
           "subunitcolor": "white"
          },
          "hoverlabel": {
           "align": "left"
          },
          "hovermode": "closest",
          "mapbox": {
           "style": "light"
          },
          "paper_bgcolor": "white",
          "plot_bgcolor": "#E5ECF6",
          "polar": {
           "angularaxis": {
            "gridcolor": "white",
            "linecolor": "white",
            "ticks": ""
           },
           "bgcolor": "#E5ECF6",
           "radialaxis": {
            "gridcolor": "white",
            "linecolor": "white",
            "ticks": ""
           }
          },
          "scene": {
           "xaxis": {
            "backgroundcolor": "#E5ECF6",
            "gridcolor": "white",
            "gridwidth": 2,
            "linecolor": "white",
            "showbackground": true,
            "ticks": "",
            "zerolinecolor": "white"
           },
           "yaxis": {
            "backgroundcolor": "#E5ECF6",
            "gridcolor": "white",
            "gridwidth": 2,
            "linecolor": "white",
            "showbackground": true,
            "ticks": "",
            "zerolinecolor": "white"
           },
           "zaxis": {
            "backgroundcolor": "#E5ECF6",
            "gridcolor": "white",
            "gridwidth": 2,
            "linecolor": "white",
            "showbackground": true,
            "ticks": "",
            "zerolinecolor": "white"
           }
          },
          "shapedefaults": {
           "line": {
            "color": "#2a3f5f"
           }
          },
          "ternary": {
           "aaxis": {
            "gridcolor": "white",
            "linecolor": "white",
            "ticks": ""
           },
           "baxis": {
            "gridcolor": "white",
            "linecolor": "white",
            "ticks": ""
           },
           "bgcolor": "#E5ECF6",
           "caxis": {
            "gridcolor": "white",
            "linecolor": "white",
            "ticks": ""
           }
          },
          "title": {
           "x": 0.05
          },
          "xaxis": {
           "automargin": true,
           "gridcolor": "white",
           "linecolor": "white",
           "ticks": "",
           "title": {
            "standoff": 15
           },
           "zerolinecolor": "white",
           "zerolinewidth": 2
          },
          "yaxis": {
           "automargin": true,
           "gridcolor": "white",
           "linecolor": "white",
           "ticks": "",
           "title": {
            "standoff": 15
           },
           "zerolinecolor": "white",
           "zerolinewidth": 2
          }
         }
        },
        "title": {
         "font": {
          "color": "#4D5663"
         }
        },
        "xaxis": {
         "gridcolor": "#E1E5ED",
         "showgrid": true,
         "tickfont": {
          "color": "#4D5663"
         },
         "title": {
          "font": {
           "color": "#4D5663"
          },
          "text": ""
         },
         "zerolinecolor": "#E1E5ED"
        },
        "yaxis": {
         "gridcolor": "#E1E5ED",
         "showgrid": true,
         "tickfont": {
          "color": "#4D5663"
         },
         "title": {
          "font": {
           "color": "#4D5663"
          },
          "text": ""
         },
         "zerolinecolor": "#E1E5ED"
        }
       }
      },
      "text/html": [
       "<div>                            <div id=\"6fab1087-5592-4214-aa0c-1b87be7d6f07\" class=\"plotly-graph-div\" style=\"height:525px; width:100%;\"></div>            <script type=\"text/javascript\">                require([\"plotly\"], function(Plotly) {                    window.PLOTLYENV=window.PLOTLYENV || {};\n",
       "                    window.PLOTLYENV.BASE_URL='https://plot.ly';                                    if (document.getElementById(\"6fab1087-5592-4214-aa0c-1b87be7d6f07\")) {                    Plotly.newPlot(                        \"6fab1087-5592-4214-aa0c-1b87be7d6f07\",                        [{\"line\":{\"color\":\"rgba(255, 153, 51, 1.0)\",\"dash\":\"solid\",\"shape\":\"linear\",\"width\":1.3},\"marker\":{\"size\":20,\"symbol\":\"circle\"},\"mode\":\"markers\",\"name\":\"B\",\"text\":\"\",\"x\":[-1.2821232259307913,-0.39999089040185204,0.18603955462223581,1.9454784431368184,-0.5976460193168096,-1.1357869422281528,0.5011941647418091,-0.3165890810433005,-0.49026251352794514,-0.3070155142823813,-0.00928407711693977,0.40742108364021007,-0.8059220890051619,-1.6150012335022794,0.2831274750204807,-0.8071318749394667,1.2578496478325498,0.5546354700979511,-0.8058535128503591,-1.325128537682219,-0.6293771302746785,-0.18505519612184348,1.161217988148961,-0.9940280665073525,-1.0517075260495918,-0.021950386799966522,1.7059306402459018,-0.5431574852715914,-1.6652518510749255,-0.2293687085613229,-0.9330038160520542,-0.40135606395472045,-0.5904818764111005,0.1561604164203169,0.05909328601089837,-0.27648155744488384,1.5426214018051496,2.00748019586431,-0.23004698398830756,-0.9034603928397359,-0.8432824015442412,0.5985161962702256,0.2064791649332286,-1.5981203262502197,-0.691193621887644,1.2648788373359174,-0.9812428188552841,0.29077257292937864,-0.3860304784116714,0.7348736205455061,-0.30194463093884955,-1.1804849866851235,1.8555927233230805,0.3206204405021417,-0.3484647029488913,0.17804035824914086,-0.005932309547459654,-1.09324321057662,1.0537325994802822,-0.11131747857058517,1.5510248050539293,0.0641092321739744,0.011983916018163067,0.07671899326363087,-1.6383015593850865,-0.8930202201725317,2.177001154926578,0.10032475555698285,0.19801577044420687,-0.8143086148611789,2.5765300667706303,1.1424955734563713,-1.1782421287147495,0.36719261575559925,1.913126328532216,0.5316725673593986,1.0609389309814266,-0.2580418540315302,-1.1096209702275894,-0.16525766112282678,-0.6350618813045671,-0.6680136886957433,2.2019863428116317,-0.6545846207600245,-0.9819257347533642,0.7686352817125546,-0.28770493344401477,0.5918740917074815,0.5183444223241045,-1.7520524718812602,1.3980636906330712,-1.1245314917361031,0.022139236012942463,0.7592364488219824,0.42600620243372245,-1.5866222361761575,0.9371724506934582,-0.9137856349047465,1.6410233938129204,-0.16725096651345864],\"y\":[-2.467489679081685,-0.9109994341608991,-0.9775439597470429,-0.8050359803816095,0.3880837334389582,0.7226047001728041,2.12261391775626,-1.585119821691273,-1.4789391663694118,1.4130010878680048,0.5171336797321604,0.8200803187753855,-0.1651247430133621,-0.020378991429335632,1.7248920409679187,-1.0379234752961863,1.0288558054083492,-0.4209039800868332,0.9359771990048374,0.5283817923005579,-0.704072800755225,0.33848644671342304,1.1773768477836346,-0.45103721768800803,0.13224782035424706,0.7204598068251858,-0.9342447733723493,-1.5204779496076484,1.0181798372524824,2.0464668998426223,0.6454665423594669,-0.5056759016895037,0.6527386290509671,-0.5547342801162942,0.3788700033858548,-0.3676073288176218,0.5656698820540743,1.580633720103138,-0.12711454975637088,-0.3505517026278936,-0.7660622716697431,1.523972798077345,0.8877692878051118,-0.10704995915426571,1.629723149498767,-0.15762680777432658,-1.2668726445596794,0.20016928924696611,0.699254128347382,-0.03689603754636403,0.30371287844000294,0.28611928397815256,2.0585330014523042,1.0140945140540905,-0.8297552712905361,0.09013592833499368,0.3984442817811917,-0.4571516491840917,-0.44287898704643447,-1.0569149385856347,0.04807235507245364,-0.34419688596532827,0.10004621268753495,0.08731147708013766,1.0876804228688925,1.3099639910003447,0.7539412010773562,0.11957250636430646,2.3106977365467682,2.519930816359611,0.08534530825215789,-0.9825625396071127,-0.39525470620522996,-3.1375179773086317,0.6132469463474309,-0.16942740949205784,0.09266214650465411,-1.0902353511589595,0.8250519676663988,-0.13858028835181693,-0.28940274670430133,-0.002690390203971974,0.046357330322069706,0.85344253401098,0.5158074327785028,-1.0161437917023335,0.4572488313164856,-0.10617864673067459,-0.5613388514490533,0.3160584742132285,-0.8654585149192117,0.5512673818002701,-0.048270305086464724,0.7690216936257351,0.8258710118208544,-0.16396989659898215,-0.7355413370519562,-0.163054476714875,-1.1757281031956057,0.7343984686472602],\"type\":\"scatter\"}],                        {\"legend\":{\"bgcolor\":\"#F5F6F9\",\"font\":{\"color\":\"#4D5663\"}},\"paper_bgcolor\":\"#F5F6F9\",\"plot_bgcolor\":\"#F5F6F9\",\"template\":{\"data\":{\"barpolar\":[{\"marker\":{\"line\":{\"color\":\"#E5ECF6\",\"width\":0.5},\"pattern\":{\"fillmode\":\"overlay\",\"size\":10,\"solidity\":0.2}},\"type\":\"barpolar\"}],\"bar\":[{\"error_x\":{\"color\":\"#2a3f5f\"},\"error_y\":{\"color\":\"#2a3f5f\"},\"marker\":{\"line\":{\"color\":\"#E5ECF6\",\"width\":0.5},\"pattern\":{\"fillmode\":\"overlay\",\"size\":10,\"solidity\":0.2}},\"type\":\"bar\"}],\"carpet\":[{\"aaxis\":{\"endlinecolor\":\"#2a3f5f\",\"gridcolor\":\"white\",\"linecolor\":\"white\",\"minorgridcolor\":\"white\",\"startlinecolor\":\"#2a3f5f\"},\"baxis\":{\"endlinecolor\":\"#2a3f5f\",\"gridcolor\":\"white\",\"linecolor\":\"white\",\"minorgridcolor\":\"white\",\"startlinecolor\":\"#2a3f5f\"},\"type\":\"carpet\"}],\"choropleth\":[{\"colorbar\":{\"outlinewidth\":0,\"ticks\":\"\"},\"type\":\"choropleth\"}],\"contourcarpet\":[{\"colorbar\":{\"outlinewidth\":0,\"ticks\":\"\"},\"type\":\"contourcarpet\"}],\"contour\":[{\"colorbar\":{\"outlinewidth\":0,\"ticks\":\"\"},\"colorscale\":[[0.0,\"#0d0887\"],[0.1111111111111111,\"#46039f\"],[0.2222222222222222,\"#7201a8\"],[0.3333333333333333,\"#9c179e\"],[0.4444444444444444,\"#bd3786\"],[0.5555555555555556,\"#d8576b\"],[0.6666666666666666,\"#ed7953\"],[0.7777777777777778,\"#fb9f3a\"],[0.8888888888888888,\"#fdca26\"],[1.0,\"#f0f921\"]],\"type\":\"contour\"}],\"heatmapgl\":[{\"colorbar\":{\"outlinewidth\":0,\"ticks\":\"\"},\"colorscale\":[[0.0,\"#0d0887\"],[0.1111111111111111,\"#46039f\"],[0.2222222222222222,\"#7201a8\"],[0.3333333333333333,\"#9c179e\"],[0.4444444444444444,\"#bd3786\"],[0.5555555555555556,\"#d8576b\"],[0.6666666666666666,\"#ed7953\"],[0.7777777777777778,\"#fb9f3a\"],[0.8888888888888888,\"#fdca26\"],[1.0,\"#f0f921\"]],\"type\":\"heatmapgl\"}],\"heatmap\":[{\"colorbar\":{\"outlinewidth\":0,\"ticks\":\"\"},\"colorscale\":[[0.0,\"#0d0887\"],[0.1111111111111111,\"#46039f\"],[0.2222222222222222,\"#7201a8\"],[0.3333333333333333,\"#9c179e\"],[0.4444444444444444,\"#bd3786\"],[0.5555555555555556,\"#d8576b\"],[0.6666666666666666,\"#ed7953\"],[0.7777777777777778,\"#fb9f3a\"],[0.8888888888888888,\"#fdca26\"],[1.0,\"#f0f921\"]],\"type\":\"heatmap\"}],\"histogram2dcontour\":[{\"colorbar\":{\"outlinewidth\":0,\"ticks\":\"\"},\"colorscale\":[[0.0,\"#0d0887\"],[0.1111111111111111,\"#46039f\"],[0.2222222222222222,\"#7201a8\"],[0.3333333333333333,\"#9c179e\"],[0.4444444444444444,\"#bd3786\"],[0.5555555555555556,\"#d8576b\"],[0.6666666666666666,\"#ed7953\"],[0.7777777777777778,\"#fb9f3a\"],[0.8888888888888888,\"#fdca26\"],[1.0,\"#f0f921\"]],\"type\":\"histogram2dcontour\"}],\"histogram2d\":[{\"colorbar\":{\"outlinewidth\":0,\"ticks\":\"\"},\"colorscale\":[[0.0,\"#0d0887\"],[0.1111111111111111,\"#46039f\"],[0.2222222222222222,\"#7201a8\"],[0.3333333333333333,\"#9c179e\"],[0.4444444444444444,\"#bd3786\"],[0.5555555555555556,\"#d8576b\"],[0.6666666666666666,\"#ed7953\"],[0.7777777777777778,\"#fb9f3a\"],[0.8888888888888888,\"#fdca26\"],[1.0,\"#f0f921\"]],\"type\":\"histogram2d\"}],\"histogram\":[{\"marker\":{\"pattern\":{\"fillmode\":\"overlay\",\"size\":10,\"solidity\":0.2}},\"type\":\"histogram\"}],\"mesh3d\":[{\"colorbar\":{\"outlinewidth\":0,\"ticks\":\"\"},\"type\":\"mesh3d\"}],\"parcoords\":[{\"line\":{\"colorbar\":{\"outlinewidth\":0,\"ticks\":\"\"}},\"type\":\"parcoords\"}],\"pie\":[{\"automargin\":true,\"type\":\"pie\"}],\"scatter3d\":[{\"line\":{\"colorbar\":{\"outlinewidth\":0,\"ticks\":\"\"}},\"marker\":{\"colorbar\":{\"outlinewidth\":0,\"ticks\":\"\"}},\"type\":\"scatter3d\"}],\"scattercarpet\":[{\"marker\":{\"colorbar\":{\"outlinewidth\":0,\"ticks\":\"\"}},\"type\":\"scattercarpet\"}],\"scattergeo\":[{\"marker\":{\"colorbar\":{\"outlinewidth\":0,\"ticks\":\"\"}},\"type\":\"scattergeo\"}],\"scattergl\":[{\"marker\":{\"colorbar\":{\"outlinewidth\":0,\"ticks\":\"\"}},\"type\":\"scattergl\"}],\"scattermapbox\":[{\"marker\":{\"colorbar\":{\"outlinewidth\":0,\"ticks\":\"\"}},\"type\":\"scattermapbox\"}],\"scatterpolargl\":[{\"marker\":{\"colorbar\":{\"outlinewidth\":0,\"ticks\":\"\"}},\"type\":\"scatterpolargl\"}],\"scatterpolar\":[{\"marker\":{\"colorbar\":{\"outlinewidth\":0,\"ticks\":\"\"}},\"type\":\"scatterpolar\"}],\"scatter\":[{\"fillpattern\":{\"fillmode\":\"overlay\",\"size\":10,\"solidity\":0.2},\"type\":\"scatter\"}],\"scatterternary\":[{\"marker\":{\"colorbar\":{\"outlinewidth\":0,\"ticks\":\"\"}},\"type\":\"scatterternary\"}],\"surface\":[{\"colorbar\":{\"outlinewidth\":0,\"ticks\":\"\"},\"colorscale\":[[0.0,\"#0d0887\"],[0.1111111111111111,\"#46039f\"],[0.2222222222222222,\"#7201a8\"],[0.3333333333333333,\"#9c179e\"],[0.4444444444444444,\"#bd3786\"],[0.5555555555555556,\"#d8576b\"],[0.6666666666666666,\"#ed7953\"],[0.7777777777777778,\"#fb9f3a\"],[0.8888888888888888,\"#fdca26\"],[1.0,\"#f0f921\"]],\"type\":\"surface\"}],\"table\":[{\"cells\":{\"fill\":{\"color\":\"#EBF0F8\"},\"line\":{\"color\":\"white\"}},\"header\":{\"fill\":{\"color\":\"#C8D4E3\"},\"line\":{\"color\":\"white\"}},\"type\":\"table\"}]},\"layout\":{\"annotationdefaults\":{\"arrowcolor\":\"#2a3f5f\",\"arrowhead\":0,\"arrowwidth\":1},\"autotypenumbers\":\"strict\",\"coloraxis\":{\"colorbar\":{\"outlinewidth\":0,\"ticks\":\"\"}},\"colorscale\":{\"diverging\":[[0,\"#8e0152\"],[0.1,\"#c51b7d\"],[0.2,\"#de77ae\"],[0.3,\"#f1b6da\"],[0.4,\"#fde0ef\"],[0.5,\"#f7f7f7\"],[0.6,\"#e6f5d0\"],[0.7,\"#b8e186\"],[0.8,\"#7fbc41\"],[0.9,\"#4d9221\"],[1,\"#276419\"]],\"sequential\":[[0.0,\"#0d0887\"],[0.1111111111111111,\"#46039f\"],[0.2222222222222222,\"#7201a8\"],[0.3333333333333333,\"#9c179e\"],[0.4444444444444444,\"#bd3786\"],[0.5555555555555556,\"#d8576b\"],[0.6666666666666666,\"#ed7953\"],[0.7777777777777778,\"#fb9f3a\"],[0.8888888888888888,\"#fdca26\"],[1.0,\"#f0f921\"]],\"sequentialminus\":[[0.0,\"#0d0887\"],[0.1111111111111111,\"#46039f\"],[0.2222222222222222,\"#7201a8\"],[0.3333333333333333,\"#9c179e\"],[0.4444444444444444,\"#bd3786\"],[0.5555555555555556,\"#d8576b\"],[0.6666666666666666,\"#ed7953\"],[0.7777777777777778,\"#fb9f3a\"],[0.8888888888888888,\"#fdca26\"],[1.0,\"#f0f921\"]]},\"colorway\":[\"#636efa\",\"#EF553B\",\"#00cc96\",\"#ab63fa\",\"#FFA15A\",\"#19d3f3\",\"#FF6692\",\"#B6E880\",\"#FF97FF\",\"#FECB52\"],\"font\":{\"color\":\"#2a3f5f\"},\"geo\":{\"bgcolor\":\"white\",\"lakecolor\":\"white\",\"landcolor\":\"#E5ECF6\",\"showlakes\":true,\"showland\":true,\"subunitcolor\":\"white\"},\"hoverlabel\":{\"align\":\"left\"},\"hovermode\":\"closest\",\"mapbox\":{\"style\":\"light\"},\"paper_bgcolor\":\"white\",\"plot_bgcolor\":\"#E5ECF6\",\"polar\":{\"angularaxis\":{\"gridcolor\":\"white\",\"linecolor\":\"white\",\"ticks\":\"\"},\"bgcolor\":\"#E5ECF6\",\"radialaxis\":{\"gridcolor\":\"white\",\"linecolor\":\"white\",\"ticks\":\"\"}},\"scene\":{\"xaxis\":{\"backgroundcolor\":\"#E5ECF6\",\"gridcolor\":\"white\",\"gridwidth\":2,\"linecolor\":\"white\",\"showbackground\":true,\"ticks\":\"\",\"zerolinecolor\":\"white\"},\"yaxis\":{\"backgroundcolor\":\"#E5ECF6\",\"gridcolor\":\"white\",\"gridwidth\":2,\"linecolor\":\"white\",\"showbackground\":true,\"ticks\":\"\",\"zerolinecolor\":\"white\"},\"zaxis\":{\"backgroundcolor\":\"#E5ECF6\",\"gridcolor\":\"white\",\"gridwidth\":2,\"linecolor\":\"white\",\"showbackground\":true,\"ticks\":\"\",\"zerolinecolor\":\"white\"}},\"shapedefaults\":{\"line\":{\"color\":\"#2a3f5f\"}},\"ternary\":{\"aaxis\":{\"gridcolor\":\"white\",\"linecolor\":\"white\",\"ticks\":\"\"},\"baxis\":{\"gridcolor\":\"white\",\"linecolor\":\"white\",\"ticks\":\"\"},\"bgcolor\":\"#E5ECF6\",\"caxis\":{\"gridcolor\":\"white\",\"linecolor\":\"white\",\"ticks\":\"\"}},\"title\":{\"x\":0.05},\"xaxis\":{\"automargin\":true,\"gridcolor\":\"white\",\"linecolor\":\"white\",\"ticks\":\"\",\"title\":{\"standoff\":15},\"zerolinecolor\":\"white\",\"zerolinewidth\":2},\"yaxis\":{\"automargin\":true,\"gridcolor\":\"white\",\"linecolor\":\"white\",\"ticks\":\"\",\"title\":{\"standoff\":15},\"zerolinecolor\":\"white\",\"zerolinewidth\":2}}},\"title\":{\"font\":{\"color\":\"#4D5663\"}},\"xaxis\":{\"gridcolor\":\"#E1E5ED\",\"showgrid\":true,\"tickfont\":{\"color\":\"#4D5663\"},\"title\":{\"font\":{\"color\":\"#4D5663\"},\"text\":\"\"},\"zerolinecolor\":\"#E1E5ED\"},\"yaxis\":{\"gridcolor\":\"#E1E5ED\",\"showgrid\":true,\"tickfont\":{\"color\":\"#4D5663\"},\"title\":{\"font\":{\"color\":\"#4D5663\"},\"text\":\"\"},\"zerolinecolor\":\"#E1E5ED\"}},                        {\"showLink\": true, \"linkText\": \"Export to plot.ly\", \"plotlyServerURL\": \"https://plot.ly\", \"responsive\": true}                    ).then(function(){\n",
       "                            \n",
       "var gd = document.getElementById('6fab1087-5592-4214-aa0c-1b87be7d6f07');\n",
       "var x = new MutationObserver(function (mutations, observer) {{\n",
       "        var display = window.getComputedStyle(gd).display;\n",
       "        if (!display || display === 'none') {{\n",
       "            console.log([gd, 'removed!']);\n",
       "            Plotly.purge(gd);\n",
       "            observer.disconnect();\n",
       "        }}\n",
       "}});\n",
       "\n",
       "// Listen for the removal of the full notebook cells\n",
       "var notebookContainer = gd.closest('#notebook-container');\n",
       "if (notebookContainer) {{\n",
       "    x.observe(notebookContainer, {childList: true});\n",
       "}}\n",
       "\n",
       "// Listen for the clearing of the current output cell\n",
       "var outputEl = gd.closest('.output');\n",
       "if (outputEl) {{\n",
       "    x.observe(outputEl, {childList: true});\n",
       "}}\n",
       "\n",
       "                        })                };                });            </script>        </div>"
      ]
     },
     "metadata": {},
     "output_type": "display_data"
    }
   ],
   "source": [
    "df.iplot(kind ='scatter', x='A', y='B', mode='markers', size=20)"
   ]
  },
  {
   "cell_type": "code",
   "execution_count": 16,
   "id": "a8f8b37d",
   "metadata": {},
   "outputs": [
    {
     "data": {
      "application/vnd.plotly.v1+json": {
       "config": {
        "linkText": "Export to plot.ly",
        "plotlyServerURL": "https://plot.ly",
        "showLink": true
       },
       "data": [
        {
         "marker": {
          "color": "rgba(255, 153, 51, 0.6)",
          "line": {
           "color": "rgba(255, 153, 51, 1.0)",
           "width": 1
          }
         },
         "name": "Values",
         "orientation": "v",
         "text": "",
         "type": "bar",
         "x": [
          "A",
          "B",
          "C"
         ],
         "y": [
          32,
          45,
          50
         ]
        }
       ],
       "layout": {
        "legend": {
         "bgcolor": "#F5F6F9",
         "font": {
          "color": "#4D5663"
         }
        },
        "paper_bgcolor": "#F5F6F9",
        "plot_bgcolor": "#F5F6F9",
        "template": {
         "data": {
          "bar": [
           {
            "error_x": {
             "color": "#2a3f5f"
            },
            "error_y": {
             "color": "#2a3f5f"
            },
            "marker": {
             "line": {
              "color": "#E5ECF6",
              "width": 0.5
             },
             "pattern": {
              "fillmode": "overlay",
              "size": 10,
              "solidity": 0.2
             }
            },
            "type": "bar"
           }
          ],
          "barpolar": [
           {
            "marker": {
             "line": {
              "color": "#E5ECF6",
              "width": 0.5
             },
             "pattern": {
              "fillmode": "overlay",
              "size": 10,
              "solidity": 0.2
             }
            },
            "type": "barpolar"
           }
          ],
          "carpet": [
           {
            "aaxis": {
             "endlinecolor": "#2a3f5f",
             "gridcolor": "white",
             "linecolor": "white",
             "minorgridcolor": "white",
             "startlinecolor": "#2a3f5f"
            },
            "baxis": {
             "endlinecolor": "#2a3f5f",
             "gridcolor": "white",
             "linecolor": "white",
             "minorgridcolor": "white",
             "startlinecolor": "#2a3f5f"
            },
            "type": "carpet"
           }
          ],
          "choropleth": [
           {
            "colorbar": {
             "outlinewidth": 0,
             "ticks": ""
            },
            "type": "choropleth"
           }
          ],
          "contour": [
           {
            "colorbar": {
             "outlinewidth": 0,
             "ticks": ""
            },
            "colorscale": [
             [
              0,
              "#0d0887"
             ],
             [
              0.1111111111111111,
              "#46039f"
             ],
             [
              0.2222222222222222,
              "#7201a8"
             ],
             [
              0.3333333333333333,
              "#9c179e"
             ],
             [
              0.4444444444444444,
              "#bd3786"
             ],
             [
              0.5555555555555556,
              "#d8576b"
             ],
             [
              0.6666666666666666,
              "#ed7953"
             ],
             [
              0.7777777777777778,
              "#fb9f3a"
             ],
             [
              0.8888888888888888,
              "#fdca26"
             ],
             [
              1,
              "#f0f921"
             ]
            ],
            "type": "contour"
           }
          ],
          "contourcarpet": [
           {
            "colorbar": {
             "outlinewidth": 0,
             "ticks": ""
            },
            "type": "contourcarpet"
           }
          ],
          "heatmap": [
           {
            "colorbar": {
             "outlinewidth": 0,
             "ticks": ""
            },
            "colorscale": [
             [
              0,
              "#0d0887"
             ],
             [
              0.1111111111111111,
              "#46039f"
             ],
             [
              0.2222222222222222,
              "#7201a8"
             ],
             [
              0.3333333333333333,
              "#9c179e"
             ],
             [
              0.4444444444444444,
              "#bd3786"
             ],
             [
              0.5555555555555556,
              "#d8576b"
             ],
             [
              0.6666666666666666,
              "#ed7953"
             ],
             [
              0.7777777777777778,
              "#fb9f3a"
             ],
             [
              0.8888888888888888,
              "#fdca26"
             ],
             [
              1,
              "#f0f921"
             ]
            ],
            "type": "heatmap"
           }
          ],
          "heatmapgl": [
           {
            "colorbar": {
             "outlinewidth": 0,
             "ticks": ""
            },
            "colorscale": [
             [
              0,
              "#0d0887"
             ],
             [
              0.1111111111111111,
              "#46039f"
             ],
             [
              0.2222222222222222,
              "#7201a8"
             ],
             [
              0.3333333333333333,
              "#9c179e"
             ],
             [
              0.4444444444444444,
              "#bd3786"
             ],
             [
              0.5555555555555556,
              "#d8576b"
             ],
             [
              0.6666666666666666,
              "#ed7953"
             ],
             [
              0.7777777777777778,
              "#fb9f3a"
             ],
             [
              0.8888888888888888,
              "#fdca26"
             ],
             [
              1,
              "#f0f921"
             ]
            ],
            "type": "heatmapgl"
           }
          ],
          "histogram": [
           {
            "marker": {
             "pattern": {
              "fillmode": "overlay",
              "size": 10,
              "solidity": 0.2
             }
            },
            "type": "histogram"
           }
          ],
          "histogram2d": [
           {
            "colorbar": {
             "outlinewidth": 0,
             "ticks": ""
            },
            "colorscale": [
             [
              0,
              "#0d0887"
             ],
             [
              0.1111111111111111,
              "#46039f"
             ],
             [
              0.2222222222222222,
              "#7201a8"
             ],
             [
              0.3333333333333333,
              "#9c179e"
             ],
             [
              0.4444444444444444,
              "#bd3786"
             ],
             [
              0.5555555555555556,
              "#d8576b"
             ],
             [
              0.6666666666666666,
              "#ed7953"
             ],
             [
              0.7777777777777778,
              "#fb9f3a"
             ],
             [
              0.8888888888888888,
              "#fdca26"
             ],
             [
              1,
              "#f0f921"
             ]
            ],
            "type": "histogram2d"
           }
          ],
          "histogram2dcontour": [
           {
            "colorbar": {
             "outlinewidth": 0,
             "ticks": ""
            },
            "colorscale": [
             [
              0,
              "#0d0887"
             ],
             [
              0.1111111111111111,
              "#46039f"
             ],
             [
              0.2222222222222222,
              "#7201a8"
             ],
             [
              0.3333333333333333,
              "#9c179e"
             ],
             [
              0.4444444444444444,
              "#bd3786"
             ],
             [
              0.5555555555555556,
              "#d8576b"
             ],
             [
              0.6666666666666666,
              "#ed7953"
             ],
             [
              0.7777777777777778,
              "#fb9f3a"
             ],
             [
              0.8888888888888888,
              "#fdca26"
             ],
             [
              1,
              "#f0f921"
             ]
            ],
            "type": "histogram2dcontour"
           }
          ],
          "mesh3d": [
           {
            "colorbar": {
             "outlinewidth": 0,
             "ticks": ""
            },
            "type": "mesh3d"
           }
          ],
          "parcoords": [
           {
            "line": {
             "colorbar": {
              "outlinewidth": 0,
              "ticks": ""
             }
            },
            "type": "parcoords"
           }
          ],
          "pie": [
           {
            "automargin": true,
            "type": "pie"
           }
          ],
          "scatter": [
           {
            "fillpattern": {
             "fillmode": "overlay",
             "size": 10,
             "solidity": 0.2
            },
            "type": "scatter"
           }
          ],
          "scatter3d": [
           {
            "line": {
             "colorbar": {
              "outlinewidth": 0,
              "ticks": ""
             }
            },
            "marker": {
             "colorbar": {
              "outlinewidth": 0,
              "ticks": ""
             }
            },
            "type": "scatter3d"
           }
          ],
          "scattercarpet": [
           {
            "marker": {
             "colorbar": {
              "outlinewidth": 0,
              "ticks": ""
             }
            },
            "type": "scattercarpet"
           }
          ],
          "scattergeo": [
           {
            "marker": {
             "colorbar": {
              "outlinewidth": 0,
              "ticks": ""
             }
            },
            "type": "scattergeo"
           }
          ],
          "scattergl": [
           {
            "marker": {
             "colorbar": {
              "outlinewidth": 0,
              "ticks": ""
             }
            },
            "type": "scattergl"
           }
          ],
          "scattermapbox": [
           {
            "marker": {
             "colorbar": {
              "outlinewidth": 0,
              "ticks": ""
             }
            },
            "type": "scattermapbox"
           }
          ],
          "scatterpolar": [
           {
            "marker": {
             "colorbar": {
              "outlinewidth": 0,
              "ticks": ""
             }
            },
            "type": "scatterpolar"
           }
          ],
          "scatterpolargl": [
           {
            "marker": {
             "colorbar": {
              "outlinewidth": 0,
              "ticks": ""
             }
            },
            "type": "scatterpolargl"
           }
          ],
          "scatterternary": [
           {
            "marker": {
             "colorbar": {
              "outlinewidth": 0,
              "ticks": ""
             }
            },
            "type": "scatterternary"
           }
          ],
          "surface": [
           {
            "colorbar": {
             "outlinewidth": 0,
             "ticks": ""
            },
            "colorscale": [
             [
              0,
              "#0d0887"
             ],
             [
              0.1111111111111111,
              "#46039f"
             ],
             [
              0.2222222222222222,
              "#7201a8"
             ],
             [
              0.3333333333333333,
              "#9c179e"
             ],
             [
              0.4444444444444444,
              "#bd3786"
             ],
             [
              0.5555555555555556,
              "#d8576b"
             ],
             [
              0.6666666666666666,
              "#ed7953"
             ],
             [
              0.7777777777777778,
              "#fb9f3a"
             ],
             [
              0.8888888888888888,
              "#fdca26"
             ],
             [
              1,
              "#f0f921"
             ]
            ],
            "type": "surface"
           }
          ],
          "table": [
           {
            "cells": {
             "fill": {
              "color": "#EBF0F8"
             },
             "line": {
              "color": "white"
             }
            },
            "header": {
             "fill": {
              "color": "#C8D4E3"
             },
             "line": {
              "color": "white"
             }
            },
            "type": "table"
           }
          ]
         },
         "layout": {
          "annotationdefaults": {
           "arrowcolor": "#2a3f5f",
           "arrowhead": 0,
           "arrowwidth": 1
          },
          "autotypenumbers": "strict",
          "coloraxis": {
           "colorbar": {
            "outlinewidth": 0,
            "ticks": ""
           }
          },
          "colorscale": {
           "diverging": [
            [
             0,
             "#8e0152"
            ],
            [
             0.1,
             "#c51b7d"
            ],
            [
             0.2,
             "#de77ae"
            ],
            [
             0.3,
             "#f1b6da"
            ],
            [
             0.4,
             "#fde0ef"
            ],
            [
             0.5,
             "#f7f7f7"
            ],
            [
             0.6,
             "#e6f5d0"
            ],
            [
             0.7,
             "#b8e186"
            ],
            [
             0.8,
             "#7fbc41"
            ],
            [
             0.9,
             "#4d9221"
            ],
            [
             1,
             "#276419"
            ]
           ],
           "sequential": [
            [
             0,
             "#0d0887"
            ],
            [
             0.1111111111111111,
             "#46039f"
            ],
            [
             0.2222222222222222,
             "#7201a8"
            ],
            [
             0.3333333333333333,
             "#9c179e"
            ],
            [
             0.4444444444444444,
             "#bd3786"
            ],
            [
             0.5555555555555556,
             "#d8576b"
            ],
            [
             0.6666666666666666,
             "#ed7953"
            ],
            [
             0.7777777777777778,
             "#fb9f3a"
            ],
            [
             0.8888888888888888,
             "#fdca26"
            ],
            [
             1,
             "#f0f921"
            ]
           ],
           "sequentialminus": [
            [
             0,
             "#0d0887"
            ],
            [
             0.1111111111111111,
             "#46039f"
            ],
            [
             0.2222222222222222,
             "#7201a8"
            ],
            [
             0.3333333333333333,
             "#9c179e"
            ],
            [
             0.4444444444444444,
             "#bd3786"
            ],
            [
             0.5555555555555556,
             "#d8576b"
            ],
            [
             0.6666666666666666,
             "#ed7953"
            ],
            [
             0.7777777777777778,
             "#fb9f3a"
            ],
            [
             0.8888888888888888,
             "#fdca26"
            ],
            [
             1,
             "#f0f921"
            ]
           ]
          },
          "colorway": [
           "#636efa",
           "#EF553B",
           "#00cc96",
           "#ab63fa",
           "#FFA15A",
           "#19d3f3",
           "#FF6692",
           "#B6E880",
           "#FF97FF",
           "#FECB52"
          ],
          "font": {
           "color": "#2a3f5f"
          },
          "geo": {
           "bgcolor": "white",
           "lakecolor": "white",
           "landcolor": "#E5ECF6",
           "showlakes": true,
           "showland": true,
           "subunitcolor": "white"
          },
          "hoverlabel": {
           "align": "left"
          },
          "hovermode": "closest",
          "mapbox": {
           "style": "light"
          },
          "paper_bgcolor": "white",
          "plot_bgcolor": "#E5ECF6",
          "polar": {
           "angularaxis": {
            "gridcolor": "white",
            "linecolor": "white",
            "ticks": ""
           },
           "bgcolor": "#E5ECF6",
           "radialaxis": {
            "gridcolor": "white",
            "linecolor": "white",
            "ticks": ""
           }
          },
          "scene": {
           "xaxis": {
            "backgroundcolor": "#E5ECF6",
            "gridcolor": "white",
            "gridwidth": 2,
            "linecolor": "white",
            "showbackground": true,
            "ticks": "",
            "zerolinecolor": "white"
           },
           "yaxis": {
            "backgroundcolor": "#E5ECF6",
            "gridcolor": "white",
            "gridwidth": 2,
            "linecolor": "white",
            "showbackground": true,
            "ticks": "",
            "zerolinecolor": "white"
           },
           "zaxis": {
            "backgroundcolor": "#E5ECF6",
            "gridcolor": "white",
            "gridwidth": 2,
            "linecolor": "white",
            "showbackground": true,
            "ticks": "",
            "zerolinecolor": "white"
           }
          },
          "shapedefaults": {
           "line": {
            "color": "#2a3f5f"
           }
          },
          "ternary": {
           "aaxis": {
            "gridcolor": "white",
            "linecolor": "white",
            "ticks": ""
           },
           "baxis": {
            "gridcolor": "white",
            "linecolor": "white",
            "ticks": ""
           },
           "bgcolor": "#E5ECF6",
           "caxis": {
            "gridcolor": "white",
            "linecolor": "white",
            "ticks": ""
           }
          },
          "title": {
           "x": 0.05
          },
          "xaxis": {
           "automargin": true,
           "gridcolor": "white",
           "linecolor": "white",
           "ticks": "",
           "title": {
            "standoff": 15
           },
           "zerolinecolor": "white",
           "zerolinewidth": 2
          },
          "yaxis": {
           "automargin": true,
           "gridcolor": "white",
           "linecolor": "white",
           "ticks": "",
           "title": {
            "standoff": 15
           },
           "zerolinecolor": "white",
           "zerolinewidth": 2
          }
         }
        },
        "title": {
         "font": {
          "color": "#4D5663"
         }
        },
        "xaxis": {
         "gridcolor": "#E1E5ED",
         "showgrid": true,
         "tickfont": {
          "color": "#4D5663"
         },
         "title": {
          "font": {
           "color": "#4D5663"
          },
          "text": ""
         },
         "zerolinecolor": "#E1E5ED"
        },
        "yaxis": {
         "gridcolor": "#E1E5ED",
         "showgrid": true,
         "tickfont": {
          "color": "#4D5663"
         },
         "title": {
          "font": {
           "color": "#4D5663"
          },
          "text": ""
         },
         "zerolinecolor": "#E1E5ED"
        }
       }
      },
      "text/html": [
       "<div>                            <div id=\"3f40abc4-6a6e-44dd-937a-a500f191f21a\" class=\"plotly-graph-div\" style=\"height:525px; width:100%;\"></div>            <script type=\"text/javascript\">                require([\"plotly\"], function(Plotly) {                    window.PLOTLYENV=window.PLOTLYENV || {};\n",
       "                    window.PLOTLYENV.BASE_URL='https://plot.ly';                                    if (document.getElementById(\"3f40abc4-6a6e-44dd-937a-a500f191f21a\")) {                    Plotly.newPlot(                        \"3f40abc4-6a6e-44dd-937a-a500f191f21a\",                        [{\"marker\":{\"color\":\"rgba(255, 153, 51, 0.6)\",\"line\":{\"color\":\"rgba(255, 153, 51, 1.0)\",\"width\":1}},\"name\":\"Values\",\"orientation\":\"v\",\"text\":\"\",\"x\":[\"A\",\"B\",\"C\"],\"y\":[32,45,50],\"type\":\"bar\"}],                        {\"legend\":{\"bgcolor\":\"#F5F6F9\",\"font\":{\"color\":\"#4D5663\"}},\"paper_bgcolor\":\"#F5F6F9\",\"plot_bgcolor\":\"#F5F6F9\",\"template\":{\"data\":{\"barpolar\":[{\"marker\":{\"line\":{\"color\":\"#E5ECF6\",\"width\":0.5},\"pattern\":{\"fillmode\":\"overlay\",\"size\":10,\"solidity\":0.2}},\"type\":\"barpolar\"}],\"bar\":[{\"error_x\":{\"color\":\"#2a3f5f\"},\"error_y\":{\"color\":\"#2a3f5f\"},\"marker\":{\"line\":{\"color\":\"#E5ECF6\",\"width\":0.5},\"pattern\":{\"fillmode\":\"overlay\",\"size\":10,\"solidity\":0.2}},\"type\":\"bar\"}],\"carpet\":[{\"aaxis\":{\"endlinecolor\":\"#2a3f5f\",\"gridcolor\":\"white\",\"linecolor\":\"white\",\"minorgridcolor\":\"white\",\"startlinecolor\":\"#2a3f5f\"},\"baxis\":{\"endlinecolor\":\"#2a3f5f\",\"gridcolor\":\"white\",\"linecolor\":\"white\",\"minorgridcolor\":\"white\",\"startlinecolor\":\"#2a3f5f\"},\"type\":\"carpet\"}],\"choropleth\":[{\"colorbar\":{\"outlinewidth\":0,\"ticks\":\"\"},\"type\":\"choropleth\"}],\"contourcarpet\":[{\"colorbar\":{\"outlinewidth\":0,\"ticks\":\"\"},\"type\":\"contourcarpet\"}],\"contour\":[{\"colorbar\":{\"outlinewidth\":0,\"ticks\":\"\"},\"colorscale\":[[0.0,\"#0d0887\"],[0.1111111111111111,\"#46039f\"],[0.2222222222222222,\"#7201a8\"],[0.3333333333333333,\"#9c179e\"],[0.4444444444444444,\"#bd3786\"],[0.5555555555555556,\"#d8576b\"],[0.6666666666666666,\"#ed7953\"],[0.7777777777777778,\"#fb9f3a\"],[0.8888888888888888,\"#fdca26\"],[1.0,\"#f0f921\"]],\"type\":\"contour\"}],\"heatmapgl\":[{\"colorbar\":{\"outlinewidth\":0,\"ticks\":\"\"},\"colorscale\":[[0.0,\"#0d0887\"],[0.1111111111111111,\"#46039f\"],[0.2222222222222222,\"#7201a8\"],[0.3333333333333333,\"#9c179e\"],[0.4444444444444444,\"#bd3786\"],[0.5555555555555556,\"#d8576b\"],[0.6666666666666666,\"#ed7953\"],[0.7777777777777778,\"#fb9f3a\"],[0.8888888888888888,\"#fdca26\"],[1.0,\"#f0f921\"]],\"type\":\"heatmapgl\"}],\"heatmap\":[{\"colorbar\":{\"outlinewidth\":0,\"ticks\":\"\"},\"colorscale\":[[0.0,\"#0d0887\"],[0.1111111111111111,\"#46039f\"],[0.2222222222222222,\"#7201a8\"],[0.3333333333333333,\"#9c179e\"],[0.4444444444444444,\"#bd3786\"],[0.5555555555555556,\"#d8576b\"],[0.6666666666666666,\"#ed7953\"],[0.7777777777777778,\"#fb9f3a\"],[0.8888888888888888,\"#fdca26\"],[1.0,\"#f0f921\"]],\"type\":\"heatmap\"}],\"histogram2dcontour\":[{\"colorbar\":{\"outlinewidth\":0,\"ticks\":\"\"},\"colorscale\":[[0.0,\"#0d0887\"],[0.1111111111111111,\"#46039f\"],[0.2222222222222222,\"#7201a8\"],[0.3333333333333333,\"#9c179e\"],[0.4444444444444444,\"#bd3786\"],[0.5555555555555556,\"#d8576b\"],[0.6666666666666666,\"#ed7953\"],[0.7777777777777778,\"#fb9f3a\"],[0.8888888888888888,\"#fdca26\"],[1.0,\"#f0f921\"]],\"type\":\"histogram2dcontour\"}],\"histogram2d\":[{\"colorbar\":{\"outlinewidth\":0,\"ticks\":\"\"},\"colorscale\":[[0.0,\"#0d0887\"],[0.1111111111111111,\"#46039f\"],[0.2222222222222222,\"#7201a8\"],[0.3333333333333333,\"#9c179e\"],[0.4444444444444444,\"#bd3786\"],[0.5555555555555556,\"#d8576b\"],[0.6666666666666666,\"#ed7953\"],[0.7777777777777778,\"#fb9f3a\"],[0.8888888888888888,\"#fdca26\"],[1.0,\"#f0f921\"]],\"type\":\"histogram2d\"}],\"histogram\":[{\"marker\":{\"pattern\":{\"fillmode\":\"overlay\",\"size\":10,\"solidity\":0.2}},\"type\":\"histogram\"}],\"mesh3d\":[{\"colorbar\":{\"outlinewidth\":0,\"ticks\":\"\"},\"type\":\"mesh3d\"}],\"parcoords\":[{\"line\":{\"colorbar\":{\"outlinewidth\":0,\"ticks\":\"\"}},\"type\":\"parcoords\"}],\"pie\":[{\"automargin\":true,\"type\":\"pie\"}],\"scatter3d\":[{\"line\":{\"colorbar\":{\"outlinewidth\":0,\"ticks\":\"\"}},\"marker\":{\"colorbar\":{\"outlinewidth\":0,\"ticks\":\"\"}},\"type\":\"scatter3d\"}],\"scattercarpet\":[{\"marker\":{\"colorbar\":{\"outlinewidth\":0,\"ticks\":\"\"}},\"type\":\"scattercarpet\"}],\"scattergeo\":[{\"marker\":{\"colorbar\":{\"outlinewidth\":0,\"ticks\":\"\"}},\"type\":\"scattergeo\"}],\"scattergl\":[{\"marker\":{\"colorbar\":{\"outlinewidth\":0,\"ticks\":\"\"}},\"type\":\"scattergl\"}],\"scattermapbox\":[{\"marker\":{\"colorbar\":{\"outlinewidth\":0,\"ticks\":\"\"}},\"type\":\"scattermapbox\"}],\"scatterpolargl\":[{\"marker\":{\"colorbar\":{\"outlinewidth\":0,\"ticks\":\"\"}},\"type\":\"scatterpolargl\"}],\"scatterpolar\":[{\"marker\":{\"colorbar\":{\"outlinewidth\":0,\"ticks\":\"\"}},\"type\":\"scatterpolar\"}],\"scatter\":[{\"fillpattern\":{\"fillmode\":\"overlay\",\"size\":10,\"solidity\":0.2},\"type\":\"scatter\"}],\"scatterternary\":[{\"marker\":{\"colorbar\":{\"outlinewidth\":0,\"ticks\":\"\"}},\"type\":\"scatterternary\"}],\"surface\":[{\"colorbar\":{\"outlinewidth\":0,\"ticks\":\"\"},\"colorscale\":[[0.0,\"#0d0887\"],[0.1111111111111111,\"#46039f\"],[0.2222222222222222,\"#7201a8\"],[0.3333333333333333,\"#9c179e\"],[0.4444444444444444,\"#bd3786\"],[0.5555555555555556,\"#d8576b\"],[0.6666666666666666,\"#ed7953\"],[0.7777777777777778,\"#fb9f3a\"],[0.8888888888888888,\"#fdca26\"],[1.0,\"#f0f921\"]],\"type\":\"surface\"}],\"table\":[{\"cells\":{\"fill\":{\"color\":\"#EBF0F8\"},\"line\":{\"color\":\"white\"}},\"header\":{\"fill\":{\"color\":\"#C8D4E3\"},\"line\":{\"color\":\"white\"}},\"type\":\"table\"}]},\"layout\":{\"annotationdefaults\":{\"arrowcolor\":\"#2a3f5f\",\"arrowhead\":0,\"arrowwidth\":1},\"autotypenumbers\":\"strict\",\"coloraxis\":{\"colorbar\":{\"outlinewidth\":0,\"ticks\":\"\"}},\"colorscale\":{\"diverging\":[[0,\"#8e0152\"],[0.1,\"#c51b7d\"],[0.2,\"#de77ae\"],[0.3,\"#f1b6da\"],[0.4,\"#fde0ef\"],[0.5,\"#f7f7f7\"],[0.6,\"#e6f5d0\"],[0.7,\"#b8e186\"],[0.8,\"#7fbc41\"],[0.9,\"#4d9221\"],[1,\"#276419\"]],\"sequential\":[[0.0,\"#0d0887\"],[0.1111111111111111,\"#46039f\"],[0.2222222222222222,\"#7201a8\"],[0.3333333333333333,\"#9c179e\"],[0.4444444444444444,\"#bd3786\"],[0.5555555555555556,\"#d8576b\"],[0.6666666666666666,\"#ed7953\"],[0.7777777777777778,\"#fb9f3a\"],[0.8888888888888888,\"#fdca26\"],[1.0,\"#f0f921\"]],\"sequentialminus\":[[0.0,\"#0d0887\"],[0.1111111111111111,\"#46039f\"],[0.2222222222222222,\"#7201a8\"],[0.3333333333333333,\"#9c179e\"],[0.4444444444444444,\"#bd3786\"],[0.5555555555555556,\"#d8576b\"],[0.6666666666666666,\"#ed7953\"],[0.7777777777777778,\"#fb9f3a\"],[0.8888888888888888,\"#fdca26\"],[1.0,\"#f0f921\"]]},\"colorway\":[\"#636efa\",\"#EF553B\",\"#00cc96\",\"#ab63fa\",\"#FFA15A\",\"#19d3f3\",\"#FF6692\",\"#B6E880\",\"#FF97FF\",\"#FECB52\"],\"font\":{\"color\":\"#2a3f5f\"},\"geo\":{\"bgcolor\":\"white\",\"lakecolor\":\"white\",\"landcolor\":\"#E5ECF6\",\"showlakes\":true,\"showland\":true,\"subunitcolor\":\"white\"},\"hoverlabel\":{\"align\":\"left\"},\"hovermode\":\"closest\",\"mapbox\":{\"style\":\"light\"},\"paper_bgcolor\":\"white\",\"plot_bgcolor\":\"#E5ECF6\",\"polar\":{\"angularaxis\":{\"gridcolor\":\"white\",\"linecolor\":\"white\",\"ticks\":\"\"},\"bgcolor\":\"#E5ECF6\",\"radialaxis\":{\"gridcolor\":\"white\",\"linecolor\":\"white\",\"ticks\":\"\"}},\"scene\":{\"xaxis\":{\"backgroundcolor\":\"#E5ECF6\",\"gridcolor\":\"white\",\"gridwidth\":2,\"linecolor\":\"white\",\"showbackground\":true,\"ticks\":\"\",\"zerolinecolor\":\"white\"},\"yaxis\":{\"backgroundcolor\":\"#E5ECF6\",\"gridcolor\":\"white\",\"gridwidth\":2,\"linecolor\":\"white\",\"showbackground\":true,\"ticks\":\"\",\"zerolinecolor\":\"white\"},\"zaxis\":{\"backgroundcolor\":\"#E5ECF6\",\"gridcolor\":\"white\",\"gridwidth\":2,\"linecolor\":\"white\",\"showbackground\":true,\"ticks\":\"\",\"zerolinecolor\":\"white\"}},\"shapedefaults\":{\"line\":{\"color\":\"#2a3f5f\"}},\"ternary\":{\"aaxis\":{\"gridcolor\":\"white\",\"linecolor\":\"white\",\"ticks\":\"\"},\"baxis\":{\"gridcolor\":\"white\",\"linecolor\":\"white\",\"ticks\":\"\"},\"bgcolor\":\"#E5ECF6\",\"caxis\":{\"gridcolor\":\"white\",\"linecolor\":\"white\",\"ticks\":\"\"}},\"title\":{\"x\":0.05},\"xaxis\":{\"automargin\":true,\"gridcolor\":\"white\",\"linecolor\":\"white\",\"ticks\":\"\",\"title\":{\"standoff\":15},\"zerolinecolor\":\"white\",\"zerolinewidth\":2},\"yaxis\":{\"automargin\":true,\"gridcolor\":\"white\",\"linecolor\":\"white\",\"ticks\":\"\",\"title\":{\"standoff\":15},\"zerolinecolor\":\"white\",\"zerolinewidth\":2}}},\"title\":{\"font\":{\"color\":\"#4D5663\"}},\"xaxis\":{\"gridcolor\":\"#E1E5ED\",\"showgrid\":true,\"tickfont\":{\"color\":\"#4D5663\"},\"title\":{\"font\":{\"color\":\"#4D5663\"},\"text\":\"\"},\"zerolinecolor\":\"#E1E5ED\"},\"yaxis\":{\"gridcolor\":\"#E1E5ED\",\"showgrid\":true,\"tickfont\":{\"color\":\"#4D5663\"},\"title\":{\"font\":{\"color\":\"#4D5663\"},\"text\":\"\"},\"zerolinecolor\":\"#E1E5ED\"}},                        {\"showLink\": true, \"linkText\": \"Export to plot.ly\", \"plotlyServerURL\": \"https://plot.ly\", \"responsive\": true}                    ).then(function(){\n",
       "                            \n",
       "var gd = document.getElementById('3f40abc4-6a6e-44dd-937a-a500f191f21a');\n",
       "var x = new MutationObserver(function (mutations, observer) {{\n",
       "        var display = window.getComputedStyle(gd).display;\n",
       "        if (!display || display === 'none') {{\n",
       "            console.log([gd, 'removed!']);\n",
       "            Plotly.purge(gd);\n",
       "            observer.disconnect();\n",
       "        }}\n",
       "}});\n",
       "\n",
       "// Listen for the removal of the full notebook cells\n",
       "var notebookContainer = gd.closest('#notebook-container');\n",
       "if (notebookContainer) {{\n",
       "    x.observe(notebookContainer, {childList: true});\n",
       "}}\n",
       "\n",
       "// Listen for the clearing of the current output cell\n",
       "var outputEl = gd.closest('.output');\n",
       "if (outputEl) {{\n",
       "    x.observe(outputEl, {childList: true});\n",
       "}}\n",
       "\n",
       "                        })                };                });            </script>        </div>"
      ]
     },
     "metadata": {},
     "output_type": "display_data"
    }
   ],
   "source": [
    "df2.iplot(kind='bar', x='Category', y='Values')"
   ]
  },
  {
   "cell_type": "code",
   "execution_count": 17,
   "id": "95379fab",
   "metadata": {},
   "outputs": [
    {
     "data": {
      "text/html": [
       "<div>\n",
       "<style scoped>\n",
       "    .dataframe tbody tr th:only-of-type {\n",
       "        vertical-align: middle;\n",
       "    }\n",
       "\n",
       "    .dataframe tbody tr th {\n",
       "        vertical-align: top;\n",
       "    }\n",
       "\n",
       "    .dataframe thead th {\n",
       "        text-align: right;\n",
       "    }\n",
       "</style>\n",
       "<table border=\"1\" class=\"dataframe\">\n",
       "  <thead>\n",
       "    <tr style=\"text-align: right;\">\n",
       "      <th></th>\n",
       "      <th>A</th>\n",
       "      <th>B</th>\n",
       "      <th>C</th>\n",
       "      <th>D</th>\n",
       "    </tr>\n",
       "  </thead>\n",
       "  <tbody>\n",
       "    <tr>\n",
       "      <th>0</th>\n",
       "      <td>-1.282123</td>\n",
       "      <td>-2.467490</td>\n",
       "      <td>-0.889400</td>\n",
       "      <td>0.184513</td>\n",
       "    </tr>\n",
       "    <tr>\n",
       "      <th>1</th>\n",
       "      <td>-0.399991</td>\n",
       "      <td>-0.910999</td>\n",
       "      <td>0.637244</td>\n",
       "      <td>-0.302218</td>\n",
       "    </tr>\n",
       "    <tr>\n",
       "      <th>2</th>\n",
       "      <td>0.186040</td>\n",
       "      <td>-0.977544</td>\n",
       "      <td>-2.237411</td>\n",
       "      <td>-0.600677</td>\n",
       "    </tr>\n",
       "    <tr>\n",
       "      <th>3</th>\n",
       "      <td>1.945478</td>\n",
       "      <td>-0.805036</td>\n",
       "      <td>-0.317656</td>\n",
       "      <td>-0.305258</td>\n",
       "    </tr>\n",
       "    <tr>\n",
       "      <th>4</th>\n",
       "      <td>-0.597646</td>\n",
       "      <td>0.388084</td>\n",
       "      <td>0.756191</td>\n",
       "      <td>0.012925</td>\n",
       "    </tr>\n",
       "    <tr>\n",
       "      <th>...</th>\n",
       "      <td>...</td>\n",
       "      <td>...</td>\n",
       "      <td>...</td>\n",
       "      <td>...</td>\n",
       "    </tr>\n",
       "    <tr>\n",
       "      <th>95</th>\n",
       "      <td>-1.586622</td>\n",
       "      <td>-0.163970</td>\n",
       "      <td>-0.678912</td>\n",
       "      <td>1.053735</td>\n",
       "    </tr>\n",
       "    <tr>\n",
       "      <th>96</th>\n",
       "      <td>0.937172</td>\n",
       "      <td>-0.735541</td>\n",
       "      <td>0.511604</td>\n",
       "      <td>-0.669875</td>\n",
       "    </tr>\n",
       "    <tr>\n",
       "      <th>97</th>\n",
       "      <td>-0.913786</td>\n",
       "      <td>-0.163054</td>\n",
       "      <td>-0.282719</td>\n",
       "      <td>0.321464</td>\n",
       "    </tr>\n",
       "    <tr>\n",
       "      <th>98</th>\n",
       "      <td>1.641023</td>\n",
       "      <td>-1.175728</td>\n",
       "      <td>0.644118</td>\n",
       "      <td>-1.729668</td>\n",
       "    </tr>\n",
       "    <tr>\n",
       "      <th>99</th>\n",
       "      <td>-0.167251</td>\n",
       "      <td>0.734398</td>\n",
       "      <td>-0.261975</td>\n",
       "      <td>0.531264</td>\n",
       "    </tr>\n",
       "  </tbody>\n",
       "</table>\n",
       "<p>100 rows × 4 columns</p>\n",
       "</div>"
      ],
      "text/plain": [
       "           A         B         C         D\n",
       "0  -1.282123 -2.467490 -0.889400  0.184513\n",
       "1  -0.399991 -0.910999  0.637244 -0.302218\n",
       "2   0.186040 -0.977544 -2.237411 -0.600677\n",
       "3   1.945478 -0.805036 -0.317656 -0.305258\n",
       "4  -0.597646  0.388084  0.756191  0.012925\n",
       "..       ...       ...       ...       ...\n",
       "95 -1.586622 -0.163970 -0.678912  1.053735\n",
       "96  0.937172 -0.735541  0.511604 -0.669875\n",
       "97 -0.913786 -0.163054 -0.282719  0.321464\n",
       "98  1.641023 -1.175728  0.644118 -1.729668\n",
       "99 -0.167251  0.734398 -0.261975  0.531264\n",
       "\n",
       "[100 rows x 4 columns]"
      ]
     },
     "execution_count": 17,
     "metadata": {},
     "output_type": "execute_result"
    }
   ],
   "source": [
    "df"
   ]
  },
  {
   "cell_type": "code",
   "execution_count": 18,
   "id": "46ee93fa",
   "metadata": {},
   "outputs": [
    {
     "data": {
      "application/vnd.plotly.v1+json": {
       "config": {
        "linkText": "Export to plot.ly",
        "plotlyServerURL": "https://plot.ly",
        "showLink": true
       },
       "data": [
        {
         "marker": {
          "color": "rgba(255, 153, 51, 0.6)",
          "line": {
           "color": "rgba(255, 153, 51, 1.0)",
           "width": 1
          }
         },
         "name": "A",
         "orientation": "v",
         "text": "",
         "type": "bar",
         "x": [
          0,
          1,
          2,
          3,
          4,
          5,
          6,
          7,
          8,
          9,
          10,
          11,
          12,
          13,
          14,
          15,
          16,
          17,
          18,
          19,
          20,
          21,
          22,
          23,
          24,
          25,
          26,
          27,
          28,
          29,
          30,
          31,
          32,
          33,
          34,
          35,
          36,
          37,
          38,
          39,
          40,
          41,
          42,
          43,
          44,
          45,
          46,
          47,
          48,
          49,
          50,
          51,
          52,
          53,
          54,
          55,
          56,
          57,
          58,
          59,
          60,
          61,
          62,
          63,
          64,
          65,
          66,
          67,
          68,
          69,
          70,
          71,
          72,
          73,
          74,
          75,
          76,
          77,
          78,
          79,
          80,
          81,
          82,
          83,
          84,
          85,
          86,
          87,
          88,
          89,
          90,
          91,
          92,
          93,
          94,
          95,
          96,
          97,
          98,
          99
         ],
         "y": [
          -1.2821232259307913,
          -0.39999089040185204,
          0.18603955462223581,
          1.9454784431368184,
          -0.5976460193168096,
          -1.1357869422281528,
          0.5011941647418091,
          -0.3165890810433005,
          -0.49026251352794514,
          -0.3070155142823813,
          -0.00928407711693977,
          0.40742108364021007,
          -0.8059220890051619,
          -1.6150012335022794,
          0.2831274750204807,
          -0.8071318749394667,
          1.2578496478325498,
          0.5546354700979511,
          -0.8058535128503591,
          -1.325128537682219,
          -0.6293771302746785,
          -0.18505519612184348,
          1.161217988148961,
          -0.9940280665073525,
          -1.0517075260495918,
          -0.021950386799966522,
          1.7059306402459018,
          -0.5431574852715914,
          -1.6652518510749255,
          -0.2293687085613229,
          -0.9330038160520542,
          -0.40135606395472045,
          -0.5904818764111005,
          0.1561604164203169,
          0.05909328601089837,
          -0.27648155744488384,
          1.5426214018051496,
          2.00748019586431,
          -0.23004698398830756,
          -0.9034603928397359,
          -0.8432824015442412,
          0.5985161962702256,
          0.2064791649332286,
          -1.5981203262502197,
          -0.691193621887644,
          1.2648788373359174,
          -0.9812428188552841,
          0.29077257292937864,
          -0.3860304784116714,
          0.7348736205455061,
          -0.30194463093884955,
          -1.1804849866851235,
          1.8555927233230805,
          0.3206204405021417,
          -0.3484647029488913,
          0.17804035824914086,
          -0.005932309547459654,
          -1.09324321057662,
          1.0537325994802822,
          -0.11131747857058517,
          1.5510248050539293,
          0.0641092321739744,
          0.011983916018163067,
          0.07671899326363087,
          -1.6383015593850865,
          -0.8930202201725317,
          2.177001154926578,
          0.10032475555698285,
          0.19801577044420687,
          -0.8143086148611789,
          2.5765300667706303,
          1.1424955734563713,
          -1.1782421287147495,
          0.36719261575559925,
          1.913126328532216,
          0.5316725673593986,
          1.0609389309814266,
          -0.2580418540315302,
          -1.1096209702275894,
          -0.16525766112282678,
          -0.6350618813045671,
          -0.6680136886957433,
          2.2019863428116317,
          -0.6545846207600245,
          -0.9819257347533642,
          0.7686352817125546,
          -0.28770493344401477,
          0.5918740917074815,
          0.5183444223241045,
          -1.7520524718812602,
          1.3980636906330712,
          -1.1245314917361031,
          0.022139236012942463,
          0.7592364488219824,
          0.42600620243372245,
          -1.5866222361761575,
          0.9371724506934582,
          -0.9137856349047465,
          1.6410233938129204,
          -0.16725096651345864
         ]
        },
        {
         "marker": {
          "color": "rgba(55, 128, 191, 0.6)",
          "line": {
           "color": "rgba(55, 128, 191, 1.0)",
           "width": 1
          }
         },
         "name": "B",
         "orientation": "v",
         "text": "",
         "type": "bar",
         "x": [
          0,
          1,
          2,
          3,
          4,
          5,
          6,
          7,
          8,
          9,
          10,
          11,
          12,
          13,
          14,
          15,
          16,
          17,
          18,
          19,
          20,
          21,
          22,
          23,
          24,
          25,
          26,
          27,
          28,
          29,
          30,
          31,
          32,
          33,
          34,
          35,
          36,
          37,
          38,
          39,
          40,
          41,
          42,
          43,
          44,
          45,
          46,
          47,
          48,
          49,
          50,
          51,
          52,
          53,
          54,
          55,
          56,
          57,
          58,
          59,
          60,
          61,
          62,
          63,
          64,
          65,
          66,
          67,
          68,
          69,
          70,
          71,
          72,
          73,
          74,
          75,
          76,
          77,
          78,
          79,
          80,
          81,
          82,
          83,
          84,
          85,
          86,
          87,
          88,
          89,
          90,
          91,
          92,
          93,
          94,
          95,
          96,
          97,
          98,
          99
         ],
         "y": [
          -2.467489679081685,
          -0.9109994341608991,
          -0.9775439597470429,
          -0.8050359803816095,
          0.3880837334389582,
          0.7226047001728041,
          2.12261391775626,
          -1.585119821691273,
          -1.4789391663694118,
          1.4130010878680048,
          0.5171336797321604,
          0.8200803187753855,
          -0.1651247430133621,
          -0.020378991429335632,
          1.7248920409679187,
          -1.0379234752961863,
          1.0288558054083492,
          -0.4209039800868332,
          0.9359771990048374,
          0.5283817923005579,
          -0.704072800755225,
          0.33848644671342304,
          1.1773768477836346,
          -0.45103721768800803,
          0.13224782035424706,
          0.7204598068251858,
          -0.9342447733723493,
          -1.5204779496076484,
          1.0181798372524824,
          2.0464668998426223,
          0.6454665423594669,
          -0.5056759016895037,
          0.6527386290509671,
          -0.5547342801162942,
          0.3788700033858548,
          -0.3676073288176218,
          0.5656698820540743,
          1.580633720103138,
          -0.12711454975637088,
          -0.3505517026278936,
          -0.7660622716697431,
          1.523972798077345,
          0.8877692878051118,
          -0.10704995915426571,
          1.629723149498767,
          -0.15762680777432658,
          -1.2668726445596794,
          0.20016928924696611,
          0.699254128347382,
          -0.03689603754636403,
          0.30371287844000294,
          0.28611928397815256,
          2.0585330014523042,
          1.0140945140540905,
          -0.8297552712905361,
          0.09013592833499368,
          0.3984442817811917,
          -0.4571516491840917,
          -0.44287898704643447,
          -1.0569149385856347,
          0.04807235507245364,
          -0.34419688596532827,
          0.10004621268753495,
          0.08731147708013766,
          1.0876804228688925,
          1.3099639910003447,
          0.7539412010773562,
          0.11957250636430646,
          2.3106977365467682,
          2.519930816359611,
          0.08534530825215789,
          -0.9825625396071127,
          -0.39525470620522996,
          -3.1375179773086317,
          0.6132469463474309,
          -0.16942740949205784,
          0.09266214650465411,
          -1.0902353511589595,
          0.8250519676663988,
          -0.13858028835181693,
          -0.28940274670430133,
          -0.002690390203971974,
          0.046357330322069706,
          0.85344253401098,
          0.5158074327785028,
          -1.0161437917023335,
          0.4572488313164856,
          -0.10617864673067459,
          -0.5613388514490533,
          0.3160584742132285,
          -0.8654585149192117,
          0.5512673818002701,
          -0.048270305086464724,
          0.7690216936257351,
          0.8258710118208544,
          -0.16396989659898215,
          -0.7355413370519562,
          -0.163054476714875,
          -1.1757281031956057,
          0.7343984686472602
         ]
        },
        {
         "marker": {
          "color": "rgba(50, 171, 96, 0.6)",
          "line": {
           "color": "rgba(50, 171, 96, 1.0)",
           "width": 1
          }
         },
         "name": "C",
         "orientation": "v",
         "text": "",
         "type": "bar",
         "x": [
          0,
          1,
          2,
          3,
          4,
          5,
          6,
          7,
          8,
          9,
          10,
          11,
          12,
          13,
          14,
          15,
          16,
          17,
          18,
          19,
          20,
          21,
          22,
          23,
          24,
          25,
          26,
          27,
          28,
          29,
          30,
          31,
          32,
          33,
          34,
          35,
          36,
          37,
          38,
          39,
          40,
          41,
          42,
          43,
          44,
          45,
          46,
          47,
          48,
          49,
          50,
          51,
          52,
          53,
          54,
          55,
          56,
          57,
          58,
          59,
          60,
          61,
          62,
          63,
          64,
          65,
          66,
          67,
          68,
          69,
          70,
          71,
          72,
          73,
          74,
          75,
          76,
          77,
          78,
          79,
          80,
          81,
          82,
          83,
          84,
          85,
          86,
          87,
          88,
          89,
          90,
          91,
          92,
          93,
          94,
          95,
          96,
          97,
          98,
          99
         ],
         "y": [
          -0.8893998141162937,
          0.6372436645570296,
          -2.23741081423564,
          -0.31765623347929695,
          0.7561914475460509,
          -0.623860105721561,
          0.6903173494809115,
          -0.5048600551762947,
          2.020714308651883,
          0.23026979636838407,
          0.37398753003537616,
          0.5206609753244256,
          -0.10018920147383852,
          -1.2985299229663352,
          -0.9483501928456123,
          1.135689521637158,
          -0.3337735918049371,
          -1.6326402352224678,
          -0.25866872748129416,
          0.5924898339790267,
          1.2233285790848265,
          -1.474457852245962,
          0.45596964798191353,
          -0.10814969404145522,
          -0.27594004426502083,
          -0.9124845686148109,
          0.01100070388541124,
          -1.9505347477078452,
          -0.15105469124096588,
          0.907630680494936,
          -0.6029292033423908,
          0.990481495159389,
          1.1515227416718936,
          0.44789830857842894,
          -1.7855238667231463,
          -0.5902657180884271,
          0.8584499386080536,
          1.0116028854383643,
          -0.571014671596426,
          -0.3866591298764715,
          0.9949808495557023,
          0.7875792632930714,
          0.29112207583799676,
          -0.3884189898620297,
          -1.6966161836642502,
          1.8160384812003816,
          0.32587379503399005,
          0.2644828784239742,
          -0.08883414710595931,
          -1.8782287388849652,
          0.05256177117982688,
          1.0882529289653526,
          0.8784535728298893,
          1.0193199732692901,
          -0.8088506639910596,
          -1.0223568889142052,
          0.06939344982076391,
          0.6655572511232158,
          -0.38330034677819247,
          -0.7887206396605513,
          -2.1337760011371416,
          -0.505300093639108,
          -0.22328614767833907,
          -1.0417437989607305,
          -0.34560269984827874,
          0.3537127142015969,
          -0.2736786047966587,
          -0.2298074753826692,
          0.8303171527118302,
          -0.8303087103507922,
          1.9162689202891265,
          -0.5565059936724137,
          2.061512699042052,
          0.5734812031194394,
          -1.034854720445252,
          -0.11071862296050343,
          -0.6111748958387944,
          0.28806307986797813,
          1.2021557339158877,
          -1.3410568555000184,
          -0.5043708568868606,
          -0.26905233445725124,
          0.8835614081469708,
          0.31823037951212957,
          -0.20841669540258473,
          1.051719819048651,
          0.3510133756617166,
          0.11514781134378886,
          -2.0386124893706765,
          -1.569657323964556,
          -0.4080591760496254,
          -0.29178810250300924,
          0.40457254548522725,
          -0.7983154563691286,
          -0.2538226193332108,
          -0.678911915924447,
          0.5116043020782122,
          -0.2827194860534984,
          0.6441183952673111,
          -0.2619746150812916
         ]
        },
        {
         "marker": {
          "color": "rgba(128, 0, 128, 0.6)",
          "line": {
           "color": "rgba(128, 0, 128, 1.0)",
           "width": 1
          }
         },
         "name": "D",
         "orientation": "v",
         "text": "",
         "type": "bar",
         "x": [
          0,
          1,
          2,
          3,
          4,
          5,
          6,
          7,
          8,
          9,
          10,
          11,
          12,
          13,
          14,
          15,
          16,
          17,
          18,
          19,
          20,
          21,
          22,
          23,
          24,
          25,
          26,
          27,
          28,
          29,
          30,
          31,
          32,
          33,
          34,
          35,
          36,
          37,
          38,
          39,
          40,
          41,
          42,
          43,
          44,
          45,
          46,
          47,
          48,
          49,
          50,
          51,
          52,
          53,
          54,
          55,
          56,
          57,
          58,
          59,
          60,
          61,
          62,
          63,
          64,
          65,
          66,
          67,
          68,
          69,
          70,
          71,
          72,
          73,
          74,
          75,
          76,
          77,
          78,
          79,
          80,
          81,
          82,
          83,
          84,
          85,
          86,
          87,
          88,
          89,
          90,
          91,
          92,
          93,
          94,
          95,
          96,
          97,
          98,
          99
         ],
         "y": [
          0.18451300084608604,
          -0.3022177165304333,
          -0.6006769288458926,
          -0.3052576828469785,
          0.012925204395338697,
          0.06072685016311775,
          1.2464010145843716,
          2.2562220704540947,
          1.7541323312485497,
          -2.7953960478174134,
          1.7960094174179742,
          0.8587481039984973,
          1.0574408725210322,
          -1.576207770904765,
          -0.16787222872406804,
          -1.580171289911969,
          -0.7405713053105409,
          -0.12211621622406345,
          -0.02719325408965277,
          0.7455332289902771,
          1.0431039917089024,
          -0.5573515013267838,
          -0.9478720009528269,
          -2.2240467163863453,
          0.47885219514426564,
          0.6635970834572871,
          0.16347637504181256,
          -0.514245754001384,
          0.2450690907864287,
          0.05695716481583332,
          0.6634388719648321,
          -0.39840694654691705,
          0.5490831922887796,
          -1.3498267213886324,
          2.0059690281820273,
          2.4237220564037774,
          0.6409158751104084,
          -1.145590629899955,
          -0.6344692609620162,
          -1.964475569311091,
          -2.553119815804278,
          -0.4154753044515657,
          0.93288515541365,
          0.41607149191763854,
          -0.5223885849225867,
          -0.5097269627705164,
          0.3137166198850058,
          -0.41033148846453166,
          -1.3504160978888808,
          -1.44639215776379,
          -1.2558830397396972,
          0.5085298183118243,
          -0.4844584936706081,
          -1.1095044253580726,
          -0.7520124292610786,
          0.5109618144518884,
          -1.0808074527541336,
          2.0158253236315438,
          0.8194125244241102,
          -1.830150410875788,
          -0.11276219125895252,
          0.7023652442498306,
          1.9866344386381598,
          -1.112745174819402,
          -1.0955180400783469,
          -0.44312559456598377,
          -0.9639932603404257,
          1.419599652907551,
          0.13032087210775575,
          -0.08480607840877766,
          -0.07161572488825718,
          -0.9309787384976403,
          0.11791449149366284,
          -1.1062473942402988,
          -0.35788548437586404,
          -0.3021284959768266,
          -1.3895146183345222,
          1.0207429380778419,
          0.17078822856664266,
          -0.1907799131125399,
          0.4714082561261303,
          0.2754318671952387,
          -0.2514751898440218,
          0.2837712535707717,
          -2.96998439652934,
          -0.1986095130641284,
          0.8367124996316605,
          -1.2139829622550151,
          0.6954813803560759,
          1.3221282513598556,
          -0.28719994075524213,
          2.2187535094641837,
          -0.3975645906718611,
          1.4843046228816186,
          -0.1192081000017448,
          1.0537349037666213,
          -0.6698748203139302,
          0.32146389721568674,
          -1.7296684021234106,
          0.531263702406474
         ]
        }
       ],
       "layout": {
        "legend": {
         "bgcolor": "#F5F6F9",
         "font": {
          "color": "#4D5663"
         }
        },
        "paper_bgcolor": "#F5F6F9",
        "plot_bgcolor": "#F5F6F9",
        "template": {
         "data": {
          "bar": [
           {
            "error_x": {
             "color": "#2a3f5f"
            },
            "error_y": {
             "color": "#2a3f5f"
            },
            "marker": {
             "line": {
              "color": "#E5ECF6",
              "width": 0.5
             },
             "pattern": {
              "fillmode": "overlay",
              "size": 10,
              "solidity": 0.2
             }
            },
            "type": "bar"
           }
          ],
          "barpolar": [
           {
            "marker": {
             "line": {
              "color": "#E5ECF6",
              "width": 0.5
             },
             "pattern": {
              "fillmode": "overlay",
              "size": 10,
              "solidity": 0.2
             }
            },
            "type": "barpolar"
           }
          ],
          "carpet": [
           {
            "aaxis": {
             "endlinecolor": "#2a3f5f",
             "gridcolor": "white",
             "linecolor": "white",
             "minorgridcolor": "white",
             "startlinecolor": "#2a3f5f"
            },
            "baxis": {
             "endlinecolor": "#2a3f5f",
             "gridcolor": "white",
             "linecolor": "white",
             "minorgridcolor": "white",
             "startlinecolor": "#2a3f5f"
            },
            "type": "carpet"
           }
          ],
          "choropleth": [
           {
            "colorbar": {
             "outlinewidth": 0,
             "ticks": ""
            },
            "type": "choropleth"
           }
          ],
          "contour": [
           {
            "colorbar": {
             "outlinewidth": 0,
             "ticks": ""
            },
            "colorscale": [
             [
              0,
              "#0d0887"
             ],
             [
              0.1111111111111111,
              "#46039f"
             ],
             [
              0.2222222222222222,
              "#7201a8"
             ],
             [
              0.3333333333333333,
              "#9c179e"
             ],
             [
              0.4444444444444444,
              "#bd3786"
             ],
             [
              0.5555555555555556,
              "#d8576b"
             ],
             [
              0.6666666666666666,
              "#ed7953"
             ],
             [
              0.7777777777777778,
              "#fb9f3a"
             ],
             [
              0.8888888888888888,
              "#fdca26"
             ],
             [
              1,
              "#f0f921"
             ]
            ],
            "type": "contour"
           }
          ],
          "contourcarpet": [
           {
            "colorbar": {
             "outlinewidth": 0,
             "ticks": ""
            },
            "type": "contourcarpet"
           }
          ],
          "heatmap": [
           {
            "colorbar": {
             "outlinewidth": 0,
             "ticks": ""
            },
            "colorscale": [
             [
              0,
              "#0d0887"
             ],
             [
              0.1111111111111111,
              "#46039f"
             ],
             [
              0.2222222222222222,
              "#7201a8"
             ],
             [
              0.3333333333333333,
              "#9c179e"
             ],
             [
              0.4444444444444444,
              "#bd3786"
             ],
             [
              0.5555555555555556,
              "#d8576b"
             ],
             [
              0.6666666666666666,
              "#ed7953"
             ],
             [
              0.7777777777777778,
              "#fb9f3a"
             ],
             [
              0.8888888888888888,
              "#fdca26"
             ],
             [
              1,
              "#f0f921"
             ]
            ],
            "type": "heatmap"
           }
          ],
          "heatmapgl": [
           {
            "colorbar": {
             "outlinewidth": 0,
             "ticks": ""
            },
            "colorscale": [
             [
              0,
              "#0d0887"
             ],
             [
              0.1111111111111111,
              "#46039f"
             ],
             [
              0.2222222222222222,
              "#7201a8"
             ],
             [
              0.3333333333333333,
              "#9c179e"
             ],
             [
              0.4444444444444444,
              "#bd3786"
             ],
             [
              0.5555555555555556,
              "#d8576b"
             ],
             [
              0.6666666666666666,
              "#ed7953"
             ],
             [
              0.7777777777777778,
              "#fb9f3a"
             ],
             [
              0.8888888888888888,
              "#fdca26"
             ],
             [
              1,
              "#f0f921"
             ]
            ],
            "type": "heatmapgl"
           }
          ],
          "histogram": [
           {
            "marker": {
             "pattern": {
              "fillmode": "overlay",
              "size": 10,
              "solidity": 0.2
             }
            },
            "type": "histogram"
           }
          ],
          "histogram2d": [
           {
            "colorbar": {
             "outlinewidth": 0,
             "ticks": ""
            },
            "colorscale": [
             [
              0,
              "#0d0887"
             ],
             [
              0.1111111111111111,
              "#46039f"
             ],
             [
              0.2222222222222222,
              "#7201a8"
             ],
             [
              0.3333333333333333,
              "#9c179e"
             ],
             [
              0.4444444444444444,
              "#bd3786"
             ],
             [
              0.5555555555555556,
              "#d8576b"
             ],
             [
              0.6666666666666666,
              "#ed7953"
             ],
             [
              0.7777777777777778,
              "#fb9f3a"
             ],
             [
              0.8888888888888888,
              "#fdca26"
             ],
             [
              1,
              "#f0f921"
             ]
            ],
            "type": "histogram2d"
           }
          ],
          "histogram2dcontour": [
           {
            "colorbar": {
             "outlinewidth": 0,
             "ticks": ""
            },
            "colorscale": [
             [
              0,
              "#0d0887"
             ],
             [
              0.1111111111111111,
              "#46039f"
             ],
             [
              0.2222222222222222,
              "#7201a8"
             ],
             [
              0.3333333333333333,
              "#9c179e"
             ],
             [
              0.4444444444444444,
              "#bd3786"
             ],
             [
              0.5555555555555556,
              "#d8576b"
             ],
             [
              0.6666666666666666,
              "#ed7953"
             ],
             [
              0.7777777777777778,
              "#fb9f3a"
             ],
             [
              0.8888888888888888,
              "#fdca26"
             ],
             [
              1,
              "#f0f921"
             ]
            ],
            "type": "histogram2dcontour"
           }
          ],
          "mesh3d": [
           {
            "colorbar": {
             "outlinewidth": 0,
             "ticks": ""
            },
            "type": "mesh3d"
           }
          ],
          "parcoords": [
           {
            "line": {
             "colorbar": {
              "outlinewidth": 0,
              "ticks": ""
             }
            },
            "type": "parcoords"
           }
          ],
          "pie": [
           {
            "automargin": true,
            "type": "pie"
           }
          ],
          "scatter": [
           {
            "fillpattern": {
             "fillmode": "overlay",
             "size": 10,
             "solidity": 0.2
            },
            "type": "scatter"
           }
          ],
          "scatter3d": [
           {
            "line": {
             "colorbar": {
              "outlinewidth": 0,
              "ticks": ""
             }
            },
            "marker": {
             "colorbar": {
              "outlinewidth": 0,
              "ticks": ""
             }
            },
            "type": "scatter3d"
           }
          ],
          "scattercarpet": [
           {
            "marker": {
             "colorbar": {
              "outlinewidth": 0,
              "ticks": ""
             }
            },
            "type": "scattercarpet"
           }
          ],
          "scattergeo": [
           {
            "marker": {
             "colorbar": {
              "outlinewidth": 0,
              "ticks": ""
             }
            },
            "type": "scattergeo"
           }
          ],
          "scattergl": [
           {
            "marker": {
             "colorbar": {
              "outlinewidth": 0,
              "ticks": ""
             }
            },
            "type": "scattergl"
           }
          ],
          "scattermapbox": [
           {
            "marker": {
             "colorbar": {
              "outlinewidth": 0,
              "ticks": ""
             }
            },
            "type": "scattermapbox"
           }
          ],
          "scatterpolar": [
           {
            "marker": {
             "colorbar": {
              "outlinewidth": 0,
              "ticks": ""
             }
            },
            "type": "scatterpolar"
           }
          ],
          "scatterpolargl": [
           {
            "marker": {
             "colorbar": {
              "outlinewidth": 0,
              "ticks": ""
             }
            },
            "type": "scatterpolargl"
           }
          ],
          "scatterternary": [
           {
            "marker": {
             "colorbar": {
              "outlinewidth": 0,
              "ticks": ""
             }
            },
            "type": "scatterternary"
           }
          ],
          "surface": [
           {
            "colorbar": {
             "outlinewidth": 0,
             "ticks": ""
            },
            "colorscale": [
             [
              0,
              "#0d0887"
             ],
             [
              0.1111111111111111,
              "#46039f"
             ],
             [
              0.2222222222222222,
              "#7201a8"
             ],
             [
              0.3333333333333333,
              "#9c179e"
             ],
             [
              0.4444444444444444,
              "#bd3786"
             ],
             [
              0.5555555555555556,
              "#d8576b"
             ],
             [
              0.6666666666666666,
              "#ed7953"
             ],
             [
              0.7777777777777778,
              "#fb9f3a"
             ],
             [
              0.8888888888888888,
              "#fdca26"
             ],
             [
              1,
              "#f0f921"
             ]
            ],
            "type": "surface"
           }
          ],
          "table": [
           {
            "cells": {
             "fill": {
              "color": "#EBF0F8"
             },
             "line": {
              "color": "white"
             }
            },
            "header": {
             "fill": {
              "color": "#C8D4E3"
             },
             "line": {
              "color": "white"
             }
            },
            "type": "table"
           }
          ]
         },
         "layout": {
          "annotationdefaults": {
           "arrowcolor": "#2a3f5f",
           "arrowhead": 0,
           "arrowwidth": 1
          },
          "autotypenumbers": "strict",
          "coloraxis": {
           "colorbar": {
            "outlinewidth": 0,
            "ticks": ""
           }
          },
          "colorscale": {
           "diverging": [
            [
             0,
             "#8e0152"
            ],
            [
             0.1,
             "#c51b7d"
            ],
            [
             0.2,
             "#de77ae"
            ],
            [
             0.3,
             "#f1b6da"
            ],
            [
             0.4,
             "#fde0ef"
            ],
            [
             0.5,
             "#f7f7f7"
            ],
            [
             0.6,
             "#e6f5d0"
            ],
            [
             0.7,
             "#b8e186"
            ],
            [
             0.8,
             "#7fbc41"
            ],
            [
             0.9,
             "#4d9221"
            ],
            [
             1,
             "#276419"
            ]
           ],
           "sequential": [
            [
             0,
             "#0d0887"
            ],
            [
             0.1111111111111111,
             "#46039f"
            ],
            [
             0.2222222222222222,
             "#7201a8"
            ],
            [
             0.3333333333333333,
             "#9c179e"
            ],
            [
             0.4444444444444444,
             "#bd3786"
            ],
            [
             0.5555555555555556,
             "#d8576b"
            ],
            [
             0.6666666666666666,
             "#ed7953"
            ],
            [
             0.7777777777777778,
             "#fb9f3a"
            ],
            [
             0.8888888888888888,
             "#fdca26"
            ],
            [
             1,
             "#f0f921"
            ]
           ],
           "sequentialminus": [
            [
             0,
             "#0d0887"
            ],
            [
             0.1111111111111111,
             "#46039f"
            ],
            [
             0.2222222222222222,
             "#7201a8"
            ],
            [
             0.3333333333333333,
             "#9c179e"
            ],
            [
             0.4444444444444444,
             "#bd3786"
            ],
            [
             0.5555555555555556,
             "#d8576b"
            ],
            [
             0.6666666666666666,
             "#ed7953"
            ],
            [
             0.7777777777777778,
             "#fb9f3a"
            ],
            [
             0.8888888888888888,
             "#fdca26"
            ],
            [
             1,
             "#f0f921"
            ]
           ]
          },
          "colorway": [
           "#636efa",
           "#EF553B",
           "#00cc96",
           "#ab63fa",
           "#FFA15A",
           "#19d3f3",
           "#FF6692",
           "#B6E880",
           "#FF97FF",
           "#FECB52"
          ],
          "font": {
           "color": "#2a3f5f"
          },
          "geo": {
           "bgcolor": "white",
           "lakecolor": "white",
           "landcolor": "#E5ECF6",
           "showlakes": true,
           "showland": true,
           "subunitcolor": "white"
          },
          "hoverlabel": {
           "align": "left"
          },
          "hovermode": "closest",
          "mapbox": {
           "style": "light"
          },
          "paper_bgcolor": "white",
          "plot_bgcolor": "#E5ECF6",
          "polar": {
           "angularaxis": {
            "gridcolor": "white",
            "linecolor": "white",
            "ticks": ""
           },
           "bgcolor": "#E5ECF6",
           "radialaxis": {
            "gridcolor": "white",
            "linecolor": "white",
            "ticks": ""
           }
          },
          "scene": {
           "xaxis": {
            "backgroundcolor": "#E5ECF6",
            "gridcolor": "white",
            "gridwidth": 2,
            "linecolor": "white",
            "showbackground": true,
            "ticks": "",
            "zerolinecolor": "white"
           },
           "yaxis": {
            "backgroundcolor": "#E5ECF6",
            "gridcolor": "white",
            "gridwidth": 2,
            "linecolor": "white",
            "showbackground": true,
            "ticks": "",
            "zerolinecolor": "white"
           },
           "zaxis": {
            "backgroundcolor": "#E5ECF6",
            "gridcolor": "white",
            "gridwidth": 2,
            "linecolor": "white",
            "showbackground": true,
            "ticks": "",
            "zerolinecolor": "white"
           }
          },
          "shapedefaults": {
           "line": {
            "color": "#2a3f5f"
           }
          },
          "ternary": {
           "aaxis": {
            "gridcolor": "white",
            "linecolor": "white",
            "ticks": ""
           },
           "baxis": {
            "gridcolor": "white",
            "linecolor": "white",
            "ticks": ""
           },
           "bgcolor": "#E5ECF6",
           "caxis": {
            "gridcolor": "white",
            "linecolor": "white",
            "ticks": ""
           }
          },
          "title": {
           "x": 0.05
          },
          "xaxis": {
           "automargin": true,
           "gridcolor": "white",
           "linecolor": "white",
           "ticks": "",
           "title": {
            "standoff": 15
           },
           "zerolinecolor": "white",
           "zerolinewidth": 2
          },
          "yaxis": {
           "automargin": true,
           "gridcolor": "white",
           "linecolor": "white",
           "ticks": "",
           "title": {
            "standoff": 15
           },
           "zerolinecolor": "white",
           "zerolinewidth": 2
          }
         }
        },
        "title": {
         "font": {
          "color": "#4D5663"
         }
        },
        "xaxis": {
         "gridcolor": "#E1E5ED",
         "showgrid": true,
         "tickfont": {
          "color": "#4D5663"
         },
         "title": {
          "font": {
           "color": "#4D5663"
          },
          "text": ""
         },
         "zerolinecolor": "#E1E5ED"
        },
        "yaxis": {
         "gridcolor": "#E1E5ED",
         "showgrid": true,
         "tickfont": {
          "color": "#4D5663"
         },
         "title": {
          "font": {
           "color": "#4D5663"
          },
          "text": ""
         },
         "zerolinecolor": "#E1E5ED"
        }
       }
      },
      "text/html": [
       "<div>                            <div id=\"845f2e82-d8cb-4f15-9d7a-62a3bf8a3c23\" class=\"plotly-graph-div\" style=\"height:525px; width:100%;\"></div>            <script type=\"text/javascript\">                require([\"plotly\"], function(Plotly) {                    window.PLOTLYENV=window.PLOTLYENV || {};\n",
       "                    window.PLOTLYENV.BASE_URL='https://plot.ly';                                    if (document.getElementById(\"845f2e82-d8cb-4f15-9d7a-62a3bf8a3c23\")) {                    Plotly.newPlot(                        \"845f2e82-d8cb-4f15-9d7a-62a3bf8a3c23\",                        [{\"marker\":{\"color\":\"rgba(255, 153, 51, 0.6)\",\"line\":{\"color\":\"rgba(255, 153, 51, 1.0)\",\"width\":1}},\"name\":\"A\",\"orientation\":\"v\",\"text\":\"\",\"x\":[0,1,2,3,4,5,6,7,8,9,10,11,12,13,14,15,16,17,18,19,20,21,22,23,24,25,26,27,28,29,30,31,32,33,34,35,36,37,38,39,40,41,42,43,44,45,46,47,48,49,50,51,52,53,54,55,56,57,58,59,60,61,62,63,64,65,66,67,68,69,70,71,72,73,74,75,76,77,78,79,80,81,82,83,84,85,86,87,88,89,90,91,92,93,94,95,96,97,98,99],\"y\":[-1.2821232259307913,-0.39999089040185204,0.18603955462223581,1.9454784431368184,-0.5976460193168096,-1.1357869422281528,0.5011941647418091,-0.3165890810433005,-0.49026251352794514,-0.3070155142823813,-0.00928407711693977,0.40742108364021007,-0.8059220890051619,-1.6150012335022794,0.2831274750204807,-0.8071318749394667,1.2578496478325498,0.5546354700979511,-0.8058535128503591,-1.325128537682219,-0.6293771302746785,-0.18505519612184348,1.161217988148961,-0.9940280665073525,-1.0517075260495918,-0.021950386799966522,1.7059306402459018,-0.5431574852715914,-1.6652518510749255,-0.2293687085613229,-0.9330038160520542,-0.40135606395472045,-0.5904818764111005,0.1561604164203169,0.05909328601089837,-0.27648155744488384,1.5426214018051496,2.00748019586431,-0.23004698398830756,-0.9034603928397359,-0.8432824015442412,0.5985161962702256,0.2064791649332286,-1.5981203262502197,-0.691193621887644,1.2648788373359174,-0.9812428188552841,0.29077257292937864,-0.3860304784116714,0.7348736205455061,-0.30194463093884955,-1.1804849866851235,1.8555927233230805,0.3206204405021417,-0.3484647029488913,0.17804035824914086,-0.005932309547459654,-1.09324321057662,1.0537325994802822,-0.11131747857058517,1.5510248050539293,0.0641092321739744,0.011983916018163067,0.07671899326363087,-1.6383015593850865,-0.8930202201725317,2.177001154926578,0.10032475555698285,0.19801577044420687,-0.8143086148611789,2.5765300667706303,1.1424955734563713,-1.1782421287147495,0.36719261575559925,1.913126328532216,0.5316725673593986,1.0609389309814266,-0.2580418540315302,-1.1096209702275894,-0.16525766112282678,-0.6350618813045671,-0.6680136886957433,2.2019863428116317,-0.6545846207600245,-0.9819257347533642,0.7686352817125546,-0.28770493344401477,0.5918740917074815,0.5183444223241045,-1.7520524718812602,1.3980636906330712,-1.1245314917361031,0.022139236012942463,0.7592364488219824,0.42600620243372245,-1.5866222361761575,0.9371724506934582,-0.9137856349047465,1.6410233938129204,-0.16725096651345864],\"type\":\"bar\"},{\"marker\":{\"color\":\"rgba(55, 128, 191, 0.6)\",\"line\":{\"color\":\"rgba(55, 128, 191, 1.0)\",\"width\":1}},\"name\":\"B\",\"orientation\":\"v\",\"text\":\"\",\"x\":[0,1,2,3,4,5,6,7,8,9,10,11,12,13,14,15,16,17,18,19,20,21,22,23,24,25,26,27,28,29,30,31,32,33,34,35,36,37,38,39,40,41,42,43,44,45,46,47,48,49,50,51,52,53,54,55,56,57,58,59,60,61,62,63,64,65,66,67,68,69,70,71,72,73,74,75,76,77,78,79,80,81,82,83,84,85,86,87,88,89,90,91,92,93,94,95,96,97,98,99],\"y\":[-2.467489679081685,-0.9109994341608991,-0.9775439597470429,-0.8050359803816095,0.3880837334389582,0.7226047001728041,2.12261391775626,-1.585119821691273,-1.4789391663694118,1.4130010878680048,0.5171336797321604,0.8200803187753855,-0.1651247430133621,-0.020378991429335632,1.7248920409679187,-1.0379234752961863,1.0288558054083492,-0.4209039800868332,0.9359771990048374,0.5283817923005579,-0.704072800755225,0.33848644671342304,1.1773768477836346,-0.45103721768800803,0.13224782035424706,0.7204598068251858,-0.9342447733723493,-1.5204779496076484,1.0181798372524824,2.0464668998426223,0.6454665423594669,-0.5056759016895037,0.6527386290509671,-0.5547342801162942,0.3788700033858548,-0.3676073288176218,0.5656698820540743,1.580633720103138,-0.12711454975637088,-0.3505517026278936,-0.7660622716697431,1.523972798077345,0.8877692878051118,-0.10704995915426571,1.629723149498767,-0.15762680777432658,-1.2668726445596794,0.20016928924696611,0.699254128347382,-0.03689603754636403,0.30371287844000294,0.28611928397815256,2.0585330014523042,1.0140945140540905,-0.8297552712905361,0.09013592833499368,0.3984442817811917,-0.4571516491840917,-0.44287898704643447,-1.0569149385856347,0.04807235507245364,-0.34419688596532827,0.10004621268753495,0.08731147708013766,1.0876804228688925,1.3099639910003447,0.7539412010773562,0.11957250636430646,2.3106977365467682,2.519930816359611,0.08534530825215789,-0.9825625396071127,-0.39525470620522996,-3.1375179773086317,0.6132469463474309,-0.16942740949205784,0.09266214650465411,-1.0902353511589595,0.8250519676663988,-0.13858028835181693,-0.28940274670430133,-0.002690390203971974,0.046357330322069706,0.85344253401098,0.5158074327785028,-1.0161437917023335,0.4572488313164856,-0.10617864673067459,-0.5613388514490533,0.3160584742132285,-0.8654585149192117,0.5512673818002701,-0.048270305086464724,0.7690216936257351,0.8258710118208544,-0.16396989659898215,-0.7355413370519562,-0.163054476714875,-1.1757281031956057,0.7343984686472602],\"type\":\"bar\"},{\"marker\":{\"color\":\"rgba(50, 171, 96, 0.6)\",\"line\":{\"color\":\"rgba(50, 171, 96, 1.0)\",\"width\":1}},\"name\":\"C\",\"orientation\":\"v\",\"text\":\"\",\"x\":[0,1,2,3,4,5,6,7,8,9,10,11,12,13,14,15,16,17,18,19,20,21,22,23,24,25,26,27,28,29,30,31,32,33,34,35,36,37,38,39,40,41,42,43,44,45,46,47,48,49,50,51,52,53,54,55,56,57,58,59,60,61,62,63,64,65,66,67,68,69,70,71,72,73,74,75,76,77,78,79,80,81,82,83,84,85,86,87,88,89,90,91,92,93,94,95,96,97,98,99],\"y\":[-0.8893998141162937,0.6372436645570296,-2.23741081423564,-0.31765623347929695,0.7561914475460509,-0.623860105721561,0.6903173494809115,-0.5048600551762947,2.020714308651883,0.23026979636838407,0.37398753003537616,0.5206609753244256,-0.10018920147383852,-1.2985299229663352,-0.9483501928456123,1.135689521637158,-0.3337735918049371,-1.6326402352224678,-0.25866872748129416,0.5924898339790267,1.2233285790848265,-1.474457852245962,0.45596964798191353,-0.10814969404145522,-0.27594004426502083,-0.9124845686148109,0.01100070388541124,-1.9505347477078452,-0.15105469124096588,0.907630680494936,-0.6029292033423908,0.990481495159389,1.1515227416718936,0.44789830857842894,-1.7855238667231463,-0.5902657180884271,0.8584499386080536,1.0116028854383643,-0.571014671596426,-0.3866591298764715,0.9949808495557023,0.7875792632930714,0.29112207583799676,-0.3884189898620297,-1.6966161836642502,1.8160384812003816,0.32587379503399005,0.2644828784239742,-0.08883414710595931,-1.8782287388849652,0.05256177117982688,1.0882529289653526,0.8784535728298893,1.0193199732692901,-0.8088506639910596,-1.0223568889142052,0.06939344982076391,0.6655572511232158,-0.38330034677819247,-0.7887206396605513,-2.1337760011371416,-0.505300093639108,-0.22328614767833907,-1.0417437989607305,-0.34560269984827874,0.3537127142015969,-0.2736786047966587,-0.2298074753826692,0.8303171527118302,-0.8303087103507922,1.9162689202891265,-0.5565059936724137,2.061512699042052,0.5734812031194394,-1.034854720445252,-0.11071862296050343,-0.6111748958387944,0.28806307986797813,1.2021557339158877,-1.3410568555000184,-0.5043708568868606,-0.26905233445725124,0.8835614081469708,0.31823037951212957,-0.20841669540258473,1.051719819048651,0.3510133756617166,0.11514781134378886,-2.0386124893706765,-1.569657323964556,-0.4080591760496254,-0.29178810250300924,0.40457254548522725,-0.7983154563691286,-0.2538226193332108,-0.678911915924447,0.5116043020782122,-0.2827194860534984,0.6441183952673111,-0.2619746150812916],\"type\":\"bar\"},{\"marker\":{\"color\":\"rgba(128, 0, 128, 0.6)\",\"line\":{\"color\":\"rgba(128, 0, 128, 1.0)\",\"width\":1}},\"name\":\"D\",\"orientation\":\"v\",\"text\":\"\",\"x\":[0,1,2,3,4,5,6,7,8,9,10,11,12,13,14,15,16,17,18,19,20,21,22,23,24,25,26,27,28,29,30,31,32,33,34,35,36,37,38,39,40,41,42,43,44,45,46,47,48,49,50,51,52,53,54,55,56,57,58,59,60,61,62,63,64,65,66,67,68,69,70,71,72,73,74,75,76,77,78,79,80,81,82,83,84,85,86,87,88,89,90,91,92,93,94,95,96,97,98,99],\"y\":[0.18451300084608604,-0.3022177165304333,-0.6006769288458926,-0.3052576828469785,0.012925204395338697,0.06072685016311775,1.2464010145843716,2.2562220704540947,1.7541323312485497,-2.7953960478174134,1.7960094174179742,0.8587481039984973,1.0574408725210322,-1.576207770904765,-0.16787222872406804,-1.580171289911969,-0.7405713053105409,-0.12211621622406345,-0.02719325408965277,0.7455332289902771,1.0431039917089024,-0.5573515013267838,-0.9478720009528269,-2.2240467163863453,0.47885219514426564,0.6635970834572871,0.16347637504181256,-0.514245754001384,0.2450690907864287,0.05695716481583332,0.6634388719648321,-0.39840694654691705,0.5490831922887796,-1.3498267213886324,2.0059690281820273,2.4237220564037774,0.6409158751104084,-1.145590629899955,-0.6344692609620162,-1.964475569311091,-2.553119815804278,-0.4154753044515657,0.93288515541365,0.41607149191763854,-0.5223885849225867,-0.5097269627705164,0.3137166198850058,-0.41033148846453166,-1.3504160978888808,-1.44639215776379,-1.2558830397396972,0.5085298183118243,-0.4844584936706081,-1.1095044253580726,-0.7520124292610786,0.5109618144518884,-1.0808074527541336,2.0158253236315438,0.8194125244241102,-1.830150410875788,-0.11276219125895252,0.7023652442498306,1.9866344386381598,-1.112745174819402,-1.0955180400783469,-0.44312559456598377,-0.9639932603404257,1.419599652907551,0.13032087210775575,-0.08480607840877766,-0.07161572488825718,-0.9309787384976403,0.11791449149366284,-1.1062473942402988,-0.35788548437586404,-0.3021284959768266,-1.3895146183345222,1.0207429380778419,0.17078822856664266,-0.1907799131125399,0.4714082561261303,0.2754318671952387,-0.2514751898440218,0.2837712535707717,-2.96998439652934,-0.1986095130641284,0.8367124996316605,-1.2139829622550151,0.6954813803560759,1.3221282513598556,-0.28719994075524213,2.2187535094641837,-0.3975645906718611,1.4843046228816186,-0.1192081000017448,1.0537349037666213,-0.6698748203139302,0.32146389721568674,-1.7296684021234106,0.531263702406474],\"type\":\"bar\"}],                        {\"legend\":{\"bgcolor\":\"#F5F6F9\",\"font\":{\"color\":\"#4D5663\"}},\"paper_bgcolor\":\"#F5F6F9\",\"plot_bgcolor\":\"#F5F6F9\",\"template\":{\"data\":{\"barpolar\":[{\"marker\":{\"line\":{\"color\":\"#E5ECF6\",\"width\":0.5},\"pattern\":{\"fillmode\":\"overlay\",\"size\":10,\"solidity\":0.2}},\"type\":\"barpolar\"}],\"bar\":[{\"error_x\":{\"color\":\"#2a3f5f\"},\"error_y\":{\"color\":\"#2a3f5f\"},\"marker\":{\"line\":{\"color\":\"#E5ECF6\",\"width\":0.5},\"pattern\":{\"fillmode\":\"overlay\",\"size\":10,\"solidity\":0.2}},\"type\":\"bar\"}],\"carpet\":[{\"aaxis\":{\"endlinecolor\":\"#2a3f5f\",\"gridcolor\":\"white\",\"linecolor\":\"white\",\"minorgridcolor\":\"white\",\"startlinecolor\":\"#2a3f5f\"},\"baxis\":{\"endlinecolor\":\"#2a3f5f\",\"gridcolor\":\"white\",\"linecolor\":\"white\",\"minorgridcolor\":\"white\",\"startlinecolor\":\"#2a3f5f\"},\"type\":\"carpet\"}],\"choropleth\":[{\"colorbar\":{\"outlinewidth\":0,\"ticks\":\"\"},\"type\":\"choropleth\"}],\"contourcarpet\":[{\"colorbar\":{\"outlinewidth\":0,\"ticks\":\"\"},\"type\":\"contourcarpet\"}],\"contour\":[{\"colorbar\":{\"outlinewidth\":0,\"ticks\":\"\"},\"colorscale\":[[0.0,\"#0d0887\"],[0.1111111111111111,\"#46039f\"],[0.2222222222222222,\"#7201a8\"],[0.3333333333333333,\"#9c179e\"],[0.4444444444444444,\"#bd3786\"],[0.5555555555555556,\"#d8576b\"],[0.6666666666666666,\"#ed7953\"],[0.7777777777777778,\"#fb9f3a\"],[0.8888888888888888,\"#fdca26\"],[1.0,\"#f0f921\"]],\"type\":\"contour\"}],\"heatmapgl\":[{\"colorbar\":{\"outlinewidth\":0,\"ticks\":\"\"},\"colorscale\":[[0.0,\"#0d0887\"],[0.1111111111111111,\"#46039f\"],[0.2222222222222222,\"#7201a8\"],[0.3333333333333333,\"#9c179e\"],[0.4444444444444444,\"#bd3786\"],[0.5555555555555556,\"#d8576b\"],[0.6666666666666666,\"#ed7953\"],[0.7777777777777778,\"#fb9f3a\"],[0.8888888888888888,\"#fdca26\"],[1.0,\"#f0f921\"]],\"type\":\"heatmapgl\"}],\"heatmap\":[{\"colorbar\":{\"outlinewidth\":0,\"ticks\":\"\"},\"colorscale\":[[0.0,\"#0d0887\"],[0.1111111111111111,\"#46039f\"],[0.2222222222222222,\"#7201a8\"],[0.3333333333333333,\"#9c179e\"],[0.4444444444444444,\"#bd3786\"],[0.5555555555555556,\"#d8576b\"],[0.6666666666666666,\"#ed7953\"],[0.7777777777777778,\"#fb9f3a\"],[0.8888888888888888,\"#fdca26\"],[1.0,\"#f0f921\"]],\"type\":\"heatmap\"}],\"histogram2dcontour\":[{\"colorbar\":{\"outlinewidth\":0,\"ticks\":\"\"},\"colorscale\":[[0.0,\"#0d0887\"],[0.1111111111111111,\"#46039f\"],[0.2222222222222222,\"#7201a8\"],[0.3333333333333333,\"#9c179e\"],[0.4444444444444444,\"#bd3786\"],[0.5555555555555556,\"#d8576b\"],[0.6666666666666666,\"#ed7953\"],[0.7777777777777778,\"#fb9f3a\"],[0.8888888888888888,\"#fdca26\"],[1.0,\"#f0f921\"]],\"type\":\"histogram2dcontour\"}],\"histogram2d\":[{\"colorbar\":{\"outlinewidth\":0,\"ticks\":\"\"},\"colorscale\":[[0.0,\"#0d0887\"],[0.1111111111111111,\"#46039f\"],[0.2222222222222222,\"#7201a8\"],[0.3333333333333333,\"#9c179e\"],[0.4444444444444444,\"#bd3786\"],[0.5555555555555556,\"#d8576b\"],[0.6666666666666666,\"#ed7953\"],[0.7777777777777778,\"#fb9f3a\"],[0.8888888888888888,\"#fdca26\"],[1.0,\"#f0f921\"]],\"type\":\"histogram2d\"}],\"histogram\":[{\"marker\":{\"pattern\":{\"fillmode\":\"overlay\",\"size\":10,\"solidity\":0.2}},\"type\":\"histogram\"}],\"mesh3d\":[{\"colorbar\":{\"outlinewidth\":0,\"ticks\":\"\"},\"type\":\"mesh3d\"}],\"parcoords\":[{\"line\":{\"colorbar\":{\"outlinewidth\":0,\"ticks\":\"\"}},\"type\":\"parcoords\"}],\"pie\":[{\"automargin\":true,\"type\":\"pie\"}],\"scatter3d\":[{\"line\":{\"colorbar\":{\"outlinewidth\":0,\"ticks\":\"\"}},\"marker\":{\"colorbar\":{\"outlinewidth\":0,\"ticks\":\"\"}},\"type\":\"scatter3d\"}],\"scattercarpet\":[{\"marker\":{\"colorbar\":{\"outlinewidth\":0,\"ticks\":\"\"}},\"type\":\"scattercarpet\"}],\"scattergeo\":[{\"marker\":{\"colorbar\":{\"outlinewidth\":0,\"ticks\":\"\"}},\"type\":\"scattergeo\"}],\"scattergl\":[{\"marker\":{\"colorbar\":{\"outlinewidth\":0,\"ticks\":\"\"}},\"type\":\"scattergl\"}],\"scattermapbox\":[{\"marker\":{\"colorbar\":{\"outlinewidth\":0,\"ticks\":\"\"}},\"type\":\"scattermapbox\"}],\"scatterpolargl\":[{\"marker\":{\"colorbar\":{\"outlinewidth\":0,\"ticks\":\"\"}},\"type\":\"scatterpolargl\"}],\"scatterpolar\":[{\"marker\":{\"colorbar\":{\"outlinewidth\":0,\"ticks\":\"\"}},\"type\":\"scatterpolar\"}],\"scatter\":[{\"fillpattern\":{\"fillmode\":\"overlay\",\"size\":10,\"solidity\":0.2},\"type\":\"scatter\"}],\"scatterternary\":[{\"marker\":{\"colorbar\":{\"outlinewidth\":0,\"ticks\":\"\"}},\"type\":\"scatterternary\"}],\"surface\":[{\"colorbar\":{\"outlinewidth\":0,\"ticks\":\"\"},\"colorscale\":[[0.0,\"#0d0887\"],[0.1111111111111111,\"#46039f\"],[0.2222222222222222,\"#7201a8\"],[0.3333333333333333,\"#9c179e\"],[0.4444444444444444,\"#bd3786\"],[0.5555555555555556,\"#d8576b\"],[0.6666666666666666,\"#ed7953\"],[0.7777777777777778,\"#fb9f3a\"],[0.8888888888888888,\"#fdca26\"],[1.0,\"#f0f921\"]],\"type\":\"surface\"}],\"table\":[{\"cells\":{\"fill\":{\"color\":\"#EBF0F8\"},\"line\":{\"color\":\"white\"}},\"header\":{\"fill\":{\"color\":\"#C8D4E3\"},\"line\":{\"color\":\"white\"}},\"type\":\"table\"}]},\"layout\":{\"annotationdefaults\":{\"arrowcolor\":\"#2a3f5f\",\"arrowhead\":0,\"arrowwidth\":1},\"autotypenumbers\":\"strict\",\"coloraxis\":{\"colorbar\":{\"outlinewidth\":0,\"ticks\":\"\"}},\"colorscale\":{\"diverging\":[[0,\"#8e0152\"],[0.1,\"#c51b7d\"],[0.2,\"#de77ae\"],[0.3,\"#f1b6da\"],[0.4,\"#fde0ef\"],[0.5,\"#f7f7f7\"],[0.6,\"#e6f5d0\"],[0.7,\"#b8e186\"],[0.8,\"#7fbc41\"],[0.9,\"#4d9221\"],[1,\"#276419\"]],\"sequential\":[[0.0,\"#0d0887\"],[0.1111111111111111,\"#46039f\"],[0.2222222222222222,\"#7201a8\"],[0.3333333333333333,\"#9c179e\"],[0.4444444444444444,\"#bd3786\"],[0.5555555555555556,\"#d8576b\"],[0.6666666666666666,\"#ed7953\"],[0.7777777777777778,\"#fb9f3a\"],[0.8888888888888888,\"#fdca26\"],[1.0,\"#f0f921\"]],\"sequentialminus\":[[0.0,\"#0d0887\"],[0.1111111111111111,\"#46039f\"],[0.2222222222222222,\"#7201a8\"],[0.3333333333333333,\"#9c179e\"],[0.4444444444444444,\"#bd3786\"],[0.5555555555555556,\"#d8576b\"],[0.6666666666666666,\"#ed7953\"],[0.7777777777777778,\"#fb9f3a\"],[0.8888888888888888,\"#fdca26\"],[1.0,\"#f0f921\"]]},\"colorway\":[\"#636efa\",\"#EF553B\",\"#00cc96\",\"#ab63fa\",\"#FFA15A\",\"#19d3f3\",\"#FF6692\",\"#B6E880\",\"#FF97FF\",\"#FECB52\"],\"font\":{\"color\":\"#2a3f5f\"},\"geo\":{\"bgcolor\":\"white\",\"lakecolor\":\"white\",\"landcolor\":\"#E5ECF6\",\"showlakes\":true,\"showland\":true,\"subunitcolor\":\"white\"},\"hoverlabel\":{\"align\":\"left\"},\"hovermode\":\"closest\",\"mapbox\":{\"style\":\"light\"},\"paper_bgcolor\":\"white\",\"plot_bgcolor\":\"#E5ECF6\",\"polar\":{\"angularaxis\":{\"gridcolor\":\"white\",\"linecolor\":\"white\",\"ticks\":\"\"},\"bgcolor\":\"#E5ECF6\",\"radialaxis\":{\"gridcolor\":\"white\",\"linecolor\":\"white\",\"ticks\":\"\"}},\"scene\":{\"xaxis\":{\"backgroundcolor\":\"#E5ECF6\",\"gridcolor\":\"white\",\"gridwidth\":2,\"linecolor\":\"white\",\"showbackground\":true,\"ticks\":\"\",\"zerolinecolor\":\"white\"},\"yaxis\":{\"backgroundcolor\":\"#E5ECF6\",\"gridcolor\":\"white\",\"gridwidth\":2,\"linecolor\":\"white\",\"showbackground\":true,\"ticks\":\"\",\"zerolinecolor\":\"white\"},\"zaxis\":{\"backgroundcolor\":\"#E5ECF6\",\"gridcolor\":\"white\",\"gridwidth\":2,\"linecolor\":\"white\",\"showbackground\":true,\"ticks\":\"\",\"zerolinecolor\":\"white\"}},\"shapedefaults\":{\"line\":{\"color\":\"#2a3f5f\"}},\"ternary\":{\"aaxis\":{\"gridcolor\":\"white\",\"linecolor\":\"white\",\"ticks\":\"\"},\"baxis\":{\"gridcolor\":\"white\",\"linecolor\":\"white\",\"ticks\":\"\"},\"bgcolor\":\"#E5ECF6\",\"caxis\":{\"gridcolor\":\"white\",\"linecolor\":\"white\",\"ticks\":\"\"}},\"title\":{\"x\":0.05},\"xaxis\":{\"automargin\":true,\"gridcolor\":\"white\",\"linecolor\":\"white\",\"ticks\":\"\",\"title\":{\"standoff\":15},\"zerolinecolor\":\"white\",\"zerolinewidth\":2},\"yaxis\":{\"automargin\":true,\"gridcolor\":\"white\",\"linecolor\":\"white\",\"ticks\":\"\",\"title\":{\"standoff\":15},\"zerolinecolor\":\"white\",\"zerolinewidth\":2}}},\"title\":{\"font\":{\"color\":\"#4D5663\"}},\"xaxis\":{\"gridcolor\":\"#E1E5ED\",\"showgrid\":true,\"tickfont\":{\"color\":\"#4D5663\"},\"title\":{\"font\":{\"color\":\"#4D5663\"},\"text\":\"\"},\"zerolinecolor\":\"#E1E5ED\"},\"yaxis\":{\"gridcolor\":\"#E1E5ED\",\"showgrid\":true,\"tickfont\":{\"color\":\"#4D5663\"},\"title\":{\"font\":{\"color\":\"#4D5663\"},\"text\":\"\"},\"zerolinecolor\":\"#E1E5ED\"}},                        {\"showLink\": true, \"linkText\": \"Export to plot.ly\", \"plotlyServerURL\": \"https://plot.ly\", \"responsive\": true}                    ).then(function(){\n",
       "                            \n",
       "var gd = document.getElementById('845f2e82-d8cb-4f15-9d7a-62a3bf8a3c23');\n",
       "var x = new MutationObserver(function (mutations, observer) {{\n",
       "        var display = window.getComputedStyle(gd).display;\n",
       "        if (!display || display === 'none') {{\n",
       "            console.log([gd, 'removed!']);\n",
       "            Plotly.purge(gd);\n",
       "            observer.disconnect();\n",
       "        }}\n",
       "}});\n",
       "\n",
       "// Listen for the removal of the full notebook cells\n",
       "var notebookContainer = gd.closest('#notebook-container');\n",
       "if (notebookContainer) {{\n",
       "    x.observe(notebookContainer, {childList: true});\n",
       "}}\n",
       "\n",
       "// Listen for the clearing of the current output cell\n",
       "var outputEl = gd.closest('.output');\n",
       "if (outputEl) {{\n",
       "    x.observe(outputEl, {childList: true});\n",
       "}}\n",
       "\n",
       "                        })                };                });            </script>        </div>"
      ]
     },
     "metadata": {},
     "output_type": "display_data"
    }
   ],
   "source": [
    "df.iplot(kind='bar') #you will get a list of bar for every data points"
   ]
  },
  {
   "cell_type": "code",
   "execution_count": 19,
   "id": "7143d9f4",
   "metadata": {},
   "outputs": [
    {
     "data": {
      "application/vnd.plotly.v1+json": {
       "config": {
        "linkText": "Export to plot.ly",
        "plotlyServerURL": "https://plot.ly",
        "showLink": true
       },
       "data": [
        {
         "marker": {
          "color": "rgba(255, 153, 51, 0.6)",
          "line": {
           "color": "rgba(255, 153, 51, 1.0)",
           "width": 1
          }
         },
         "name": "None",
         "orientation": "v",
         "text": "",
         "type": "bar",
         "x": [
          "A",
          "B",
          "C",
          "D"
         ],
         "y": [
          100,
          100,
          100,
          100
         ]
        }
       ],
       "layout": {
        "legend": {
         "bgcolor": "#F5F6F9",
         "font": {
          "color": "#4D5663"
         }
        },
        "paper_bgcolor": "#F5F6F9",
        "plot_bgcolor": "#F5F6F9",
        "template": {
         "data": {
          "bar": [
           {
            "error_x": {
             "color": "#2a3f5f"
            },
            "error_y": {
             "color": "#2a3f5f"
            },
            "marker": {
             "line": {
              "color": "#E5ECF6",
              "width": 0.5
             },
             "pattern": {
              "fillmode": "overlay",
              "size": 10,
              "solidity": 0.2
             }
            },
            "type": "bar"
           }
          ],
          "barpolar": [
           {
            "marker": {
             "line": {
              "color": "#E5ECF6",
              "width": 0.5
             },
             "pattern": {
              "fillmode": "overlay",
              "size": 10,
              "solidity": 0.2
             }
            },
            "type": "barpolar"
           }
          ],
          "carpet": [
           {
            "aaxis": {
             "endlinecolor": "#2a3f5f",
             "gridcolor": "white",
             "linecolor": "white",
             "minorgridcolor": "white",
             "startlinecolor": "#2a3f5f"
            },
            "baxis": {
             "endlinecolor": "#2a3f5f",
             "gridcolor": "white",
             "linecolor": "white",
             "minorgridcolor": "white",
             "startlinecolor": "#2a3f5f"
            },
            "type": "carpet"
           }
          ],
          "choropleth": [
           {
            "colorbar": {
             "outlinewidth": 0,
             "ticks": ""
            },
            "type": "choropleth"
           }
          ],
          "contour": [
           {
            "colorbar": {
             "outlinewidth": 0,
             "ticks": ""
            },
            "colorscale": [
             [
              0,
              "#0d0887"
             ],
             [
              0.1111111111111111,
              "#46039f"
             ],
             [
              0.2222222222222222,
              "#7201a8"
             ],
             [
              0.3333333333333333,
              "#9c179e"
             ],
             [
              0.4444444444444444,
              "#bd3786"
             ],
             [
              0.5555555555555556,
              "#d8576b"
             ],
             [
              0.6666666666666666,
              "#ed7953"
             ],
             [
              0.7777777777777778,
              "#fb9f3a"
             ],
             [
              0.8888888888888888,
              "#fdca26"
             ],
             [
              1,
              "#f0f921"
             ]
            ],
            "type": "contour"
           }
          ],
          "contourcarpet": [
           {
            "colorbar": {
             "outlinewidth": 0,
             "ticks": ""
            },
            "type": "contourcarpet"
           }
          ],
          "heatmap": [
           {
            "colorbar": {
             "outlinewidth": 0,
             "ticks": ""
            },
            "colorscale": [
             [
              0,
              "#0d0887"
             ],
             [
              0.1111111111111111,
              "#46039f"
             ],
             [
              0.2222222222222222,
              "#7201a8"
             ],
             [
              0.3333333333333333,
              "#9c179e"
             ],
             [
              0.4444444444444444,
              "#bd3786"
             ],
             [
              0.5555555555555556,
              "#d8576b"
             ],
             [
              0.6666666666666666,
              "#ed7953"
             ],
             [
              0.7777777777777778,
              "#fb9f3a"
             ],
             [
              0.8888888888888888,
              "#fdca26"
             ],
             [
              1,
              "#f0f921"
             ]
            ],
            "type": "heatmap"
           }
          ],
          "heatmapgl": [
           {
            "colorbar": {
             "outlinewidth": 0,
             "ticks": ""
            },
            "colorscale": [
             [
              0,
              "#0d0887"
             ],
             [
              0.1111111111111111,
              "#46039f"
             ],
             [
              0.2222222222222222,
              "#7201a8"
             ],
             [
              0.3333333333333333,
              "#9c179e"
             ],
             [
              0.4444444444444444,
              "#bd3786"
             ],
             [
              0.5555555555555556,
              "#d8576b"
             ],
             [
              0.6666666666666666,
              "#ed7953"
             ],
             [
              0.7777777777777778,
              "#fb9f3a"
             ],
             [
              0.8888888888888888,
              "#fdca26"
             ],
             [
              1,
              "#f0f921"
             ]
            ],
            "type": "heatmapgl"
           }
          ],
          "histogram": [
           {
            "marker": {
             "pattern": {
              "fillmode": "overlay",
              "size": 10,
              "solidity": 0.2
             }
            },
            "type": "histogram"
           }
          ],
          "histogram2d": [
           {
            "colorbar": {
             "outlinewidth": 0,
             "ticks": ""
            },
            "colorscale": [
             [
              0,
              "#0d0887"
             ],
             [
              0.1111111111111111,
              "#46039f"
             ],
             [
              0.2222222222222222,
              "#7201a8"
             ],
             [
              0.3333333333333333,
              "#9c179e"
             ],
             [
              0.4444444444444444,
              "#bd3786"
             ],
             [
              0.5555555555555556,
              "#d8576b"
             ],
             [
              0.6666666666666666,
              "#ed7953"
             ],
             [
              0.7777777777777778,
              "#fb9f3a"
             ],
             [
              0.8888888888888888,
              "#fdca26"
             ],
             [
              1,
              "#f0f921"
             ]
            ],
            "type": "histogram2d"
           }
          ],
          "histogram2dcontour": [
           {
            "colorbar": {
             "outlinewidth": 0,
             "ticks": ""
            },
            "colorscale": [
             [
              0,
              "#0d0887"
             ],
             [
              0.1111111111111111,
              "#46039f"
             ],
             [
              0.2222222222222222,
              "#7201a8"
             ],
             [
              0.3333333333333333,
              "#9c179e"
             ],
             [
              0.4444444444444444,
              "#bd3786"
             ],
             [
              0.5555555555555556,
              "#d8576b"
             ],
             [
              0.6666666666666666,
              "#ed7953"
             ],
             [
              0.7777777777777778,
              "#fb9f3a"
             ],
             [
              0.8888888888888888,
              "#fdca26"
             ],
             [
              1,
              "#f0f921"
             ]
            ],
            "type": "histogram2dcontour"
           }
          ],
          "mesh3d": [
           {
            "colorbar": {
             "outlinewidth": 0,
             "ticks": ""
            },
            "type": "mesh3d"
           }
          ],
          "parcoords": [
           {
            "line": {
             "colorbar": {
              "outlinewidth": 0,
              "ticks": ""
             }
            },
            "type": "parcoords"
           }
          ],
          "pie": [
           {
            "automargin": true,
            "type": "pie"
           }
          ],
          "scatter": [
           {
            "fillpattern": {
             "fillmode": "overlay",
             "size": 10,
             "solidity": 0.2
            },
            "type": "scatter"
           }
          ],
          "scatter3d": [
           {
            "line": {
             "colorbar": {
              "outlinewidth": 0,
              "ticks": ""
             }
            },
            "marker": {
             "colorbar": {
              "outlinewidth": 0,
              "ticks": ""
             }
            },
            "type": "scatter3d"
           }
          ],
          "scattercarpet": [
           {
            "marker": {
             "colorbar": {
              "outlinewidth": 0,
              "ticks": ""
             }
            },
            "type": "scattercarpet"
           }
          ],
          "scattergeo": [
           {
            "marker": {
             "colorbar": {
              "outlinewidth": 0,
              "ticks": ""
             }
            },
            "type": "scattergeo"
           }
          ],
          "scattergl": [
           {
            "marker": {
             "colorbar": {
              "outlinewidth": 0,
              "ticks": ""
             }
            },
            "type": "scattergl"
           }
          ],
          "scattermapbox": [
           {
            "marker": {
             "colorbar": {
              "outlinewidth": 0,
              "ticks": ""
             }
            },
            "type": "scattermapbox"
           }
          ],
          "scatterpolar": [
           {
            "marker": {
             "colorbar": {
              "outlinewidth": 0,
              "ticks": ""
             }
            },
            "type": "scatterpolar"
           }
          ],
          "scatterpolargl": [
           {
            "marker": {
             "colorbar": {
              "outlinewidth": 0,
              "ticks": ""
             }
            },
            "type": "scatterpolargl"
           }
          ],
          "scatterternary": [
           {
            "marker": {
             "colorbar": {
              "outlinewidth": 0,
              "ticks": ""
             }
            },
            "type": "scatterternary"
           }
          ],
          "surface": [
           {
            "colorbar": {
             "outlinewidth": 0,
             "ticks": ""
            },
            "colorscale": [
             [
              0,
              "#0d0887"
             ],
             [
              0.1111111111111111,
              "#46039f"
             ],
             [
              0.2222222222222222,
              "#7201a8"
             ],
             [
              0.3333333333333333,
              "#9c179e"
             ],
             [
              0.4444444444444444,
              "#bd3786"
             ],
             [
              0.5555555555555556,
              "#d8576b"
             ],
             [
              0.6666666666666666,
              "#ed7953"
             ],
             [
              0.7777777777777778,
              "#fb9f3a"
             ],
             [
              0.8888888888888888,
              "#fdca26"
             ],
             [
              1,
              "#f0f921"
             ]
            ],
            "type": "surface"
           }
          ],
          "table": [
           {
            "cells": {
             "fill": {
              "color": "#EBF0F8"
             },
             "line": {
              "color": "white"
             }
            },
            "header": {
             "fill": {
              "color": "#C8D4E3"
             },
             "line": {
              "color": "white"
             }
            },
            "type": "table"
           }
          ]
         },
         "layout": {
          "annotationdefaults": {
           "arrowcolor": "#2a3f5f",
           "arrowhead": 0,
           "arrowwidth": 1
          },
          "autotypenumbers": "strict",
          "coloraxis": {
           "colorbar": {
            "outlinewidth": 0,
            "ticks": ""
           }
          },
          "colorscale": {
           "diverging": [
            [
             0,
             "#8e0152"
            ],
            [
             0.1,
             "#c51b7d"
            ],
            [
             0.2,
             "#de77ae"
            ],
            [
             0.3,
             "#f1b6da"
            ],
            [
             0.4,
             "#fde0ef"
            ],
            [
             0.5,
             "#f7f7f7"
            ],
            [
             0.6,
             "#e6f5d0"
            ],
            [
             0.7,
             "#b8e186"
            ],
            [
             0.8,
             "#7fbc41"
            ],
            [
             0.9,
             "#4d9221"
            ],
            [
             1,
             "#276419"
            ]
           ],
           "sequential": [
            [
             0,
             "#0d0887"
            ],
            [
             0.1111111111111111,
             "#46039f"
            ],
            [
             0.2222222222222222,
             "#7201a8"
            ],
            [
             0.3333333333333333,
             "#9c179e"
            ],
            [
             0.4444444444444444,
             "#bd3786"
            ],
            [
             0.5555555555555556,
             "#d8576b"
            ],
            [
             0.6666666666666666,
             "#ed7953"
            ],
            [
             0.7777777777777778,
             "#fb9f3a"
            ],
            [
             0.8888888888888888,
             "#fdca26"
            ],
            [
             1,
             "#f0f921"
            ]
           ],
           "sequentialminus": [
            [
             0,
             "#0d0887"
            ],
            [
             0.1111111111111111,
             "#46039f"
            ],
            [
             0.2222222222222222,
             "#7201a8"
            ],
            [
             0.3333333333333333,
             "#9c179e"
            ],
            [
             0.4444444444444444,
             "#bd3786"
            ],
            [
             0.5555555555555556,
             "#d8576b"
            ],
            [
             0.6666666666666666,
             "#ed7953"
            ],
            [
             0.7777777777777778,
             "#fb9f3a"
            ],
            [
             0.8888888888888888,
             "#fdca26"
            ],
            [
             1,
             "#f0f921"
            ]
           ]
          },
          "colorway": [
           "#636efa",
           "#EF553B",
           "#00cc96",
           "#ab63fa",
           "#FFA15A",
           "#19d3f3",
           "#FF6692",
           "#B6E880",
           "#FF97FF",
           "#FECB52"
          ],
          "font": {
           "color": "#2a3f5f"
          },
          "geo": {
           "bgcolor": "white",
           "lakecolor": "white",
           "landcolor": "#E5ECF6",
           "showlakes": true,
           "showland": true,
           "subunitcolor": "white"
          },
          "hoverlabel": {
           "align": "left"
          },
          "hovermode": "closest",
          "mapbox": {
           "style": "light"
          },
          "paper_bgcolor": "white",
          "plot_bgcolor": "#E5ECF6",
          "polar": {
           "angularaxis": {
            "gridcolor": "white",
            "linecolor": "white",
            "ticks": ""
           },
           "bgcolor": "#E5ECF6",
           "radialaxis": {
            "gridcolor": "white",
            "linecolor": "white",
            "ticks": ""
           }
          },
          "scene": {
           "xaxis": {
            "backgroundcolor": "#E5ECF6",
            "gridcolor": "white",
            "gridwidth": 2,
            "linecolor": "white",
            "showbackground": true,
            "ticks": "",
            "zerolinecolor": "white"
           },
           "yaxis": {
            "backgroundcolor": "#E5ECF6",
            "gridcolor": "white",
            "gridwidth": 2,
            "linecolor": "white",
            "showbackground": true,
            "ticks": "",
            "zerolinecolor": "white"
           },
           "zaxis": {
            "backgroundcolor": "#E5ECF6",
            "gridcolor": "white",
            "gridwidth": 2,
            "linecolor": "white",
            "showbackground": true,
            "ticks": "",
            "zerolinecolor": "white"
           }
          },
          "shapedefaults": {
           "line": {
            "color": "#2a3f5f"
           }
          },
          "ternary": {
           "aaxis": {
            "gridcolor": "white",
            "linecolor": "white",
            "ticks": ""
           },
           "baxis": {
            "gridcolor": "white",
            "linecolor": "white",
            "ticks": ""
           },
           "bgcolor": "#E5ECF6",
           "caxis": {
            "gridcolor": "white",
            "linecolor": "white",
            "ticks": ""
           }
          },
          "title": {
           "x": 0.05
          },
          "xaxis": {
           "automargin": true,
           "gridcolor": "white",
           "linecolor": "white",
           "ticks": "",
           "title": {
            "standoff": 15
           },
           "zerolinecolor": "white",
           "zerolinewidth": 2
          },
          "yaxis": {
           "automargin": true,
           "gridcolor": "white",
           "linecolor": "white",
           "ticks": "",
           "title": {
            "standoff": 15
           },
           "zerolinecolor": "white",
           "zerolinewidth": 2
          }
         }
        },
        "title": {
         "font": {
          "color": "#4D5663"
         }
        },
        "xaxis": {
         "gridcolor": "#E1E5ED",
         "showgrid": true,
         "tickfont": {
          "color": "#4D5663"
         },
         "title": {
          "font": {
           "color": "#4D5663"
          },
          "text": ""
         },
         "zerolinecolor": "#E1E5ED"
        },
        "yaxis": {
         "gridcolor": "#E1E5ED",
         "showgrid": true,
         "tickfont": {
          "color": "#4D5663"
         },
         "title": {
          "font": {
           "color": "#4D5663"
          },
          "text": ""
         },
         "zerolinecolor": "#E1E5ED"
        }
       }
      },
      "text/html": [
       "<div>                            <div id=\"71b4c1bc-888a-4d00-bfe9-a85d8aa7c188\" class=\"plotly-graph-div\" style=\"height:525px; width:100%;\"></div>            <script type=\"text/javascript\">                require([\"plotly\"], function(Plotly) {                    window.PLOTLYENV=window.PLOTLYENV || {};\n",
       "                    window.PLOTLYENV.BASE_URL='https://plot.ly';                                    if (document.getElementById(\"71b4c1bc-888a-4d00-bfe9-a85d8aa7c188\")) {                    Plotly.newPlot(                        \"71b4c1bc-888a-4d00-bfe9-a85d8aa7c188\",                        [{\"marker\":{\"color\":\"rgba(255, 153, 51, 0.6)\",\"line\":{\"color\":\"rgba(255, 153, 51, 1.0)\",\"width\":1}},\"name\":\"None\",\"orientation\":\"v\",\"text\":\"\",\"x\":[\"A\",\"B\",\"C\",\"D\"],\"y\":[100,100,100,100],\"type\":\"bar\"}],                        {\"legend\":{\"bgcolor\":\"#F5F6F9\",\"font\":{\"color\":\"#4D5663\"}},\"paper_bgcolor\":\"#F5F6F9\",\"plot_bgcolor\":\"#F5F6F9\",\"template\":{\"data\":{\"barpolar\":[{\"marker\":{\"line\":{\"color\":\"#E5ECF6\",\"width\":0.5},\"pattern\":{\"fillmode\":\"overlay\",\"size\":10,\"solidity\":0.2}},\"type\":\"barpolar\"}],\"bar\":[{\"error_x\":{\"color\":\"#2a3f5f\"},\"error_y\":{\"color\":\"#2a3f5f\"},\"marker\":{\"line\":{\"color\":\"#E5ECF6\",\"width\":0.5},\"pattern\":{\"fillmode\":\"overlay\",\"size\":10,\"solidity\":0.2}},\"type\":\"bar\"}],\"carpet\":[{\"aaxis\":{\"endlinecolor\":\"#2a3f5f\",\"gridcolor\":\"white\",\"linecolor\":\"white\",\"minorgridcolor\":\"white\",\"startlinecolor\":\"#2a3f5f\"},\"baxis\":{\"endlinecolor\":\"#2a3f5f\",\"gridcolor\":\"white\",\"linecolor\":\"white\",\"minorgridcolor\":\"white\",\"startlinecolor\":\"#2a3f5f\"},\"type\":\"carpet\"}],\"choropleth\":[{\"colorbar\":{\"outlinewidth\":0,\"ticks\":\"\"},\"type\":\"choropleth\"}],\"contourcarpet\":[{\"colorbar\":{\"outlinewidth\":0,\"ticks\":\"\"},\"type\":\"contourcarpet\"}],\"contour\":[{\"colorbar\":{\"outlinewidth\":0,\"ticks\":\"\"},\"colorscale\":[[0.0,\"#0d0887\"],[0.1111111111111111,\"#46039f\"],[0.2222222222222222,\"#7201a8\"],[0.3333333333333333,\"#9c179e\"],[0.4444444444444444,\"#bd3786\"],[0.5555555555555556,\"#d8576b\"],[0.6666666666666666,\"#ed7953\"],[0.7777777777777778,\"#fb9f3a\"],[0.8888888888888888,\"#fdca26\"],[1.0,\"#f0f921\"]],\"type\":\"contour\"}],\"heatmapgl\":[{\"colorbar\":{\"outlinewidth\":0,\"ticks\":\"\"},\"colorscale\":[[0.0,\"#0d0887\"],[0.1111111111111111,\"#46039f\"],[0.2222222222222222,\"#7201a8\"],[0.3333333333333333,\"#9c179e\"],[0.4444444444444444,\"#bd3786\"],[0.5555555555555556,\"#d8576b\"],[0.6666666666666666,\"#ed7953\"],[0.7777777777777778,\"#fb9f3a\"],[0.8888888888888888,\"#fdca26\"],[1.0,\"#f0f921\"]],\"type\":\"heatmapgl\"}],\"heatmap\":[{\"colorbar\":{\"outlinewidth\":0,\"ticks\":\"\"},\"colorscale\":[[0.0,\"#0d0887\"],[0.1111111111111111,\"#46039f\"],[0.2222222222222222,\"#7201a8\"],[0.3333333333333333,\"#9c179e\"],[0.4444444444444444,\"#bd3786\"],[0.5555555555555556,\"#d8576b\"],[0.6666666666666666,\"#ed7953\"],[0.7777777777777778,\"#fb9f3a\"],[0.8888888888888888,\"#fdca26\"],[1.0,\"#f0f921\"]],\"type\":\"heatmap\"}],\"histogram2dcontour\":[{\"colorbar\":{\"outlinewidth\":0,\"ticks\":\"\"},\"colorscale\":[[0.0,\"#0d0887\"],[0.1111111111111111,\"#46039f\"],[0.2222222222222222,\"#7201a8\"],[0.3333333333333333,\"#9c179e\"],[0.4444444444444444,\"#bd3786\"],[0.5555555555555556,\"#d8576b\"],[0.6666666666666666,\"#ed7953\"],[0.7777777777777778,\"#fb9f3a\"],[0.8888888888888888,\"#fdca26\"],[1.0,\"#f0f921\"]],\"type\":\"histogram2dcontour\"}],\"histogram2d\":[{\"colorbar\":{\"outlinewidth\":0,\"ticks\":\"\"},\"colorscale\":[[0.0,\"#0d0887\"],[0.1111111111111111,\"#46039f\"],[0.2222222222222222,\"#7201a8\"],[0.3333333333333333,\"#9c179e\"],[0.4444444444444444,\"#bd3786\"],[0.5555555555555556,\"#d8576b\"],[0.6666666666666666,\"#ed7953\"],[0.7777777777777778,\"#fb9f3a\"],[0.8888888888888888,\"#fdca26\"],[1.0,\"#f0f921\"]],\"type\":\"histogram2d\"}],\"histogram\":[{\"marker\":{\"pattern\":{\"fillmode\":\"overlay\",\"size\":10,\"solidity\":0.2}},\"type\":\"histogram\"}],\"mesh3d\":[{\"colorbar\":{\"outlinewidth\":0,\"ticks\":\"\"},\"type\":\"mesh3d\"}],\"parcoords\":[{\"line\":{\"colorbar\":{\"outlinewidth\":0,\"ticks\":\"\"}},\"type\":\"parcoords\"}],\"pie\":[{\"automargin\":true,\"type\":\"pie\"}],\"scatter3d\":[{\"line\":{\"colorbar\":{\"outlinewidth\":0,\"ticks\":\"\"}},\"marker\":{\"colorbar\":{\"outlinewidth\":0,\"ticks\":\"\"}},\"type\":\"scatter3d\"}],\"scattercarpet\":[{\"marker\":{\"colorbar\":{\"outlinewidth\":0,\"ticks\":\"\"}},\"type\":\"scattercarpet\"}],\"scattergeo\":[{\"marker\":{\"colorbar\":{\"outlinewidth\":0,\"ticks\":\"\"}},\"type\":\"scattergeo\"}],\"scattergl\":[{\"marker\":{\"colorbar\":{\"outlinewidth\":0,\"ticks\":\"\"}},\"type\":\"scattergl\"}],\"scattermapbox\":[{\"marker\":{\"colorbar\":{\"outlinewidth\":0,\"ticks\":\"\"}},\"type\":\"scattermapbox\"}],\"scatterpolargl\":[{\"marker\":{\"colorbar\":{\"outlinewidth\":0,\"ticks\":\"\"}},\"type\":\"scatterpolargl\"}],\"scatterpolar\":[{\"marker\":{\"colorbar\":{\"outlinewidth\":0,\"ticks\":\"\"}},\"type\":\"scatterpolar\"}],\"scatter\":[{\"fillpattern\":{\"fillmode\":\"overlay\",\"size\":10,\"solidity\":0.2},\"type\":\"scatter\"}],\"scatterternary\":[{\"marker\":{\"colorbar\":{\"outlinewidth\":0,\"ticks\":\"\"}},\"type\":\"scatterternary\"}],\"surface\":[{\"colorbar\":{\"outlinewidth\":0,\"ticks\":\"\"},\"colorscale\":[[0.0,\"#0d0887\"],[0.1111111111111111,\"#46039f\"],[0.2222222222222222,\"#7201a8\"],[0.3333333333333333,\"#9c179e\"],[0.4444444444444444,\"#bd3786\"],[0.5555555555555556,\"#d8576b\"],[0.6666666666666666,\"#ed7953\"],[0.7777777777777778,\"#fb9f3a\"],[0.8888888888888888,\"#fdca26\"],[1.0,\"#f0f921\"]],\"type\":\"surface\"}],\"table\":[{\"cells\":{\"fill\":{\"color\":\"#EBF0F8\"},\"line\":{\"color\":\"white\"}},\"header\":{\"fill\":{\"color\":\"#C8D4E3\"},\"line\":{\"color\":\"white\"}},\"type\":\"table\"}]},\"layout\":{\"annotationdefaults\":{\"arrowcolor\":\"#2a3f5f\",\"arrowhead\":0,\"arrowwidth\":1},\"autotypenumbers\":\"strict\",\"coloraxis\":{\"colorbar\":{\"outlinewidth\":0,\"ticks\":\"\"}},\"colorscale\":{\"diverging\":[[0,\"#8e0152\"],[0.1,\"#c51b7d\"],[0.2,\"#de77ae\"],[0.3,\"#f1b6da\"],[0.4,\"#fde0ef\"],[0.5,\"#f7f7f7\"],[0.6,\"#e6f5d0\"],[0.7,\"#b8e186\"],[0.8,\"#7fbc41\"],[0.9,\"#4d9221\"],[1,\"#276419\"]],\"sequential\":[[0.0,\"#0d0887\"],[0.1111111111111111,\"#46039f\"],[0.2222222222222222,\"#7201a8\"],[0.3333333333333333,\"#9c179e\"],[0.4444444444444444,\"#bd3786\"],[0.5555555555555556,\"#d8576b\"],[0.6666666666666666,\"#ed7953\"],[0.7777777777777778,\"#fb9f3a\"],[0.8888888888888888,\"#fdca26\"],[1.0,\"#f0f921\"]],\"sequentialminus\":[[0.0,\"#0d0887\"],[0.1111111111111111,\"#46039f\"],[0.2222222222222222,\"#7201a8\"],[0.3333333333333333,\"#9c179e\"],[0.4444444444444444,\"#bd3786\"],[0.5555555555555556,\"#d8576b\"],[0.6666666666666666,\"#ed7953\"],[0.7777777777777778,\"#fb9f3a\"],[0.8888888888888888,\"#fdca26\"],[1.0,\"#f0f921\"]]},\"colorway\":[\"#636efa\",\"#EF553B\",\"#00cc96\",\"#ab63fa\",\"#FFA15A\",\"#19d3f3\",\"#FF6692\",\"#B6E880\",\"#FF97FF\",\"#FECB52\"],\"font\":{\"color\":\"#2a3f5f\"},\"geo\":{\"bgcolor\":\"white\",\"lakecolor\":\"white\",\"landcolor\":\"#E5ECF6\",\"showlakes\":true,\"showland\":true,\"subunitcolor\":\"white\"},\"hoverlabel\":{\"align\":\"left\"},\"hovermode\":\"closest\",\"mapbox\":{\"style\":\"light\"},\"paper_bgcolor\":\"white\",\"plot_bgcolor\":\"#E5ECF6\",\"polar\":{\"angularaxis\":{\"gridcolor\":\"white\",\"linecolor\":\"white\",\"ticks\":\"\"},\"bgcolor\":\"#E5ECF6\",\"radialaxis\":{\"gridcolor\":\"white\",\"linecolor\":\"white\",\"ticks\":\"\"}},\"scene\":{\"xaxis\":{\"backgroundcolor\":\"#E5ECF6\",\"gridcolor\":\"white\",\"gridwidth\":2,\"linecolor\":\"white\",\"showbackground\":true,\"ticks\":\"\",\"zerolinecolor\":\"white\"},\"yaxis\":{\"backgroundcolor\":\"#E5ECF6\",\"gridcolor\":\"white\",\"gridwidth\":2,\"linecolor\":\"white\",\"showbackground\":true,\"ticks\":\"\",\"zerolinecolor\":\"white\"},\"zaxis\":{\"backgroundcolor\":\"#E5ECF6\",\"gridcolor\":\"white\",\"gridwidth\":2,\"linecolor\":\"white\",\"showbackground\":true,\"ticks\":\"\",\"zerolinecolor\":\"white\"}},\"shapedefaults\":{\"line\":{\"color\":\"#2a3f5f\"}},\"ternary\":{\"aaxis\":{\"gridcolor\":\"white\",\"linecolor\":\"white\",\"ticks\":\"\"},\"baxis\":{\"gridcolor\":\"white\",\"linecolor\":\"white\",\"ticks\":\"\"},\"bgcolor\":\"#E5ECF6\",\"caxis\":{\"gridcolor\":\"white\",\"linecolor\":\"white\",\"ticks\":\"\"}},\"title\":{\"x\":0.05},\"xaxis\":{\"automargin\":true,\"gridcolor\":\"white\",\"linecolor\":\"white\",\"ticks\":\"\",\"title\":{\"standoff\":15},\"zerolinecolor\":\"white\",\"zerolinewidth\":2},\"yaxis\":{\"automargin\":true,\"gridcolor\":\"white\",\"linecolor\":\"white\",\"ticks\":\"\",\"title\":{\"standoff\":15},\"zerolinecolor\":\"white\",\"zerolinewidth\":2}}},\"title\":{\"font\":{\"color\":\"#4D5663\"}},\"xaxis\":{\"gridcolor\":\"#E1E5ED\",\"showgrid\":true,\"tickfont\":{\"color\":\"#4D5663\"},\"title\":{\"font\":{\"color\":\"#4D5663\"},\"text\":\"\"},\"zerolinecolor\":\"#E1E5ED\"},\"yaxis\":{\"gridcolor\":\"#E1E5ED\",\"showgrid\":true,\"tickfont\":{\"color\":\"#4D5663\"},\"title\":{\"font\":{\"color\":\"#4D5663\"},\"text\":\"\"},\"zerolinecolor\":\"#E1E5ED\"}},                        {\"showLink\": true, \"linkText\": \"Export to plot.ly\", \"plotlyServerURL\": \"https://plot.ly\", \"responsive\": true}                    ).then(function(){\n",
       "                            \n",
       "var gd = document.getElementById('71b4c1bc-888a-4d00-bfe9-a85d8aa7c188');\n",
       "var x = new MutationObserver(function (mutations, observer) {{\n",
       "        var display = window.getComputedStyle(gd).display;\n",
       "        if (!display || display === 'none') {{\n",
       "            console.log([gd, 'removed!']);\n",
       "            Plotly.purge(gd);\n",
       "            observer.disconnect();\n",
       "        }}\n",
       "}});\n",
       "\n",
       "// Listen for the removal of the full notebook cells\n",
       "var notebookContainer = gd.closest('#notebook-container');\n",
       "if (notebookContainer) {{\n",
       "    x.observe(notebookContainer, {childList: true});\n",
       "}}\n",
       "\n",
       "// Listen for the clearing of the current output cell\n",
       "var outputEl = gd.closest('.output');\n",
       "if (outputEl) {{\n",
       "    x.observe(outputEl, {childList: true});\n",
       "}}\n",
       "\n",
       "                        })                };                });            </script>        </div>"
      ]
     },
     "metadata": {},
     "output_type": "display_data"
    }
   ],
   "source": [
    "df.count().iplot(kind='bar') #count the number of data points in 4 categories"
   ]
  },
  {
   "cell_type": "code",
   "execution_count": 20,
   "id": "948e1077",
   "metadata": {},
   "outputs": [
    {
     "data": {
      "application/vnd.plotly.v1+json": {
       "config": {
        "linkText": "Export to plot.ly",
        "plotlyServerURL": "https://plot.ly",
        "showLink": true
       },
       "data": [
        {
         "marker": {
          "color": "rgba(255, 153, 51, 0.6)",
          "line": {
           "color": "rgba(255, 153, 51, 1.0)",
           "width": 1
          }
         },
         "name": "None",
         "orientation": "v",
         "text": "",
         "type": "bar",
         "x": [
          "A",
          "B",
          "C",
          "D"
         ],
         "y": [
          -1.6146736356677789,
          11.681408977583883,
          -8.038650134025708,
          -8.207241052588671
         ]
        }
       ],
       "layout": {
        "legend": {
         "bgcolor": "#F5F6F9",
         "font": {
          "color": "#4D5663"
         }
        },
        "paper_bgcolor": "#F5F6F9",
        "plot_bgcolor": "#F5F6F9",
        "template": {
         "data": {
          "bar": [
           {
            "error_x": {
             "color": "#2a3f5f"
            },
            "error_y": {
             "color": "#2a3f5f"
            },
            "marker": {
             "line": {
              "color": "#E5ECF6",
              "width": 0.5
             },
             "pattern": {
              "fillmode": "overlay",
              "size": 10,
              "solidity": 0.2
             }
            },
            "type": "bar"
           }
          ],
          "barpolar": [
           {
            "marker": {
             "line": {
              "color": "#E5ECF6",
              "width": 0.5
             },
             "pattern": {
              "fillmode": "overlay",
              "size": 10,
              "solidity": 0.2
             }
            },
            "type": "barpolar"
           }
          ],
          "carpet": [
           {
            "aaxis": {
             "endlinecolor": "#2a3f5f",
             "gridcolor": "white",
             "linecolor": "white",
             "minorgridcolor": "white",
             "startlinecolor": "#2a3f5f"
            },
            "baxis": {
             "endlinecolor": "#2a3f5f",
             "gridcolor": "white",
             "linecolor": "white",
             "minorgridcolor": "white",
             "startlinecolor": "#2a3f5f"
            },
            "type": "carpet"
           }
          ],
          "choropleth": [
           {
            "colorbar": {
             "outlinewidth": 0,
             "ticks": ""
            },
            "type": "choropleth"
           }
          ],
          "contour": [
           {
            "colorbar": {
             "outlinewidth": 0,
             "ticks": ""
            },
            "colorscale": [
             [
              0,
              "#0d0887"
             ],
             [
              0.1111111111111111,
              "#46039f"
             ],
             [
              0.2222222222222222,
              "#7201a8"
             ],
             [
              0.3333333333333333,
              "#9c179e"
             ],
             [
              0.4444444444444444,
              "#bd3786"
             ],
             [
              0.5555555555555556,
              "#d8576b"
             ],
             [
              0.6666666666666666,
              "#ed7953"
             ],
             [
              0.7777777777777778,
              "#fb9f3a"
             ],
             [
              0.8888888888888888,
              "#fdca26"
             ],
             [
              1,
              "#f0f921"
             ]
            ],
            "type": "contour"
           }
          ],
          "contourcarpet": [
           {
            "colorbar": {
             "outlinewidth": 0,
             "ticks": ""
            },
            "type": "contourcarpet"
           }
          ],
          "heatmap": [
           {
            "colorbar": {
             "outlinewidth": 0,
             "ticks": ""
            },
            "colorscale": [
             [
              0,
              "#0d0887"
             ],
             [
              0.1111111111111111,
              "#46039f"
             ],
             [
              0.2222222222222222,
              "#7201a8"
             ],
             [
              0.3333333333333333,
              "#9c179e"
             ],
             [
              0.4444444444444444,
              "#bd3786"
             ],
             [
              0.5555555555555556,
              "#d8576b"
             ],
             [
              0.6666666666666666,
              "#ed7953"
             ],
             [
              0.7777777777777778,
              "#fb9f3a"
             ],
             [
              0.8888888888888888,
              "#fdca26"
             ],
             [
              1,
              "#f0f921"
             ]
            ],
            "type": "heatmap"
           }
          ],
          "heatmapgl": [
           {
            "colorbar": {
             "outlinewidth": 0,
             "ticks": ""
            },
            "colorscale": [
             [
              0,
              "#0d0887"
             ],
             [
              0.1111111111111111,
              "#46039f"
             ],
             [
              0.2222222222222222,
              "#7201a8"
             ],
             [
              0.3333333333333333,
              "#9c179e"
             ],
             [
              0.4444444444444444,
              "#bd3786"
             ],
             [
              0.5555555555555556,
              "#d8576b"
             ],
             [
              0.6666666666666666,
              "#ed7953"
             ],
             [
              0.7777777777777778,
              "#fb9f3a"
             ],
             [
              0.8888888888888888,
              "#fdca26"
             ],
             [
              1,
              "#f0f921"
             ]
            ],
            "type": "heatmapgl"
           }
          ],
          "histogram": [
           {
            "marker": {
             "pattern": {
              "fillmode": "overlay",
              "size": 10,
              "solidity": 0.2
             }
            },
            "type": "histogram"
           }
          ],
          "histogram2d": [
           {
            "colorbar": {
             "outlinewidth": 0,
             "ticks": ""
            },
            "colorscale": [
             [
              0,
              "#0d0887"
             ],
             [
              0.1111111111111111,
              "#46039f"
             ],
             [
              0.2222222222222222,
              "#7201a8"
             ],
             [
              0.3333333333333333,
              "#9c179e"
             ],
             [
              0.4444444444444444,
              "#bd3786"
             ],
             [
              0.5555555555555556,
              "#d8576b"
             ],
             [
              0.6666666666666666,
              "#ed7953"
             ],
             [
              0.7777777777777778,
              "#fb9f3a"
             ],
             [
              0.8888888888888888,
              "#fdca26"
             ],
             [
              1,
              "#f0f921"
             ]
            ],
            "type": "histogram2d"
           }
          ],
          "histogram2dcontour": [
           {
            "colorbar": {
             "outlinewidth": 0,
             "ticks": ""
            },
            "colorscale": [
             [
              0,
              "#0d0887"
             ],
             [
              0.1111111111111111,
              "#46039f"
             ],
             [
              0.2222222222222222,
              "#7201a8"
             ],
             [
              0.3333333333333333,
              "#9c179e"
             ],
             [
              0.4444444444444444,
              "#bd3786"
             ],
             [
              0.5555555555555556,
              "#d8576b"
             ],
             [
              0.6666666666666666,
              "#ed7953"
             ],
             [
              0.7777777777777778,
              "#fb9f3a"
             ],
             [
              0.8888888888888888,
              "#fdca26"
             ],
             [
              1,
              "#f0f921"
             ]
            ],
            "type": "histogram2dcontour"
           }
          ],
          "mesh3d": [
           {
            "colorbar": {
             "outlinewidth": 0,
             "ticks": ""
            },
            "type": "mesh3d"
           }
          ],
          "parcoords": [
           {
            "line": {
             "colorbar": {
              "outlinewidth": 0,
              "ticks": ""
             }
            },
            "type": "parcoords"
           }
          ],
          "pie": [
           {
            "automargin": true,
            "type": "pie"
           }
          ],
          "scatter": [
           {
            "fillpattern": {
             "fillmode": "overlay",
             "size": 10,
             "solidity": 0.2
            },
            "type": "scatter"
           }
          ],
          "scatter3d": [
           {
            "line": {
             "colorbar": {
              "outlinewidth": 0,
              "ticks": ""
             }
            },
            "marker": {
             "colorbar": {
              "outlinewidth": 0,
              "ticks": ""
             }
            },
            "type": "scatter3d"
           }
          ],
          "scattercarpet": [
           {
            "marker": {
             "colorbar": {
              "outlinewidth": 0,
              "ticks": ""
             }
            },
            "type": "scattercarpet"
           }
          ],
          "scattergeo": [
           {
            "marker": {
             "colorbar": {
              "outlinewidth": 0,
              "ticks": ""
             }
            },
            "type": "scattergeo"
           }
          ],
          "scattergl": [
           {
            "marker": {
             "colorbar": {
              "outlinewidth": 0,
              "ticks": ""
             }
            },
            "type": "scattergl"
           }
          ],
          "scattermapbox": [
           {
            "marker": {
             "colorbar": {
              "outlinewidth": 0,
              "ticks": ""
             }
            },
            "type": "scattermapbox"
           }
          ],
          "scatterpolar": [
           {
            "marker": {
             "colorbar": {
              "outlinewidth": 0,
              "ticks": ""
             }
            },
            "type": "scatterpolar"
           }
          ],
          "scatterpolargl": [
           {
            "marker": {
             "colorbar": {
              "outlinewidth": 0,
              "ticks": ""
             }
            },
            "type": "scatterpolargl"
           }
          ],
          "scatterternary": [
           {
            "marker": {
             "colorbar": {
              "outlinewidth": 0,
              "ticks": ""
             }
            },
            "type": "scatterternary"
           }
          ],
          "surface": [
           {
            "colorbar": {
             "outlinewidth": 0,
             "ticks": ""
            },
            "colorscale": [
             [
              0,
              "#0d0887"
             ],
             [
              0.1111111111111111,
              "#46039f"
             ],
             [
              0.2222222222222222,
              "#7201a8"
             ],
             [
              0.3333333333333333,
              "#9c179e"
             ],
             [
              0.4444444444444444,
              "#bd3786"
             ],
             [
              0.5555555555555556,
              "#d8576b"
             ],
             [
              0.6666666666666666,
              "#ed7953"
             ],
             [
              0.7777777777777778,
              "#fb9f3a"
             ],
             [
              0.8888888888888888,
              "#fdca26"
             ],
             [
              1,
              "#f0f921"
             ]
            ],
            "type": "surface"
           }
          ],
          "table": [
           {
            "cells": {
             "fill": {
              "color": "#EBF0F8"
             },
             "line": {
              "color": "white"
             }
            },
            "header": {
             "fill": {
              "color": "#C8D4E3"
             },
             "line": {
              "color": "white"
             }
            },
            "type": "table"
           }
          ]
         },
         "layout": {
          "annotationdefaults": {
           "arrowcolor": "#2a3f5f",
           "arrowhead": 0,
           "arrowwidth": 1
          },
          "autotypenumbers": "strict",
          "coloraxis": {
           "colorbar": {
            "outlinewidth": 0,
            "ticks": ""
           }
          },
          "colorscale": {
           "diverging": [
            [
             0,
             "#8e0152"
            ],
            [
             0.1,
             "#c51b7d"
            ],
            [
             0.2,
             "#de77ae"
            ],
            [
             0.3,
             "#f1b6da"
            ],
            [
             0.4,
             "#fde0ef"
            ],
            [
             0.5,
             "#f7f7f7"
            ],
            [
             0.6,
             "#e6f5d0"
            ],
            [
             0.7,
             "#b8e186"
            ],
            [
             0.8,
             "#7fbc41"
            ],
            [
             0.9,
             "#4d9221"
            ],
            [
             1,
             "#276419"
            ]
           ],
           "sequential": [
            [
             0,
             "#0d0887"
            ],
            [
             0.1111111111111111,
             "#46039f"
            ],
            [
             0.2222222222222222,
             "#7201a8"
            ],
            [
             0.3333333333333333,
             "#9c179e"
            ],
            [
             0.4444444444444444,
             "#bd3786"
            ],
            [
             0.5555555555555556,
             "#d8576b"
            ],
            [
             0.6666666666666666,
             "#ed7953"
            ],
            [
             0.7777777777777778,
             "#fb9f3a"
            ],
            [
             0.8888888888888888,
             "#fdca26"
            ],
            [
             1,
             "#f0f921"
            ]
           ],
           "sequentialminus": [
            [
             0,
             "#0d0887"
            ],
            [
             0.1111111111111111,
             "#46039f"
            ],
            [
             0.2222222222222222,
             "#7201a8"
            ],
            [
             0.3333333333333333,
             "#9c179e"
            ],
            [
             0.4444444444444444,
             "#bd3786"
            ],
            [
             0.5555555555555556,
             "#d8576b"
            ],
            [
             0.6666666666666666,
             "#ed7953"
            ],
            [
             0.7777777777777778,
             "#fb9f3a"
            ],
            [
             0.8888888888888888,
             "#fdca26"
            ],
            [
             1,
             "#f0f921"
            ]
           ]
          },
          "colorway": [
           "#636efa",
           "#EF553B",
           "#00cc96",
           "#ab63fa",
           "#FFA15A",
           "#19d3f3",
           "#FF6692",
           "#B6E880",
           "#FF97FF",
           "#FECB52"
          ],
          "font": {
           "color": "#2a3f5f"
          },
          "geo": {
           "bgcolor": "white",
           "lakecolor": "white",
           "landcolor": "#E5ECF6",
           "showlakes": true,
           "showland": true,
           "subunitcolor": "white"
          },
          "hoverlabel": {
           "align": "left"
          },
          "hovermode": "closest",
          "mapbox": {
           "style": "light"
          },
          "paper_bgcolor": "white",
          "plot_bgcolor": "#E5ECF6",
          "polar": {
           "angularaxis": {
            "gridcolor": "white",
            "linecolor": "white",
            "ticks": ""
           },
           "bgcolor": "#E5ECF6",
           "radialaxis": {
            "gridcolor": "white",
            "linecolor": "white",
            "ticks": ""
           }
          },
          "scene": {
           "xaxis": {
            "backgroundcolor": "#E5ECF6",
            "gridcolor": "white",
            "gridwidth": 2,
            "linecolor": "white",
            "showbackground": true,
            "ticks": "",
            "zerolinecolor": "white"
           },
           "yaxis": {
            "backgroundcolor": "#E5ECF6",
            "gridcolor": "white",
            "gridwidth": 2,
            "linecolor": "white",
            "showbackground": true,
            "ticks": "",
            "zerolinecolor": "white"
           },
           "zaxis": {
            "backgroundcolor": "#E5ECF6",
            "gridcolor": "white",
            "gridwidth": 2,
            "linecolor": "white",
            "showbackground": true,
            "ticks": "",
            "zerolinecolor": "white"
           }
          },
          "shapedefaults": {
           "line": {
            "color": "#2a3f5f"
           }
          },
          "ternary": {
           "aaxis": {
            "gridcolor": "white",
            "linecolor": "white",
            "ticks": ""
           },
           "baxis": {
            "gridcolor": "white",
            "linecolor": "white",
            "ticks": ""
           },
           "bgcolor": "#E5ECF6",
           "caxis": {
            "gridcolor": "white",
            "linecolor": "white",
            "ticks": ""
           }
          },
          "title": {
           "x": 0.05
          },
          "xaxis": {
           "automargin": true,
           "gridcolor": "white",
           "linecolor": "white",
           "ticks": "",
           "title": {
            "standoff": 15
           },
           "zerolinecolor": "white",
           "zerolinewidth": 2
          },
          "yaxis": {
           "automargin": true,
           "gridcolor": "white",
           "linecolor": "white",
           "ticks": "",
           "title": {
            "standoff": 15
           },
           "zerolinecolor": "white",
           "zerolinewidth": 2
          }
         }
        },
        "title": {
         "font": {
          "color": "#4D5663"
         }
        },
        "xaxis": {
         "gridcolor": "#E1E5ED",
         "showgrid": true,
         "tickfont": {
          "color": "#4D5663"
         },
         "title": {
          "font": {
           "color": "#4D5663"
          },
          "text": ""
         },
         "zerolinecolor": "#E1E5ED"
        },
        "yaxis": {
         "gridcolor": "#E1E5ED",
         "showgrid": true,
         "tickfont": {
          "color": "#4D5663"
         },
         "title": {
          "font": {
           "color": "#4D5663"
          },
          "text": ""
         },
         "zerolinecolor": "#E1E5ED"
        }
       }
      },
      "text/html": [
       "<div>                            <div id=\"f757c74b-d806-43ee-b455-2ca972b2e416\" class=\"plotly-graph-div\" style=\"height:525px; width:100%;\"></div>            <script type=\"text/javascript\">                require([\"plotly\"], function(Plotly) {                    window.PLOTLYENV=window.PLOTLYENV || {};\n",
       "                    window.PLOTLYENV.BASE_URL='https://plot.ly';                                    if (document.getElementById(\"f757c74b-d806-43ee-b455-2ca972b2e416\")) {                    Plotly.newPlot(                        \"f757c74b-d806-43ee-b455-2ca972b2e416\",                        [{\"marker\":{\"color\":\"rgba(255, 153, 51, 0.6)\",\"line\":{\"color\":\"rgba(255, 153, 51, 1.0)\",\"width\":1}},\"name\":\"None\",\"orientation\":\"v\",\"text\":\"\",\"x\":[\"A\",\"B\",\"C\",\"D\"],\"y\":[-1.6146736356677789,11.681408977583883,-8.038650134025708,-8.207241052588671],\"type\":\"bar\"}],                        {\"legend\":{\"bgcolor\":\"#F5F6F9\",\"font\":{\"color\":\"#4D5663\"}},\"paper_bgcolor\":\"#F5F6F9\",\"plot_bgcolor\":\"#F5F6F9\",\"template\":{\"data\":{\"barpolar\":[{\"marker\":{\"line\":{\"color\":\"#E5ECF6\",\"width\":0.5},\"pattern\":{\"fillmode\":\"overlay\",\"size\":10,\"solidity\":0.2}},\"type\":\"barpolar\"}],\"bar\":[{\"error_x\":{\"color\":\"#2a3f5f\"},\"error_y\":{\"color\":\"#2a3f5f\"},\"marker\":{\"line\":{\"color\":\"#E5ECF6\",\"width\":0.5},\"pattern\":{\"fillmode\":\"overlay\",\"size\":10,\"solidity\":0.2}},\"type\":\"bar\"}],\"carpet\":[{\"aaxis\":{\"endlinecolor\":\"#2a3f5f\",\"gridcolor\":\"white\",\"linecolor\":\"white\",\"minorgridcolor\":\"white\",\"startlinecolor\":\"#2a3f5f\"},\"baxis\":{\"endlinecolor\":\"#2a3f5f\",\"gridcolor\":\"white\",\"linecolor\":\"white\",\"minorgridcolor\":\"white\",\"startlinecolor\":\"#2a3f5f\"},\"type\":\"carpet\"}],\"choropleth\":[{\"colorbar\":{\"outlinewidth\":0,\"ticks\":\"\"},\"type\":\"choropleth\"}],\"contourcarpet\":[{\"colorbar\":{\"outlinewidth\":0,\"ticks\":\"\"},\"type\":\"contourcarpet\"}],\"contour\":[{\"colorbar\":{\"outlinewidth\":0,\"ticks\":\"\"},\"colorscale\":[[0.0,\"#0d0887\"],[0.1111111111111111,\"#46039f\"],[0.2222222222222222,\"#7201a8\"],[0.3333333333333333,\"#9c179e\"],[0.4444444444444444,\"#bd3786\"],[0.5555555555555556,\"#d8576b\"],[0.6666666666666666,\"#ed7953\"],[0.7777777777777778,\"#fb9f3a\"],[0.8888888888888888,\"#fdca26\"],[1.0,\"#f0f921\"]],\"type\":\"contour\"}],\"heatmapgl\":[{\"colorbar\":{\"outlinewidth\":0,\"ticks\":\"\"},\"colorscale\":[[0.0,\"#0d0887\"],[0.1111111111111111,\"#46039f\"],[0.2222222222222222,\"#7201a8\"],[0.3333333333333333,\"#9c179e\"],[0.4444444444444444,\"#bd3786\"],[0.5555555555555556,\"#d8576b\"],[0.6666666666666666,\"#ed7953\"],[0.7777777777777778,\"#fb9f3a\"],[0.8888888888888888,\"#fdca26\"],[1.0,\"#f0f921\"]],\"type\":\"heatmapgl\"}],\"heatmap\":[{\"colorbar\":{\"outlinewidth\":0,\"ticks\":\"\"},\"colorscale\":[[0.0,\"#0d0887\"],[0.1111111111111111,\"#46039f\"],[0.2222222222222222,\"#7201a8\"],[0.3333333333333333,\"#9c179e\"],[0.4444444444444444,\"#bd3786\"],[0.5555555555555556,\"#d8576b\"],[0.6666666666666666,\"#ed7953\"],[0.7777777777777778,\"#fb9f3a\"],[0.8888888888888888,\"#fdca26\"],[1.0,\"#f0f921\"]],\"type\":\"heatmap\"}],\"histogram2dcontour\":[{\"colorbar\":{\"outlinewidth\":0,\"ticks\":\"\"},\"colorscale\":[[0.0,\"#0d0887\"],[0.1111111111111111,\"#46039f\"],[0.2222222222222222,\"#7201a8\"],[0.3333333333333333,\"#9c179e\"],[0.4444444444444444,\"#bd3786\"],[0.5555555555555556,\"#d8576b\"],[0.6666666666666666,\"#ed7953\"],[0.7777777777777778,\"#fb9f3a\"],[0.8888888888888888,\"#fdca26\"],[1.0,\"#f0f921\"]],\"type\":\"histogram2dcontour\"}],\"histogram2d\":[{\"colorbar\":{\"outlinewidth\":0,\"ticks\":\"\"},\"colorscale\":[[0.0,\"#0d0887\"],[0.1111111111111111,\"#46039f\"],[0.2222222222222222,\"#7201a8\"],[0.3333333333333333,\"#9c179e\"],[0.4444444444444444,\"#bd3786\"],[0.5555555555555556,\"#d8576b\"],[0.6666666666666666,\"#ed7953\"],[0.7777777777777778,\"#fb9f3a\"],[0.8888888888888888,\"#fdca26\"],[1.0,\"#f0f921\"]],\"type\":\"histogram2d\"}],\"histogram\":[{\"marker\":{\"pattern\":{\"fillmode\":\"overlay\",\"size\":10,\"solidity\":0.2}},\"type\":\"histogram\"}],\"mesh3d\":[{\"colorbar\":{\"outlinewidth\":0,\"ticks\":\"\"},\"type\":\"mesh3d\"}],\"parcoords\":[{\"line\":{\"colorbar\":{\"outlinewidth\":0,\"ticks\":\"\"}},\"type\":\"parcoords\"}],\"pie\":[{\"automargin\":true,\"type\":\"pie\"}],\"scatter3d\":[{\"line\":{\"colorbar\":{\"outlinewidth\":0,\"ticks\":\"\"}},\"marker\":{\"colorbar\":{\"outlinewidth\":0,\"ticks\":\"\"}},\"type\":\"scatter3d\"}],\"scattercarpet\":[{\"marker\":{\"colorbar\":{\"outlinewidth\":0,\"ticks\":\"\"}},\"type\":\"scattercarpet\"}],\"scattergeo\":[{\"marker\":{\"colorbar\":{\"outlinewidth\":0,\"ticks\":\"\"}},\"type\":\"scattergeo\"}],\"scattergl\":[{\"marker\":{\"colorbar\":{\"outlinewidth\":0,\"ticks\":\"\"}},\"type\":\"scattergl\"}],\"scattermapbox\":[{\"marker\":{\"colorbar\":{\"outlinewidth\":0,\"ticks\":\"\"}},\"type\":\"scattermapbox\"}],\"scatterpolargl\":[{\"marker\":{\"colorbar\":{\"outlinewidth\":0,\"ticks\":\"\"}},\"type\":\"scatterpolargl\"}],\"scatterpolar\":[{\"marker\":{\"colorbar\":{\"outlinewidth\":0,\"ticks\":\"\"}},\"type\":\"scatterpolar\"}],\"scatter\":[{\"fillpattern\":{\"fillmode\":\"overlay\",\"size\":10,\"solidity\":0.2},\"type\":\"scatter\"}],\"scatterternary\":[{\"marker\":{\"colorbar\":{\"outlinewidth\":0,\"ticks\":\"\"}},\"type\":\"scatterternary\"}],\"surface\":[{\"colorbar\":{\"outlinewidth\":0,\"ticks\":\"\"},\"colorscale\":[[0.0,\"#0d0887\"],[0.1111111111111111,\"#46039f\"],[0.2222222222222222,\"#7201a8\"],[0.3333333333333333,\"#9c179e\"],[0.4444444444444444,\"#bd3786\"],[0.5555555555555556,\"#d8576b\"],[0.6666666666666666,\"#ed7953\"],[0.7777777777777778,\"#fb9f3a\"],[0.8888888888888888,\"#fdca26\"],[1.0,\"#f0f921\"]],\"type\":\"surface\"}],\"table\":[{\"cells\":{\"fill\":{\"color\":\"#EBF0F8\"},\"line\":{\"color\":\"white\"}},\"header\":{\"fill\":{\"color\":\"#C8D4E3\"},\"line\":{\"color\":\"white\"}},\"type\":\"table\"}]},\"layout\":{\"annotationdefaults\":{\"arrowcolor\":\"#2a3f5f\",\"arrowhead\":0,\"arrowwidth\":1},\"autotypenumbers\":\"strict\",\"coloraxis\":{\"colorbar\":{\"outlinewidth\":0,\"ticks\":\"\"}},\"colorscale\":{\"diverging\":[[0,\"#8e0152\"],[0.1,\"#c51b7d\"],[0.2,\"#de77ae\"],[0.3,\"#f1b6da\"],[0.4,\"#fde0ef\"],[0.5,\"#f7f7f7\"],[0.6,\"#e6f5d0\"],[0.7,\"#b8e186\"],[0.8,\"#7fbc41\"],[0.9,\"#4d9221\"],[1,\"#276419\"]],\"sequential\":[[0.0,\"#0d0887\"],[0.1111111111111111,\"#46039f\"],[0.2222222222222222,\"#7201a8\"],[0.3333333333333333,\"#9c179e\"],[0.4444444444444444,\"#bd3786\"],[0.5555555555555556,\"#d8576b\"],[0.6666666666666666,\"#ed7953\"],[0.7777777777777778,\"#fb9f3a\"],[0.8888888888888888,\"#fdca26\"],[1.0,\"#f0f921\"]],\"sequentialminus\":[[0.0,\"#0d0887\"],[0.1111111111111111,\"#46039f\"],[0.2222222222222222,\"#7201a8\"],[0.3333333333333333,\"#9c179e\"],[0.4444444444444444,\"#bd3786\"],[0.5555555555555556,\"#d8576b\"],[0.6666666666666666,\"#ed7953\"],[0.7777777777777778,\"#fb9f3a\"],[0.8888888888888888,\"#fdca26\"],[1.0,\"#f0f921\"]]},\"colorway\":[\"#636efa\",\"#EF553B\",\"#00cc96\",\"#ab63fa\",\"#FFA15A\",\"#19d3f3\",\"#FF6692\",\"#B6E880\",\"#FF97FF\",\"#FECB52\"],\"font\":{\"color\":\"#2a3f5f\"},\"geo\":{\"bgcolor\":\"white\",\"lakecolor\":\"white\",\"landcolor\":\"#E5ECF6\",\"showlakes\":true,\"showland\":true,\"subunitcolor\":\"white\"},\"hoverlabel\":{\"align\":\"left\"},\"hovermode\":\"closest\",\"mapbox\":{\"style\":\"light\"},\"paper_bgcolor\":\"white\",\"plot_bgcolor\":\"#E5ECF6\",\"polar\":{\"angularaxis\":{\"gridcolor\":\"white\",\"linecolor\":\"white\",\"ticks\":\"\"},\"bgcolor\":\"#E5ECF6\",\"radialaxis\":{\"gridcolor\":\"white\",\"linecolor\":\"white\",\"ticks\":\"\"}},\"scene\":{\"xaxis\":{\"backgroundcolor\":\"#E5ECF6\",\"gridcolor\":\"white\",\"gridwidth\":2,\"linecolor\":\"white\",\"showbackground\":true,\"ticks\":\"\",\"zerolinecolor\":\"white\"},\"yaxis\":{\"backgroundcolor\":\"#E5ECF6\",\"gridcolor\":\"white\",\"gridwidth\":2,\"linecolor\":\"white\",\"showbackground\":true,\"ticks\":\"\",\"zerolinecolor\":\"white\"},\"zaxis\":{\"backgroundcolor\":\"#E5ECF6\",\"gridcolor\":\"white\",\"gridwidth\":2,\"linecolor\":\"white\",\"showbackground\":true,\"ticks\":\"\",\"zerolinecolor\":\"white\"}},\"shapedefaults\":{\"line\":{\"color\":\"#2a3f5f\"}},\"ternary\":{\"aaxis\":{\"gridcolor\":\"white\",\"linecolor\":\"white\",\"ticks\":\"\"},\"baxis\":{\"gridcolor\":\"white\",\"linecolor\":\"white\",\"ticks\":\"\"},\"bgcolor\":\"#E5ECF6\",\"caxis\":{\"gridcolor\":\"white\",\"linecolor\":\"white\",\"ticks\":\"\"}},\"title\":{\"x\":0.05},\"xaxis\":{\"automargin\":true,\"gridcolor\":\"white\",\"linecolor\":\"white\",\"ticks\":\"\",\"title\":{\"standoff\":15},\"zerolinecolor\":\"white\",\"zerolinewidth\":2},\"yaxis\":{\"automargin\":true,\"gridcolor\":\"white\",\"linecolor\":\"white\",\"ticks\":\"\",\"title\":{\"standoff\":15},\"zerolinecolor\":\"white\",\"zerolinewidth\":2}}},\"title\":{\"font\":{\"color\":\"#4D5663\"}},\"xaxis\":{\"gridcolor\":\"#E1E5ED\",\"showgrid\":true,\"tickfont\":{\"color\":\"#4D5663\"},\"title\":{\"font\":{\"color\":\"#4D5663\"},\"text\":\"\"},\"zerolinecolor\":\"#E1E5ED\"},\"yaxis\":{\"gridcolor\":\"#E1E5ED\",\"showgrid\":true,\"tickfont\":{\"color\":\"#4D5663\"},\"title\":{\"font\":{\"color\":\"#4D5663\"},\"text\":\"\"},\"zerolinecolor\":\"#E1E5ED\"}},                        {\"showLink\": true, \"linkText\": \"Export to plot.ly\", \"plotlyServerURL\": \"https://plot.ly\", \"responsive\": true}                    ).then(function(){\n",
       "                            \n",
       "var gd = document.getElementById('f757c74b-d806-43ee-b455-2ca972b2e416');\n",
       "var x = new MutationObserver(function (mutations, observer) {{\n",
       "        var display = window.getComputedStyle(gd).display;\n",
       "        if (!display || display === 'none') {{\n",
       "            console.log([gd, 'removed!']);\n",
       "            Plotly.purge(gd);\n",
       "            observer.disconnect();\n",
       "        }}\n",
       "}});\n",
       "\n",
       "// Listen for the removal of the full notebook cells\n",
       "var notebookContainer = gd.closest('#notebook-container');\n",
       "if (notebookContainer) {{\n",
       "    x.observe(notebookContainer, {childList: true});\n",
       "}}\n",
       "\n",
       "// Listen for the clearing of the current output cell\n",
       "var outputEl = gd.closest('.output');\n",
       "if (outputEl) {{\n",
       "    x.observe(outputEl, {childList: true});\n",
       "}}\n",
       "\n",
       "                        })                };                });            </script>        </div>"
      ]
     },
     "metadata": {},
     "output_type": "display_data"
    }
   ],
   "source": [
    "df.sum().iplot(kind='bar')"
   ]
  },
  {
   "cell_type": "code",
   "execution_count": 21,
   "id": "58c28128",
   "metadata": {},
   "outputs": [
    {
     "data": {
      "application/vnd.plotly.v1+json": {
       "config": {
        "linkText": "Export to plot.ly",
        "plotlyServerURL": "https://plot.ly",
        "showLink": true
       },
       "data": [
        {
         "boxpoints": false,
         "line": {
          "width": 1.3
         },
         "marker": {
          "color": "rgba(255, 153, 51, 1.0)"
         },
         "name": "A",
         "orientation": "v",
         "type": "box",
         "y": [
          -1.2821232259307913,
          -0.39999089040185204,
          0.18603955462223581,
          1.9454784431368184,
          -0.5976460193168096,
          -1.1357869422281528,
          0.5011941647418091,
          -0.3165890810433005,
          -0.49026251352794514,
          -0.3070155142823813,
          -0.00928407711693977,
          0.40742108364021007,
          -0.8059220890051619,
          -1.6150012335022794,
          0.2831274750204807,
          -0.8071318749394667,
          1.2578496478325498,
          0.5546354700979511,
          -0.8058535128503591,
          -1.325128537682219,
          -0.6293771302746785,
          -0.18505519612184348,
          1.161217988148961,
          -0.9940280665073525,
          -1.0517075260495918,
          -0.021950386799966522,
          1.7059306402459018,
          -0.5431574852715914,
          -1.6652518510749255,
          -0.2293687085613229,
          -0.9330038160520542,
          -0.40135606395472045,
          -0.5904818764111005,
          0.1561604164203169,
          0.05909328601089837,
          -0.27648155744488384,
          1.5426214018051496,
          2.00748019586431,
          -0.23004698398830756,
          -0.9034603928397359,
          -0.8432824015442412,
          0.5985161962702256,
          0.2064791649332286,
          -1.5981203262502197,
          -0.691193621887644,
          1.2648788373359174,
          -0.9812428188552841,
          0.29077257292937864,
          -0.3860304784116714,
          0.7348736205455061,
          -0.30194463093884955,
          -1.1804849866851235,
          1.8555927233230805,
          0.3206204405021417,
          -0.3484647029488913,
          0.17804035824914086,
          -0.005932309547459654,
          -1.09324321057662,
          1.0537325994802822,
          -0.11131747857058517,
          1.5510248050539293,
          0.0641092321739744,
          0.011983916018163067,
          0.07671899326363087,
          -1.6383015593850865,
          -0.8930202201725317,
          2.177001154926578,
          0.10032475555698285,
          0.19801577044420687,
          -0.8143086148611789,
          2.5765300667706303,
          1.1424955734563713,
          -1.1782421287147495,
          0.36719261575559925,
          1.913126328532216,
          0.5316725673593986,
          1.0609389309814266,
          -0.2580418540315302,
          -1.1096209702275894,
          -0.16525766112282678,
          -0.6350618813045671,
          -0.6680136886957433,
          2.2019863428116317,
          -0.6545846207600245,
          -0.9819257347533642,
          0.7686352817125546,
          -0.28770493344401477,
          0.5918740917074815,
          0.5183444223241045,
          -1.7520524718812602,
          1.3980636906330712,
          -1.1245314917361031,
          0.022139236012942463,
          0.7592364488219824,
          0.42600620243372245,
          -1.5866222361761575,
          0.9371724506934582,
          -0.9137856349047465,
          1.6410233938129204,
          -0.16725096651345864
         ]
        },
        {
         "boxpoints": false,
         "line": {
          "width": 1.3
         },
         "marker": {
          "color": "rgba(55, 128, 191, 1.0)"
         },
         "name": "B",
         "orientation": "v",
         "type": "box",
         "y": [
          -2.467489679081685,
          -0.9109994341608991,
          -0.9775439597470429,
          -0.8050359803816095,
          0.3880837334389582,
          0.7226047001728041,
          2.12261391775626,
          -1.585119821691273,
          -1.4789391663694118,
          1.4130010878680048,
          0.5171336797321604,
          0.8200803187753855,
          -0.1651247430133621,
          -0.020378991429335632,
          1.7248920409679187,
          -1.0379234752961863,
          1.0288558054083492,
          -0.4209039800868332,
          0.9359771990048374,
          0.5283817923005579,
          -0.704072800755225,
          0.33848644671342304,
          1.1773768477836346,
          -0.45103721768800803,
          0.13224782035424706,
          0.7204598068251858,
          -0.9342447733723493,
          -1.5204779496076484,
          1.0181798372524824,
          2.0464668998426223,
          0.6454665423594669,
          -0.5056759016895037,
          0.6527386290509671,
          -0.5547342801162942,
          0.3788700033858548,
          -0.3676073288176218,
          0.5656698820540743,
          1.580633720103138,
          -0.12711454975637088,
          -0.3505517026278936,
          -0.7660622716697431,
          1.523972798077345,
          0.8877692878051118,
          -0.10704995915426571,
          1.629723149498767,
          -0.15762680777432658,
          -1.2668726445596794,
          0.20016928924696611,
          0.699254128347382,
          -0.03689603754636403,
          0.30371287844000294,
          0.28611928397815256,
          2.0585330014523042,
          1.0140945140540905,
          -0.8297552712905361,
          0.09013592833499368,
          0.3984442817811917,
          -0.4571516491840917,
          -0.44287898704643447,
          -1.0569149385856347,
          0.04807235507245364,
          -0.34419688596532827,
          0.10004621268753495,
          0.08731147708013766,
          1.0876804228688925,
          1.3099639910003447,
          0.7539412010773562,
          0.11957250636430646,
          2.3106977365467682,
          2.519930816359611,
          0.08534530825215789,
          -0.9825625396071127,
          -0.39525470620522996,
          -3.1375179773086317,
          0.6132469463474309,
          -0.16942740949205784,
          0.09266214650465411,
          -1.0902353511589595,
          0.8250519676663988,
          -0.13858028835181693,
          -0.28940274670430133,
          -0.002690390203971974,
          0.046357330322069706,
          0.85344253401098,
          0.5158074327785028,
          -1.0161437917023335,
          0.4572488313164856,
          -0.10617864673067459,
          -0.5613388514490533,
          0.3160584742132285,
          -0.8654585149192117,
          0.5512673818002701,
          -0.048270305086464724,
          0.7690216936257351,
          0.8258710118208544,
          -0.16396989659898215,
          -0.7355413370519562,
          -0.163054476714875,
          -1.1757281031956057,
          0.7343984686472602
         ]
        },
        {
         "boxpoints": false,
         "line": {
          "width": 1.3
         },
         "marker": {
          "color": "rgba(50, 171, 96, 1.0)"
         },
         "name": "C",
         "orientation": "v",
         "type": "box",
         "y": [
          -0.8893998141162937,
          0.6372436645570296,
          -2.23741081423564,
          -0.31765623347929695,
          0.7561914475460509,
          -0.623860105721561,
          0.6903173494809115,
          -0.5048600551762947,
          2.020714308651883,
          0.23026979636838407,
          0.37398753003537616,
          0.5206609753244256,
          -0.10018920147383852,
          -1.2985299229663352,
          -0.9483501928456123,
          1.135689521637158,
          -0.3337735918049371,
          -1.6326402352224678,
          -0.25866872748129416,
          0.5924898339790267,
          1.2233285790848265,
          -1.474457852245962,
          0.45596964798191353,
          -0.10814969404145522,
          -0.27594004426502083,
          -0.9124845686148109,
          0.01100070388541124,
          -1.9505347477078452,
          -0.15105469124096588,
          0.907630680494936,
          -0.6029292033423908,
          0.990481495159389,
          1.1515227416718936,
          0.44789830857842894,
          -1.7855238667231463,
          -0.5902657180884271,
          0.8584499386080536,
          1.0116028854383643,
          -0.571014671596426,
          -0.3866591298764715,
          0.9949808495557023,
          0.7875792632930714,
          0.29112207583799676,
          -0.3884189898620297,
          -1.6966161836642502,
          1.8160384812003816,
          0.32587379503399005,
          0.2644828784239742,
          -0.08883414710595931,
          -1.8782287388849652,
          0.05256177117982688,
          1.0882529289653526,
          0.8784535728298893,
          1.0193199732692901,
          -0.8088506639910596,
          -1.0223568889142052,
          0.06939344982076391,
          0.6655572511232158,
          -0.38330034677819247,
          -0.7887206396605513,
          -2.1337760011371416,
          -0.505300093639108,
          -0.22328614767833907,
          -1.0417437989607305,
          -0.34560269984827874,
          0.3537127142015969,
          -0.2736786047966587,
          -0.2298074753826692,
          0.8303171527118302,
          -0.8303087103507922,
          1.9162689202891265,
          -0.5565059936724137,
          2.061512699042052,
          0.5734812031194394,
          -1.034854720445252,
          -0.11071862296050343,
          -0.6111748958387944,
          0.28806307986797813,
          1.2021557339158877,
          -1.3410568555000184,
          -0.5043708568868606,
          -0.26905233445725124,
          0.8835614081469708,
          0.31823037951212957,
          -0.20841669540258473,
          1.051719819048651,
          0.3510133756617166,
          0.11514781134378886,
          -2.0386124893706765,
          -1.569657323964556,
          -0.4080591760496254,
          -0.29178810250300924,
          0.40457254548522725,
          -0.7983154563691286,
          -0.2538226193332108,
          -0.678911915924447,
          0.5116043020782122,
          -0.2827194860534984,
          0.6441183952673111,
          -0.2619746150812916
         ]
        },
        {
         "boxpoints": false,
         "line": {
          "width": 1.3
         },
         "marker": {
          "color": "rgba(128, 0, 128, 1.0)"
         },
         "name": "D",
         "orientation": "v",
         "type": "box",
         "y": [
          0.18451300084608604,
          -0.3022177165304333,
          -0.6006769288458926,
          -0.3052576828469785,
          0.012925204395338697,
          0.06072685016311775,
          1.2464010145843716,
          2.2562220704540947,
          1.7541323312485497,
          -2.7953960478174134,
          1.7960094174179742,
          0.8587481039984973,
          1.0574408725210322,
          -1.576207770904765,
          -0.16787222872406804,
          -1.580171289911969,
          -0.7405713053105409,
          -0.12211621622406345,
          -0.02719325408965277,
          0.7455332289902771,
          1.0431039917089024,
          -0.5573515013267838,
          -0.9478720009528269,
          -2.2240467163863453,
          0.47885219514426564,
          0.6635970834572871,
          0.16347637504181256,
          -0.514245754001384,
          0.2450690907864287,
          0.05695716481583332,
          0.6634388719648321,
          -0.39840694654691705,
          0.5490831922887796,
          -1.3498267213886324,
          2.0059690281820273,
          2.4237220564037774,
          0.6409158751104084,
          -1.145590629899955,
          -0.6344692609620162,
          -1.964475569311091,
          -2.553119815804278,
          -0.4154753044515657,
          0.93288515541365,
          0.41607149191763854,
          -0.5223885849225867,
          -0.5097269627705164,
          0.3137166198850058,
          -0.41033148846453166,
          -1.3504160978888808,
          -1.44639215776379,
          -1.2558830397396972,
          0.5085298183118243,
          -0.4844584936706081,
          -1.1095044253580726,
          -0.7520124292610786,
          0.5109618144518884,
          -1.0808074527541336,
          2.0158253236315438,
          0.8194125244241102,
          -1.830150410875788,
          -0.11276219125895252,
          0.7023652442498306,
          1.9866344386381598,
          -1.112745174819402,
          -1.0955180400783469,
          -0.44312559456598377,
          -0.9639932603404257,
          1.419599652907551,
          0.13032087210775575,
          -0.08480607840877766,
          -0.07161572488825718,
          -0.9309787384976403,
          0.11791449149366284,
          -1.1062473942402988,
          -0.35788548437586404,
          -0.3021284959768266,
          -1.3895146183345222,
          1.0207429380778419,
          0.17078822856664266,
          -0.1907799131125399,
          0.4714082561261303,
          0.2754318671952387,
          -0.2514751898440218,
          0.2837712535707717,
          -2.96998439652934,
          -0.1986095130641284,
          0.8367124996316605,
          -1.2139829622550151,
          0.6954813803560759,
          1.3221282513598556,
          -0.28719994075524213,
          2.2187535094641837,
          -0.3975645906718611,
          1.4843046228816186,
          -0.1192081000017448,
          1.0537349037666213,
          -0.6698748203139302,
          0.32146389721568674,
          -1.7296684021234106,
          0.531263702406474
         ]
        }
       ],
       "layout": {
        "legend": {
         "bgcolor": "#F5F6F9",
         "font": {
          "color": "#4D5663"
         }
        },
        "paper_bgcolor": "#F5F6F9",
        "plot_bgcolor": "#F5F6F9",
        "template": {
         "data": {
          "bar": [
           {
            "error_x": {
             "color": "#2a3f5f"
            },
            "error_y": {
             "color": "#2a3f5f"
            },
            "marker": {
             "line": {
              "color": "#E5ECF6",
              "width": 0.5
             },
             "pattern": {
              "fillmode": "overlay",
              "size": 10,
              "solidity": 0.2
             }
            },
            "type": "bar"
           }
          ],
          "barpolar": [
           {
            "marker": {
             "line": {
              "color": "#E5ECF6",
              "width": 0.5
             },
             "pattern": {
              "fillmode": "overlay",
              "size": 10,
              "solidity": 0.2
             }
            },
            "type": "barpolar"
           }
          ],
          "carpet": [
           {
            "aaxis": {
             "endlinecolor": "#2a3f5f",
             "gridcolor": "white",
             "linecolor": "white",
             "minorgridcolor": "white",
             "startlinecolor": "#2a3f5f"
            },
            "baxis": {
             "endlinecolor": "#2a3f5f",
             "gridcolor": "white",
             "linecolor": "white",
             "minorgridcolor": "white",
             "startlinecolor": "#2a3f5f"
            },
            "type": "carpet"
           }
          ],
          "choropleth": [
           {
            "colorbar": {
             "outlinewidth": 0,
             "ticks": ""
            },
            "type": "choropleth"
           }
          ],
          "contour": [
           {
            "colorbar": {
             "outlinewidth": 0,
             "ticks": ""
            },
            "colorscale": [
             [
              0,
              "#0d0887"
             ],
             [
              0.1111111111111111,
              "#46039f"
             ],
             [
              0.2222222222222222,
              "#7201a8"
             ],
             [
              0.3333333333333333,
              "#9c179e"
             ],
             [
              0.4444444444444444,
              "#bd3786"
             ],
             [
              0.5555555555555556,
              "#d8576b"
             ],
             [
              0.6666666666666666,
              "#ed7953"
             ],
             [
              0.7777777777777778,
              "#fb9f3a"
             ],
             [
              0.8888888888888888,
              "#fdca26"
             ],
             [
              1,
              "#f0f921"
             ]
            ],
            "type": "contour"
           }
          ],
          "contourcarpet": [
           {
            "colorbar": {
             "outlinewidth": 0,
             "ticks": ""
            },
            "type": "contourcarpet"
           }
          ],
          "heatmap": [
           {
            "colorbar": {
             "outlinewidth": 0,
             "ticks": ""
            },
            "colorscale": [
             [
              0,
              "#0d0887"
             ],
             [
              0.1111111111111111,
              "#46039f"
             ],
             [
              0.2222222222222222,
              "#7201a8"
             ],
             [
              0.3333333333333333,
              "#9c179e"
             ],
             [
              0.4444444444444444,
              "#bd3786"
             ],
             [
              0.5555555555555556,
              "#d8576b"
             ],
             [
              0.6666666666666666,
              "#ed7953"
             ],
             [
              0.7777777777777778,
              "#fb9f3a"
             ],
             [
              0.8888888888888888,
              "#fdca26"
             ],
             [
              1,
              "#f0f921"
             ]
            ],
            "type": "heatmap"
           }
          ],
          "heatmapgl": [
           {
            "colorbar": {
             "outlinewidth": 0,
             "ticks": ""
            },
            "colorscale": [
             [
              0,
              "#0d0887"
             ],
             [
              0.1111111111111111,
              "#46039f"
             ],
             [
              0.2222222222222222,
              "#7201a8"
             ],
             [
              0.3333333333333333,
              "#9c179e"
             ],
             [
              0.4444444444444444,
              "#bd3786"
             ],
             [
              0.5555555555555556,
              "#d8576b"
             ],
             [
              0.6666666666666666,
              "#ed7953"
             ],
             [
              0.7777777777777778,
              "#fb9f3a"
             ],
             [
              0.8888888888888888,
              "#fdca26"
             ],
             [
              1,
              "#f0f921"
             ]
            ],
            "type": "heatmapgl"
           }
          ],
          "histogram": [
           {
            "marker": {
             "pattern": {
              "fillmode": "overlay",
              "size": 10,
              "solidity": 0.2
             }
            },
            "type": "histogram"
           }
          ],
          "histogram2d": [
           {
            "colorbar": {
             "outlinewidth": 0,
             "ticks": ""
            },
            "colorscale": [
             [
              0,
              "#0d0887"
             ],
             [
              0.1111111111111111,
              "#46039f"
             ],
             [
              0.2222222222222222,
              "#7201a8"
             ],
             [
              0.3333333333333333,
              "#9c179e"
             ],
             [
              0.4444444444444444,
              "#bd3786"
             ],
             [
              0.5555555555555556,
              "#d8576b"
             ],
             [
              0.6666666666666666,
              "#ed7953"
             ],
             [
              0.7777777777777778,
              "#fb9f3a"
             ],
             [
              0.8888888888888888,
              "#fdca26"
             ],
             [
              1,
              "#f0f921"
             ]
            ],
            "type": "histogram2d"
           }
          ],
          "histogram2dcontour": [
           {
            "colorbar": {
             "outlinewidth": 0,
             "ticks": ""
            },
            "colorscale": [
             [
              0,
              "#0d0887"
             ],
             [
              0.1111111111111111,
              "#46039f"
             ],
             [
              0.2222222222222222,
              "#7201a8"
             ],
             [
              0.3333333333333333,
              "#9c179e"
             ],
             [
              0.4444444444444444,
              "#bd3786"
             ],
             [
              0.5555555555555556,
              "#d8576b"
             ],
             [
              0.6666666666666666,
              "#ed7953"
             ],
             [
              0.7777777777777778,
              "#fb9f3a"
             ],
             [
              0.8888888888888888,
              "#fdca26"
             ],
             [
              1,
              "#f0f921"
             ]
            ],
            "type": "histogram2dcontour"
           }
          ],
          "mesh3d": [
           {
            "colorbar": {
             "outlinewidth": 0,
             "ticks": ""
            },
            "type": "mesh3d"
           }
          ],
          "parcoords": [
           {
            "line": {
             "colorbar": {
              "outlinewidth": 0,
              "ticks": ""
             }
            },
            "type": "parcoords"
           }
          ],
          "pie": [
           {
            "automargin": true,
            "type": "pie"
           }
          ],
          "scatter": [
           {
            "fillpattern": {
             "fillmode": "overlay",
             "size": 10,
             "solidity": 0.2
            },
            "type": "scatter"
           }
          ],
          "scatter3d": [
           {
            "line": {
             "colorbar": {
              "outlinewidth": 0,
              "ticks": ""
             }
            },
            "marker": {
             "colorbar": {
              "outlinewidth": 0,
              "ticks": ""
             }
            },
            "type": "scatter3d"
           }
          ],
          "scattercarpet": [
           {
            "marker": {
             "colorbar": {
              "outlinewidth": 0,
              "ticks": ""
             }
            },
            "type": "scattercarpet"
           }
          ],
          "scattergeo": [
           {
            "marker": {
             "colorbar": {
              "outlinewidth": 0,
              "ticks": ""
             }
            },
            "type": "scattergeo"
           }
          ],
          "scattergl": [
           {
            "marker": {
             "colorbar": {
              "outlinewidth": 0,
              "ticks": ""
             }
            },
            "type": "scattergl"
           }
          ],
          "scattermapbox": [
           {
            "marker": {
             "colorbar": {
              "outlinewidth": 0,
              "ticks": ""
             }
            },
            "type": "scattermapbox"
           }
          ],
          "scatterpolar": [
           {
            "marker": {
             "colorbar": {
              "outlinewidth": 0,
              "ticks": ""
             }
            },
            "type": "scatterpolar"
           }
          ],
          "scatterpolargl": [
           {
            "marker": {
             "colorbar": {
              "outlinewidth": 0,
              "ticks": ""
             }
            },
            "type": "scatterpolargl"
           }
          ],
          "scatterternary": [
           {
            "marker": {
             "colorbar": {
              "outlinewidth": 0,
              "ticks": ""
             }
            },
            "type": "scatterternary"
           }
          ],
          "surface": [
           {
            "colorbar": {
             "outlinewidth": 0,
             "ticks": ""
            },
            "colorscale": [
             [
              0,
              "#0d0887"
             ],
             [
              0.1111111111111111,
              "#46039f"
             ],
             [
              0.2222222222222222,
              "#7201a8"
             ],
             [
              0.3333333333333333,
              "#9c179e"
             ],
             [
              0.4444444444444444,
              "#bd3786"
             ],
             [
              0.5555555555555556,
              "#d8576b"
             ],
             [
              0.6666666666666666,
              "#ed7953"
             ],
             [
              0.7777777777777778,
              "#fb9f3a"
             ],
             [
              0.8888888888888888,
              "#fdca26"
             ],
             [
              1,
              "#f0f921"
             ]
            ],
            "type": "surface"
           }
          ],
          "table": [
           {
            "cells": {
             "fill": {
              "color": "#EBF0F8"
             },
             "line": {
              "color": "white"
             }
            },
            "header": {
             "fill": {
              "color": "#C8D4E3"
             },
             "line": {
              "color": "white"
             }
            },
            "type": "table"
           }
          ]
         },
         "layout": {
          "annotationdefaults": {
           "arrowcolor": "#2a3f5f",
           "arrowhead": 0,
           "arrowwidth": 1
          },
          "autotypenumbers": "strict",
          "coloraxis": {
           "colorbar": {
            "outlinewidth": 0,
            "ticks": ""
           }
          },
          "colorscale": {
           "diverging": [
            [
             0,
             "#8e0152"
            ],
            [
             0.1,
             "#c51b7d"
            ],
            [
             0.2,
             "#de77ae"
            ],
            [
             0.3,
             "#f1b6da"
            ],
            [
             0.4,
             "#fde0ef"
            ],
            [
             0.5,
             "#f7f7f7"
            ],
            [
             0.6,
             "#e6f5d0"
            ],
            [
             0.7,
             "#b8e186"
            ],
            [
             0.8,
             "#7fbc41"
            ],
            [
             0.9,
             "#4d9221"
            ],
            [
             1,
             "#276419"
            ]
           ],
           "sequential": [
            [
             0,
             "#0d0887"
            ],
            [
             0.1111111111111111,
             "#46039f"
            ],
            [
             0.2222222222222222,
             "#7201a8"
            ],
            [
             0.3333333333333333,
             "#9c179e"
            ],
            [
             0.4444444444444444,
             "#bd3786"
            ],
            [
             0.5555555555555556,
             "#d8576b"
            ],
            [
             0.6666666666666666,
             "#ed7953"
            ],
            [
             0.7777777777777778,
             "#fb9f3a"
            ],
            [
             0.8888888888888888,
             "#fdca26"
            ],
            [
             1,
             "#f0f921"
            ]
           ],
           "sequentialminus": [
            [
             0,
             "#0d0887"
            ],
            [
             0.1111111111111111,
             "#46039f"
            ],
            [
             0.2222222222222222,
             "#7201a8"
            ],
            [
             0.3333333333333333,
             "#9c179e"
            ],
            [
             0.4444444444444444,
             "#bd3786"
            ],
            [
             0.5555555555555556,
             "#d8576b"
            ],
            [
             0.6666666666666666,
             "#ed7953"
            ],
            [
             0.7777777777777778,
             "#fb9f3a"
            ],
            [
             0.8888888888888888,
             "#fdca26"
            ],
            [
             1,
             "#f0f921"
            ]
           ]
          },
          "colorway": [
           "#636efa",
           "#EF553B",
           "#00cc96",
           "#ab63fa",
           "#FFA15A",
           "#19d3f3",
           "#FF6692",
           "#B6E880",
           "#FF97FF",
           "#FECB52"
          ],
          "font": {
           "color": "#2a3f5f"
          },
          "geo": {
           "bgcolor": "white",
           "lakecolor": "white",
           "landcolor": "#E5ECF6",
           "showlakes": true,
           "showland": true,
           "subunitcolor": "white"
          },
          "hoverlabel": {
           "align": "left"
          },
          "hovermode": "closest",
          "mapbox": {
           "style": "light"
          },
          "paper_bgcolor": "white",
          "plot_bgcolor": "#E5ECF6",
          "polar": {
           "angularaxis": {
            "gridcolor": "white",
            "linecolor": "white",
            "ticks": ""
           },
           "bgcolor": "#E5ECF6",
           "radialaxis": {
            "gridcolor": "white",
            "linecolor": "white",
            "ticks": ""
           }
          },
          "scene": {
           "xaxis": {
            "backgroundcolor": "#E5ECF6",
            "gridcolor": "white",
            "gridwidth": 2,
            "linecolor": "white",
            "showbackground": true,
            "ticks": "",
            "zerolinecolor": "white"
           },
           "yaxis": {
            "backgroundcolor": "#E5ECF6",
            "gridcolor": "white",
            "gridwidth": 2,
            "linecolor": "white",
            "showbackground": true,
            "ticks": "",
            "zerolinecolor": "white"
           },
           "zaxis": {
            "backgroundcolor": "#E5ECF6",
            "gridcolor": "white",
            "gridwidth": 2,
            "linecolor": "white",
            "showbackground": true,
            "ticks": "",
            "zerolinecolor": "white"
           }
          },
          "shapedefaults": {
           "line": {
            "color": "#2a3f5f"
           }
          },
          "ternary": {
           "aaxis": {
            "gridcolor": "white",
            "linecolor": "white",
            "ticks": ""
           },
           "baxis": {
            "gridcolor": "white",
            "linecolor": "white",
            "ticks": ""
           },
           "bgcolor": "#E5ECF6",
           "caxis": {
            "gridcolor": "white",
            "linecolor": "white",
            "ticks": ""
           }
          },
          "title": {
           "x": 0.05
          },
          "xaxis": {
           "automargin": true,
           "gridcolor": "white",
           "linecolor": "white",
           "ticks": "",
           "title": {
            "standoff": 15
           },
           "zerolinecolor": "white",
           "zerolinewidth": 2
          },
          "yaxis": {
           "automargin": true,
           "gridcolor": "white",
           "linecolor": "white",
           "ticks": "",
           "title": {
            "standoff": 15
           },
           "zerolinecolor": "white",
           "zerolinewidth": 2
          }
         }
        },
        "title": {
         "font": {
          "color": "#4D5663"
         }
        },
        "xaxis": {
         "gridcolor": "#E1E5ED",
         "showgrid": true,
         "tickfont": {
          "color": "#4D5663"
         },
         "title": {
          "font": {
           "color": "#4D5663"
          },
          "text": ""
         },
         "zerolinecolor": "#E1E5ED"
        },
        "yaxis": {
         "gridcolor": "#E1E5ED",
         "showgrid": true,
         "tickfont": {
          "color": "#4D5663"
         },
         "title": {
          "font": {
           "color": "#4D5663"
          },
          "text": ""
         },
         "zerolinecolor": "#E1E5ED"
        }
       }
      },
      "text/html": [
       "<div>                            <div id=\"7363bfb7-8447-4452-b72b-c94efcd673db\" class=\"plotly-graph-div\" style=\"height:525px; width:100%;\"></div>            <script type=\"text/javascript\">                require([\"plotly\"], function(Plotly) {                    window.PLOTLYENV=window.PLOTLYENV || {};\n",
       "                    window.PLOTLYENV.BASE_URL='https://plot.ly';                                    if (document.getElementById(\"7363bfb7-8447-4452-b72b-c94efcd673db\")) {                    Plotly.newPlot(                        \"7363bfb7-8447-4452-b72b-c94efcd673db\",                        [{\"boxpoints\":false,\"line\":{\"width\":1.3},\"marker\":{\"color\":\"rgba(255, 153, 51, 1.0)\"},\"name\":\"A\",\"orientation\":\"v\",\"y\":[-1.2821232259307913,-0.39999089040185204,0.18603955462223581,1.9454784431368184,-0.5976460193168096,-1.1357869422281528,0.5011941647418091,-0.3165890810433005,-0.49026251352794514,-0.3070155142823813,-0.00928407711693977,0.40742108364021007,-0.8059220890051619,-1.6150012335022794,0.2831274750204807,-0.8071318749394667,1.2578496478325498,0.5546354700979511,-0.8058535128503591,-1.325128537682219,-0.6293771302746785,-0.18505519612184348,1.161217988148961,-0.9940280665073525,-1.0517075260495918,-0.021950386799966522,1.7059306402459018,-0.5431574852715914,-1.6652518510749255,-0.2293687085613229,-0.9330038160520542,-0.40135606395472045,-0.5904818764111005,0.1561604164203169,0.05909328601089837,-0.27648155744488384,1.5426214018051496,2.00748019586431,-0.23004698398830756,-0.9034603928397359,-0.8432824015442412,0.5985161962702256,0.2064791649332286,-1.5981203262502197,-0.691193621887644,1.2648788373359174,-0.9812428188552841,0.29077257292937864,-0.3860304784116714,0.7348736205455061,-0.30194463093884955,-1.1804849866851235,1.8555927233230805,0.3206204405021417,-0.3484647029488913,0.17804035824914086,-0.005932309547459654,-1.09324321057662,1.0537325994802822,-0.11131747857058517,1.5510248050539293,0.0641092321739744,0.011983916018163067,0.07671899326363087,-1.6383015593850865,-0.8930202201725317,2.177001154926578,0.10032475555698285,0.19801577044420687,-0.8143086148611789,2.5765300667706303,1.1424955734563713,-1.1782421287147495,0.36719261575559925,1.913126328532216,0.5316725673593986,1.0609389309814266,-0.2580418540315302,-1.1096209702275894,-0.16525766112282678,-0.6350618813045671,-0.6680136886957433,2.2019863428116317,-0.6545846207600245,-0.9819257347533642,0.7686352817125546,-0.28770493344401477,0.5918740917074815,0.5183444223241045,-1.7520524718812602,1.3980636906330712,-1.1245314917361031,0.022139236012942463,0.7592364488219824,0.42600620243372245,-1.5866222361761575,0.9371724506934582,-0.9137856349047465,1.6410233938129204,-0.16725096651345864],\"type\":\"box\"},{\"boxpoints\":false,\"line\":{\"width\":1.3},\"marker\":{\"color\":\"rgba(55, 128, 191, 1.0)\"},\"name\":\"B\",\"orientation\":\"v\",\"y\":[-2.467489679081685,-0.9109994341608991,-0.9775439597470429,-0.8050359803816095,0.3880837334389582,0.7226047001728041,2.12261391775626,-1.585119821691273,-1.4789391663694118,1.4130010878680048,0.5171336797321604,0.8200803187753855,-0.1651247430133621,-0.020378991429335632,1.7248920409679187,-1.0379234752961863,1.0288558054083492,-0.4209039800868332,0.9359771990048374,0.5283817923005579,-0.704072800755225,0.33848644671342304,1.1773768477836346,-0.45103721768800803,0.13224782035424706,0.7204598068251858,-0.9342447733723493,-1.5204779496076484,1.0181798372524824,2.0464668998426223,0.6454665423594669,-0.5056759016895037,0.6527386290509671,-0.5547342801162942,0.3788700033858548,-0.3676073288176218,0.5656698820540743,1.580633720103138,-0.12711454975637088,-0.3505517026278936,-0.7660622716697431,1.523972798077345,0.8877692878051118,-0.10704995915426571,1.629723149498767,-0.15762680777432658,-1.2668726445596794,0.20016928924696611,0.699254128347382,-0.03689603754636403,0.30371287844000294,0.28611928397815256,2.0585330014523042,1.0140945140540905,-0.8297552712905361,0.09013592833499368,0.3984442817811917,-0.4571516491840917,-0.44287898704643447,-1.0569149385856347,0.04807235507245364,-0.34419688596532827,0.10004621268753495,0.08731147708013766,1.0876804228688925,1.3099639910003447,0.7539412010773562,0.11957250636430646,2.3106977365467682,2.519930816359611,0.08534530825215789,-0.9825625396071127,-0.39525470620522996,-3.1375179773086317,0.6132469463474309,-0.16942740949205784,0.09266214650465411,-1.0902353511589595,0.8250519676663988,-0.13858028835181693,-0.28940274670430133,-0.002690390203971974,0.046357330322069706,0.85344253401098,0.5158074327785028,-1.0161437917023335,0.4572488313164856,-0.10617864673067459,-0.5613388514490533,0.3160584742132285,-0.8654585149192117,0.5512673818002701,-0.048270305086464724,0.7690216936257351,0.8258710118208544,-0.16396989659898215,-0.7355413370519562,-0.163054476714875,-1.1757281031956057,0.7343984686472602],\"type\":\"box\"},{\"boxpoints\":false,\"line\":{\"width\":1.3},\"marker\":{\"color\":\"rgba(50, 171, 96, 1.0)\"},\"name\":\"C\",\"orientation\":\"v\",\"y\":[-0.8893998141162937,0.6372436645570296,-2.23741081423564,-0.31765623347929695,0.7561914475460509,-0.623860105721561,0.6903173494809115,-0.5048600551762947,2.020714308651883,0.23026979636838407,0.37398753003537616,0.5206609753244256,-0.10018920147383852,-1.2985299229663352,-0.9483501928456123,1.135689521637158,-0.3337735918049371,-1.6326402352224678,-0.25866872748129416,0.5924898339790267,1.2233285790848265,-1.474457852245962,0.45596964798191353,-0.10814969404145522,-0.27594004426502083,-0.9124845686148109,0.01100070388541124,-1.9505347477078452,-0.15105469124096588,0.907630680494936,-0.6029292033423908,0.990481495159389,1.1515227416718936,0.44789830857842894,-1.7855238667231463,-0.5902657180884271,0.8584499386080536,1.0116028854383643,-0.571014671596426,-0.3866591298764715,0.9949808495557023,0.7875792632930714,0.29112207583799676,-0.3884189898620297,-1.6966161836642502,1.8160384812003816,0.32587379503399005,0.2644828784239742,-0.08883414710595931,-1.8782287388849652,0.05256177117982688,1.0882529289653526,0.8784535728298893,1.0193199732692901,-0.8088506639910596,-1.0223568889142052,0.06939344982076391,0.6655572511232158,-0.38330034677819247,-0.7887206396605513,-2.1337760011371416,-0.505300093639108,-0.22328614767833907,-1.0417437989607305,-0.34560269984827874,0.3537127142015969,-0.2736786047966587,-0.2298074753826692,0.8303171527118302,-0.8303087103507922,1.9162689202891265,-0.5565059936724137,2.061512699042052,0.5734812031194394,-1.034854720445252,-0.11071862296050343,-0.6111748958387944,0.28806307986797813,1.2021557339158877,-1.3410568555000184,-0.5043708568868606,-0.26905233445725124,0.8835614081469708,0.31823037951212957,-0.20841669540258473,1.051719819048651,0.3510133756617166,0.11514781134378886,-2.0386124893706765,-1.569657323964556,-0.4080591760496254,-0.29178810250300924,0.40457254548522725,-0.7983154563691286,-0.2538226193332108,-0.678911915924447,0.5116043020782122,-0.2827194860534984,0.6441183952673111,-0.2619746150812916],\"type\":\"box\"},{\"boxpoints\":false,\"line\":{\"width\":1.3},\"marker\":{\"color\":\"rgba(128, 0, 128, 1.0)\"},\"name\":\"D\",\"orientation\":\"v\",\"y\":[0.18451300084608604,-0.3022177165304333,-0.6006769288458926,-0.3052576828469785,0.012925204395338697,0.06072685016311775,1.2464010145843716,2.2562220704540947,1.7541323312485497,-2.7953960478174134,1.7960094174179742,0.8587481039984973,1.0574408725210322,-1.576207770904765,-0.16787222872406804,-1.580171289911969,-0.7405713053105409,-0.12211621622406345,-0.02719325408965277,0.7455332289902771,1.0431039917089024,-0.5573515013267838,-0.9478720009528269,-2.2240467163863453,0.47885219514426564,0.6635970834572871,0.16347637504181256,-0.514245754001384,0.2450690907864287,0.05695716481583332,0.6634388719648321,-0.39840694654691705,0.5490831922887796,-1.3498267213886324,2.0059690281820273,2.4237220564037774,0.6409158751104084,-1.145590629899955,-0.6344692609620162,-1.964475569311091,-2.553119815804278,-0.4154753044515657,0.93288515541365,0.41607149191763854,-0.5223885849225867,-0.5097269627705164,0.3137166198850058,-0.41033148846453166,-1.3504160978888808,-1.44639215776379,-1.2558830397396972,0.5085298183118243,-0.4844584936706081,-1.1095044253580726,-0.7520124292610786,0.5109618144518884,-1.0808074527541336,2.0158253236315438,0.8194125244241102,-1.830150410875788,-0.11276219125895252,0.7023652442498306,1.9866344386381598,-1.112745174819402,-1.0955180400783469,-0.44312559456598377,-0.9639932603404257,1.419599652907551,0.13032087210775575,-0.08480607840877766,-0.07161572488825718,-0.9309787384976403,0.11791449149366284,-1.1062473942402988,-0.35788548437586404,-0.3021284959768266,-1.3895146183345222,1.0207429380778419,0.17078822856664266,-0.1907799131125399,0.4714082561261303,0.2754318671952387,-0.2514751898440218,0.2837712535707717,-2.96998439652934,-0.1986095130641284,0.8367124996316605,-1.2139829622550151,0.6954813803560759,1.3221282513598556,-0.28719994075524213,2.2187535094641837,-0.3975645906718611,1.4843046228816186,-0.1192081000017448,1.0537349037666213,-0.6698748203139302,0.32146389721568674,-1.7296684021234106,0.531263702406474],\"type\":\"box\"}],                        {\"legend\":{\"bgcolor\":\"#F5F6F9\",\"font\":{\"color\":\"#4D5663\"}},\"paper_bgcolor\":\"#F5F6F9\",\"plot_bgcolor\":\"#F5F6F9\",\"template\":{\"data\":{\"barpolar\":[{\"marker\":{\"line\":{\"color\":\"#E5ECF6\",\"width\":0.5},\"pattern\":{\"fillmode\":\"overlay\",\"size\":10,\"solidity\":0.2}},\"type\":\"barpolar\"}],\"bar\":[{\"error_x\":{\"color\":\"#2a3f5f\"},\"error_y\":{\"color\":\"#2a3f5f\"},\"marker\":{\"line\":{\"color\":\"#E5ECF6\",\"width\":0.5},\"pattern\":{\"fillmode\":\"overlay\",\"size\":10,\"solidity\":0.2}},\"type\":\"bar\"}],\"carpet\":[{\"aaxis\":{\"endlinecolor\":\"#2a3f5f\",\"gridcolor\":\"white\",\"linecolor\":\"white\",\"minorgridcolor\":\"white\",\"startlinecolor\":\"#2a3f5f\"},\"baxis\":{\"endlinecolor\":\"#2a3f5f\",\"gridcolor\":\"white\",\"linecolor\":\"white\",\"minorgridcolor\":\"white\",\"startlinecolor\":\"#2a3f5f\"},\"type\":\"carpet\"}],\"choropleth\":[{\"colorbar\":{\"outlinewidth\":0,\"ticks\":\"\"},\"type\":\"choropleth\"}],\"contourcarpet\":[{\"colorbar\":{\"outlinewidth\":0,\"ticks\":\"\"},\"type\":\"contourcarpet\"}],\"contour\":[{\"colorbar\":{\"outlinewidth\":0,\"ticks\":\"\"},\"colorscale\":[[0.0,\"#0d0887\"],[0.1111111111111111,\"#46039f\"],[0.2222222222222222,\"#7201a8\"],[0.3333333333333333,\"#9c179e\"],[0.4444444444444444,\"#bd3786\"],[0.5555555555555556,\"#d8576b\"],[0.6666666666666666,\"#ed7953\"],[0.7777777777777778,\"#fb9f3a\"],[0.8888888888888888,\"#fdca26\"],[1.0,\"#f0f921\"]],\"type\":\"contour\"}],\"heatmapgl\":[{\"colorbar\":{\"outlinewidth\":0,\"ticks\":\"\"},\"colorscale\":[[0.0,\"#0d0887\"],[0.1111111111111111,\"#46039f\"],[0.2222222222222222,\"#7201a8\"],[0.3333333333333333,\"#9c179e\"],[0.4444444444444444,\"#bd3786\"],[0.5555555555555556,\"#d8576b\"],[0.6666666666666666,\"#ed7953\"],[0.7777777777777778,\"#fb9f3a\"],[0.8888888888888888,\"#fdca26\"],[1.0,\"#f0f921\"]],\"type\":\"heatmapgl\"}],\"heatmap\":[{\"colorbar\":{\"outlinewidth\":0,\"ticks\":\"\"},\"colorscale\":[[0.0,\"#0d0887\"],[0.1111111111111111,\"#46039f\"],[0.2222222222222222,\"#7201a8\"],[0.3333333333333333,\"#9c179e\"],[0.4444444444444444,\"#bd3786\"],[0.5555555555555556,\"#d8576b\"],[0.6666666666666666,\"#ed7953\"],[0.7777777777777778,\"#fb9f3a\"],[0.8888888888888888,\"#fdca26\"],[1.0,\"#f0f921\"]],\"type\":\"heatmap\"}],\"histogram2dcontour\":[{\"colorbar\":{\"outlinewidth\":0,\"ticks\":\"\"},\"colorscale\":[[0.0,\"#0d0887\"],[0.1111111111111111,\"#46039f\"],[0.2222222222222222,\"#7201a8\"],[0.3333333333333333,\"#9c179e\"],[0.4444444444444444,\"#bd3786\"],[0.5555555555555556,\"#d8576b\"],[0.6666666666666666,\"#ed7953\"],[0.7777777777777778,\"#fb9f3a\"],[0.8888888888888888,\"#fdca26\"],[1.0,\"#f0f921\"]],\"type\":\"histogram2dcontour\"}],\"histogram2d\":[{\"colorbar\":{\"outlinewidth\":0,\"ticks\":\"\"},\"colorscale\":[[0.0,\"#0d0887\"],[0.1111111111111111,\"#46039f\"],[0.2222222222222222,\"#7201a8\"],[0.3333333333333333,\"#9c179e\"],[0.4444444444444444,\"#bd3786\"],[0.5555555555555556,\"#d8576b\"],[0.6666666666666666,\"#ed7953\"],[0.7777777777777778,\"#fb9f3a\"],[0.8888888888888888,\"#fdca26\"],[1.0,\"#f0f921\"]],\"type\":\"histogram2d\"}],\"histogram\":[{\"marker\":{\"pattern\":{\"fillmode\":\"overlay\",\"size\":10,\"solidity\":0.2}},\"type\":\"histogram\"}],\"mesh3d\":[{\"colorbar\":{\"outlinewidth\":0,\"ticks\":\"\"},\"type\":\"mesh3d\"}],\"parcoords\":[{\"line\":{\"colorbar\":{\"outlinewidth\":0,\"ticks\":\"\"}},\"type\":\"parcoords\"}],\"pie\":[{\"automargin\":true,\"type\":\"pie\"}],\"scatter3d\":[{\"line\":{\"colorbar\":{\"outlinewidth\":0,\"ticks\":\"\"}},\"marker\":{\"colorbar\":{\"outlinewidth\":0,\"ticks\":\"\"}},\"type\":\"scatter3d\"}],\"scattercarpet\":[{\"marker\":{\"colorbar\":{\"outlinewidth\":0,\"ticks\":\"\"}},\"type\":\"scattercarpet\"}],\"scattergeo\":[{\"marker\":{\"colorbar\":{\"outlinewidth\":0,\"ticks\":\"\"}},\"type\":\"scattergeo\"}],\"scattergl\":[{\"marker\":{\"colorbar\":{\"outlinewidth\":0,\"ticks\":\"\"}},\"type\":\"scattergl\"}],\"scattermapbox\":[{\"marker\":{\"colorbar\":{\"outlinewidth\":0,\"ticks\":\"\"}},\"type\":\"scattermapbox\"}],\"scatterpolargl\":[{\"marker\":{\"colorbar\":{\"outlinewidth\":0,\"ticks\":\"\"}},\"type\":\"scatterpolargl\"}],\"scatterpolar\":[{\"marker\":{\"colorbar\":{\"outlinewidth\":0,\"ticks\":\"\"}},\"type\":\"scatterpolar\"}],\"scatter\":[{\"fillpattern\":{\"fillmode\":\"overlay\",\"size\":10,\"solidity\":0.2},\"type\":\"scatter\"}],\"scatterternary\":[{\"marker\":{\"colorbar\":{\"outlinewidth\":0,\"ticks\":\"\"}},\"type\":\"scatterternary\"}],\"surface\":[{\"colorbar\":{\"outlinewidth\":0,\"ticks\":\"\"},\"colorscale\":[[0.0,\"#0d0887\"],[0.1111111111111111,\"#46039f\"],[0.2222222222222222,\"#7201a8\"],[0.3333333333333333,\"#9c179e\"],[0.4444444444444444,\"#bd3786\"],[0.5555555555555556,\"#d8576b\"],[0.6666666666666666,\"#ed7953\"],[0.7777777777777778,\"#fb9f3a\"],[0.8888888888888888,\"#fdca26\"],[1.0,\"#f0f921\"]],\"type\":\"surface\"}],\"table\":[{\"cells\":{\"fill\":{\"color\":\"#EBF0F8\"},\"line\":{\"color\":\"white\"}},\"header\":{\"fill\":{\"color\":\"#C8D4E3\"},\"line\":{\"color\":\"white\"}},\"type\":\"table\"}]},\"layout\":{\"annotationdefaults\":{\"arrowcolor\":\"#2a3f5f\",\"arrowhead\":0,\"arrowwidth\":1},\"autotypenumbers\":\"strict\",\"coloraxis\":{\"colorbar\":{\"outlinewidth\":0,\"ticks\":\"\"}},\"colorscale\":{\"diverging\":[[0,\"#8e0152\"],[0.1,\"#c51b7d\"],[0.2,\"#de77ae\"],[0.3,\"#f1b6da\"],[0.4,\"#fde0ef\"],[0.5,\"#f7f7f7\"],[0.6,\"#e6f5d0\"],[0.7,\"#b8e186\"],[0.8,\"#7fbc41\"],[0.9,\"#4d9221\"],[1,\"#276419\"]],\"sequential\":[[0.0,\"#0d0887\"],[0.1111111111111111,\"#46039f\"],[0.2222222222222222,\"#7201a8\"],[0.3333333333333333,\"#9c179e\"],[0.4444444444444444,\"#bd3786\"],[0.5555555555555556,\"#d8576b\"],[0.6666666666666666,\"#ed7953\"],[0.7777777777777778,\"#fb9f3a\"],[0.8888888888888888,\"#fdca26\"],[1.0,\"#f0f921\"]],\"sequentialminus\":[[0.0,\"#0d0887\"],[0.1111111111111111,\"#46039f\"],[0.2222222222222222,\"#7201a8\"],[0.3333333333333333,\"#9c179e\"],[0.4444444444444444,\"#bd3786\"],[0.5555555555555556,\"#d8576b\"],[0.6666666666666666,\"#ed7953\"],[0.7777777777777778,\"#fb9f3a\"],[0.8888888888888888,\"#fdca26\"],[1.0,\"#f0f921\"]]},\"colorway\":[\"#636efa\",\"#EF553B\",\"#00cc96\",\"#ab63fa\",\"#FFA15A\",\"#19d3f3\",\"#FF6692\",\"#B6E880\",\"#FF97FF\",\"#FECB52\"],\"font\":{\"color\":\"#2a3f5f\"},\"geo\":{\"bgcolor\":\"white\",\"lakecolor\":\"white\",\"landcolor\":\"#E5ECF6\",\"showlakes\":true,\"showland\":true,\"subunitcolor\":\"white\"},\"hoverlabel\":{\"align\":\"left\"},\"hovermode\":\"closest\",\"mapbox\":{\"style\":\"light\"},\"paper_bgcolor\":\"white\",\"plot_bgcolor\":\"#E5ECF6\",\"polar\":{\"angularaxis\":{\"gridcolor\":\"white\",\"linecolor\":\"white\",\"ticks\":\"\"},\"bgcolor\":\"#E5ECF6\",\"radialaxis\":{\"gridcolor\":\"white\",\"linecolor\":\"white\",\"ticks\":\"\"}},\"scene\":{\"xaxis\":{\"backgroundcolor\":\"#E5ECF6\",\"gridcolor\":\"white\",\"gridwidth\":2,\"linecolor\":\"white\",\"showbackground\":true,\"ticks\":\"\",\"zerolinecolor\":\"white\"},\"yaxis\":{\"backgroundcolor\":\"#E5ECF6\",\"gridcolor\":\"white\",\"gridwidth\":2,\"linecolor\":\"white\",\"showbackground\":true,\"ticks\":\"\",\"zerolinecolor\":\"white\"},\"zaxis\":{\"backgroundcolor\":\"#E5ECF6\",\"gridcolor\":\"white\",\"gridwidth\":2,\"linecolor\":\"white\",\"showbackground\":true,\"ticks\":\"\",\"zerolinecolor\":\"white\"}},\"shapedefaults\":{\"line\":{\"color\":\"#2a3f5f\"}},\"ternary\":{\"aaxis\":{\"gridcolor\":\"white\",\"linecolor\":\"white\",\"ticks\":\"\"},\"baxis\":{\"gridcolor\":\"white\",\"linecolor\":\"white\",\"ticks\":\"\"},\"bgcolor\":\"#E5ECF6\",\"caxis\":{\"gridcolor\":\"white\",\"linecolor\":\"white\",\"ticks\":\"\"}},\"title\":{\"x\":0.05},\"xaxis\":{\"automargin\":true,\"gridcolor\":\"white\",\"linecolor\":\"white\",\"ticks\":\"\",\"title\":{\"standoff\":15},\"zerolinecolor\":\"white\",\"zerolinewidth\":2},\"yaxis\":{\"automargin\":true,\"gridcolor\":\"white\",\"linecolor\":\"white\",\"ticks\":\"\",\"title\":{\"standoff\":15},\"zerolinecolor\":\"white\",\"zerolinewidth\":2}}},\"title\":{\"font\":{\"color\":\"#4D5663\"}},\"xaxis\":{\"gridcolor\":\"#E1E5ED\",\"showgrid\":true,\"tickfont\":{\"color\":\"#4D5663\"},\"title\":{\"font\":{\"color\":\"#4D5663\"},\"text\":\"\"},\"zerolinecolor\":\"#E1E5ED\"},\"yaxis\":{\"gridcolor\":\"#E1E5ED\",\"showgrid\":true,\"tickfont\":{\"color\":\"#4D5663\"},\"title\":{\"font\":{\"color\":\"#4D5663\"},\"text\":\"\"},\"zerolinecolor\":\"#E1E5ED\"}},                        {\"showLink\": true, \"linkText\": \"Export to plot.ly\", \"plotlyServerURL\": \"https://plot.ly\", \"responsive\": true}                    ).then(function(){\n",
       "                            \n",
       "var gd = document.getElementById('7363bfb7-8447-4452-b72b-c94efcd673db');\n",
       "var x = new MutationObserver(function (mutations, observer) {{\n",
       "        var display = window.getComputedStyle(gd).display;\n",
       "        if (!display || display === 'none') {{\n",
       "            console.log([gd, 'removed!']);\n",
       "            Plotly.purge(gd);\n",
       "            observer.disconnect();\n",
       "        }}\n",
       "}});\n",
       "\n",
       "// Listen for the removal of the full notebook cells\n",
       "var notebookContainer = gd.closest('#notebook-container');\n",
       "if (notebookContainer) {{\n",
       "    x.observe(notebookContainer, {childList: true});\n",
       "}}\n",
       "\n",
       "// Listen for the clearing of the current output cell\n",
       "var outputEl = gd.closest('.output');\n",
       "if (outputEl) {{\n",
       "    x.observe(outputEl, {childList: true});\n",
       "}}\n",
       "\n",
       "                        })                };                });            </script>        </div>"
      ]
     },
     "metadata": {},
     "output_type": "display_data"
    }
   ],
   "source": [
    "df.iplot(kind='box')"
   ]
  },
  {
   "cell_type": "code",
   "execution_count": 22,
   "id": "f974b835",
   "metadata": {},
   "outputs": [
    {
     "data": {
      "text/html": [
       "<div>\n",
       "<style scoped>\n",
       "    .dataframe tbody tr th:only-of-type {\n",
       "        vertical-align: middle;\n",
       "    }\n",
       "\n",
       "    .dataframe tbody tr th {\n",
       "        vertical-align: top;\n",
       "    }\n",
       "\n",
       "    .dataframe thead th {\n",
       "        text-align: right;\n",
       "    }\n",
       "</style>\n",
       "<table border=\"1\" class=\"dataframe\">\n",
       "  <thead>\n",
       "    <tr style=\"text-align: right;\">\n",
       "      <th></th>\n",
       "      <th>x</th>\n",
       "      <th>y</th>\n",
       "      <th>z</th>\n",
       "    </tr>\n",
       "  </thead>\n",
       "  <tbody>\n",
       "    <tr>\n",
       "      <th>0</th>\n",
       "      <td>1</td>\n",
       "      <td>10</td>\n",
       "      <td>5</td>\n",
       "    </tr>\n",
       "    <tr>\n",
       "      <th>1</th>\n",
       "      <td>2</td>\n",
       "      <td>20</td>\n",
       "      <td>10</td>\n",
       "    </tr>\n",
       "    <tr>\n",
       "      <th>2</th>\n",
       "      <td>3</td>\n",
       "      <td>30</td>\n",
       "      <td>15</td>\n",
       "    </tr>\n",
       "    <tr>\n",
       "      <th>3</th>\n",
       "      <td>4</td>\n",
       "      <td>40</td>\n",
       "      <td>20</td>\n",
       "    </tr>\n",
       "    <tr>\n",
       "      <th>4</th>\n",
       "      <td>5</td>\n",
       "      <td>50</td>\n",
       "      <td>25</td>\n",
       "    </tr>\n",
       "  </tbody>\n",
       "</table>\n",
       "</div>"
      ],
      "text/plain": [
       "   x   y   z\n",
       "0  1  10   5\n",
       "1  2  20  10\n",
       "2  3  30  15\n",
       "3  4  40  20\n",
       "4  5  50  25"
      ]
     },
     "execution_count": 22,
     "metadata": {},
     "output_type": "execute_result"
    }
   ],
   "source": [
    "df3= pd.DataFrame({'x':[1,2,3,4,5], 'y':[10,20,30,40,50], 'z':[5,10,15,20,25]})\n",
    "df3"
   ]
  },
  {
   "cell_type": "code",
   "execution_count": 23,
   "id": "c5fb82c0",
   "metadata": {},
   "outputs": [
    {
     "data": {
      "text/plain": [
       "<AxesSubplot:>"
      ]
     },
     "execution_count": 23,
     "metadata": {},
     "output_type": "execute_result"
    },
    {
     "data": {
      "image/png": "[encoded data removed]",
      "text/plain": [
       "<Figure size 432x288 with 1 Axes>"
      ]
     },
     "metadata": {
      "needs_background": "light"
     },
     "output_type": "display_data"
    }
   ],
   "source": [
    "df3.plot()"
   ]
  },
  {
   "cell_type": "code",
   "execution_count": 24,
   "id": "a1eb3a2b",
   "metadata": {},
   "outputs": [
    {
     "data": {
      "application/vnd.plotly.v1+json": {
       "config": {
        "linkText": "Export to plot.ly",
        "plotlyServerURL": "https://plot.ly",
        "showLink": true
       },
       "data": [
        {
         "colorscale": [
          [
           0,
           "rgb(165,0,38)"
          ],
          [
           0.1,
           "rgb(215,48,39)"
          ],
          [
           0.2,
           "rgb(244,109,67)"
          ],
          [
           0.3,
           "rgb(253,174,97)"
          ],
          [
           0.4,
           "rgb(254,224,144)"
          ],
          [
           0.5,
           "rgb(255,255,191)"
          ],
          [
           0.6,
           "rgb(224,243,248)"
          ],
          [
           0.7,
           "rgb(171,217,233)"
          ],
          [
           0.8,
           "rgb(116,173,209)"
          ],
          [
           0.9,
           "rgb(69,117,180)"
          ],
          [
           1,
           "rgb(49,54,149)"
          ]
         ],
         "type": "surface",
         "x": [
          0,
          1,
          2,
          3,
          4
         ],
         "y": [
          "x",
          "y",
          "z"
         ],
         "z": [
          [
           1,
           2,
           3,
           4,
           5
          ],
          [
           10,
           20,
           30,
           40,
           50
          ],
          [
           5,
           10,
           15,
           20,
           25
          ]
         ]
        }
       ],
       "layout": {
        "legend": {
         "bgcolor": "#F5F6F9",
         "font": {
          "color": "#4D5663"
         }
        },
        "paper_bgcolor": "#F5F6F9",
        "plot_bgcolor": "#F5F6F9",
        "template": {
         "data": {
          "bar": [
           {
            "error_x": {
             "color": "#2a3f5f"
            },
            "error_y": {
             "color": "#2a3f5f"
            },
            "marker": {
             "line": {
              "color": "#E5ECF6",
              "width": 0.5
             },
             "pattern": {
              "fillmode": "overlay",
              "size": 10,
              "solidity": 0.2
             }
            },
            "type": "bar"
           }
          ],
          "barpolar": [
           {
            "marker": {
             "line": {
              "color": "#E5ECF6",
              "width": 0.5
             },
             "pattern": {
              "fillmode": "overlay",
              "size": 10,
              "solidity": 0.2
             }
            },
            "type": "barpolar"
           }
          ],
          "carpet": [
           {
            "aaxis": {
             "endlinecolor": "#2a3f5f",
             "gridcolor": "white",
             "linecolor": "white",
             "minorgridcolor": "white",
             "startlinecolor": "#2a3f5f"
            },
            "baxis": {
             "endlinecolor": "#2a3f5f",
             "gridcolor": "white",
             "linecolor": "white",
             "minorgridcolor": "white",
             "startlinecolor": "#2a3f5f"
            },
            "type": "carpet"
           }
          ],
          "choropleth": [
           {
            "colorbar": {
             "outlinewidth": 0,
             "ticks": ""
            },
            "type": "choropleth"
           }
          ],
          "contour": [
           {
            "colorbar": {
             "outlinewidth": 0,
             "ticks": ""
            },
            "colorscale": [
             [
              0,
              "#0d0887"
             ],
             [
              0.1111111111111111,
              "#46039f"
             ],
             [
              0.2222222222222222,
              "#7201a8"
             ],
             [
              0.3333333333333333,
              "#9c179e"
             ],
             [
              0.4444444444444444,
              "#bd3786"
             ],
             [
              0.5555555555555556,
              "#d8576b"
             ],
             [
              0.6666666666666666,
              "#ed7953"
             ],
             [
              0.7777777777777778,
              "#fb9f3a"
             ],
             [
              0.8888888888888888,
              "#fdca26"
             ],
             [
              1,
              "#f0f921"
             ]
            ],
            "type": "contour"
           }
          ],
          "contourcarpet": [
           {
            "colorbar": {
             "outlinewidth": 0,
             "ticks": ""
            },
            "type": "contourcarpet"
           }
          ],
          "heatmap": [
           {
            "colorbar": {
             "outlinewidth": 0,
             "ticks": ""
            },
            "colorscale": [
             [
              0,
              "#0d0887"
             ],
             [
              0.1111111111111111,
              "#46039f"
             ],
             [
              0.2222222222222222,
              "#7201a8"
             ],
             [
              0.3333333333333333,
              "#9c179e"
             ],
             [
              0.4444444444444444,
              "#bd3786"
             ],
             [
              0.5555555555555556,
              "#d8576b"
             ],
             [
              0.6666666666666666,
              "#ed7953"
             ],
             [
              0.7777777777777778,
              "#fb9f3a"
             ],
             [
              0.8888888888888888,
              "#fdca26"
             ],
             [
              1,
              "#f0f921"
             ]
            ],
            "type": "heatmap"
           }
          ],
          "heatmapgl": [
           {
            "colorbar": {
             "outlinewidth": 0,
             "ticks": ""
            },
            "colorscale": [
             [
              0,
              "#0d0887"
             ],
             [
              0.1111111111111111,
              "#46039f"
             ],
             [
              0.2222222222222222,
              "#7201a8"
             ],
             [
              0.3333333333333333,
              "#9c179e"
             ],
             [
              0.4444444444444444,
              "#bd3786"
             ],
             [
              0.5555555555555556,
              "#d8576b"
             ],
             [
              0.6666666666666666,
              "#ed7953"
             ],
             [
              0.7777777777777778,
              "#fb9f3a"
             ],
             [
              0.8888888888888888,
              "#fdca26"
             ],
             [
              1,
              "#f0f921"
             ]
            ],
            "type": "heatmapgl"
           }
          ],
          "histogram": [
           {
            "marker": {
             "pattern": {
              "fillmode": "overlay",
              "size": 10,
              "solidity": 0.2
             }
            },
            "type": "histogram"
           }
          ],
          "histogram2d": [
           {
            "colorbar": {
             "outlinewidth": 0,
             "ticks": ""
            },
            "colorscale": [
             [
              0,
              "#0d0887"
             ],
             [
              0.1111111111111111,
              "#46039f"
             ],
             [
              0.2222222222222222,
              "#7201a8"
             ],
             [
              0.3333333333333333,
              "#9c179e"
             ],
             [
              0.4444444444444444,
              "#bd3786"
             ],
             [
              0.5555555555555556,
              "#d8576b"
             ],
             [
              0.6666666666666666,
              "#ed7953"
             ],
             [
              0.7777777777777778,
              "#fb9f3a"
             ],
             [
              0.8888888888888888,
              "#fdca26"
             ],
             [
              1,
              "#f0f921"
             ]
            ],
            "type": "histogram2d"
           }
          ],
          "histogram2dcontour": [
           {
            "colorbar": {
             "outlinewidth": 0,
             "ticks": ""
            },
            "colorscale": [
             [
              0,
              "#0d0887"
             ],
             [
              0.1111111111111111,
              "#46039f"
             ],
             [
              0.2222222222222222,
              "#7201a8"
             ],
             [
              0.3333333333333333,
              "#9c179e"
             ],
             [
              0.4444444444444444,
              "#bd3786"
             ],
             [
              0.5555555555555556,
              "#d8576b"
             ],
             [
              0.6666666666666666,
              "#ed7953"
             ],
             [
              0.7777777777777778,
              "#fb9f3a"
             ],
             [
              0.8888888888888888,
              "#fdca26"
             ],
             [
              1,
              "#f0f921"
             ]
            ],
            "type": "histogram2dcontour"
           }
          ],
          "mesh3d": [
           {
            "colorbar": {
             "outlinewidth": 0,
             "ticks": ""
            },
            "type": "mesh3d"
           }
          ],
          "parcoords": [
           {
            "line": {
             "colorbar": {
              "outlinewidth": 0,
              "ticks": ""
             }
            },
            "type": "parcoords"
           }
          ],
          "pie": [
           {
            "automargin": true,
            "type": "pie"
           }
          ],
          "scatter": [
           {
            "fillpattern": {
             "fillmode": "overlay",
             "size": 10,
             "solidity": 0.2
            },
            "type": "scatter"
           }
          ],
          "scatter3d": [
           {
            "line": {
             "colorbar": {
              "outlinewidth": 0,
              "ticks": ""
             }
            },
            "marker": {
             "colorbar": {
              "outlinewidth": 0,
              "ticks": ""
             }
            },
            "type": "scatter3d"
           }
          ],
          "scattercarpet": [
           {
            "marker": {
             "colorbar": {
              "outlinewidth": 0,
              "ticks": ""
             }
            },
            "type": "scattercarpet"
           }
          ],
          "scattergeo": [
           {
            "marker": {
             "colorbar": {
              "outlinewidth": 0,
              "ticks": ""
             }
            },
            "type": "scattergeo"
           }
          ],
          "scattergl": [
           {
            "marker": {
             "colorbar": {
              "outlinewidth": 0,
              "ticks": ""
             }
            },
            "type": "scattergl"
           }
          ],
          "scattermapbox": [
           {
            "marker": {
             "colorbar": {
              "outlinewidth": 0,
              "ticks": ""
             }
            },
            "type": "scattermapbox"
           }
          ],
          "scatterpolar": [
           {
            "marker": {
             "colorbar": {
              "outlinewidth": 0,
              "ticks": ""
             }
            },
            "type": "scatterpolar"
           }
          ],
          "scatterpolargl": [
           {
            "marker": {
             "colorbar": {
              "outlinewidth": 0,
              "ticks": ""
             }
            },
            "type": "scatterpolargl"
           }
          ],
          "scatterternary": [
           {
            "marker": {
             "colorbar": {
              "outlinewidth": 0,
              "ticks": ""
             }
            },
            "type": "scatterternary"
           }
          ],
          "surface": [
           {
            "colorbar": {
             "outlinewidth": 0,
             "ticks": ""
            },
            "colorscale": [
             [
              0,
              "#0d0887"
             ],
             [
              0.1111111111111111,
              "#46039f"
             ],
             [
              0.2222222222222222,
              "#7201a8"
             ],
             [
              0.3333333333333333,
              "#9c179e"
             ],
             [
              0.4444444444444444,
              "#bd3786"
             ],
             [
              0.5555555555555556,
              "#d8576b"
             ],
             [
              0.6666666666666666,
              "#ed7953"
             ],
             [
              0.7777777777777778,
              "#fb9f3a"
             ],
             [
              0.8888888888888888,
              "#fdca26"
             ],
             [
              1,
              "#f0f921"
             ]
            ],
            "type": "surface"
           }
          ],
          "table": [
           {
            "cells": {
             "fill": {
              "color": "#EBF0F8"
             },
             "line": {
              "color": "white"
             }
            },
            "header": {
             "fill": {
              "color": "#C8D4E3"
             },
             "line": {
              "color": "white"
             }
            },
            "type": "table"
           }
          ]
         },
         "layout": {
          "annotationdefaults": {
           "arrowcolor": "#2a3f5f",
           "arrowhead": 0,
           "arrowwidth": 1
          },
          "autotypenumbers": "strict",
          "coloraxis": {
           "colorbar": {
            "outlinewidth": 0,
            "ticks": ""
           }
          },
          "colorscale": {
           "diverging": [
            [
             0,
             "#8e0152"
            ],
            [
             0.1,
             "#c51b7d"
            ],
            [
             0.2,
             "#de77ae"
            ],
            [
             0.3,
             "#f1b6da"
            ],
            [
             0.4,
             "#fde0ef"
            ],
            [
             0.5,
             "#f7f7f7"
            ],
            [
             0.6,
             "#e6f5d0"
            ],
            [
             0.7,
             "#b8e186"
            ],
            [
             0.8,
             "#7fbc41"
            ],
            [
             0.9,
             "#4d9221"
            ],
            [
             1,
             "#276419"
            ]
           ],
           "sequential": [
            [
             0,
             "#0d0887"
            ],
            [
             0.1111111111111111,
             "#46039f"
            ],
            [
             0.2222222222222222,
             "#7201a8"
            ],
            [
             0.3333333333333333,
             "#9c179e"
            ],
            [
             0.4444444444444444,
             "#bd3786"
            ],
            [
             0.5555555555555556,
             "#d8576b"
            ],
            [
             0.6666666666666666,
             "#ed7953"
            ],
            [
             0.7777777777777778,
             "#fb9f3a"
            ],
            [
             0.8888888888888888,
             "#fdca26"
            ],
            [
             1,
             "#f0f921"
            ]
           ],
           "sequentialminus": [
            [
             0,
             "#0d0887"
            ],
            [
             0.1111111111111111,
             "#46039f"
            ],
            [
             0.2222222222222222,
             "#7201a8"
            ],
            [
             0.3333333333333333,
             "#9c179e"
            ],
            [
             0.4444444444444444,
             "#bd3786"
            ],
            [
             0.5555555555555556,
             "#d8576b"
            ],
            [
             0.6666666666666666,
             "#ed7953"
            ],
            [
             0.7777777777777778,
             "#fb9f3a"
            ],
            [
             0.8888888888888888,
             "#fdca26"
            ],
            [
             1,
             "#f0f921"
            ]
           ]
          },
          "colorway": [
           "#636efa",
           "#EF553B",
           "#00cc96",
           "#ab63fa",
           "#FFA15A",
           "#19d3f3",
           "#FF6692",
           "#B6E880",
           "#FF97FF",
           "#FECB52"
          ],
          "font": {
           "color": "#2a3f5f"
          },
          "geo": {
           "bgcolor": "white",
           "lakecolor": "white",
           "landcolor": "#E5ECF6",
           "showlakes": true,
           "showland": true,
           "subunitcolor": "white"
          },
          "hoverlabel": {
           "align": "left"
          },
          "hovermode": "closest",
          "mapbox": {
           "style": "light"
          },
          "paper_bgcolor": "white",
          "plot_bgcolor": "#E5ECF6",
          "polar": {
           "angularaxis": {
            "gridcolor": "white",
            "linecolor": "white",
            "ticks": ""
           },
           "bgcolor": "#E5ECF6",
           "radialaxis": {
            "gridcolor": "white",
            "linecolor": "white",
            "ticks": ""
           }
          },
          "scene": {
           "xaxis": {
            "backgroundcolor": "#E5ECF6",
            "gridcolor": "white",
            "gridwidth": 2,
            "linecolor": "white",
            "showbackground": true,
            "ticks": "",
            "zerolinecolor": "white"
           },
           "yaxis": {
            "backgroundcolor": "#E5ECF6",
            "gridcolor": "white",
            "gridwidth": 2,
            "linecolor": "white",
            "showbackground": true,
            "ticks": "",
            "zerolinecolor": "white"
           },
           "zaxis": {
            "backgroundcolor": "#E5ECF6",
            "gridcolor": "white",
            "gridwidth": 2,
            "linecolor": "white",
            "showbackground": true,
            "ticks": "",
            "zerolinecolor": "white"
           }
          },
          "shapedefaults": {
           "line": {
            "color": "#2a3f5f"
           }
          },
          "ternary": {
           "aaxis": {
            "gridcolor": "white",
            "linecolor": "white",
            "ticks": ""
           },
           "baxis": {
            "gridcolor": "white",
            "linecolor": "white",
            "ticks": ""
           },
           "bgcolor": "#E5ECF6",
           "caxis": {
            "gridcolor": "white",
            "linecolor": "white",
            "ticks": ""
           }
          },
          "title": {
           "x": 0.05
          },
          "xaxis": {
           "automargin": true,
           "gridcolor": "white",
           "linecolor": "white",
           "ticks": "",
           "title": {
            "standoff": 15
           },
           "zerolinecolor": "white",
           "zerolinewidth": 2
          },
          "yaxis": {
           "automargin": true,
           "gridcolor": "white",
           "linecolor": "white",
           "ticks": "",
           "title": {
            "standoff": 15
           },
           "zerolinecolor": "white",
           "zerolinewidth": 2
          }
         }
        },
        "title": {
         "font": {
          "color": "#4D5663"
         }
        },
        "xaxis": {
         "gridcolor": "#E1E5ED",
         "showgrid": true,
         "tickfont": {
          "color": "#4D5663"
         },
         "title": {
          "font": {
           "color": "#4D5663"
          },
          "text": ""
         },
         "zerolinecolor": "#E1E5ED"
        },
        "yaxis": {
         "gridcolor": "#E1E5ED",
         "showgrid": true,
         "tickfont": {
          "color": "#4D5663"
         },
         "title": {
          "font": {
           "color": "#4D5663"
          },
          "text": ""
         },
         "zerolinecolor": "#E1E5ED"
        }
       }
      },
      "text/html": [
       "<div>                            <div id=\"ff393437-5128-4f0a-9cd9-9015670e4fc2\" class=\"plotly-graph-div\" style=\"height:525px; width:100%;\"></div>            <script type=\"text/javascript\">                require([\"plotly\"], function(Plotly) {                    window.PLOTLYENV=window.PLOTLYENV || {};\n",
       "                    window.PLOTLYENV.BASE_URL='https://plot.ly';                                    if (document.getElementById(\"ff393437-5128-4f0a-9cd9-9015670e4fc2\")) {                    Plotly.newPlot(                        \"ff393437-5128-4f0a-9cd9-9015670e4fc2\",                        [{\"colorscale\":[[0.0,\"rgb(165,0,38)\"],[0.1,\"rgb(215,48,39)\"],[0.2,\"rgb(244,109,67)\"],[0.3,\"rgb(253,174,97)\"],[0.4,\"rgb(254,224,144)\"],[0.5,\"rgb(255,255,191)\"],[0.6,\"rgb(224,243,248)\"],[0.7,\"rgb(171,217,233)\"],[0.8,\"rgb(116,173,209)\"],[0.9,\"rgb(69,117,180)\"],[1.0,\"rgb(49,54,149)\"]],\"x\":[0,1,2,3,4],\"y\":[\"x\",\"y\",\"z\"],\"z\":[[1,2,3,4,5],[10,20,30,40,50],[5,10,15,20,25]],\"type\":\"surface\"}],                        {\"legend\":{\"bgcolor\":\"#F5F6F9\",\"font\":{\"color\":\"#4D5663\"}},\"paper_bgcolor\":\"#F5F6F9\",\"plot_bgcolor\":\"#F5F6F9\",\"template\":{\"data\":{\"barpolar\":[{\"marker\":{\"line\":{\"color\":\"#E5ECF6\",\"width\":0.5},\"pattern\":{\"fillmode\":\"overlay\",\"size\":10,\"solidity\":0.2}},\"type\":\"barpolar\"}],\"bar\":[{\"error_x\":{\"color\":\"#2a3f5f\"},\"error_y\":{\"color\":\"#2a3f5f\"},\"marker\":{\"line\":{\"color\":\"#E5ECF6\",\"width\":0.5},\"pattern\":{\"fillmode\":\"overlay\",\"size\":10,\"solidity\":0.2}},\"type\":\"bar\"}],\"carpet\":[{\"aaxis\":{\"endlinecolor\":\"#2a3f5f\",\"gridcolor\":\"white\",\"linecolor\":\"white\",\"minorgridcolor\":\"white\",\"startlinecolor\":\"#2a3f5f\"},\"baxis\":{\"endlinecolor\":\"#2a3f5f\",\"gridcolor\":\"white\",\"linecolor\":\"white\",\"minorgridcolor\":\"white\",\"startlinecolor\":\"#2a3f5f\"},\"type\":\"carpet\"}],\"choropleth\":[{\"colorbar\":{\"outlinewidth\":0,\"ticks\":\"\"},\"type\":\"choropleth\"}],\"contourcarpet\":[{\"colorbar\":{\"outlinewidth\":0,\"ticks\":\"\"},\"type\":\"contourcarpet\"}],\"contour\":[{\"colorbar\":{\"outlinewidth\":0,\"ticks\":\"\"},\"colorscale\":[[0.0,\"#0d0887\"],[0.1111111111111111,\"#46039f\"],[0.2222222222222222,\"#7201a8\"],[0.3333333333333333,\"#9c179e\"],[0.4444444444444444,\"#bd3786\"],[0.5555555555555556,\"#d8576b\"],[0.6666666666666666,\"#ed7953\"],[0.7777777777777778,\"#fb9f3a\"],[0.8888888888888888,\"#fdca26\"],[1.0,\"#f0f921\"]],\"type\":\"contour\"}],\"heatmapgl\":[{\"colorbar\":{\"outlinewidth\":0,\"ticks\":\"\"},\"colorscale\":[[0.0,\"#0d0887\"],[0.1111111111111111,\"#46039f\"],[0.2222222222222222,\"#7201a8\"],[0.3333333333333333,\"#9c179e\"],[0.4444444444444444,\"#bd3786\"],[0.5555555555555556,\"#d8576b\"],[0.6666666666666666,\"#ed7953\"],[0.7777777777777778,\"#fb9f3a\"],[0.8888888888888888,\"#fdca26\"],[1.0,\"#f0f921\"]],\"type\":\"heatmapgl\"}],\"heatmap\":[{\"colorbar\":{\"outlinewidth\":0,\"ticks\":\"\"},\"colorscale\":[[0.0,\"#0d0887\"],[0.1111111111111111,\"#46039f\"],[0.2222222222222222,\"#7201a8\"],[0.3333333333333333,\"#9c179e\"],[0.4444444444444444,\"#bd3786\"],[0.5555555555555556,\"#d8576b\"],[0.6666666666666666,\"#ed7953\"],[0.7777777777777778,\"#fb9f3a\"],[0.8888888888888888,\"#fdca26\"],[1.0,\"#f0f921\"]],\"type\":\"heatmap\"}],\"histogram2dcontour\":[{\"colorbar\":{\"outlinewidth\":0,\"ticks\":\"\"},\"colorscale\":[[0.0,\"#0d0887\"],[0.1111111111111111,\"#46039f\"],[0.2222222222222222,\"#7201a8\"],[0.3333333333333333,\"#9c179e\"],[0.4444444444444444,\"#bd3786\"],[0.5555555555555556,\"#d8576b\"],[0.6666666666666666,\"#ed7953\"],[0.7777777777777778,\"#fb9f3a\"],[0.8888888888888888,\"#fdca26\"],[1.0,\"#f0f921\"]],\"type\":\"histogram2dcontour\"}],\"histogram2d\":[{\"colorbar\":{\"outlinewidth\":0,\"ticks\":\"\"},\"colorscale\":[[0.0,\"#0d0887\"],[0.1111111111111111,\"#46039f\"],[0.2222222222222222,\"#7201a8\"],[0.3333333333333333,\"#9c179e\"],[0.4444444444444444,\"#bd3786\"],[0.5555555555555556,\"#d8576b\"],[0.6666666666666666,\"#ed7953\"],[0.7777777777777778,\"#fb9f3a\"],[0.8888888888888888,\"#fdca26\"],[1.0,\"#f0f921\"]],\"type\":\"histogram2d\"}],\"histogram\":[{\"marker\":{\"pattern\":{\"fillmode\":\"overlay\",\"size\":10,\"solidity\":0.2}},\"type\":\"histogram\"}],\"mesh3d\":[{\"colorbar\":{\"outlinewidth\":0,\"ticks\":\"\"},\"type\":\"mesh3d\"}],\"parcoords\":[{\"line\":{\"colorbar\":{\"outlinewidth\":0,\"ticks\":\"\"}},\"type\":\"parcoords\"}],\"pie\":[{\"automargin\":true,\"type\":\"pie\"}],\"scatter3d\":[{\"line\":{\"colorbar\":{\"outlinewidth\":0,\"ticks\":\"\"}},\"marker\":{\"colorbar\":{\"outlinewidth\":0,\"ticks\":\"\"}},\"type\":\"scatter3d\"}],\"scattercarpet\":[{\"marker\":{\"colorbar\":{\"outlinewidth\":0,\"ticks\":\"\"}},\"type\":\"scattercarpet\"}],\"scattergeo\":[{\"marker\":{\"colorbar\":{\"outlinewidth\":0,\"ticks\":\"\"}},\"type\":\"scattergeo\"}],\"scattergl\":[{\"marker\":{\"colorbar\":{\"outlinewidth\":0,\"ticks\":\"\"}},\"type\":\"scattergl\"}],\"scattermapbox\":[{\"marker\":{\"colorbar\":{\"outlinewidth\":0,\"ticks\":\"\"}},\"type\":\"scattermapbox\"}],\"scatterpolargl\":[{\"marker\":{\"colorbar\":{\"outlinewidth\":0,\"ticks\":\"\"}},\"type\":\"scatterpolargl\"}],\"scatterpolar\":[{\"marker\":{\"colorbar\":{\"outlinewidth\":0,\"ticks\":\"\"}},\"type\":\"scatterpolar\"}],\"scatter\":[{\"fillpattern\":{\"fillmode\":\"overlay\",\"size\":10,\"solidity\":0.2},\"type\":\"scatter\"}],\"scatterternary\":[{\"marker\":{\"colorbar\":{\"outlinewidth\":0,\"ticks\":\"\"}},\"type\":\"scatterternary\"}],\"surface\":[{\"colorbar\":{\"outlinewidth\":0,\"ticks\":\"\"},\"colorscale\":[[0.0,\"#0d0887\"],[0.1111111111111111,\"#46039f\"],[0.2222222222222222,\"#7201a8\"],[0.3333333333333333,\"#9c179e\"],[0.4444444444444444,\"#bd3786\"],[0.5555555555555556,\"#d8576b\"],[0.6666666666666666,\"#ed7953\"],[0.7777777777777778,\"#fb9f3a\"],[0.8888888888888888,\"#fdca26\"],[1.0,\"#f0f921\"]],\"type\":\"surface\"}],\"table\":[{\"cells\":{\"fill\":{\"color\":\"#EBF0F8\"},\"line\":{\"color\":\"white\"}},\"header\":{\"fill\":{\"color\":\"#C8D4E3\"},\"line\":{\"color\":\"white\"}},\"type\":\"table\"}]},\"layout\":{\"annotationdefaults\":{\"arrowcolor\":\"#2a3f5f\",\"arrowhead\":0,\"arrowwidth\":1},\"autotypenumbers\":\"strict\",\"coloraxis\":{\"colorbar\":{\"outlinewidth\":0,\"ticks\":\"\"}},\"colorscale\":{\"diverging\":[[0,\"#8e0152\"],[0.1,\"#c51b7d\"],[0.2,\"#de77ae\"],[0.3,\"#f1b6da\"],[0.4,\"#fde0ef\"],[0.5,\"#f7f7f7\"],[0.6,\"#e6f5d0\"],[0.7,\"#b8e186\"],[0.8,\"#7fbc41\"],[0.9,\"#4d9221\"],[1,\"#276419\"]],\"sequential\":[[0.0,\"#0d0887\"],[0.1111111111111111,\"#46039f\"],[0.2222222222222222,\"#7201a8\"],[0.3333333333333333,\"#9c179e\"],[0.4444444444444444,\"#bd3786\"],[0.5555555555555556,\"#d8576b\"],[0.6666666666666666,\"#ed7953\"],[0.7777777777777778,\"#fb9f3a\"],[0.8888888888888888,\"#fdca26\"],[1.0,\"#f0f921\"]],\"sequentialminus\":[[0.0,\"#0d0887\"],[0.1111111111111111,\"#46039f\"],[0.2222222222222222,\"#7201a8\"],[0.3333333333333333,\"#9c179e\"],[0.4444444444444444,\"#bd3786\"],[0.5555555555555556,\"#d8576b\"],[0.6666666666666666,\"#ed7953\"],[0.7777777777777778,\"#fb9f3a\"],[0.8888888888888888,\"#fdca26\"],[1.0,\"#f0f921\"]]},\"colorway\":[\"#636efa\",\"#EF553B\",\"#00cc96\",\"#ab63fa\",\"#FFA15A\",\"#19d3f3\",\"#FF6692\",\"#B6E880\",\"#FF97FF\",\"#FECB52\"],\"font\":{\"color\":\"#2a3f5f\"},\"geo\":{\"bgcolor\":\"white\",\"lakecolor\":\"white\",\"landcolor\":\"#E5ECF6\",\"showlakes\":true,\"showland\":true,\"subunitcolor\":\"white\"},\"hoverlabel\":{\"align\":\"left\"},\"hovermode\":\"closest\",\"mapbox\":{\"style\":\"light\"},\"paper_bgcolor\":\"white\",\"plot_bgcolor\":\"#E5ECF6\",\"polar\":{\"angularaxis\":{\"gridcolor\":\"white\",\"linecolor\":\"white\",\"ticks\":\"\"},\"bgcolor\":\"#E5ECF6\",\"radialaxis\":{\"gridcolor\":\"white\",\"linecolor\":\"white\",\"ticks\":\"\"}},\"scene\":{\"xaxis\":{\"backgroundcolor\":\"#E5ECF6\",\"gridcolor\":\"white\",\"gridwidth\":2,\"linecolor\":\"white\",\"showbackground\":true,\"ticks\":\"\",\"zerolinecolor\":\"white\"},\"yaxis\":{\"backgroundcolor\":\"#E5ECF6\",\"gridcolor\":\"white\",\"gridwidth\":2,\"linecolor\":\"white\",\"showbackground\":true,\"ticks\":\"\",\"zerolinecolor\":\"white\"},\"zaxis\":{\"backgroundcolor\":\"#E5ECF6\",\"gridcolor\":\"white\",\"gridwidth\":2,\"linecolor\":\"white\",\"showbackground\":true,\"ticks\":\"\",\"zerolinecolor\":\"white\"}},\"shapedefaults\":{\"line\":{\"color\":\"#2a3f5f\"}},\"ternary\":{\"aaxis\":{\"gridcolor\":\"white\",\"linecolor\":\"white\",\"ticks\":\"\"},\"baxis\":{\"gridcolor\":\"white\",\"linecolor\":\"white\",\"ticks\":\"\"},\"bgcolor\":\"#E5ECF6\",\"caxis\":{\"gridcolor\":\"white\",\"linecolor\":\"white\",\"ticks\":\"\"}},\"title\":{\"x\":0.05},\"xaxis\":{\"automargin\":true,\"gridcolor\":\"white\",\"linecolor\":\"white\",\"ticks\":\"\",\"title\":{\"standoff\":15},\"zerolinecolor\":\"white\",\"zerolinewidth\":2},\"yaxis\":{\"automargin\":true,\"gridcolor\":\"white\",\"linecolor\":\"white\",\"ticks\":\"\",\"title\":{\"standoff\":15},\"zerolinecolor\":\"white\",\"zerolinewidth\":2}}},\"title\":{\"font\":{\"color\":\"#4D5663\"}},\"xaxis\":{\"gridcolor\":\"#E1E5ED\",\"showgrid\":true,\"tickfont\":{\"color\":\"#4D5663\"},\"title\":{\"font\":{\"color\":\"#4D5663\"},\"text\":\"\"},\"zerolinecolor\":\"#E1E5ED\"},\"yaxis\":{\"gridcolor\":\"#E1E5ED\",\"showgrid\":true,\"tickfont\":{\"color\":\"#4D5663\"},\"title\":{\"font\":{\"color\":\"#4D5663\"},\"text\":\"\"},\"zerolinecolor\":\"#E1E5ED\"}},                        {\"showLink\": true, \"linkText\": \"Export to plot.ly\", \"plotlyServerURL\": \"https://plot.ly\", \"responsive\": true}                    ).then(function(){\n",
       "                            \n",
       "var gd = document.getElementById('ff393437-5128-4f0a-9cd9-9015670e4fc2');\n",
       "var x = new MutationObserver(function (mutations, observer) {{\n",
       "        var display = window.getComputedStyle(gd).display;\n",
       "        if (!display || display === 'none') {{\n",
       "            console.log([gd, 'removed!']);\n",
       "            Plotly.purge(gd);\n",
       "            observer.disconnect();\n",
       "        }}\n",
       "}});\n",
       "\n",
       "// Listen for the removal of the full notebook cells\n",
       "var notebookContainer = gd.closest('#notebook-container');\n",
       "if (notebookContainer) {{\n",
       "    x.observe(notebookContainer, {childList: true});\n",
       "}}\n",
       "\n",
       "// Listen for the clearing of the current output cell\n",
       "var outputEl = gd.closest('.output');\n",
       "if (outputEl) {{\n",
       "    x.observe(outputEl, {childList: true});\n",
       "}}\n",
       "\n",
       "                        })                };                });            </script>        </div>"
      ]
     },
     "metadata": {},
     "output_type": "display_data"
    }
   ],
   "source": [
    "df3.iplot(kind='surface', colorscale='rdylbu')"
   ]
  },
  {
   "cell_type": "code",
   "execution_count": 25,
   "id": "769ae31f",
   "metadata": {},
   "outputs": [
    {
     "data": {
      "application/vnd.plotly.v1+json": {
       "config": {
        "linkText": "Export to plot.ly",
        "plotlyServerURL": "https://plot.ly",
        "showLink": true
       },
       "data": [
        {
         "histfunc": "count",
         "histnorm": "",
         "marker": {
          "color": "rgba(255, 153, 51, 1.0)",
          "line": {
           "color": "#4D5663",
           "width": 1.3
          }
         },
         "name": "A",
         "opacity": 0.8,
         "orientation": "v",
         "type": "histogram",
         "x": [
          -1.2821232259307913,
          -0.39999089040185204,
          0.18603955462223581,
          1.9454784431368184,
          -0.5976460193168096,
          -1.1357869422281528,
          0.5011941647418091,
          -0.3165890810433005,
          -0.49026251352794514,
          -0.3070155142823813,
          -0.00928407711693977,
          0.40742108364021007,
          -0.8059220890051619,
          -1.6150012335022794,
          0.2831274750204807,
          -0.8071318749394667,
          1.2578496478325498,
          0.5546354700979511,
          -0.8058535128503591,
          -1.325128537682219,
          -0.6293771302746785,
          -0.18505519612184348,
          1.161217988148961,
          -0.9940280665073525,
          -1.0517075260495918,
          -0.021950386799966522,
          1.7059306402459018,
          -0.5431574852715914,
          -1.6652518510749255,
          -0.2293687085613229,
          -0.9330038160520542,
          -0.40135606395472045,
          -0.5904818764111005,
          0.1561604164203169,
          0.05909328601089837,
          -0.27648155744488384,
          1.5426214018051496,
          2.00748019586431,
          -0.23004698398830756,
          -0.9034603928397359,
          -0.8432824015442412,
          0.5985161962702256,
          0.2064791649332286,
          -1.5981203262502197,
          -0.691193621887644,
          1.2648788373359174,
          -0.9812428188552841,
          0.29077257292937864,
          -0.3860304784116714,
          0.7348736205455061,
          -0.30194463093884955,
          -1.1804849866851235,
          1.8555927233230805,
          0.3206204405021417,
          -0.3484647029488913,
          0.17804035824914086,
          -0.005932309547459654,
          -1.09324321057662,
          1.0537325994802822,
          -0.11131747857058517,
          1.5510248050539293,
          0.0641092321739744,
          0.011983916018163067,
          0.07671899326363087,
          -1.6383015593850865,
          -0.8930202201725317,
          2.177001154926578,
          0.10032475555698285,
          0.19801577044420687,
          -0.8143086148611789,
          2.5765300667706303,
          1.1424955734563713,
          -1.1782421287147495,
          0.36719261575559925,
          1.913126328532216,
          0.5316725673593986,
          1.0609389309814266,
          -0.2580418540315302,
          -1.1096209702275894,
          -0.16525766112282678,
          -0.6350618813045671,
          -0.6680136886957433,
          2.2019863428116317,
          -0.6545846207600245,
          -0.9819257347533642,
          0.7686352817125546,
          -0.28770493344401477,
          0.5918740917074815,
          0.5183444223241045,
          -1.7520524718812602,
          1.3980636906330712,
          -1.1245314917361031,
          0.022139236012942463,
          0.7592364488219824,
          0.42600620243372245,
          -1.5866222361761575,
          0.9371724506934582,
          -0.9137856349047465,
          1.6410233938129204,
          -0.16725096651345864
         ]
        },
        {
         "histfunc": "count",
         "histnorm": "",
         "marker": {
          "color": "rgba(55, 128, 191, 1.0)",
          "line": {
           "color": "#4D5663",
           "width": 1.3
          }
         },
         "name": "B",
         "opacity": 0.8,
         "orientation": "v",
         "type": "histogram",
         "x": [
          -2.467489679081685,
          -0.9109994341608991,
          -0.9775439597470429,
          -0.8050359803816095,
          0.3880837334389582,
          0.7226047001728041,
          2.12261391775626,
          -1.585119821691273,
          -1.4789391663694118,
          1.4130010878680048,
          0.5171336797321604,
          0.8200803187753855,
          -0.1651247430133621,
          -0.020378991429335632,
          1.7248920409679187,
          -1.0379234752961863,
          1.0288558054083492,
          -0.4209039800868332,
          0.9359771990048374,
          0.5283817923005579,
          -0.704072800755225,
          0.33848644671342304,
          1.1773768477836346,
          -0.45103721768800803,
          0.13224782035424706,
          0.7204598068251858,
          -0.9342447733723493,
          -1.5204779496076484,
          1.0181798372524824,
          2.0464668998426223,
          0.6454665423594669,
          -0.5056759016895037,
          0.6527386290509671,
          -0.5547342801162942,
          0.3788700033858548,
          -0.3676073288176218,
          0.5656698820540743,
          1.580633720103138,
          -0.12711454975637088,
          -0.3505517026278936,
          -0.7660622716697431,
          1.523972798077345,
          0.8877692878051118,
          -0.10704995915426571,
          1.629723149498767,
          -0.15762680777432658,
          -1.2668726445596794,
          0.20016928924696611,
          0.699254128347382,
          -0.03689603754636403,
          0.30371287844000294,
          0.28611928397815256,
          2.0585330014523042,
          1.0140945140540905,
          -0.8297552712905361,
          0.09013592833499368,
          0.3984442817811917,
          -0.4571516491840917,
          -0.44287898704643447,
          -1.0569149385856347,
          0.04807235507245364,
          -0.34419688596532827,
          0.10004621268753495,
          0.08731147708013766,
          1.0876804228688925,
          1.3099639910003447,
          0.7539412010773562,
          0.11957250636430646,
          2.3106977365467682,
          2.519930816359611,
          0.08534530825215789,
          -0.9825625396071127,
          -0.39525470620522996,
          -3.1375179773086317,
          0.6132469463474309,
          -0.16942740949205784,
          0.09266214650465411,
          -1.0902353511589595,
          0.8250519676663988,
          -0.13858028835181693,
          -0.28940274670430133,
          -0.002690390203971974,
          0.046357330322069706,
          0.85344253401098,
          0.5158074327785028,
          -1.0161437917023335,
          0.4572488313164856,
          -0.10617864673067459,
          -0.5613388514490533,
          0.3160584742132285,
          -0.8654585149192117,
          0.5512673818002701,
          -0.048270305086464724,
          0.7690216936257351,
          0.8258710118208544,
          -0.16396989659898215,
          -0.7355413370519562,
          -0.163054476714875,
          -1.1757281031956057,
          0.7343984686472602
         ]
        },
        {
         "histfunc": "count",
         "histnorm": "",
         "marker": {
          "color": "rgba(50, 171, 96, 1.0)",
          "line": {
           "color": "#4D5663",
           "width": 1.3
          }
         },
         "name": "C",
         "opacity": 0.8,
         "orientation": "v",
         "type": "histogram",
         "x": [
          -0.8893998141162937,
          0.6372436645570296,
          -2.23741081423564,
          -0.31765623347929695,
          0.7561914475460509,
          -0.623860105721561,
          0.6903173494809115,
          -0.5048600551762947,
          2.020714308651883,
          0.23026979636838407,
          0.37398753003537616,
          0.5206609753244256,
          -0.10018920147383852,
          -1.2985299229663352,
          -0.9483501928456123,
          1.135689521637158,
          -0.3337735918049371,
          -1.6326402352224678,
          -0.25866872748129416,
          0.5924898339790267,
          1.2233285790848265,
          -1.474457852245962,
          0.45596964798191353,
          -0.10814969404145522,
          -0.27594004426502083,
          -0.9124845686148109,
          0.01100070388541124,
          -1.9505347477078452,
          -0.15105469124096588,
          0.907630680494936,
          -0.6029292033423908,
          0.990481495159389,
          1.1515227416718936,
          0.44789830857842894,
          -1.7855238667231463,
          -0.5902657180884271,
          0.8584499386080536,
          1.0116028854383643,
          -0.571014671596426,
          -0.3866591298764715,
          0.9949808495557023,
          0.7875792632930714,
          0.29112207583799676,
          -0.3884189898620297,
          -1.6966161836642502,
          1.8160384812003816,
          0.32587379503399005,
          0.2644828784239742,
          -0.08883414710595931,
          -1.8782287388849652,
          0.05256177117982688,
          1.0882529289653526,
          0.8784535728298893,
          1.0193199732692901,
          -0.8088506639910596,
          -1.0223568889142052,
          0.06939344982076391,
          0.6655572511232158,
          -0.38330034677819247,
          -0.7887206396605513,
          -2.1337760011371416,
          -0.505300093639108,
          -0.22328614767833907,
          -1.0417437989607305,
          -0.34560269984827874,
          0.3537127142015969,
          -0.2736786047966587,
          -0.2298074753826692,
          0.8303171527118302,
          -0.8303087103507922,
          1.9162689202891265,
          -0.5565059936724137,
          2.061512699042052,
          0.5734812031194394,
          -1.034854720445252,
          -0.11071862296050343,
          -0.6111748958387944,
          0.28806307986797813,
          1.2021557339158877,
          -1.3410568555000184,
          -0.5043708568868606,
          -0.26905233445725124,
          0.8835614081469708,
          0.31823037951212957,
          -0.20841669540258473,
          1.051719819048651,
          0.3510133756617166,
          0.11514781134378886,
          -2.0386124893706765,
          -1.569657323964556,
          -0.4080591760496254,
          -0.29178810250300924,
          0.40457254548522725,
          -0.7983154563691286,
          -0.2538226193332108,
          -0.678911915924447,
          0.5116043020782122,
          -0.2827194860534984,
          0.6441183952673111,
          -0.2619746150812916
         ]
        },
        {
         "histfunc": "count",
         "histnorm": "",
         "marker": {
          "color": "rgba(128, 0, 128, 1.0)",
          "line": {
           "color": "#4D5663",
           "width": 1.3
          }
         },
         "name": "D",
         "opacity": 0.8,
         "orientation": "v",
         "type": "histogram",
         "x": [
          0.18451300084608604,
          -0.3022177165304333,
          -0.6006769288458926,
          -0.3052576828469785,
          0.012925204395338697,
          0.06072685016311775,
          1.2464010145843716,
          2.2562220704540947,
          1.7541323312485497,
          -2.7953960478174134,
          1.7960094174179742,
          0.8587481039984973,
          1.0574408725210322,
          -1.576207770904765,
          -0.16787222872406804,
          -1.580171289911969,
          -0.7405713053105409,
          -0.12211621622406345,
          -0.02719325408965277,
          0.7455332289902771,
          1.0431039917089024,
          -0.5573515013267838,
          -0.9478720009528269,
          -2.2240467163863453,
          0.47885219514426564,
          0.6635970834572871,
          0.16347637504181256,
          -0.514245754001384,
          0.2450690907864287,
          0.05695716481583332,
          0.6634388719648321,
          -0.39840694654691705,
          0.5490831922887796,
          -1.3498267213886324,
          2.0059690281820273,
          2.4237220564037774,
          0.6409158751104084,
          -1.145590629899955,
          -0.6344692609620162,
          -1.964475569311091,
          -2.553119815804278,
          -0.4154753044515657,
          0.93288515541365,
          0.41607149191763854,
          -0.5223885849225867,
          -0.5097269627705164,
          0.3137166198850058,
          -0.41033148846453166,
          -1.3504160978888808,
          -1.44639215776379,
          -1.2558830397396972,
          0.5085298183118243,
          -0.4844584936706081,
          -1.1095044253580726,
          -0.7520124292610786,
          0.5109618144518884,
          -1.0808074527541336,
          2.0158253236315438,
          0.8194125244241102,
          -1.830150410875788,
          -0.11276219125895252,
          0.7023652442498306,
          1.9866344386381598,
          -1.112745174819402,
          -1.0955180400783469,
          -0.44312559456598377,
          -0.9639932603404257,
          1.419599652907551,
          0.13032087210775575,
          -0.08480607840877766,
          -0.07161572488825718,
          -0.9309787384976403,
          0.11791449149366284,
          -1.1062473942402988,
          -0.35788548437586404,
          -0.3021284959768266,
          -1.3895146183345222,
          1.0207429380778419,
          0.17078822856664266,
          -0.1907799131125399,
          0.4714082561261303,
          0.2754318671952387,
          -0.2514751898440218,
          0.2837712535707717,
          -2.96998439652934,
          -0.1986095130641284,
          0.8367124996316605,
          -1.2139829622550151,
          0.6954813803560759,
          1.3221282513598556,
          -0.28719994075524213,
          2.2187535094641837,
          -0.3975645906718611,
          1.4843046228816186,
          -0.1192081000017448,
          1.0537349037666213,
          -0.6698748203139302,
          0.32146389721568674,
          -1.7296684021234106,
          0.531263702406474
         ]
        }
       ],
       "layout": {
        "barmode": "overlay",
        "legend": {
         "bgcolor": "#F5F6F9",
         "font": {
          "color": "#4D5663"
         }
        },
        "paper_bgcolor": "#F5F6F9",
        "plot_bgcolor": "#F5F6F9",
        "template": {
         "data": {
          "bar": [
           {
            "error_x": {
             "color": "#2a3f5f"
            },
            "error_y": {
             "color": "#2a3f5f"
            },
            "marker": {
             "line": {
              "color": "#E5ECF6",
              "width": 0.5
             },
             "pattern": {
              "fillmode": "overlay",
              "size": 10,
              "solidity": 0.2
             }
            },
            "type": "bar"
           }
          ],
          "barpolar": [
           {
            "marker": {
             "line": {
              "color": "#E5ECF6",
              "width": 0.5
             },
             "pattern": {
              "fillmode": "overlay",
              "size": 10,
              "solidity": 0.2
             }
            },
            "type": "barpolar"
           }
          ],
          "carpet": [
           {
            "aaxis": {
             "endlinecolor": "#2a3f5f",
             "gridcolor": "white",
             "linecolor": "white",
             "minorgridcolor": "white",
             "startlinecolor": "#2a3f5f"
            },
            "baxis": {
             "endlinecolor": "#2a3f5f",
             "gridcolor": "white",
             "linecolor": "white",
             "minorgridcolor": "white",
             "startlinecolor": "#2a3f5f"
            },
            "type": "carpet"
           }
          ],
          "choropleth": [
           {
            "colorbar": {
             "outlinewidth": 0,
             "ticks": ""
            },
            "type": "choropleth"
           }
          ],
          "contour": [
           {
            "colorbar": {
             "outlinewidth": 0,
             "ticks": ""
            },
            "colorscale": [
             [
              0,
              "#0d0887"
             ],
             [
              0.1111111111111111,
              "#46039f"
             ],
             [
              0.2222222222222222,
              "#7201a8"
             ],
             [
              0.3333333333333333,
              "#9c179e"
             ],
             [
              0.4444444444444444,
              "#bd3786"
             ],
             [
              0.5555555555555556,
              "#d8576b"
             ],
             [
              0.6666666666666666,
              "#ed7953"
             ],
             [
              0.7777777777777778,
              "#fb9f3a"
             ],
             [
              0.8888888888888888,
              "#fdca26"
             ],
             [
              1,
              "#f0f921"
             ]
            ],
            "type": "contour"
           }
          ],
          "contourcarpet": [
           {
            "colorbar": {
             "outlinewidth": 0,
             "ticks": ""
            },
            "type": "contourcarpet"
           }
          ],
          "heatmap": [
           {
            "colorbar": {
             "outlinewidth": 0,
             "ticks": ""
            },
            "colorscale": [
             [
              0,
              "#0d0887"
             ],
             [
              0.1111111111111111,
              "#46039f"
             ],
             [
              0.2222222222222222,
              "#7201a8"
             ],
             [
              0.3333333333333333,
              "#9c179e"
             ],
             [
              0.4444444444444444,
              "#bd3786"
             ],
             [
              0.5555555555555556,
              "#d8576b"
             ],
             [
              0.6666666666666666,
              "#ed7953"
             ],
             [
              0.7777777777777778,
              "#fb9f3a"
             ],
             [
              0.8888888888888888,
              "#fdca26"
             ],
             [
              1,
              "#f0f921"
             ]
            ],
            "type": "heatmap"
           }
          ],
          "heatmapgl": [
           {
            "colorbar": {
             "outlinewidth": 0,
             "ticks": ""
            },
            "colorscale": [
             [
              0,
              "#0d0887"
             ],
             [
              0.1111111111111111,
              "#46039f"
             ],
             [
              0.2222222222222222,
              "#7201a8"
             ],
             [
              0.3333333333333333,
              "#9c179e"
             ],
             [
              0.4444444444444444,
              "#bd3786"
             ],
             [
              0.5555555555555556,
              "#d8576b"
             ],
             [
              0.6666666666666666,
              "#ed7953"
             ],
             [
              0.7777777777777778,
              "#fb9f3a"
             ],
             [
              0.8888888888888888,
              "#fdca26"
             ],
             [
              1,
              "#f0f921"
             ]
            ],
            "type": "heatmapgl"
           }
          ],
          "histogram": [
           {
            "marker": {
             "pattern": {
              "fillmode": "overlay",
              "size": 10,
              "solidity": 0.2
             }
            },
            "type": "histogram"
           }
          ],
          "histogram2d": [
           {
            "colorbar": {
             "outlinewidth": 0,
             "ticks": ""
            },
            "colorscale": [
             [
              0,
              "#0d0887"
             ],
             [
              0.1111111111111111,
              "#46039f"
             ],
             [
              0.2222222222222222,
              "#7201a8"
             ],
             [
              0.3333333333333333,
              "#9c179e"
             ],
             [
              0.4444444444444444,
              "#bd3786"
             ],
             [
              0.5555555555555556,
              "#d8576b"
             ],
             [
              0.6666666666666666,
              "#ed7953"
             ],
             [
              0.7777777777777778,
              "#fb9f3a"
             ],
             [
              0.8888888888888888,
              "#fdca26"
             ],
             [
              1,
              "#f0f921"
             ]
            ],
            "type": "histogram2d"
           }
          ],
          "histogram2dcontour": [
           {
            "colorbar": {
             "outlinewidth": 0,
             "ticks": ""
            },
            "colorscale": [
             [
              0,
              "#0d0887"
             ],
             [
              0.1111111111111111,
              "#46039f"
             ],
             [
              0.2222222222222222,
              "#7201a8"
             ],
             [
              0.3333333333333333,
              "#9c179e"
             ],
             [
              0.4444444444444444,
              "#bd3786"
             ],
             [
              0.5555555555555556,
              "#d8576b"
             ],
             [
              0.6666666666666666,
              "#ed7953"
             ],
             [
              0.7777777777777778,
              "#fb9f3a"
             ],
             [
              0.8888888888888888,
              "#fdca26"
             ],
             [
              1,
              "#f0f921"
             ]
            ],
            "type": "histogram2dcontour"
           }
          ],
          "mesh3d": [
           {
            "colorbar": {
             "outlinewidth": 0,
             "ticks": ""
            },
            "type": "mesh3d"
           }
          ],
          "parcoords": [
           {
            "line": {
             "colorbar": {
              "outlinewidth": 0,
              "ticks": ""
             }
            },
            "type": "parcoords"
           }
          ],
          "pie": [
           {
            "automargin": true,
            "type": "pie"
           }
          ],
          "scatter": [
           {
            "fillpattern": {
             "fillmode": "overlay",
             "size": 10,
             "solidity": 0.2
            },
            "type": "scatter"
           }
          ],
          "scatter3d": [
           {
            "line": {
             "colorbar": {
              "outlinewidth": 0,
              "ticks": ""
             }
            },
            "marker": {
             "colorbar": {
              "outlinewidth": 0,
              "ticks": ""
             }
            },
            "type": "scatter3d"
           }
          ],
          "scattercarpet": [
           {
            "marker": {
             "colorbar": {
              "outlinewidth": 0,
              "ticks": ""
             }
            },
            "type": "scattercarpet"
           }
          ],
          "scattergeo": [
           {
            "marker": {
             "colorbar": {
              "outlinewidth": 0,
              "ticks": ""
             }
            },
            "type": "scattergeo"
           }
          ],
          "scattergl": [
           {
            "marker": {
             "colorbar": {
              "outlinewidth": 0,
              "ticks": ""
             }
            },
            "type": "scattergl"
           }
          ],
          "scattermapbox": [
           {
            "marker": {
             "colorbar": {
              "outlinewidth": 0,
              "ticks": ""
             }
            },
            "type": "scattermapbox"
           }
          ],
          "scatterpolar": [
           {
            "marker": {
             "colorbar": {
              "outlinewidth": 0,
              "ticks": ""
             }
            },
            "type": "scatterpolar"
           }
          ],
          "scatterpolargl": [
           {
            "marker": {
             "colorbar": {
              "outlinewidth": 0,
              "ticks": ""
             }
            },
            "type": "scatterpolargl"
           }
          ],
          "scatterternary": [
           {
            "marker": {
             "colorbar": {
              "outlinewidth": 0,
              "ticks": ""
             }
            },
            "type": "scatterternary"
           }
          ],
          "surface": [
           {
            "colorbar": {
             "outlinewidth": 0,
             "ticks": ""
            },
            "colorscale": [
             [
              0,
              "#0d0887"
             ],
             [
              0.1111111111111111,
              "#46039f"
             ],
             [
              0.2222222222222222,
              "#7201a8"
             ],
             [
              0.3333333333333333,
              "#9c179e"
             ],
             [
              0.4444444444444444,
              "#bd3786"
             ],
             [
              0.5555555555555556,
              "#d8576b"
             ],
             [
              0.6666666666666666,
              "#ed7953"
             ],
             [
              0.7777777777777778,
              "#fb9f3a"
             ],
             [
              0.8888888888888888,
              "#fdca26"
             ],
             [
              1,
              "#f0f921"
             ]
            ],
            "type": "surface"
           }
          ],
          "table": [
           {
            "cells": {
             "fill": {
              "color": "#EBF0F8"
             },
             "line": {
              "color": "white"
             }
            },
            "header": {
             "fill": {
              "color": "#C8D4E3"
             },
             "line": {
              "color": "white"
             }
            },
            "type": "table"
           }
          ]
         },
         "layout": {
          "annotationdefaults": {
           "arrowcolor": "#2a3f5f",
           "arrowhead": 0,
           "arrowwidth": 1
          },
          "autotypenumbers": "strict",
          "coloraxis": {
           "colorbar": {
            "outlinewidth": 0,
            "ticks": ""
           }
          },
          "colorscale": {
           "diverging": [
            [
             0,
             "#8e0152"
            ],
            [
             0.1,
             "#c51b7d"
            ],
            [
             0.2,
             "#de77ae"
            ],
            [
             0.3,
             "#f1b6da"
            ],
            [
             0.4,
             "#fde0ef"
            ],
            [
             0.5,
             "#f7f7f7"
            ],
            [
             0.6,
             "#e6f5d0"
            ],
            [
             0.7,
             "#b8e186"
            ],
            [
             0.8,
             "#7fbc41"
            ],
            [
             0.9,
             "#4d9221"
            ],
            [
             1,
             "#276419"
            ]
           ],
           "sequential": [
            [
             0,
             "#0d0887"
            ],
            [
             0.1111111111111111,
             "#46039f"
            ],
            [
             0.2222222222222222,
             "#7201a8"
            ],
            [
             0.3333333333333333,
             "#9c179e"
            ],
            [
             0.4444444444444444,
             "#bd3786"
            ],
            [
             0.5555555555555556,
             "#d8576b"
            ],
            [
             0.6666666666666666,
             "#ed7953"
            ],
            [
             0.7777777777777778,
             "#fb9f3a"
            ],
            [
             0.8888888888888888,
             "#fdca26"
            ],
            [
             1,
             "#f0f921"
            ]
           ],
           "sequentialminus": [
            [
             0,
             "#0d0887"
            ],
            [
             0.1111111111111111,
             "#46039f"
            ],
            [
             0.2222222222222222,
             "#7201a8"
            ],
            [
             0.3333333333333333,
             "#9c179e"
            ],
            [
             0.4444444444444444,
             "#bd3786"
            ],
            [
             0.5555555555555556,
             "#d8576b"
            ],
            [
             0.6666666666666666,
             "#ed7953"
            ],
            [
             0.7777777777777778,
             "#fb9f3a"
            ],
            [
             0.8888888888888888,
             "#fdca26"
            ],
            [
             1,
             "#f0f921"
            ]
           ]
          },
          "colorway": [
           "#636efa",
           "#EF553B",
           "#00cc96",
           "#ab63fa",
           "#FFA15A",
           "#19d3f3",
           "#FF6692",
           "#B6E880",
           "#FF97FF",
           "#FECB52"
          ],
          "font": {
           "color": "#2a3f5f"
          },
          "geo": {
           "bgcolor": "white",
           "lakecolor": "white",
           "landcolor": "#E5ECF6",
           "showlakes": true,
           "showland": true,
           "subunitcolor": "white"
          },
          "hoverlabel": {
           "align": "left"
          },
          "hovermode": "closest",
          "mapbox": {
           "style": "light"
          },
          "paper_bgcolor": "white",
          "plot_bgcolor": "#E5ECF6",
          "polar": {
           "angularaxis": {
            "gridcolor": "white",
            "linecolor": "white",
            "ticks": ""
           },
           "bgcolor": "#E5ECF6",
           "radialaxis": {
            "gridcolor": "white",
            "linecolor": "white",
            "ticks": ""
           }
          },
          "scene": {
           "xaxis": {
            "backgroundcolor": "#E5ECF6",
            "gridcolor": "white",
            "gridwidth": 2,
            "linecolor": "white",
            "showbackground": true,
            "ticks": "",
            "zerolinecolor": "white"
           },
           "yaxis": {
            "backgroundcolor": "#E5ECF6",
            "gridcolor": "white",
            "gridwidth": 2,
            "linecolor": "white",
            "showbackground": true,
            "ticks": "",
            "zerolinecolor": "white"
           },
           "zaxis": {
            "backgroundcolor": "#E5ECF6",
            "gridcolor": "white",
            "gridwidth": 2,
            "linecolor": "white",
            "showbackground": true,
            "ticks": "",
            "zerolinecolor": "white"
           }
          },
          "shapedefaults": {
           "line": {
            "color": "#2a3f5f"
           }
          },
          "ternary": {
           "aaxis": {
            "gridcolor": "white",
            "linecolor": "white",
            "ticks": ""
           },
           "baxis": {
            "gridcolor": "white",
            "linecolor": "white",
            "ticks": ""
           },
           "bgcolor": "#E5ECF6",
           "caxis": {
            "gridcolor": "white",
            "linecolor": "white",
            "ticks": ""
           }
          },
          "title": {
           "x": 0.05
          },
          "xaxis": {
           "automargin": true,
           "gridcolor": "white",
           "linecolor": "white",
           "ticks": "",
           "title": {
            "standoff": 15
           },
           "zerolinecolor": "white",
           "zerolinewidth": 2
          },
          "yaxis": {
           "automargin": true,
           "gridcolor": "white",
           "linecolor": "white",
           "ticks": "",
           "title": {
            "standoff": 15
           },
           "zerolinecolor": "white",
           "zerolinewidth": 2
          }
         }
        },
        "title": {
         "font": {
          "color": "#4D5663"
         }
        },
        "xaxis": {
         "gridcolor": "#E1E5ED",
         "showgrid": true,
         "tickfont": {
          "color": "#4D5663"
         },
         "title": {
          "font": {
           "color": "#4D5663"
          },
          "text": ""
         },
         "zerolinecolor": "#E1E5ED"
        },
        "yaxis": {
         "gridcolor": "#E1E5ED",
         "showgrid": true,
         "tickfont": {
          "color": "#4D5663"
         },
         "title": {
          "font": {
           "color": "#4D5663"
          },
          "text": ""
         },
         "zerolinecolor": "#E1E5ED"
        }
       }
      },
      "text/html": [
       "<div>                            <div id=\"0ec811c7-855b-4e12-904d-59113ad73b77\" class=\"plotly-graph-div\" style=\"height:525px; width:100%;\"></div>            <script type=\"text/javascript\">                require([\"plotly\"], function(Plotly) {                    window.PLOTLYENV=window.PLOTLYENV || {};\n",
       "                    window.PLOTLYENV.BASE_URL='https://plot.ly';                                    if (document.getElementById(\"0ec811c7-855b-4e12-904d-59113ad73b77\")) {                    Plotly.newPlot(                        \"0ec811c7-855b-4e12-904d-59113ad73b77\",                        [{\"histfunc\":\"count\",\"histnorm\":\"\",\"marker\":{\"color\":\"rgba(255, 153, 51, 1.0)\",\"line\":{\"color\":\"#4D5663\",\"width\":1.3}},\"name\":\"A\",\"opacity\":0.8,\"orientation\":\"v\",\"x\":[-1.2821232259307913,-0.39999089040185204,0.18603955462223581,1.9454784431368184,-0.5976460193168096,-1.1357869422281528,0.5011941647418091,-0.3165890810433005,-0.49026251352794514,-0.3070155142823813,-0.00928407711693977,0.40742108364021007,-0.8059220890051619,-1.6150012335022794,0.2831274750204807,-0.8071318749394667,1.2578496478325498,0.5546354700979511,-0.8058535128503591,-1.325128537682219,-0.6293771302746785,-0.18505519612184348,1.161217988148961,-0.9940280665073525,-1.0517075260495918,-0.021950386799966522,1.7059306402459018,-0.5431574852715914,-1.6652518510749255,-0.2293687085613229,-0.9330038160520542,-0.40135606395472045,-0.5904818764111005,0.1561604164203169,0.05909328601089837,-0.27648155744488384,1.5426214018051496,2.00748019586431,-0.23004698398830756,-0.9034603928397359,-0.8432824015442412,0.5985161962702256,0.2064791649332286,-1.5981203262502197,-0.691193621887644,1.2648788373359174,-0.9812428188552841,0.29077257292937864,-0.3860304784116714,0.7348736205455061,-0.30194463093884955,-1.1804849866851235,1.8555927233230805,0.3206204405021417,-0.3484647029488913,0.17804035824914086,-0.005932309547459654,-1.09324321057662,1.0537325994802822,-0.11131747857058517,1.5510248050539293,0.0641092321739744,0.011983916018163067,0.07671899326363087,-1.6383015593850865,-0.8930202201725317,2.177001154926578,0.10032475555698285,0.19801577044420687,-0.8143086148611789,2.5765300667706303,1.1424955734563713,-1.1782421287147495,0.36719261575559925,1.913126328532216,0.5316725673593986,1.0609389309814266,-0.2580418540315302,-1.1096209702275894,-0.16525766112282678,-0.6350618813045671,-0.6680136886957433,2.2019863428116317,-0.6545846207600245,-0.9819257347533642,0.7686352817125546,-0.28770493344401477,0.5918740917074815,0.5183444223241045,-1.7520524718812602,1.3980636906330712,-1.1245314917361031,0.022139236012942463,0.7592364488219824,0.42600620243372245,-1.5866222361761575,0.9371724506934582,-0.9137856349047465,1.6410233938129204,-0.16725096651345864],\"type\":\"histogram\"},{\"histfunc\":\"count\",\"histnorm\":\"\",\"marker\":{\"color\":\"rgba(55, 128, 191, 1.0)\",\"line\":{\"color\":\"#4D5663\",\"width\":1.3}},\"name\":\"B\",\"opacity\":0.8,\"orientation\":\"v\",\"x\":[-2.467489679081685,-0.9109994341608991,-0.9775439597470429,-0.8050359803816095,0.3880837334389582,0.7226047001728041,2.12261391775626,-1.585119821691273,-1.4789391663694118,1.4130010878680048,0.5171336797321604,0.8200803187753855,-0.1651247430133621,-0.020378991429335632,1.7248920409679187,-1.0379234752961863,1.0288558054083492,-0.4209039800868332,0.9359771990048374,0.5283817923005579,-0.704072800755225,0.33848644671342304,1.1773768477836346,-0.45103721768800803,0.13224782035424706,0.7204598068251858,-0.9342447733723493,-1.5204779496076484,1.0181798372524824,2.0464668998426223,0.6454665423594669,-0.5056759016895037,0.6527386290509671,-0.5547342801162942,0.3788700033858548,-0.3676073288176218,0.5656698820540743,1.580633720103138,-0.12711454975637088,-0.3505517026278936,-0.7660622716697431,1.523972798077345,0.8877692878051118,-0.10704995915426571,1.629723149498767,-0.15762680777432658,-1.2668726445596794,0.20016928924696611,0.699254128347382,-0.03689603754636403,0.30371287844000294,0.28611928397815256,2.0585330014523042,1.0140945140540905,-0.8297552712905361,0.09013592833499368,0.3984442817811917,-0.4571516491840917,-0.44287898704643447,-1.0569149385856347,0.04807235507245364,-0.34419688596532827,0.10004621268753495,0.08731147708013766,1.0876804228688925,1.3099639910003447,0.7539412010773562,0.11957250636430646,2.3106977365467682,2.519930816359611,0.08534530825215789,-0.9825625396071127,-0.39525470620522996,-3.1375179773086317,0.6132469463474309,-0.16942740949205784,0.09266214650465411,-1.0902353511589595,0.8250519676663988,-0.13858028835181693,-0.28940274670430133,-0.002690390203971974,0.046357330322069706,0.85344253401098,0.5158074327785028,-1.0161437917023335,0.4572488313164856,-0.10617864673067459,-0.5613388514490533,0.3160584742132285,-0.8654585149192117,0.5512673818002701,-0.048270305086464724,0.7690216936257351,0.8258710118208544,-0.16396989659898215,-0.7355413370519562,-0.163054476714875,-1.1757281031956057,0.7343984686472602],\"type\":\"histogram\"},{\"histfunc\":\"count\",\"histnorm\":\"\",\"marker\":{\"color\":\"rgba(50, 171, 96, 1.0)\",\"line\":{\"color\":\"#4D5663\",\"width\":1.3}},\"name\":\"C\",\"opacity\":0.8,\"orientation\":\"v\",\"x\":[-0.8893998141162937,0.6372436645570296,-2.23741081423564,-0.31765623347929695,0.7561914475460509,-0.623860105721561,0.6903173494809115,-0.5048600551762947,2.020714308651883,0.23026979636838407,0.37398753003537616,0.5206609753244256,-0.10018920147383852,-1.2985299229663352,-0.9483501928456123,1.135689521637158,-0.3337735918049371,-1.6326402352224678,-0.25866872748129416,0.5924898339790267,1.2233285790848265,-1.474457852245962,0.45596964798191353,-0.10814969404145522,-0.27594004426502083,-0.9124845686148109,0.01100070388541124,-1.9505347477078452,-0.15105469124096588,0.907630680494936,-0.6029292033423908,0.990481495159389,1.1515227416718936,0.44789830857842894,-1.7855238667231463,-0.5902657180884271,0.8584499386080536,1.0116028854383643,-0.571014671596426,-0.3866591298764715,0.9949808495557023,0.7875792632930714,0.29112207583799676,-0.3884189898620297,-1.6966161836642502,1.8160384812003816,0.32587379503399005,0.2644828784239742,-0.08883414710595931,-1.8782287388849652,0.05256177117982688,1.0882529289653526,0.8784535728298893,1.0193199732692901,-0.8088506639910596,-1.0223568889142052,0.06939344982076391,0.6655572511232158,-0.38330034677819247,-0.7887206396605513,-2.1337760011371416,-0.505300093639108,-0.22328614767833907,-1.0417437989607305,-0.34560269984827874,0.3537127142015969,-0.2736786047966587,-0.2298074753826692,0.8303171527118302,-0.8303087103507922,1.9162689202891265,-0.5565059936724137,2.061512699042052,0.5734812031194394,-1.034854720445252,-0.11071862296050343,-0.6111748958387944,0.28806307986797813,1.2021557339158877,-1.3410568555000184,-0.5043708568868606,-0.26905233445725124,0.8835614081469708,0.31823037951212957,-0.20841669540258473,1.051719819048651,0.3510133756617166,0.11514781134378886,-2.0386124893706765,-1.569657323964556,-0.4080591760496254,-0.29178810250300924,0.40457254548522725,-0.7983154563691286,-0.2538226193332108,-0.678911915924447,0.5116043020782122,-0.2827194860534984,0.6441183952673111,-0.2619746150812916],\"type\":\"histogram\"},{\"histfunc\":\"count\",\"histnorm\":\"\",\"marker\":{\"color\":\"rgba(128, 0, 128, 1.0)\",\"line\":{\"color\":\"#4D5663\",\"width\":1.3}},\"name\":\"D\",\"opacity\":0.8,\"orientation\":\"v\",\"x\":[0.18451300084608604,-0.3022177165304333,-0.6006769288458926,-0.3052576828469785,0.012925204395338697,0.06072685016311775,1.2464010145843716,2.2562220704540947,1.7541323312485497,-2.7953960478174134,1.7960094174179742,0.8587481039984973,1.0574408725210322,-1.576207770904765,-0.16787222872406804,-1.580171289911969,-0.7405713053105409,-0.12211621622406345,-0.02719325408965277,0.7455332289902771,1.0431039917089024,-0.5573515013267838,-0.9478720009528269,-2.2240467163863453,0.47885219514426564,0.6635970834572871,0.16347637504181256,-0.514245754001384,0.2450690907864287,0.05695716481583332,0.6634388719648321,-0.39840694654691705,0.5490831922887796,-1.3498267213886324,2.0059690281820273,2.4237220564037774,0.6409158751104084,-1.145590629899955,-0.6344692609620162,-1.964475569311091,-2.553119815804278,-0.4154753044515657,0.93288515541365,0.41607149191763854,-0.5223885849225867,-0.5097269627705164,0.3137166198850058,-0.41033148846453166,-1.3504160978888808,-1.44639215776379,-1.2558830397396972,0.5085298183118243,-0.4844584936706081,-1.1095044253580726,-0.7520124292610786,0.5109618144518884,-1.0808074527541336,2.0158253236315438,0.8194125244241102,-1.830150410875788,-0.11276219125895252,0.7023652442498306,1.9866344386381598,-1.112745174819402,-1.0955180400783469,-0.44312559456598377,-0.9639932603404257,1.419599652907551,0.13032087210775575,-0.08480607840877766,-0.07161572488825718,-0.9309787384976403,0.11791449149366284,-1.1062473942402988,-0.35788548437586404,-0.3021284959768266,-1.3895146183345222,1.0207429380778419,0.17078822856664266,-0.1907799131125399,0.4714082561261303,0.2754318671952387,-0.2514751898440218,0.2837712535707717,-2.96998439652934,-0.1986095130641284,0.8367124996316605,-1.2139829622550151,0.6954813803560759,1.3221282513598556,-0.28719994075524213,2.2187535094641837,-0.3975645906718611,1.4843046228816186,-0.1192081000017448,1.0537349037666213,-0.6698748203139302,0.32146389721568674,-1.7296684021234106,0.531263702406474],\"type\":\"histogram\"}],                        {\"barmode\":\"overlay\",\"legend\":{\"bgcolor\":\"#F5F6F9\",\"font\":{\"color\":\"#4D5663\"}},\"paper_bgcolor\":\"#F5F6F9\",\"plot_bgcolor\":\"#F5F6F9\",\"template\":{\"data\":{\"barpolar\":[{\"marker\":{\"line\":{\"color\":\"#E5ECF6\",\"width\":0.5},\"pattern\":{\"fillmode\":\"overlay\",\"size\":10,\"solidity\":0.2}},\"type\":\"barpolar\"}],\"bar\":[{\"error_x\":{\"color\":\"#2a3f5f\"},\"error_y\":{\"color\":\"#2a3f5f\"},\"marker\":{\"line\":{\"color\":\"#E5ECF6\",\"width\":0.5},\"pattern\":{\"fillmode\":\"overlay\",\"size\":10,\"solidity\":0.2}},\"type\":\"bar\"}],\"carpet\":[{\"aaxis\":{\"endlinecolor\":\"#2a3f5f\",\"gridcolor\":\"white\",\"linecolor\":\"white\",\"minorgridcolor\":\"white\",\"startlinecolor\":\"#2a3f5f\"},\"baxis\":{\"endlinecolor\":\"#2a3f5f\",\"gridcolor\":\"white\",\"linecolor\":\"white\",\"minorgridcolor\":\"white\",\"startlinecolor\":\"#2a3f5f\"},\"type\":\"carpet\"}],\"choropleth\":[{\"colorbar\":{\"outlinewidth\":0,\"ticks\":\"\"},\"type\":\"choropleth\"}],\"contourcarpet\":[{\"colorbar\":{\"outlinewidth\":0,\"ticks\":\"\"},\"type\":\"contourcarpet\"}],\"contour\":[{\"colorbar\":{\"outlinewidth\":0,\"ticks\":\"\"},\"colorscale\":[[0.0,\"#0d0887\"],[0.1111111111111111,\"#46039f\"],[0.2222222222222222,\"#7201a8\"],[0.3333333333333333,\"#9c179e\"],[0.4444444444444444,\"#bd3786\"],[0.5555555555555556,\"#d8576b\"],[0.6666666666666666,\"#ed7953\"],[0.7777777777777778,\"#fb9f3a\"],[0.8888888888888888,\"#fdca26\"],[1.0,\"#f0f921\"]],\"type\":\"contour\"}],\"heatmapgl\":[{\"colorbar\":{\"outlinewidth\":0,\"ticks\":\"\"},\"colorscale\":[[0.0,\"#0d0887\"],[0.1111111111111111,\"#46039f\"],[0.2222222222222222,\"#7201a8\"],[0.3333333333333333,\"#9c179e\"],[0.4444444444444444,\"#bd3786\"],[0.5555555555555556,\"#d8576b\"],[0.6666666666666666,\"#ed7953\"],[0.7777777777777778,\"#fb9f3a\"],[0.8888888888888888,\"#fdca26\"],[1.0,\"#f0f921\"]],\"type\":\"heatmapgl\"}],\"heatmap\":[{\"colorbar\":{\"outlinewidth\":0,\"ticks\":\"\"},\"colorscale\":[[0.0,\"#0d0887\"],[0.1111111111111111,\"#46039f\"],[0.2222222222222222,\"#7201a8\"],[0.3333333333333333,\"#9c179e\"],[0.4444444444444444,\"#bd3786\"],[0.5555555555555556,\"#d8576b\"],[0.6666666666666666,\"#ed7953\"],[0.7777777777777778,\"#fb9f3a\"],[0.8888888888888888,\"#fdca26\"],[1.0,\"#f0f921\"]],\"type\":\"heatmap\"}],\"histogram2dcontour\":[{\"colorbar\":{\"outlinewidth\":0,\"ticks\":\"\"},\"colorscale\":[[0.0,\"#0d0887\"],[0.1111111111111111,\"#46039f\"],[0.2222222222222222,\"#7201a8\"],[0.3333333333333333,\"#9c179e\"],[0.4444444444444444,\"#bd3786\"],[0.5555555555555556,\"#d8576b\"],[0.6666666666666666,\"#ed7953\"],[0.7777777777777778,\"#fb9f3a\"],[0.8888888888888888,\"#fdca26\"],[1.0,\"#f0f921\"]],\"type\":\"histogram2dcontour\"}],\"histogram2d\":[{\"colorbar\":{\"outlinewidth\":0,\"ticks\":\"\"},\"colorscale\":[[0.0,\"#0d0887\"],[0.1111111111111111,\"#46039f\"],[0.2222222222222222,\"#7201a8\"],[0.3333333333333333,\"#9c179e\"],[0.4444444444444444,\"#bd3786\"],[0.5555555555555556,\"#d8576b\"],[0.6666666666666666,\"#ed7953\"],[0.7777777777777778,\"#fb9f3a\"],[0.8888888888888888,\"#fdca26\"],[1.0,\"#f0f921\"]],\"type\":\"histogram2d\"}],\"histogram\":[{\"marker\":{\"pattern\":{\"fillmode\":\"overlay\",\"size\":10,\"solidity\":0.2}},\"type\":\"histogram\"}],\"mesh3d\":[{\"colorbar\":{\"outlinewidth\":0,\"ticks\":\"\"},\"type\":\"mesh3d\"}],\"parcoords\":[{\"line\":{\"colorbar\":{\"outlinewidth\":0,\"ticks\":\"\"}},\"type\":\"parcoords\"}],\"pie\":[{\"automargin\":true,\"type\":\"pie\"}],\"scatter3d\":[{\"line\":{\"colorbar\":{\"outlinewidth\":0,\"ticks\":\"\"}},\"marker\":{\"colorbar\":{\"outlinewidth\":0,\"ticks\":\"\"}},\"type\":\"scatter3d\"}],\"scattercarpet\":[{\"marker\":{\"colorbar\":{\"outlinewidth\":0,\"ticks\":\"\"}},\"type\":\"scattercarpet\"}],\"scattergeo\":[{\"marker\":{\"colorbar\":{\"outlinewidth\":0,\"ticks\":\"\"}},\"type\":\"scattergeo\"}],\"scattergl\":[{\"marker\":{\"colorbar\":{\"outlinewidth\":0,\"ticks\":\"\"}},\"type\":\"scattergl\"}],\"scattermapbox\":[{\"marker\":{\"colorbar\":{\"outlinewidth\":0,\"ticks\":\"\"}},\"type\":\"scattermapbox\"}],\"scatterpolargl\":[{\"marker\":{\"colorbar\":{\"outlinewidth\":0,\"ticks\":\"\"}},\"type\":\"scatterpolargl\"}],\"scatterpolar\":[{\"marker\":{\"colorbar\":{\"outlinewidth\":0,\"ticks\":\"\"}},\"type\":\"scatterpolar\"}],\"scatter\":[{\"fillpattern\":{\"fillmode\":\"overlay\",\"size\":10,\"solidity\":0.2},\"type\":\"scatter\"}],\"scatterternary\":[{\"marker\":{\"colorbar\":{\"outlinewidth\":0,\"ticks\":\"\"}},\"type\":\"scatterternary\"}],\"surface\":[{\"colorbar\":{\"outlinewidth\":0,\"ticks\":\"\"},\"colorscale\":[[0.0,\"#0d0887\"],[0.1111111111111111,\"#46039f\"],[0.2222222222222222,\"#7201a8\"],[0.3333333333333333,\"#9c179e\"],[0.4444444444444444,\"#bd3786\"],[0.5555555555555556,\"#d8576b\"],[0.6666666666666666,\"#ed7953\"],[0.7777777777777778,\"#fb9f3a\"],[0.8888888888888888,\"#fdca26\"],[1.0,\"#f0f921\"]],\"type\":\"surface\"}],\"table\":[{\"cells\":{\"fill\":{\"color\":\"#EBF0F8\"},\"line\":{\"color\":\"white\"}},\"header\":{\"fill\":{\"color\":\"#C8D4E3\"},\"line\":{\"color\":\"white\"}},\"type\":\"table\"}]},\"layout\":{\"annotationdefaults\":{\"arrowcolor\":\"#2a3f5f\",\"arrowhead\":0,\"arrowwidth\":1},\"autotypenumbers\":\"strict\",\"coloraxis\":{\"colorbar\":{\"outlinewidth\":0,\"ticks\":\"\"}},\"colorscale\":{\"diverging\":[[0,\"#8e0152\"],[0.1,\"#c51b7d\"],[0.2,\"#de77ae\"],[0.3,\"#f1b6da\"],[0.4,\"#fde0ef\"],[0.5,\"#f7f7f7\"],[0.6,\"#e6f5d0\"],[0.7,\"#b8e186\"],[0.8,\"#7fbc41\"],[0.9,\"#4d9221\"],[1,\"#276419\"]],\"sequential\":[[0.0,\"#0d0887\"],[0.1111111111111111,\"#46039f\"],[0.2222222222222222,\"#7201a8\"],[0.3333333333333333,\"#9c179e\"],[0.4444444444444444,\"#bd3786\"],[0.5555555555555556,\"#d8576b\"],[0.6666666666666666,\"#ed7953\"],[0.7777777777777778,\"#fb9f3a\"],[0.8888888888888888,\"#fdca26\"],[1.0,\"#f0f921\"]],\"sequentialminus\":[[0.0,\"#0d0887\"],[0.1111111111111111,\"#46039f\"],[0.2222222222222222,\"#7201a8\"],[0.3333333333333333,\"#9c179e\"],[0.4444444444444444,\"#bd3786\"],[0.5555555555555556,\"#d8576b\"],[0.6666666666666666,\"#ed7953\"],[0.7777777777777778,\"#fb9f3a\"],[0.8888888888888888,\"#fdca26\"],[1.0,\"#f0f921\"]]},\"colorway\":[\"#636efa\",\"#EF553B\",\"#00cc96\",\"#ab63fa\",\"#FFA15A\",\"#19d3f3\",\"#FF6692\",\"#B6E880\",\"#FF97FF\",\"#FECB52\"],\"font\":{\"color\":\"#2a3f5f\"},\"geo\":{\"bgcolor\":\"white\",\"lakecolor\":\"white\",\"landcolor\":\"#E5ECF6\",\"showlakes\":true,\"showland\":true,\"subunitcolor\":\"white\"},\"hoverlabel\":{\"align\":\"left\"},\"hovermode\":\"closest\",\"mapbox\":{\"style\":\"light\"},\"paper_bgcolor\":\"white\",\"plot_bgcolor\":\"#E5ECF6\",\"polar\":{\"angularaxis\":{\"gridcolor\":\"white\",\"linecolor\":\"white\",\"ticks\":\"\"},\"bgcolor\":\"#E5ECF6\",\"radialaxis\":{\"gridcolor\":\"white\",\"linecolor\":\"white\",\"ticks\":\"\"}},\"scene\":{\"xaxis\":{\"backgroundcolor\":\"#E5ECF6\",\"gridcolor\":\"white\",\"gridwidth\":2,\"linecolor\":\"white\",\"showbackground\":true,\"ticks\":\"\",\"zerolinecolor\":\"white\"},\"yaxis\":{\"backgroundcolor\":\"#E5ECF6\",\"gridcolor\":\"white\",\"gridwidth\":2,\"linecolor\":\"white\",\"showbackground\":true,\"ticks\":\"\",\"zerolinecolor\":\"white\"},\"zaxis\":{\"backgroundcolor\":\"#E5ECF6\",\"gridcolor\":\"white\",\"gridwidth\":2,\"linecolor\":\"white\",\"showbackground\":true,\"ticks\":\"\",\"zerolinecolor\":\"white\"}},\"shapedefaults\":{\"line\":{\"color\":\"#2a3f5f\"}},\"ternary\":{\"aaxis\":{\"gridcolor\":\"white\",\"linecolor\":\"white\",\"ticks\":\"\"},\"baxis\":{\"gridcolor\":\"white\",\"linecolor\":\"white\",\"ticks\":\"\"},\"bgcolor\":\"#E5ECF6\",\"caxis\":{\"gridcolor\":\"white\",\"linecolor\":\"white\",\"ticks\":\"\"}},\"title\":{\"x\":0.05},\"xaxis\":{\"automargin\":true,\"gridcolor\":\"white\",\"linecolor\":\"white\",\"ticks\":\"\",\"title\":{\"standoff\":15},\"zerolinecolor\":\"white\",\"zerolinewidth\":2},\"yaxis\":{\"automargin\":true,\"gridcolor\":\"white\",\"linecolor\":\"white\",\"ticks\":\"\",\"title\":{\"standoff\":15},\"zerolinecolor\":\"white\",\"zerolinewidth\":2}}},\"title\":{\"font\":{\"color\":\"#4D5663\"}},\"xaxis\":{\"gridcolor\":\"#E1E5ED\",\"showgrid\":true,\"tickfont\":{\"color\":\"#4D5663\"},\"title\":{\"font\":{\"color\":\"#4D5663\"},\"text\":\"\"},\"zerolinecolor\":\"#E1E5ED\"},\"yaxis\":{\"gridcolor\":\"#E1E5ED\",\"showgrid\":true,\"tickfont\":{\"color\":\"#4D5663\"},\"title\":{\"font\":{\"color\":\"#4D5663\"},\"text\":\"\"},\"zerolinecolor\":\"#E1E5ED\"}},                        {\"showLink\": true, \"linkText\": \"Export to plot.ly\", \"plotlyServerURL\": \"https://plot.ly\", \"responsive\": true}                    ).then(function(){\n",
       "                            \n",
       "var gd = document.getElementById('0ec811c7-855b-4e12-904d-59113ad73b77');\n",
       "var x = new MutationObserver(function (mutations, observer) {{\n",
       "        var display = window.getComputedStyle(gd).display;\n",
       "        if (!display || display === 'none') {{\n",
       "            console.log([gd, 'removed!']);\n",
       "            Plotly.purge(gd);\n",
       "            observer.disconnect();\n",
       "        }}\n",
       "}});\n",
       "\n",
       "// Listen for the removal of the full notebook cells\n",
       "var notebookContainer = gd.closest('#notebook-container');\n",
       "if (notebookContainer) {{\n",
       "    x.observe(notebookContainer, {childList: true});\n",
       "}}\n",
       "\n",
       "// Listen for the clearing of the current output cell\n",
       "var outputEl = gd.closest('.output');\n",
       "if (outputEl) {{\n",
       "    x.observe(outputEl, {childList: true});\n",
       "}}\n",
       "\n",
       "                        })                };                });            </script>        </div>"
      ]
     },
     "metadata": {},
     "output_type": "display_data"
    }
   ],
   "source": [
    "df.iplot(kind='hist')"
   ]
  },
  {
   "cell_type": "code",
   "execution_count": 26,
   "id": "3df0e1b6",
   "metadata": {},
   "outputs": [
    {
     "data": {
      "application/vnd.plotly.v1+json": {
       "config": {
        "linkText": "Export to plot.ly",
        "plotlyServerURL": "https://plot.ly",
        "showLink": true
       },
       "data": [
        {
         "histfunc": "count",
         "histnorm": "",
         "marker": {
          "color": "rgba(255, 153, 51, 1.0)",
          "line": {
           "color": "#4D5663",
           "width": 1.3
          }
         },
         "name": "A",
         "nbinsx": 50,
         "opacity": 0.8,
         "orientation": "v",
         "type": "histogram",
         "x": [
          -1.2821232259307913,
          -0.39999089040185204,
          0.18603955462223581,
          1.9454784431368184,
          -0.5976460193168096,
          -1.1357869422281528,
          0.5011941647418091,
          -0.3165890810433005,
          -0.49026251352794514,
          -0.3070155142823813,
          -0.00928407711693977,
          0.40742108364021007,
          -0.8059220890051619,
          -1.6150012335022794,
          0.2831274750204807,
          -0.8071318749394667,
          1.2578496478325498,
          0.5546354700979511,
          -0.8058535128503591,
          -1.325128537682219,
          -0.6293771302746785,
          -0.18505519612184348,
          1.161217988148961,
          -0.9940280665073525,
          -1.0517075260495918,
          -0.021950386799966522,
          1.7059306402459018,
          -0.5431574852715914,
          -1.6652518510749255,
          -0.2293687085613229,
          -0.9330038160520542,
          -0.40135606395472045,
          -0.5904818764111005,
          0.1561604164203169,
          0.05909328601089837,
          -0.27648155744488384,
          1.5426214018051496,
          2.00748019586431,
          -0.23004698398830756,
          -0.9034603928397359,
          -0.8432824015442412,
          0.5985161962702256,
          0.2064791649332286,
          -1.5981203262502197,
          -0.691193621887644,
          1.2648788373359174,
          -0.9812428188552841,
          0.29077257292937864,
          -0.3860304784116714,
          0.7348736205455061,
          -0.30194463093884955,
          -1.1804849866851235,
          1.8555927233230805,
          0.3206204405021417,
          -0.3484647029488913,
          0.17804035824914086,
          -0.005932309547459654,
          -1.09324321057662,
          1.0537325994802822,
          -0.11131747857058517,
          1.5510248050539293,
          0.0641092321739744,
          0.011983916018163067,
          0.07671899326363087,
          -1.6383015593850865,
          -0.8930202201725317,
          2.177001154926578,
          0.10032475555698285,
          0.19801577044420687,
          -0.8143086148611789,
          2.5765300667706303,
          1.1424955734563713,
          -1.1782421287147495,
          0.36719261575559925,
          1.913126328532216,
          0.5316725673593986,
          1.0609389309814266,
          -0.2580418540315302,
          -1.1096209702275894,
          -0.16525766112282678,
          -0.6350618813045671,
          -0.6680136886957433,
          2.2019863428116317,
          -0.6545846207600245,
          -0.9819257347533642,
          0.7686352817125546,
          -0.28770493344401477,
          0.5918740917074815,
          0.5183444223241045,
          -1.7520524718812602,
          1.3980636906330712,
          -1.1245314917361031,
          0.022139236012942463,
          0.7592364488219824,
          0.42600620243372245,
          -1.5866222361761575,
          0.9371724506934582,
          -0.9137856349047465,
          1.6410233938129204,
          -0.16725096651345864
         ]
        }
       ],
       "layout": {
        "barmode": "overlay",
        "legend": {
         "bgcolor": "#F5F6F9",
         "font": {
          "color": "#4D5663"
         }
        },
        "paper_bgcolor": "#F5F6F9",
        "plot_bgcolor": "#F5F6F9",
        "template": {
         "data": {
          "bar": [
           {
            "error_x": {
             "color": "#2a3f5f"
            },
            "error_y": {
             "color": "#2a3f5f"
            },
            "marker": {
             "line": {
              "color": "#E5ECF6",
              "width": 0.5
             },
             "pattern": {
              "fillmode": "overlay",
              "size": 10,
              "solidity": 0.2
             }
            },
            "type": "bar"
           }
          ],
          "barpolar": [
           {
            "marker": {
             "line": {
              "color": "#E5ECF6",
              "width": 0.5
             },
             "pattern": {
              "fillmode": "overlay",
              "size": 10,
              "solidity": 0.2
             }
            },
            "type": "barpolar"
           }
          ],
          "carpet": [
           {
            "aaxis": {
             "endlinecolor": "#2a3f5f",
             "gridcolor": "white",
             "linecolor": "white",
             "minorgridcolor": "white",
             "startlinecolor": "#2a3f5f"
            },
            "baxis": {
             "endlinecolor": "#2a3f5f",
             "gridcolor": "white",
             "linecolor": "white",
             "minorgridcolor": "white",
             "startlinecolor": "#2a3f5f"
            },
            "type": "carpet"
           }
          ],
          "choropleth": [
           {
            "colorbar": {
             "outlinewidth": 0,
             "ticks": ""
            },
            "type": "choropleth"
           }
          ],
          "contour": [
           {
            "colorbar": {
             "outlinewidth": 0,
             "ticks": ""
            },
            "colorscale": [
             [
              0,
              "#0d0887"
             ],
             [
              0.1111111111111111,
              "#46039f"
             ],
             [
              0.2222222222222222,
              "#7201a8"
             ],
             [
              0.3333333333333333,
              "#9c179e"
             ],
             [
              0.4444444444444444,
              "#bd3786"
             ],
             [
              0.5555555555555556,
              "#d8576b"
             ],
             [
              0.6666666666666666,
              "#ed7953"
             ],
             [
              0.7777777777777778,
              "#fb9f3a"
             ],
             [
              0.8888888888888888,
              "#fdca26"
             ],
             [
              1,
              "#f0f921"
             ]
            ],
            "type": "contour"
           }
          ],
          "contourcarpet": [
           {
            "colorbar": {
             "outlinewidth": 0,
             "ticks": ""
            },
            "type": "contourcarpet"
           }
          ],
          "heatmap": [
           {
            "colorbar": {
             "outlinewidth": 0,
             "ticks": ""
            },
            "colorscale": [
             [
              0,
              "#0d0887"
             ],
             [
              0.1111111111111111,
              "#46039f"
             ],
             [
              0.2222222222222222,
              "#7201a8"
             ],
             [
              0.3333333333333333,
              "#9c179e"
             ],
             [
              0.4444444444444444,
              "#bd3786"
             ],
             [
              0.5555555555555556,
              "#d8576b"
             ],
             [
              0.6666666666666666,
              "#ed7953"
             ],
             [
              0.7777777777777778,
              "#fb9f3a"
             ],
             [
              0.8888888888888888,
              "#fdca26"
             ],
             [
              1,
              "#f0f921"
             ]
            ],
            "type": "heatmap"
           }
          ],
          "heatmapgl": [
           {
            "colorbar": {
             "outlinewidth": 0,
             "ticks": ""
            },
            "colorscale": [
             [
              0,
              "#0d0887"
             ],
             [
              0.1111111111111111,
              "#46039f"
             ],
             [
              0.2222222222222222,
              "#7201a8"
             ],
             [
              0.3333333333333333,
              "#9c179e"
             ],
             [
              0.4444444444444444,
              "#bd3786"
             ],
             [
              0.5555555555555556,
              "#d8576b"
             ],
             [
              0.6666666666666666,
              "#ed7953"
             ],
             [
              0.7777777777777778,
              "#fb9f3a"
             ],
             [
              0.8888888888888888,
              "#fdca26"
             ],
             [
              1,
              "#f0f921"
             ]
            ],
            "type": "heatmapgl"
           }
          ],
          "histogram": [
           {
            "marker": {
             "pattern": {
              "fillmode": "overlay",
              "size": 10,
              "solidity": 0.2
             }
            },
            "type": "histogram"
           }
          ],
          "histogram2d": [
           {
            "colorbar": {
             "outlinewidth": 0,
             "ticks": ""
            },
            "colorscale": [
             [
              0,
              "#0d0887"
             ],
             [
              0.1111111111111111,
              "#46039f"
             ],
             [
              0.2222222222222222,
              "#7201a8"
             ],
             [
              0.3333333333333333,
              "#9c179e"
             ],
             [
              0.4444444444444444,
              "#bd3786"
             ],
             [
              0.5555555555555556,
              "#d8576b"
             ],
             [
              0.6666666666666666,
              "#ed7953"
             ],
             [
              0.7777777777777778,
              "#fb9f3a"
             ],
             [
              0.8888888888888888,
              "#fdca26"
             ],
             [
              1,
              "#f0f921"
             ]
            ],
            "type": "histogram2d"
           }
          ],
          "histogram2dcontour": [
           {
            "colorbar": {
             "outlinewidth": 0,
             "ticks": ""
            },
            "colorscale": [
             [
              0,
              "#0d0887"
             ],
             [
              0.1111111111111111,
              "#46039f"
             ],
             [
              0.2222222222222222,
              "#7201a8"
             ],
             [
              0.3333333333333333,
              "#9c179e"
             ],
             [
              0.4444444444444444,
              "#bd3786"
             ],
             [
              0.5555555555555556,
              "#d8576b"
             ],
             [
              0.6666666666666666,
              "#ed7953"
             ],
             [
              0.7777777777777778,
              "#fb9f3a"
             ],
             [
              0.8888888888888888,
              "#fdca26"
             ],
             [
              1,
              "#f0f921"
             ]
            ],
            "type": "histogram2dcontour"
           }
          ],
          "mesh3d": [
           {
            "colorbar": {
             "outlinewidth": 0,
             "ticks": ""
            },
            "type": "mesh3d"
           }
          ],
          "parcoords": [
           {
            "line": {
             "colorbar": {
              "outlinewidth": 0,
              "ticks": ""
             }
            },
            "type": "parcoords"
           }
          ],
          "pie": [
           {
            "automargin": true,
            "type": "pie"
           }
          ],
          "scatter": [
           {
            "fillpattern": {
             "fillmode": "overlay",
             "size": 10,
             "solidity": 0.2
            },
            "type": "scatter"
           }
          ],
          "scatter3d": [
           {
            "line": {
             "colorbar": {
              "outlinewidth": 0,
              "ticks": ""
             }
            },
            "marker": {
             "colorbar": {
              "outlinewidth": 0,
              "ticks": ""
             }
            },
            "type": "scatter3d"
           }
          ],
          "scattercarpet": [
           {
            "marker": {
             "colorbar": {
              "outlinewidth": 0,
              "ticks": ""
             }
            },
            "type": "scattercarpet"
           }
          ],
          "scattergeo": [
           {
            "marker": {
             "colorbar": {
              "outlinewidth": 0,
              "ticks": ""
             }
            },
            "type": "scattergeo"
           }
          ],
          "scattergl": [
           {
            "marker": {
             "colorbar": {
              "outlinewidth": 0,
              "ticks": ""
             }
            },
            "type": "scattergl"
           }
          ],
          "scattermapbox": [
           {
            "marker": {
             "colorbar": {
              "outlinewidth": 0,
              "ticks": ""
             }
            },
            "type": "scattermapbox"
           }
          ],
          "scatterpolar": [
           {
            "marker": {
             "colorbar": {
              "outlinewidth": 0,
              "ticks": ""
             }
            },
            "type": "scatterpolar"
           }
          ],
          "scatterpolargl": [
           {
            "marker": {
             "colorbar": {
              "outlinewidth": 0,
              "ticks": ""
             }
            },
            "type": "scatterpolargl"
           }
          ],
          "scatterternary": [
           {
            "marker": {
             "colorbar": {
              "outlinewidth": 0,
              "ticks": ""
             }
            },
            "type": "scatterternary"
           }
          ],
          "surface": [
           {
            "colorbar": {
             "outlinewidth": 0,
             "ticks": ""
            },
            "colorscale": [
             [
              0,
              "#0d0887"
             ],
             [
              0.1111111111111111,
              "#46039f"
             ],
             [
              0.2222222222222222,
              "#7201a8"
             ],
             [
              0.3333333333333333,
              "#9c179e"
             ],
             [
              0.4444444444444444,
              "#bd3786"
             ],
             [
              0.5555555555555556,
              "#d8576b"
             ],
             [
              0.6666666666666666,
              "#ed7953"
             ],
             [
              0.7777777777777778,
              "#fb9f3a"
             ],
             [
              0.8888888888888888,
              "#fdca26"
             ],
             [
              1,
              "#f0f921"
             ]
            ],
            "type": "surface"
           }
          ],
          "table": [
           {
            "cells": {
             "fill": {
              "color": "#EBF0F8"
             },
             "line": {
              "color": "white"
             }
            },
            "header": {
             "fill": {
              "color": "#C8D4E3"
             },
             "line": {
              "color": "white"
             }
            },
            "type": "table"
           }
          ]
         },
         "layout": {
          "annotationdefaults": {
           "arrowcolor": "#2a3f5f",
           "arrowhead": 0,
           "arrowwidth": 1
          },
          "autotypenumbers": "strict",
          "coloraxis": {
           "colorbar": {
            "outlinewidth": 0,
            "ticks": ""
           }
          },
          "colorscale": {
           "diverging": [
            [
             0,
             "#8e0152"
            ],
            [
             0.1,
             "#c51b7d"
            ],
            [
             0.2,
             "#de77ae"
            ],
            [
             0.3,
             "#f1b6da"
            ],
            [
             0.4,
             "#fde0ef"
            ],
            [
             0.5,
             "#f7f7f7"
            ],
            [
             0.6,
             "#e6f5d0"
            ],
            [
             0.7,
             "#b8e186"
            ],
            [
             0.8,
             "#7fbc41"
            ],
            [
             0.9,
             "#4d9221"
            ],
            [
             1,
             "#276419"
            ]
           ],
           "sequential": [
            [
             0,
             "#0d0887"
            ],
            [
             0.1111111111111111,
             "#46039f"
            ],
            [
             0.2222222222222222,
             "#7201a8"
            ],
            [
             0.3333333333333333,
             "#9c179e"
            ],
            [
             0.4444444444444444,
             "#bd3786"
            ],
            [
             0.5555555555555556,
             "#d8576b"
            ],
            [
             0.6666666666666666,
             "#ed7953"
            ],
            [
             0.7777777777777778,
             "#fb9f3a"
            ],
            [
             0.8888888888888888,
             "#fdca26"
            ],
            [
             1,
             "#f0f921"
            ]
           ],
           "sequentialminus": [
            [
             0,
             "#0d0887"
            ],
            [
             0.1111111111111111,
             "#46039f"
            ],
            [
             0.2222222222222222,
             "#7201a8"
            ],
            [
             0.3333333333333333,
             "#9c179e"
            ],
            [
             0.4444444444444444,
             "#bd3786"
            ],
            [
             0.5555555555555556,
             "#d8576b"
            ],
            [
             0.6666666666666666,
             "#ed7953"
            ],
            [
             0.7777777777777778,
             "#fb9f3a"
            ],
            [
             0.8888888888888888,
             "#fdca26"
            ],
            [
             1,
             "#f0f921"
            ]
           ]
          },
          "colorway": [
           "#636efa",
           "#EF553B",
           "#00cc96",
           "#ab63fa",
           "#FFA15A",
           "#19d3f3",
           "#FF6692",
           "#B6E880",
           "#FF97FF",
           "#FECB52"
          ],
          "font": {
           "color": "#2a3f5f"
          },
          "geo": {
           "bgcolor": "white",
           "lakecolor": "white",
           "landcolor": "#E5ECF6",
           "showlakes": true,
           "showland": true,
           "subunitcolor": "white"
          },
          "hoverlabel": {
           "align": "left"
          },
          "hovermode": "closest",
          "mapbox": {
           "style": "light"
          },
          "paper_bgcolor": "white",
          "plot_bgcolor": "#E5ECF6",
          "polar": {
           "angularaxis": {
            "gridcolor": "white",
            "linecolor": "white",
            "ticks": ""
           },
           "bgcolor": "#E5ECF6",
           "radialaxis": {
            "gridcolor": "white",
            "linecolor": "white",
            "ticks": ""
           }
          },
          "scene": {
           "xaxis": {
            "backgroundcolor": "#E5ECF6",
            "gridcolor": "white",
            "gridwidth": 2,
            "linecolor": "white",
            "showbackground": true,
            "ticks": "",
            "zerolinecolor": "white"
           },
           "yaxis": {
            "backgroundcolor": "#E5ECF6",
            "gridcolor": "white",
            "gridwidth": 2,
            "linecolor": "white",
            "showbackground": true,
            "ticks": "",
            "zerolinecolor": "white"
           },
           "zaxis": {
            "backgroundcolor": "#E5ECF6",
            "gridcolor": "white",
            "gridwidth": 2,
            "linecolor": "white",
            "showbackground": true,
            "ticks": "",
            "zerolinecolor": "white"
           }
          },
          "shapedefaults": {
           "line": {
            "color": "#2a3f5f"
           }
          },
          "ternary": {
           "aaxis": {
            "gridcolor": "white",
            "linecolor": "white",
            "ticks": ""
           },
           "baxis": {
            "gridcolor": "white",
            "linecolor": "white",
            "ticks": ""
           },
           "bgcolor": "#E5ECF6",
           "caxis": {
            "gridcolor": "white",
            "linecolor": "white",
            "ticks": ""
           }
          },
          "title": {
           "x": 0.05
          },
          "xaxis": {
           "automargin": true,
           "gridcolor": "white",
           "linecolor": "white",
           "ticks": "",
           "title": {
            "standoff": 15
           },
           "zerolinecolor": "white",
           "zerolinewidth": 2
          },
          "yaxis": {
           "automargin": true,
           "gridcolor": "white",
           "linecolor": "white",
           "ticks": "",
           "title": {
            "standoff": 15
           },
           "zerolinecolor": "white",
           "zerolinewidth": 2
          }
         }
        },
        "title": {
         "font": {
          "color": "#4D5663"
         }
        },
        "xaxis": {
         "gridcolor": "#E1E5ED",
         "showgrid": true,
         "tickfont": {
          "color": "#4D5663"
         },
         "title": {
          "font": {
           "color": "#4D5663"
          },
          "text": ""
         },
         "zerolinecolor": "#E1E5ED"
        },
        "yaxis": {
         "gridcolor": "#E1E5ED",
         "showgrid": true,
         "tickfont": {
          "color": "#4D5663"
         },
         "title": {
          "font": {
           "color": "#4D5663"
          },
          "text": ""
         },
         "zerolinecolor": "#E1E5ED"
        }
       }
      },
      "text/html": [
       "<div>                            <div id=\"d9c78c47-17a1-4ccb-8362-cb8782032a7d\" class=\"plotly-graph-div\" style=\"height:525px; width:100%;\"></div>            <script type=\"text/javascript\">                require([\"plotly\"], function(Plotly) {                    window.PLOTLYENV=window.PLOTLYENV || {};\n",
       "                    window.PLOTLYENV.BASE_URL='https://plot.ly';                                    if (document.getElementById(\"d9c78c47-17a1-4ccb-8362-cb8782032a7d\")) {                    Plotly.newPlot(                        \"d9c78c47-17a1-4ccb-8362-cb8782032a7d\",                        [{\"histfunc\":\"count\",\"histnorm\":\"\",\"marker\":{\"color\":\"rgba(255, 153, 51, 1.0)\",\"line\":{\"color\":\"#4D5663\",\"width\":1.3}},\"name\":\"A\",\"nbinsx\":50,\"opacity\":0.8,\"orientation\":\"v\",\"x\":[-1.2821232259307913,-0.39999089040185204,0.18603955462223581,1.9454784431368184,-0.5976460193168096,-1.1357869422281528,0.5011941647418091,-0.3165890810433005,-0.49026251352794514,-0.3070155142823813,-0.00928407711693977,0.40742108364021007,-0.8059220890051619,-1.6150012335022794,0.2831274750204807,-0.8071318749394667,1.2578496478325498,0.5546354700979511,-0.8058535128503591,-1.325128537682219,-0.6293771302746785,-0.18505519612184348,1.161217988148961,-0.9940280665073525,-1.0517075260495918,-0.021950386799966522,1.7059306402459018,-0.5431574852715914,-1.6652518510749255,-0.2293687085613229,-0.9330038160520542,-0.40135606395472045,-0.5904818764111005,0.1561604164203169,0.05909328601089837,-0.27648155744488384,1.5426214018051496,2.00748019586431,-0.23004698398830756,-0.9034603928397359,-0.8432824015442412,0.5985161962702256,0.2064791649332286,-1.5981203262502197,-0.691193621887644,1.2648788373359174,-0.9812428188552841,0.29077257292937864,-0.3860304784116714,0.7348736205455061,-0.30194463093884955,-1.1804849866851235,1.8555927233230805,0.3206204405021417,-0.3484647029488913,0.17804035824914086,-0.005932309547459654,-1.09324321057662,1.0537325994802822,-0.11131747857058517,1.5510248050539293,0.0641092321739744,0.011983916018163067,0.07671899326363087,-1.6383015593850865,-0.8930202201725317,2.177001154926578,0.10032475555698285,0.19801577044420687,-0.8143086148611789,2.5765300667706303,1.1424955734563713,-1.1782421287147495,0.36719261575559925,1.913126328532216,0.5316725673593986,1.0609389309814266,-0.2580418540315302,-1.1096209702275894,-0.16525766112282678,-0.6350618813045671,-0.6680136886957433,2.2019863428116317,-0.6545846207600245,-0.9819257347533642,0.7686352817125546,-0.28770493344401477,0.5918740917074815,0.5183444223241045,-1.7520524718812602,1.3980636906330712,-1.1245314917361031,0.022139236012942463,0.7592364488219824,0.42600620243372245,-1.5866222361761575,0.9371724506934582,-0.9137856349047465,1.6410233938129204,-0.16725096651345864],\"type\":\"histogram\"}],                        {\"barmode\":\"overlay\",\"legend\":{\"bgcolor\":\"#F5F6F9\",\"font\":{\"color\":\"#4D5663\"}},\"paper_bgcolor\":\"#F5F6F9\",\"plot_bgcolor\":\"#F5F6F9\",\"template\":{\"data\":{\"barpolar\":[{\"marker\":{\"line\":{\"color\":\"#E5ECF6\",\"width\":0.5},\"pattern\":{\"fillmode\":\"overlay\",\"size\":10,\"solidity\":0.2}},\"type\":\"barpolar\"}],\"bar\":[{\"error_x\":{\"color\":\"#2a3f5f\"},\"error_y\":{\"color\":\"#2a3f5f\"},\"marker\":{\"line\":{\"color\":\"#E5ECF6\",\"width\":0.5},\"pattern\":{\"fillmode\":\"overlay\",\"size\":10,\"solidity\":0.2}},\"type\":\"bar\"}],\"carpet\":[{\"aaxis\":{\"endlinecolor\":\"#2a3f5f\",\"gridcolor\":\"white\",\"linecolor\":\"white\",\"minorgridcolor\":\"white\",\"startlinecolor\":\"#2a3f5f\"},\"baxis\":{\"endlinecolor\":\"#2a3f5f\",\"gridcolor\":\"white\",\"linecolor\":\"white\",\"minorgridcolor\":\"white\",\"startlinecolor\":\"#2a3f5f\"},\"type\":\"carpet\"}],\"choropleth\":[{\"colorbar\":{\"outlinewidth\":0,\"ticks\":\"\"},\"type\":\"choropleth\"}],\"contourcarpet\":[{\"colorbar\":{\"outlinewidth\":0,\"ticks\":\"\"},\"type\":\"contourcarpet\"}],\"contour\":[{\"colorbar\":{\"outlinewidth\":0,\"ticks\":\"\"},\"colorscale\":[[0.0,\"#0d0887\"],[0.1111111111111111,\"#46039f\"],[0.2222222222222222,\"#7201a8\"],[0.3333333333333333,\"#9c179e\"],[0.4444444444444444,\"#bd3786\"],[0.5555555555555556,\"#d8576b\"],[0.6666666666666666,\"#ed7953\"],[0.7777777777777778,\"#fb9f3a\"],[0.8888888888888888,\"#fdca26\"],[1.0,\"#f0f921\"]],\"type\":\"contour\"}],\"heatmapgl\":[{\"colorbar\":{\"outlinewidth\":0,\"ticks\":\"\"},\"colorscale\":[[0.0,\"#0d0887\"],[0.1111111111111111,\"#46039f\"],[0.2222222222222222,\"#7201a8\"],[0.3333333333333333,\"#9c179e\"],[0.4444444444444444,\"#bd3786\"],[0.5555555555555556,\"#d8576b\"],[0.6666666666666666,\"#ed7953\"],[0.7777777777777778,\"#fb9f3a\"],[0.8888888888888888,\"#fdca26\"],[1.0,\"#f0f921\"]],\"type\":\"heatmapgl\"}],\"heatmap\":[{\"colorbar\":{\"outlinewidth\":0,\"ticks\":\"\"},\"colorscale\":[[0.0,\"#0d0887\"],[0.1111111111111111,\"#46039f\"],[0.2222222222222222,\"#7201a8\"],[0.3333333333333333,\"#9c179e\"],[0.4444444444444444,\"#bd3786\"],[0.5555555555555556,\"#d8576b\"],[0.6666666666666666,\"#ed7953\"],[0.7777777777777778,\"#fb9f3a\"],[0.8888888888888888,\"#fdca26\"],[1.0,\"#f0f921\"]],\"type\":\"heatmap\"}],\"histogram2dcontour\":[{\"colorbar\":{\"outlinewidth\":0,\"ticks\":\"\"},\"colorscale\":[[0.0,\"#0d0887\"],[0.1111111111111111,\"#46039f\"],[0.2222222222222222,\"#7201a8\"],[0.3333333333333333,\"#9c179e\"],[0.4444444444444444,\"#bd3786\"],[0.5555555555555556,\"#d8576b\"],[0.6666666666666666,\"#ed7953\"],[0.7777777777777778,\"#fb9f3a\"],[0.8888888888888888,\"#fdca26\"],[1.0,\"#f0f921\"]],\"type\":\"histogram2dcontour\"}],\"histogram2d\":[{\"colorbar\":{\"outlinewidth\":0,\"ticks\":\"\"},\"colorscale\":[[0.0,\"#0d0887\"],[0.1111111111111111,\"#46039f\"],[0.2222222222222222,\"#7201a8\"],[0.3333333333333333,\"#9c179e\"],[0.4444444444444444,\"#bd3786\"],[0.5555555555555556,\"#d8576b\"],[0.6666666666666666,\"#ed7953\"],[0.7777777777777778,\"#fb9f3a\"],[0.8888888888888888,\"#fdca26\"],[1.0,\"#f0f921\"]],\"type\":\"histogram2d\"}],\"histogram\":[{\"marker\":{\"pattern\":{\"fillmode\":\"overlay\",\"size\":10,\"solidity\":0.2}},\"type\":\"histogram\"}],\"mesh3d\":[{\"colorbar\":{\"outlinewidth\":0,\"ticks\":\"\"},\"type\":\"mesh3d\"}],\"parcoords\":[{\"line\":{\"colorbar\":{\"outlinewidth\":0,\"ticks\":\"\"}},\"type\":\"parcoords\"}],\"pie\":[{\"automargin\":true,\"type\":\"pie\"}],\"scatter3d\":[{\"line\":{\"colorbar\":{\"outlinewidth\":0,\"ticks\":\"\"}},\"marker\":{\"colorbar\":{\"outlinewidth\":0,\"ticks\":\"\"}},\"type\":\"scatter3d\"}],\"scattercarpet\":[{\"marker\":{\"colorbar\":{\"outlinewidth\":0,\"ticks\":\"\"}},\"type\":\"scattercarpet\"}],\"scattergeo\":[{\"marker\":{\"colorbar\":{\"outlinewidth\":0,\"ticks\":\"\"}},\"type\":\"scattergeo\"}],\"scattergl\":[{\"marker\":{\"colorbar\":{\"outlinewidth\":0,\"ticks\":\"\"}},\"type\":\"scattergl\"}],\"scattermapbox\":[{\"marker\":{\"colorbar\":{\"outlinewidth\":0,\"ticks\":\"\"}},\"type\":\"scattermapbox\"}],\"scatterpolargl\":[{\"marker\":{\"colorbar\":{\"outlinewidth\":0,\"ticks\":\"\"}},\"type\":\"scatterpolargl\"}],\"scatterpolar\":[{\"marker\":{\"colorbar\":{\"outlinewidth\":0,\"ticks\":\"\"}},\"type\":\"scatterpolar\"}],\"scatter\":[{\"fillpattern\":{\"fillmode\":\"overlay\",\"size\":10,\"solidity\":0.2},\"type\":\"scatter\"}],\"scatterternary\":[{\"marker\":{\"colorbar\":{\"outlinewidth\":0,\"ticks\":\"\"}},\"type\":\"scatterternary\"}],\"surface\":[{\"colorbar\":{\"outlinewidth\":0,\"ticks\":\"\"},\"colorscale\":[[0.0,\"#0d0887\"],[0.1111111111111111,\"#46039f\"],[0.2222222222222222,\"#7201a8\"],[0.3333333333333333,\"#9c179e\"],[0.4444444444444444,\"#bd3786\"],[0.5555555555555556,\"#d8576b\"],[0.6666666666666666,\"#ed7953\"],[0.7777777777777778,\"#fb9f3a\"],[0.8888888888888888,\"#fdca26\"],[1.0,\"#f0f921\"]],\"type\":\"surface\"}],\"table\":[{\"cells\":{\"fill\":{\"color\":\"#EBF0F8\"},\"line\":{\"color\":\"white\"}},\"header\":{\"fill\":{\"color\":\"#C8D4E3\"},\"line\":{\"color\":\"white\"}},\"type\":\"table\"}]},\"layout\":{\"annotationdefaults\":{\"arrowcolor\":\"#2a3f5f\",\"arrowhead\":0,\"arrowwidth\":1},\"autotypenumbers\":\"strict\",\"coloraxis\":{\"colorbar\":{\"outlinewidth\":0,\"ticks\":\"\"}},\"colorscale\":{\"diverging\":[[0,\"#8e0152\"],[0.1,\"#c51b7d\"],[0.2,\"#de77ae\"],[0.3,\"#f1b6da\"],[0.4,\"#fde0ef\"],[0.5,\"#f7f7f7\"],[0.6,\"#e6f5d0\"],[0.7,\"#b8e186\"],[0.8,\"#7fbc41\"],[0.9,\"#4d9221\"],[1,\"#276419\"]],\"sequential\":[[0.0,\"#0d0887\"],[0.1111111111111111,\"#46039f\"],[0.2222222222222222,\"#7201a8\"],[0.3333333333333333,\"#9c179e\"],[0.4444444444444444,\"#bd3786\"],[0.5555555555555556,\"#d8576b\"],[0.6666666666666666,\"#ed7953\"],[0.7777777777777778,\"#fb9f3a\"],[0.8888888888888888,\"#fdca26\"],[1.0,\"#f0f921\"]],\"sequentialminus\":[[0.0,\"#0d0887\"],[0.1111111111111111,\"#46039f\"],[0.2222222222222222,\"#7201a8\"],[0.3333333333333333,\"#9c179e\"],[0.4444444444444444,\"#bd3786\"],[0.5555555555555556,\"#d8576b\"],[0.6666666666666666,\"#ed7953\"],[0.7777777777777778,\"#fb9f3a\"],[0.8888888888888888,\"#fdca26\"],[1.0,\"#f0f921\"]]},\"colorway\":[\"#636efa\",\"#EF553B\",\"#00cc96\",\"#ab63fa\",\"#FFA15A\",\"#19d3f3\",\"#FF6692\",\"#B6E880\",\"#FF97FF\",\"#FECB52\"],\"font\":{\"color\":\"#2a3f5f\"},\"geo\":{\"bgcolor\":\"white\",\"lakecolor\":\"white\",\"landcolor\":\"#E5ECF6\",\"showlakes\":true,\"showland\":true,\"subunitcolor\":\"white\"},\"hoverlabel\":{\"align\":\"left\"},\"hovermode\":\"closest\",\"mapbox\":{\"style\":\"light\"},\"paper_bgcolor\":\"white\",\"plot_bgcolor\":\"#E5ECF6\",\"polar\":{\"angularaxis\":{\"gridcolor\":\"white\",\"linecolor\":\"white\",\"ticks\":\"\"},\"bgcolor\":\"#E5ECF6\",\"radialaxis\":{\"gridcolor\":\"white\",\"linecolor\":\"white\",\"ticks\":\"\"}},\"scene\":{\"xaxis\":{\"backgroundcolor\":\"#E5ECF6\",\"gridcolor\":\"white\",\"gridwidth\":2,\"linecolor\":\"white\",\"showbackground\":true,\"ticks\":\"\",\"zerolinecolor\":\"white\"},\"yaxis\":{\"backgroundcolor\":\"#E5ECF6\",\"gridcolor\":\"white\",\"gridwidth\":2,\"linecolor\":\"white\",\"showbackground\":true,\"ticks\":\"\",\"zerolinecolor\":\"white\"},\"zaxis\":{\"backgroundcolor\":\"#E5ECF6\",\"gridcolor\":\"white\",\"gridwidth\":2,\"linecolor\":\"white\",\"showbackground\":true,\"ticks\":\"\",\"zerolinecolor\":\"white\"}},\"shapedefaults\":{\"line\":{\"color\":\"#2a3f5f\"}},\"ternary\":{\"aaxis\":{\"gridcolor\":\"white\",\"linecolor\":\"white\",\"ticks\":\"\"},\"baxis\":{\"gridcolor\":\"white\",\"linecolor\":\"white\",\"ticks\":\"\"},\"bgcolor\":\"#E5ECF6\",\"caxis\":{\"gridcolor\":\"white\",\"linecolor\":\"white\",\"ticks\":\"\"}},\"title\":{\"x\":0.05},\"xaxis\":{\"automargin\":true,\"gridcolor\":\"white\",\"linecolor\":\"white\",\"ticks\":\"\",\"title\":{\"standoff\":15},\"zerolinecolor\":\"white\",\"zerolinewidth\":2},\"yaxis\":{\"automargin\":true,\"gridcolor\":\"white\",\"linecolor\":\"white\",\"ticks\":\"\",\"title\":{\"standoff\":15},\"zerolinecolor\":\"white\",\"zerolinewidth\":2}}},\"title\":{\"font\":{\"color\":\"#4D5663\"}},\"xaxis\":{\"gridcolor\":\"#E1E5ED\",\"showgrid\":true,\"tickfont\":{\"color\":\"#4D5663\"},\"title\":{\"font\":{\"color\":\"#4D5663\"},\"text\":\"\"},\"zerolinecolor\":\"#E1E5ED\"},\"yaxis\":{\"gridcolor\":\"#E1E5ED\",\"showgrid\":true,\"tickfont\":{\"color\":\"#4D5663\"},\"title\":{\"font\":{\"color\":\"#4D5663\"},\"text\":\"\"},\"zerolinecolor\":\"#E1E5ED\"}},                        {\"showLink\": true, \"linkText\": \"Export to plot.ly\", \"plotlyServerURL\": \"https://plot.ly\", \"responsive\": true}                    ).then(function(){\n",
       "                            \n",
       "var gd = document.getElementById('d9c78c47-17a1-4ccb-8362-cb8782032a7d');\n",
       "var x = new MutationObserver(function (mutations, observer) {{\n",
       "        var display = window.getComputedStyle(gd).display;\n",
       "        if (!display || display === 'none') {{\n",
       "            console.log([gd, 'removed!']);\n",
       "            Plotly.purge(gd);\n",
       "            observer.disconnect();\n",
       "        }}\n",
       "}});\n",
       "\n",
       "// Listen for the removal of the full notebook cells\n",
       "var notebookContainer = gd.closest('#notebook-container');\n",
       "if (notebookContainer) {{\n",
       "    x.observe(notebookContainer, {childList: true});\n",
       "}}\n",
       "\n",
       "// Listen for the clearing of the current output cell\n",
       "var outputEl = gd.closest('.output');\n",
       "if (outputEl) {{\n",
       "    x.observe(outputEl, {childList: true});\n",
       "}}\n",
       "\n",
       "                        })                };                });            </script>        </div>"
      ]
     },
     "metadata": {},
     "output_type": "display_data"
    }
   ],
   "source": [
    "df['A'].iplot(kind='hist', bins=50)"
   ]
  },
  {
   "cell_type": "code",
   "execution_count": 27,
   "id": "d35f65e5",
   "metadata": {},
   "outputs": [
    {
     "data": {
      "text/html": [
       "<div>\n",
       "<style scoped>\n",
       "    .dataframe tbody tr th:only-of-type {\n",
       "        vertical-align: middle;\n",
       "    }\n",
       "\n",
       "    .dataframe tbody tr th {\n",
       "        vertical-align: top;\n",
       "    }\n",
       "\n",
       "    .dataframe thead th {\n",
       "        text-align: right;\n",
       "    }\n",
       "</style>\n",
       "<table border=\"1\" class=\"dataframe\">\n",
       "  <thead>\n",
       "    <tr style=\"text-align: right;\">\n",
       "      <th></th>\n",
       "      <th>A</th>\n",
       "      <th>B</th>\n",
       "    </tr>\n",
       "  </thead>\n",
       "  <tbody>\n",
       "    <tr>\n",
       "      <th>0</th>\n",
       "      <td>-1.282123</td>\n",
       "      <td>-2.467490</td>\n",
       "    </tr>\n",
       "    <tr>\n",
       "      <th>1</th>\n",
       "      <td>-0.399991</td>\n",
       "      <td>-0.910999</td>\n",
       "    </tr>\n",
       "    <tr>\n",
       "      <th>2</th>\n",
       "      <td>0.186040</td>\n",
       "      <td>-0.977544</td>\n",
       "    </tr>\n",
       "    <tr>\n",
       "      <th>3</th>\n",
       "      <td>1.945478</td>\n",
       "      <td>-0.805036</td>\n",
       "    </tr>\n",
       "    <tr>\n",
       "      <th>4</th>\n",
       "      <td>-0.597646</td>\n",
       "      <td>0.388084</td>\n",
       "    </tr>\n",
       "    <tr>\n",
       "      <th>...</th>\n",
       "      <td>...</td>\n",
       "      <td>...</td>\n",
       "    </tr>\n",
       "    <tr>\n",
       "      <th>95</th>\n",
       "      <td>-1.586622</td>\n",
       "      <td>-0.163970</td>\n",
       "    </tr>\n",
       "    <tr>\n",
       "      <th>96</th>\n",
       "      <td>0.937172</td>\n",
       "      <td>-0.735541</td>\n",
       "    </tr>\n",
       "    <tr>\n",
       "      <th>97</th>\n",
       "      <td>-0.913786</td>\n",
       "      <td>-0.163054</td>\n",
       "    </tr>\n",
       "    <tr>\n",
       "      <th>98</th>\n",
       "      <td>1.641023</td>\n",
       "      <td>-1.175728</td>\n",
       "    </tr>\n",
       "    <tr>\n",
       "      <th>99</th>\n",
       "      <td>-0.167251</td>\n",
       "      <td>0.734398</td>\n",
       "    </tr>\n",
       "  </tbody>\n",
       "</table>\n",
       "<p>100 rows × 2 columns</p>\n",
       "</div>"
      ],
      "text/plain": [
       "           A         B\n",
       "0  -1.282123 -2.467490\n",
       "1  -0.399991 -0.910999\n",
       "2   0.186040 -0.977544\n",
       "3   1.945478 -0.805036\n",
       "4  -0.597646  0.388084\n",
       "..       ...       ...\n",
       "95 -1.586622 -0.163970\n",
       "96  0.937172 -0.735541\n",
       "97 -0.913786 -0.163054\n",
       "98  1.641023 -1.175728\n",
       "99 -0.167251  0.734398\n",
       "\n",
       "[100 rows x 2 columns]"
      ]
     },
     "execution_count": 27,
     "metadata": {},
     "output_type": "execute_result"
    }
   ],
   "source": [
    "df[['A','B']]"
   ]
  },
  {
   "cell_type": "code",
   "execution_count": 28,
   "id": "22add69b",
   "metadata": {
    "scrolled": true
   },
   "outputs": [
    {
     "name": "stderr",
     "output_type": "stream",
     "text": [
      "C:\\Users\\Sapana\\anaconda3\\lib\\site-packages\\cufflinks\\plotlytools.py:849: FutureWarning:\n",
      "\n",
      "The pandas.np module is deprecated and will be removed from pandas in a future version. Import numpy directly instead\n",
      "\n",
      "C:\\Users\\Sapana\\anaconda3\\lib\\site-packages\\cufflinks\\plotlytools.py:850: FutureWarning:\n",
      "\n",
      "The pandas.np module is deprecated and will be removed from pandas in a future version. Import numpy directly instead\n",
      "\n"
     ]
    },
    {
     "data": {
      "application/vnd.plotly.v1+json": {
       "config": {
        "linkText": "Export to plot.ly",
        "plotlyServerURL": "https://plot.ly",
        "showLink": true
       },
       "data": [
        {
         "line": {
          "color": "rgba(255, 153, 51, 1.0)",
          "dash": "solid",
          "shape": "linear",
          "width": 1.3
         },
         "mode": "lines",
         "name": "A",
         "text": "",
         "type": "scatter",
         "x": [
          0,
          1,
          2,
          3,
          4,
          5,
          6,
          7,
          8,
          9,
          10,
          11,
          12,
          13,
          14,
          15,
          16,
          17,
          18,
          19,
          20,
          21,
          22,
          23,
          24,
          25,
          26,
          27,
          28,
          29,
          30,
          31,
          32,
          33,
          34,
          35,
          36,
          37,
          38,
          39,
          40,
          41,
          42,
          43,
          44,
          45,
          46,
          47,
          48,
          49,
          50,
          51,
          52,
          53,
          54,
          55,
          56,
          57,
          58,
          59,
          60,
          61,
          62,
          63,
          64,
          65,
          66,
          67,
          68,
          69,
          70,
          71,
          72,
          73,
          74,
          75,
          76,
          77,
          78,
          79,
          80,
          81,
          82,
          83,
          84,
          85,
          86,
          87,
          88,
          89,
          90,
          91,
          92,
          93,
          94,
          95,
          96,
          97,
          98,
          99
         ],
         "y": [
          -1.2821232259307913,
          -0.39999089040185204,
          0.18603955462223581,
          1.9454784431368184,
          -0.5976460193168096,
          -1.1357869422281528,
          0.5011941647418091,
          -0.3165890810433005,
          -0.49026251352794514,
          -0.3070155142823813,
          -0.00928407711693977,
          0.40742108364021007,
          -0.8059220890051619,
          -1.6150012335022794,
          0.2831274750204807,
          -0.8071318749394667,
          1.2578496478325498,
          0.5546354700979511,
          -0.8058535128503591,
          -1.325128537682219,
          -0.6293771302746785,
          -0.18505519612184348,
          1.161217988148961,
          -0.9940280665073525,
          -1.0517075260495918,
          -0.021950386799966522,
          1.7059306402459018,
          -0.5431574852715914,
          -1.6652518510749255,
          -0.2293687085613229,
          -0.9330038160520542,
          -0.40135606395472045,
          -0.5904818764111005,
          0.1561604164203169,
          0.05909328601089837,
          -0.27648155744488384,
          1.5426214018051496,
          2.00748019586431,
          -0.23004698398830756,
          -0.9034603928397359,
          -0.8432824015442412,
          0.5985161962702256,
          0.2064791649332286,
          -1.5981203262502197,
          -0.691193621887644,
          1.2648788373359174,
          -0.9812428188552841,
          0.29077257292937864,
          -0.3860304784116714,
          0.7348736205455061,
          -0.30194463093884955,
          -1.1804849866851235,
          1.8555927233230805,
          0.3206204405021417,
          -0.3484647029488913,
          0.17804035824914086,
          -0.005932309547459654,
          -1.09324321057662,
          1.0537325994802822,
          -0.11131747857058517,
          1.5510248050539293,
          0.0641092321739744,
          0.011983916018163067,
          0.07671899326363087,
          -1.6383015593850865,
          -0.8930202201725317,
          2.177001154926578,
          0.10032475555698285,
          0.19801577044420687,
          -0.8143086148611789,
          2.5765300667706303,
          1.1424955734563713,
          -1.1782421287147495,
          0.36719261575559925,
          1.913126328532216,
          0.5316725673593986,
          1.0609389309814266,
          -0.2580418540315302,
          -1.1096209702275894,
          -0.16525766112282678,
          -0.6350618813045671,
          -0.6680136886957433,
          2.2019863428116317,
          -0.6545846207600245,
          -0.9819257347533642,
          0.7686352817125546,
          -0.28770493344401477,
          0.5918740917074815,
          0.5183444223241045,
          -1.7520524718812602,
          1.3980636906330712,
          -1.1245314917361031,
          0.022139236012942463,
          0.7592364488219824,
          0.42600620243372245,
          -1.5866222361761575,
          0.9371724506934582,
          -0.9137856349047465,
          1.6410233938129204,
          -0.16725096651345864
         ]
        },
        {
         "line": {
          "color": "rgba(55, 128, 191, 1.0)",
          "dash": "solid",
          "shape": "linear",
          "width": 1.3
         },
         "mode": "lines",
         "name": "B",
         "text": "",
         "type": "scatter",
         "x": [
          0,
          1,
          2,
          3,
          4,
          5,
          6,
          7,
          8,
          9,
          10,
          11,
          12,
          13,
          14,
          15,
          16,
          17,
          18,
          19,
          20,
          21,
          22,
          23,
          24,
          25,
          26,
          27,
          28,
          29,
          30,
          31,
          32,
          33,
          34,
          35,
          36,
          37,
          38,
          39,
          40,
          41,
          42,
          43,
          44,
          45,
          46,
          47,
          48,
          49,
          50,
          51,
          52,
          53,
          54,
          55,
          56,
          57,
          58,
          59,
          60,
          61,
          62,
          63,
          64,
          65,
          66,
          67,
          68,
          69,
          70,
          71,
          72,
          73,
          74,
          75,
          76,
          77,
          78,
          79,
          80,
          81,
          82,
          83,
          84,
          85,
          86,
          87,
          88,
          89,
          90,
          91,
          92,
          93,
          94,
          95,
          96,
          97,
          98,
          99
         ],
         "y": [
          -2.467489679081685,
          -0.9109994341608991,
          -0.9775439597470429,
          -0.8050359803816095,
          0.3880837334389582,
          0.7226047001728041,
          2.12261391775626,
          -1.585119821691273,
          -1.4789391663694118,
          1.4130010878680048,
          0.5171336797321604,
          0.8200803187753855,
          -0.1651247430133621,
          -0.020378991429335632,
          1.7248920409679187,
          -1.0379234752961863,
          1.0288558054083492,
          -0.4209039800868332,
          0.9359771990048374,
          0.5283817923005579,
          -0.704072800755225,
          0.33848644671342304,
          1.1773768477836346,
          -0.45103721768800803,
          0.13224782035424706,
          0.7204598068251858,
          -0.9342447733723493,
          -1.5204779496076484,
          1.0181798372524824,
          2.0464668998426223,
          0.6454665423594669,
          -0.5056759016895037,
          0.6527386290509671,
          -0.5547342801162942,
          0.3788700033858548,
          -0.3676073288176218,
          0.5656698820540743,
          1.580633720103138,
          -0.12711454975637088,
          -0.3505517026278936,
          -0.7660622716697431,
          1.523972798077345,
          0.8877692878051118,
          -0.10704995915426571,
          1.629723149498767,
          -0.15762680777432658,
          -1.2668726445596794,
          0.20016928924696611,
          0.699254128347382,
          -0.03689603754636403,
          0.30371287844000294,
          0.28611928397815256,
          2.0585330014523042,
          1.0140945140540905,
          -0.8297552712905361,
          0.09013592833499368,
          0.3984442817811917,
          -0.4571516491840917,
          -0.44287898704643447,
          -1.0569149385856347,
          0.04807235507245364,
          -0.34419688596532827,
          0.10004621268753495,
          0.08731147708013766,
          1.0876804228688925,
          1.3099639910003447,
          0.7539412010773562,
          0.11957250636430646,
          2.3106977365467682,
          2.519930816359611,
          0.08534530825215789,
          -0.9825625396071127,
          -0.39525470620522996,
          -3.1375179773086317,
          0.6132469463474309,
          -0.16942740949205784,
          0.09266214650465411,
          -1.0902353511589595,
          0.8250519676663988,
          -0.13858028835181693,
          -0.28940274670430133,
          -0.002690390203971974,
          0.046357330322069706,
          0.85344253401098,
          0.5158074327785028,
          -1.0161437917023335,
          0.4572488313164856,
          -0.10617864673067459,
          -0.5613388514490533,
          0.3160584742132285,
          -0.8654585149192117,
          0.5512673818002701,
          -0.048270305086464724,
          0.7690216936257351,
          0.8258710118208544,
          -0.16396989659898215,
          -0.7355413370519562,
          -0.163054476714875,
          -1.1757281031956057,
          0.7343984686472602
         ]
        },
        {
         "connectgaps": false,
         "fill": "tozeroy",
         "line": {
          "color": "green",
          "dash": "solid",
          "shape": "linear",
          "width": 0.5
         },
         "mode": "lines",
         "name": "Spread",
         "showlegend": false,
         "type": "scatter",
         "x": [
          0,
          1,
          2,
          3,
          4,
          5,
          6,
          7,
          8,
          9,
          10,
          11,
          12,
          13,
          14,
          15,
          16,
          17,
          18,
          19,
          20,
          21,
          22,
          23,
          24,
          25,
          26,
          27,
          28,
          29,
          30,
          31,
          32,
          33,
          34,
          35,
          36,
          37,
          38,
          39,
          40,
          41,
          42,
          43,
          44,
          45,
          46,
          47,
          48,
          49,
          50,
          51,
          52,
          53,
          54,
          55,
          56,
          57,
          58,
          59,
          60,
          61,
          62,
          63,
          64,
          65,
          66,
          67,
          68,
          69,
          70,
          71,
          72,
          73,
          74,
          75,
          76,
          77,
          78,
          79,
          80,
          81,
          82,
          83,
          84,
          85,
          86,
          87,
          88,
          89,
          90,
          91,
          92,
          93,
          94,
          95,
          96,
          97,
          98,
          99
         ],
         "xaxis": "x2",
         "y": [
          1.1853664531508938,
          0.511008543759047,
          1.1635835143692788,
          2.750514423518428,
          "",
          "",
          "",
          1.2685307406479724,
          0.9886766528414667,
          "",
          "",
          "",
          "",
          "",
          "",
          0.23079160035671964,
          0.22899384242420062,
          0.9755394501847843,
          "",
          "",
          0.0746956704805466,
          "",
          "",
          "",
          "",
          "",
          2.640175413618251,
          0.977320464336057,
          "",
          "",
          "",
          0.10431983773478326,
          "",
          0.7108946965366111,
          "",
          0.09112577137273797,
          0.9769515197510753,
          0.42684647576117185,
          "",
          "",
          "",
          "",
          "",
          "",
          "",
          1.422505645110244,
          0.2856298257043953,
          0.09060328368241252,
          "",
          0.7717696580918701,
          "",
          "",
          "",
          "",
          0.48129056834164474,
          0.08790442991414718,
          "",
          "",
          1.4966115865267167,
          0.9455974600150495,
          1.5029524499814757,
          0.4083061181393027,
          "",
          "",
          "",
          "",
          1.4230599538492217,
          "",
          "",
          "",
          2.4911847585184725,
          2.125058113063484,
          "",
          3.504710593064231,
          1.299879382184785,
          0.7010999768514564,
          0.9682767844767725,
          0.8321934971274294,
          "",
          "",
          "",
          "",
          2.155629012489562,
          "",
          "",
          1.784779073414888,
          "",
          0.6980527384381561,
          1.0796832737731576,
          "",
          2.263522205552283,
          "",
          0.07040954109940718,
          "",
          "",
          "",
          1.6727137877454146,
          "",
          2.816751497008526,
          ""
         ],
         "yaxis": "y2"
        },
        {
         "connectgaps": false,
         "fill": "tozeroy",
         "line": {
          "color": "red",
          "dash": "solid",
          "shape": "linear",
          "width": 0.5
         },
         "mode": "lines",
         "name": "Spread",
         "showlegend": false,
         "type": "scatter",
         "x": [
          0,
          1,
          2,
          3,
          4,
          5,
          6,
          7,
          8,
          9,
          10,
          11,
          12,
          13,
          14,
          15,
          16,
          17,
          18,
          19,
          20,
          21,
          22,
          23,
          24,
          25,
          26,
          27,
          28,
          29,
          30,
          31,
          32,
          33,
          34,
          35,
          36,
          37,
          38,
          39,
          40,
          41,
          42,
          43,
          44,
          45,
          46,
          47,
          48,
          49,
          50,
          51,
          52,
          53,
          54,
          55,
          56,
          57,
          58,
          59,
          60,
          61,
          62,
          63,
          64,
          65,
          66,
          67,
          68,
          69,
          70,
          71,
          72,
          73,
          74,
          75,
          76,
          77,
          78,
          79,
          80,
          81,
          82,
          83,
          84,
          85,
          86,
          87,
          88,
          89,
          90,
          91,
          92,
          93,
          94,
          95,
          96,
          97,
          98,
          99
         ],
         "xaxis": "x2",
         "y": [
          "",
          "",
          "",
          "",
          -0.9857297527557678,
          -1.858391642400957,
          -1.6214197530144512,
          "",
          "",
          -1.7200166021503862,
          -0.5264177568491002,
          -0.4126592351351754,
          -0.6407973459917998,
          -1.594622242072944,
          -1.441764565947438,
          "",
          "",
          "",
          -1.7418307118551966,
          -1.853510329982777,
          "",
          -0.5235416428352665,
          -0.01615885963467356,
          -0.5429908488193445,
          -1.1839553464038388,
          -0.7424101936251524,
          "",
          "",
          -2.683431688327408,
          -2.2758356084039453,
          -1.5784703584115212,
          "",
          -1.2432205054620677,
          "",
          -0.31977671737495644,
          "",
          "",
          "",
          -0.10293243423193668,
          -0.5529086902118423,
          -0.07722012987449811,
          -0.9254566018071194,
          -0.6812901228718832,
          -1.491070367095954,
          -2.320916771386411,
          "",
          "",
          "",
          -1.0852846067590534,
          "",
          -0.6056575093788525,
          -1.466604270663276,
          -0.20294027812922377,
          -0.6934740735519487,
          "",
          "",
          -0.40437659132865134,
          -0.6360915613925284,
          "",
          "",
          "",
          "",
          -0.08806229666937189,
          -0.010592483816506792,
          -2.725981982253979,
          -2.2029842111728763,
          "",
          -0.019247750807323605,
          -2.1126819661025613,
          -3.33423943122079,
          "",
          "",
          -0.7829874225095196,
          "",
          "",
          "",
          "",
          "",
          -1.9346729378939882,
          -0.026677372771009844,
          -0.34565913460026576,
          -0.6653232984917713,
          "",
          -1.5080271547710047,
          -1.497733167531867,
          "",
          -0.7449537647605003,
          "",
          "",
          -2.068110946094489,
          "",
          -1.6757988735363734,
          "",
          -0.009785244803752757,
          -0.399864809387132,
          -1.4226523395771753,
          "",
          -0.7507311581898715,
          "",
          -0.9016494351607188
         ],
         "yaxis": "y2"
        }
       ],
       "layout": {
        "hovermode": "x",
        "legend": {
         "bgcolor": "#F5F6F9",
         "font": {
          "color": "#4D5663"
         }
        },
        "paper_bgcolor": "#F5F6F9",
        "plot_bgcolor": "#F5F6F9",
        "template": {
         "data": {
          "bar": [
           {
            "error_x": {
             "color": "#2a3f5f"
            },
            "error_y": {
             "color": "#2a3f5f"
            },
            "marker": {
             "line": {
              "color": "#E5ECF6",
              "width": 0.5
             },
             "pattern": {
              "fillmode": "overlay",
              "size": 10,
              "solidity": 0.2
             }
            },
            "type": "bar"
           }
          ],
          "barpolar": [
           {
            "marker": {
             "line": {
              "color": "#E5ECF6",
              "width": 0.5
             },
             "pattern": {
              "fillmode": "overlay",
              "size": 10,
              "solidity": 0.2
             }
            },
            "type": "barpolar"
           }
          ],
          "carpet": [
           {
            "aaxis": {
             "endlinecolor": "#2a3f5f",
             "gridcolor": "white",
             "linecolor": "white",
             "minorgridcolor": "white",
             "startlinecolor": "#2a3f5f"
            },
            "baxis": {
             "endlinecolor": "#2a3f5f",
             "gridcolor": "white",
             "linecolor": "white",
             "minorgridcolor": "white",
             "startlinecolor": "#2a3f5f"
            },
            "type": "carpet"
           }
          ],
          "choropleth": [
           {
            "colorbar": {
             "outlinewidth": 0,
             "ticks": ""
            },
            "type": "choropleth"
           }
          ],
          "contour": [
           {
            "colorbar": {
             "outlinewidth": 0,
             "ticks": ""
            },
            "colorscale": [
             [
              0,
              "#0d0887"
             ],
             [
              0.1111111111111111,
              "#46039f"
             ],
             [
              0.2222222222222222,
              "#7201a8"
             ],
             [
              0.3333333333333333,
              "#9c179e"
             ],
             [
              0.4444444444444444,
              "#bd3786"
             ],
             [
              0.5555555555555556,
              "#d8576b"
             ],
             [
              0.6666666666666666,
              "#ed7953"
             ],
             [
              0.7777777777777778,
              "#fb9f3a"
             ],
             [
              0.8888888888888888,
              "#fdca26"
             ],
             [
              1,
              "#f0f921"
             ]
            ],
            "type": "contour"
           }
          ],
          "contourcarpet": [
           {
            "colorbar": {
             "outlinewidth": 0,
             "ticks": ""
            },
            "type": "contourcarpet"
           }
          ],
          "heatmap": [
           {
            "colorbar": {
             "outlinewidth": 0,
             "ticks": ""
            },
            "colorscale": [
             [
              0,
              "#0d0887"
             ],
             [
              0.1111111111111111,
              "#46039f"
             ],
             [
              0.2222222222222222,
              "#7201a8"
             ],
             [
              0.3333333333333333,
              "#9c179e"
             ],
             [
              0.4444444444444444,
              "#bd3786"
             ],
             [
              0.5555555555555556,
              "#d8576b"
             ],
             [
              0.6666666666666666,
              "#ed7953"
             ],
             [
              0.7777777777777778,
              "#fb9f3a"
             ],
             [
              0.8888888888888888,
              "#fdca26"
             ],
             [
              1,
              "#f0f921"
             ]
            ],
            "type": "heatmap"
           }
          ],
          "heatmapgl": [
           {
            "colorbar": {
             "outlinewidth": 0,
             "ticks": ""
            },
            "colorscale": [
             [
              0,
              "#0d0887"
             ],
             [
              0.1111111111111111,
              "#46039f"
             ],
             [
              0.2222222222222222,
              "#7201a8"
             ],
             [
              0.3333333333333333,
              "#9c179e"
             ],
             [
              0.4444444444444444,
              "#bd3786"
             ],
             [
              0.5555555555555556,
              "#d8576b"
             ],
             [
              0.6666666666666666,
              "#ed7953"
             ],
             [
              0.7777777777777778,
              "#fb9f3a"
             ],
             [
              0.8888888888888888,
              "#fdca26"
             ],
             [
              1,
              "#f0f921"
             ]
            ],
            "type": "heatmapgl"
           }
          ],
          "histogram": [
           {
            "marker": {
             "pattern": {
              "fillmode": "overlay",
              "size": 10,
              "solidity": 0.2
             }
            },
            "type": "histogram"
           }
          ],
          "histogram2d": [
           {
            "colorbar": {
             "outlinewidth": 0,
             "ticks": ""
            },
            "colorscale": [
             [
              0,
              "#0d0887"
             ],
             [
              0.1111111111111111,
              "#46039f"
             ],
             [
              0.2222222222222222,
              "#7201a8"
             ],
             [
              0.3333333333333333,
              "#9c179e"
             ],
             [
              0.4444444444444444,
              "#bd3786"
             ],
             [
              0.5555555555555556,
              "#d8576b"
             ],
             [
              0.6666666666666666,
              "#ed7953"
             ],
             [
              0.7777777777777778,
              "#fb9f3a"
             ],
             [
              0.8888888888888888,
              "#fdca26"
             ],
             [
              1,
              "#f0f921"
             ]
            ],
            "type": "histogram2d"
           }
          ],
          "histogram2dcontour": [
           {
            "colorbar": {
             "outlinewidth": 0,
             "ticks": ""
            },
            "colorscale": [
             [
              0,
              "#0d0887"
             ],
             [
              0.1111111111111111,
              "#46039f"
             ],
             [
              0.2222222222222222,
              "#7201a8"
             ],
             [
              0.3333333333333333,
              "#9c179e"
             ],
             [
              0.4444444444444444,
              "#bd3786"
             ],
             [
              0.5555555555555556,
              "#d8576b"
             ],
             [
              0.6666666666666666,
              "#ed7953"
             ],
             [
              0.7777777777777778,
              "#fb9f3a"
             ],
             [
              0.8888888888888888,
              "#fdca26"
             ],
             [
              1,
              "#f0f921"
             ]
            ],
            "type": "histogram2dcontour"
           }
          ],
          "mesh3d": [
           {
            "colorbar": {
             "outlinewidth": 0,
             "ticks": ""
            },
            "type": "mesh3d"
           }
          ],
          "parcoords": [
           {
            "line": {
             "colorbar": {
              "outlinewidth": 0,
              "ticks": ""
             }
            },
            "type": "parcoords"
           }
          ],
          "pie": [
           {
            "automargin": true,
            "type": "pie"
           }
          ],
          "scatter": [
           {
            "fillpattern": {
             "fillmode": "overlay",
             "size": 10,
             "solidity": 0.2
            },
            "type": "scatter"
           }
          ],
          "scatter3d": [
           {
            "line": {
             "colorbar": {
              "outlinewidth": 0,
              "ticks": ""
             }
            },
            "marker": {
             "colorbar": {
              "outlinewidth": 0,
              "ticks": ""
             }
            },
            "type": "scatter3d"
           }
          ],
          "scattercarpet": [
           {
            "marker": {
             "colorbar": {
              "outlinewidth": 0,
              "ticks": ""
             }
            },
            "type": "scattercarpet"
           }
          ],
          "scattergeo": [
           {
            "marker": {
             "colorbar": {
              "outlinewidth": 0,
              "ticks": ""
             }
            },
            "type": "scattergeo"
           }
          ],
          "scattergl": [
           {
            "marker": {
             "colorbar": {
              "outlinewidth": 0,
              "ticks": ""
             }
            },
            "type": "scattergl"
           }
          ],
          "scattermapbox": [
           {
            "marker": {
             "colorbar": {
              "outlinewidth": 0,
              "ticks": ""
             }
            },
            "type": "scattermapbox"
           }
          ],
          "scatterpolar": [
           {
            "marker": {
             "colorbar": {
              "outlinewidth": 0,
              "ticks": ""
             }
            },
            "type": "scatterpolar"
           }
          ],
          "scatterpolargl": [
           {
            "marker": {
             "colorbar": {
              "outlinewidth": 0,
              "ticks": ""
             }
            },
            "type": "scatterpolargl"
           }
          ],
          "scatterternary": [
           {
            "marker": {
             "colorbar": {
              "outlinewidth": 0,
              "ticks": ""
             }
            },
            "type": "scatterternary"
           }
          ],
          "surface": [
           {
            "colorbar": {
             "outlinewidth": 0,
             "ticks": ""
            },
            "colorscale": [
             [
              0,
              "#0d0887"
             ],
             [
              0.1111111111111111,
              "#46039f"
             ],
             [
              0.2222222222222222,
              "#7201a8"
             ],
             [
              0.3333333333333333,
              "#9c179e"
             ],
             [
              0.4444444444444444,
              "#bd3786"
             ],
             [
              0.5555555555555556,
              "#d8576b"
             ],
             [
              0.6666666666666666,
              "#ed7953"
             ],
             [
              0.7777777777777778,
              "#fb9f3a"
             ],
             [
              0.8888888888888888,
              "#fdca26"
             ],
             [
              1,
              "#f0f921"
             ]
            ],
            "type": "surface"
           }
          ],
          "table": [
           {
            "cells": {
             "fill": {
              "color": "#EBF0F8"
             },
             "line": {
              "color": "white"
             }
            },
            "header": {
             "fill": {
              "color": "#C8D4E3"
             },
             "line": {
              "color": "white"
             }
            },
            "type": "table"
           }
          ]
         },
         "layout": {
          "annotationdefaults": {
           "arrowcolor": "#2a3f5f",
           "arrowhead": 0,
           "arrowwidth": 1
          },
          "autotypenumbers": "strict",
          "coloraxis": {
           "colorbar": {
            "outlinewidth": 0,
            "ticks": ""
           }
          },
          "colorscale": {
           "diverging": [
            [
             0,
             "#8e0152"
            ],
            [
             0.1,
             "#c51b7d"
            ],
            [
             0.2,
             "#de77ae"
            ],
            [
             0.3,
             "#f1b6da"
            ],
            [
             0.4,
             "#fde0ef"
            ],
            [
             0.5,
             "#f7f7f7"
            ],
            [
             0.6,
             "#e6f5d0"
            ],
            [
             0.7,
             "#b8e186"
            ],
            [
             0.8,
             "#7fbc41"
            ],
            [
             0.9,
             "#4d9221"
            ],
            [
             1,
             "#276419"
            ]
           ],
           "sequential": [
            [
             0,
             "#0d0887"
            ],
            [
             0.1111111111111111,
             "#46039f"
            ],
            [
             0.2222222222222222,
             "#7201a8"
            ],
            [
             0.3333333333333333,
             "#9c179e"
            ],
            [
             0.4444444444444444,
             "#bd3786"
            ],
            [
             0.5555555555555556,
             "#d8576b"
            ],
            [
             0.6666666666666666,
             "#ed7953"
            ],
            [
             0.7777777777777778,
             "#fb9f3a"
            ],
            [
             0.8888888888888888,
             "#fdca26"
            ],
            [
             1,
             "#f0f921"
            ]
           ],
           "sequentialminus": [
            [
             0,
             "#0d0887"
            ],
            [
             0.1111111111111111,
             "#46039f"
            ],
            [
             0.2222222222222222,
             "#7201a8"
            ],
            [
             0.3333333333333333,
             "#9c179e"
            ],
            [
             0.4444444444444444,
             "#bd3786"
            ],
            [
             0.5555555555555556,
             "#d8576b"
            ],
            [
             0.6666666666666666,
             "#ed7953"
            ],
            [
             0.7777777777777778,
             "#fb9f3a"
            ],
            [
             0.8888888888888888,
             "#fdca26"
            ],
            [
             1,
             "#f0f921"
            ]
           ]
          },
          "colorway": [
           "#636efa",
           "#EF553B",
           "#00cc96",
           "#ab63fa",
           "#FFA15A",
           "#19d3f3",
           "#FF6692",
           "#B6E880",
           "#FF97FF",
           "#FECB52"
          ],
          "font": {
           "color": "#2a3f5f"
          },
          "geo": {
           "bgcolor": "white",
           "lakecolor": "white",
           "landcolor": "#E5ECF6",
           "showlakes": true,
           "showland": true,
           "subunitcolor": "white"
          },
          "hoverlabel": {
           "align": "left"
          },
          "hovermode": "closest",
          "mapbox": {
           "style": "light"
          },
          "paper_bgcolor": "white",
          "plot_bgcolor": "#E5ECF6",
          "polar": {
           "angularaxis": {
            "gridcolor": "white",
            "linecolor": "white",
            "ticks": ""
           },
           "bgcolor": "#E5ECF6",
           "radialaxis": {
            "gridcolor": "white",
            "linecolor": "white",
            "ticks": ""
           }
          },
          "scene": {
           "xaxis": {
            "backgroundcolor": "#E5ECF6",
            "gridcolor": "white",
            "gridwidth": 2,
            "linecolor": "white",
            "showbackground": true,
            "ticks": "",
            "zerolinecolor": "white"
           },
           "yaxis": {
            "backgroundcolor": "#E5ECF6",
            "gridcolor": "white",
            "gridwidth": 2,
            "linecolor": "white",
            "showbackground": true,
            "ticks": "",
            "zerolinecolor": "white"
           },
           "zaxis": {
            "backgroundcolor": "#E5ECF6",
            "gridcolor": "white",
            "gridwidth": 2,
            "linecolor": "white",
            "showbackground": true,
            "ticks": "",
            "zerolinecolor": "white"
           }
          },
          "shapedefaults": {
           "line": {
            "color": "#2a3f5f"
           }
          },
          "ternary": {
           "aaxis": {
            "gridcolor": "white",
            "linecolor": "white",
            "ticks": ""
           },
           "baxis": {
            "gridcolor": "white",
            "linecolor": "white",
            "ticks": ""
           },
           "bgcolor": "#E5ECF6",
           "caxis": {
            "gridcolor": "white",
            "linecolor": "white",
            "ticks": ""
           }
          },
          "title": {
           "x": 0.05
          },
          "xaxis": {
           "automargin": true,
           "gridcolor": "white",
           "linecolor": "white",
           "ticks": "",
           "title": {
            "standoff": 15
           },
           "zerolinecolor": "white",
           "zerolinewidth": 2
          },
          "yaxis": {
           "automargin": true,
           "gridcolor": "white",
           "linecolor": "white",
           "ticks": "",
           "title": {
            "standoff": 15
           },
           "zerolinecolor": "white",
           "zerolinewidth": 2
          }
         }
        },
        "title": {
         "font": {
          "color": "#4D5663"
         }
        },
        "xaxis": {
         "gridcolor": "#E1E5ED",
         "showgrid": true,
         "tickfont": {
          "color": "#4D5663"
         },
         "title": {
          "font": {
           "color": "#4D5663"
          },
          "text": ""
         },
         "zerolinecolor": "#E1E5ED"
        },
        "xaxis2": {
         "anchor": "y2",
         "gridcolor": "#E1E5ED",
         "showgrid": true,
         "showticklabels": false,
         "tickfont": {
          "color": "#4D5663"
         },
         "title": {
          "font": {
           "color": "#4D5663"
          },
          "text": ""
         },
         "zerolinecolor": "#E1E5ED"
        },
        "yaxis": {
         "domain": [
          0.3,
          1
         ],
         "gridcolor": "#E1E5ED",
         "showgrid": true,
         "tickfont": {
          "color": "#4D5663"
         },
         "title": {
          "font": {
           "color": "#4D5663"
          },
          "text": ""
         },
         "zerolinecolor": "#E1E5ED"
        },
        "yaxis2": {
         "domain": [
          0,
          0.25
         ],
         "gridcolor": "#E1E5ED",
         "showgrid": true,
         "tickfont": {
          "color": "#4D5663"
         },
         "title": {
          "font": {
           "color": "#4D5663"
          },
          "text": "Spread"
         },
         "zerolinecolor": "#E1E5ED"
        }
       }
      },
      "text/html": [
       "<div>                            <div id=\"41426620-5cb1-40cf-bbc4-85190fed3ef3\" class=\"plotly-graph-div\" style=\"height:525px; width:100%;\"></div>            <script type=\"text/javascript\">                require([\"plotly\"], function(Plotly) {                    window.PLOTLYENV=window.PLOTLYENV || {};\n",
       "                    window.PLOTLYENV.BASE_URL='https://plot.ly';                                    if (document.getElementById(\"41426620-5cb1-40cf-bbc4-85190fed3ef3\")) {                    Plotly.newPlot(                        \"41426620-5cb1-40cf-bbc4-85190fed3ef3\",                        [{\"line\":{\"color\":\"rgba(255, 153, 51, 1.0)\",\"dash\":\"solid\",\"shape\":\"linear\",\"width\":1.3},\"mode\":\"lines\",\"name\":\"A\",\"text\":\"\",\"x\":[0,1,2,3,4,5,6,7,8,9,10,11,12,13,14,15,16,17,18,19,20,21,22,23,24,25,26,27,28,29,30,31,32,33,34,35,36,37,38,39,40,41,42,43,44,45,46,47,48,49,50,51,52,53,54,55,56,57,58,59,60,61,62,63,64,65,66,67,68,69,70,71,72,73,74,75,76,77,78,79,80,81,82,83,84,85,86,87,88,89,90,91,92,93,94,95,96,97,98,99],\"y\":[-1.2821232259307913,-0.39999089040185204,0.18603955462223581,1.9454784431368184,-0.5976460193168096,-1.1357869422281528,0.5011941647418091,-0.3165890810433005,-0.49026251352794514,-0.3070155142823813,-0.00928407711693977,0.40742108364021007,-0.8059220890051619,-1.6150012335022794,0.2831274750204807,-0.8071318749394667,1.2578496478325498,0.5546354700979511,-0.8058535128503591,-1.325128537682219,-0.6293771302746785,-0.18505519612184348,1.161217988148961,-0.9940280665073525,-1.0517075260495918,-0.021950386799966522,1.7059306402459018,-0.5431574852715914,-1.6652518510749255,-0.2293687085613229,-0.9330038160520542,-0.40135606395472045,-0.5904818764111005,0.1561604164203169,0.05909328601089837,-0.27648155744488384,1.5426214018051496,2.00748019586431,-0.23004698398830756,-0.9034603928397359,-0.8432824015442412,0.5985161962702256,0.2064791649332286,-1.5981203262502197,-0.691193621887644,1.2648788373359174,-0.9812428188552841,0.29077257292937864,-0.3860304784116714,0.7348736205455061,-0.30194463093884955,-1.1804849866851235,1.8555927233230805,0.3206204405021417,-0.3484647029488913,0.17804035824914086,-0.005932309547459654,-1.09324321057662,1.0537325994802822,-0.11131747857058517,1.5510248050539293,0.0641092321739744,0.011983916018163067,0.07671899326363087,-1.6383015593850865,-0.8930202201725317,2.177001154926578,0.10032475555698285,0.19801577044420687,-0.8143086148611789,2.5765300667706303,1.1424955734563713,-1.1782421287147495,0.36719261575559925,1.913126328532216,0.5316725673593986,1.0609389309814266,-0.2580418540315302,-1.1096209702275894,-0.16525766112282678,-0.6350618813045671,-0.6680136886957433,2.2019863428116317,-0.6545846207600245,-0.9819257347533642,0.7686352817125546,-0.28770493344401477,0.5918740917074815,0.5183444223241045,-1.7520524718812602,1.3980636906330712,-1.1245314917361031,0.022139236012942463,0.7592364488219824,0.42600620243372245,-1.5866222361761575,0.9371724506934582,-0.9137856349047465,1.6410233938129204,-0.16725096651345864],\"type\":\"scatter\"},{\"line\":{\"color\":\"rgba(55, 128, 191, 1.0)\",\"dash\":\"solid\",\"shape\":\"linear\",\"width\":1.3},\"mode\":\"lines\",\"name\":\"B\",\"text\":\"\",\"x\":[0,1,2,3,4,5,6,7,8,9,10,11,12,13,14,15,16,17,18,19,20,21,22,23,24,25,26,27,28,29,30,31,32,33,34,35,36,37,38,39,40,41,42,43,44,45,46,47,48,49,50,51,52,53,54,55,56,57,58,59,60,61,62,63,64,65,66,67,68,69,70,71,72,73,74,75,76,77,78,79,80,81,82,83,84,85,86,87,88,89,90,91,92,93,94,95,96,97,98,99],\"y\":[-2.467489679081685,-0.9109994341608991,-0.9775439597470429,-0.8050359803816095,0.3880837334389582,0.7226047001728041,2.12261391775626,-1.585119821691273,-1.4789391663694118,1.4130010878680048,0.5171336797321604,0.8200803187753855,-0.1651247430133621,-0.020378991429335632,1.7248920409679187,-1.0379234752961863,1.0288558054083492,-0.4209039800868332,0.9359771990048374,0.5283817923005579,-0.704072800755225,0.33848644671342304,1.1773768477836346,-0.45103721768800803,0.13224782035424706,0.7204598068251858,-0.9342447733723493,-1.5204779496076484,1.0181798372524824,2.0464668998426223,0.6454665423594669,-0.5056759016895037,0.6527386290509671,-0.5547342801162942,0.3788700033858548,-0.3676073288176218,0.5656698820540743,1.580633720103138,-0.12711454975637088,-0.3505517026278936,-0.7660622716697431,1.523972798077345,0.8877692878051118,-0.10704995915426571,1.629723149498767,-0.15762680777432658,-1.2668726445596794,0.20016928924696611,0.699254128347382,-0.03689603754636403,0.30371287844000294,0.28611928397815256,2.0585330014523042,1.0140945140540905,-0.8297552712905361,0.09013592833499368,0.3984442817811917,-0.4571516491840917,-0.44287898704643447,-1.0569149385856347,0.04807235507245364,-0.34419688596532827,0.10004621268753495,0.08731147708013766,1.0876804228688925,1.3099639910003447,0.7539412010773562,0.11957250636430646,2.3106977365467682,2.519930816359611,0.08534530825215789,-0.9825625396071127,-0.39525470620522996,-3.1375179773086317,0.6132469463474309,-0.16942740949205784,0.09266214650465411,-1.0902353511589595,0.8250519676663988,-0.13858028835181693,-0.28940274670430133,-0.002690390203971974,0.046357330322069706,0.85344253401098,0.5158074327785028,-1.0161437917023335,0.4572488313164856,-0.10617864673067459,-0.5613388514490533,0.3160584742132285,-0.8654585149192117,0.5512673818002701,-0.048270305086464724,0.7690216936257351,0.8258710118208544,-0.16396989659898215,-0.7355413370519562,-0.163054476714875,-1.1757281031956057,0.7343984686472602],\"type\":\"scatter\"},{\"connectgaps\":false,\"fill\":\"tozeroy\",\"line\":{\"color\":\"green\",\"dash\":\"solid\",\"shape\":\"linear\",\"width\":0.5},\"mode\":\"lines\",\"name\":\"Spread\",\"showlegend\":false,\"x\":[0,1,2,3,4,5,6,7,8,9,10,11,12,13,14,15,16,17,18,19,20,21,22,23,24,25,26,27,28,29,30,31,32,33,34,35,36,37,38,39,40,41,42,43,44,45,46,47,48,49,50,51,52,53,54,55,56,57,58,59,60,61,62,63,64,65,66,67,68,69,70,71,72,73,74,75,76,77,78,79,80,81,82,83,84,85,86,87,88,89,90,91,92,93,94,95,96,97,98,99],\"xaxis\":\"x2\",\"y\":[1.1853664531508938,0.511008543759047,1.1635835143692788,2.750514423518428,\"\",\"\",\"\",1.2685307406479724,0.9886766528414667,\"\",\"\",\"\",\"\",\"\",\"\",0.23079160035671964,0.22899384242420062,0.9755394501847843,\"\",\"\",0.0746956704805466,\"\",\"\",\"\",\"\",\"\",2.640175413618251,0.977320464336057,\"\",\"\",\"\",0.10431983773478326,\"\",0.7108946965366111,\"\",0.09112577137273797,0.9769515197510753,0.42684647576117185,\"\",\"\",\"\",\"\",\"\",\"\",\"\",1.422505645110244,0.2856298257043953,0.09060328368241252,\"\",0.7717696580918701,\"\",\"\",\"\",\"\",0.48129056834164474,0.08790442991414718,\"\",\"\",1.4966115865267167,0.9455974600150495,1.5029524499814757,0.4083061181393027,\"\",\"\",\"\",\"\",1.4230599538492217,\"\",\"\",\"\",2.4911847585184725,2.125058113063484,\"\",3.504710593064231,1.299879382184785,0.7010999768514564,0.9682767844767725,0.8321934971274294,\"\",\"\",\"\",\"\",2.155629012489562,\"\",\"\",1.784779073414888,\"\",0.6980527384381561,1.0796832737731576,\"\",2.263522205552283,\"\",0.07040954109940718,\"\",\"\",\"\",1.6727137877454146,\"\",2.816751497008526,\"\"],\"yaxis\":\"y2\",\"type\":\"scatter\"},{\"connectgaps\":false,\"fill\":\"tozeroy\",\"line\":{\"color\":\"red\",\"dash\":\"solid\",\"shape\":\"linear\",\"width\":0.5},\"mode\":\"lines\",\"name\":\"Spread\",\"showlegend\":false,\"x\":[0,1,2,3,4,5,6,7,8,9,10,11,12,13,14,15,16,17,18,19,20,21,22,23,24,25,26,27,28,29,30,31,32,33,34,35,36,37,38,39,40,41,42,43,44,45,46,47,48,49,50,51,52,53,54,55,56,57,58,59,60,61,62,63,64,65,66,67,68,69,70,71,72,73,74,75,76,77,78,79,80,81,82,83,84,85,86,87,88,89,90,91,92,93,94,95,96,97,98,99],\"xaxis\":\"x2\",\"y\":[\"\",\"\",\"\",\"\",-0.9857297527557678,-1.858391642400957,-1.6214197530144512,\"\",\"\",-1.7200166021503862,-0.5264177568491002,-0.4126592351351754,-0.6407973459917998,-1.594622242072944,-1.441764565947438,\"\",\"\",\"\",-1.7418307118551966,-1.853510329982777,\"\",-0.5235416428352665,-0.01615885963467356,-0.5429908488193445,-1.1839553464038388,-0.7424101936251524,\"\",\"\",-2.683431688327408,-2.2758356084039453,-1.5784703584115212,\"\",-1.2432205054620677,\"\",-0.31977671737495644,\"\",\"\",\"\",-0.10293243423193668,-0.5529086902118423,-0.07722012987449811,-0.9254566018071194,-0.6812901228718832,-1.491070367095954,-2.320916771386411,\"\",\"\",\"\",-1.0852846067590534,\"\",-0.6056575093788525,-1.466604270663276,-0.20294027812922377,-0.6934740735519487,\"\",\"\",-0.40437659132865134,-0.6360915613925284,\"\",\"\",\"\",\"\",-0.08806229666937189,-0.010592483816506792,-2.725981982253979,-2.2029842111728763,\"\",-0.019247750807323605,-2.1126819661025613,-3.33423943122079,\"\",\"\",-0.7829874225095196,\"\",\"\",\"\",\"\",\"\",-1.9346729378939882,-0.026677372771009844,-0.34565913460026576,-0.6653232984917713,\"\",-1.5080271547710047,-1.497733167531867,\"\",-0.7449537647605003,\"\",\"\",-2.068110946094489,\"\",-1.6757988735363734,\"\",-0.009785244803752757,-0.399864809387132,-1.4226523395771753,\"\",-0.7507311581898715,\"\",-0.9016494351607188],\"yaxis\":\"y2\",\"type\":\"scatter\"}],                        {\"hovermode\":\"x\",\"legend\":{\"bgcolor\":\"#F5F6F9\",\"font\":{\"color\":\"#4D5663\"}},\"paper_bgcolor\":\"#F5F6F9\",\"plot_bgcolor\":\"#F5F6F9\",\"template\":{\"data\":{\"barpolar\":[{\"marker\":{\"line\":{\"color\":\"#E5ECF6\",\"width\":0.5},\"pattern\":{\"fillmode\":\"overlay\",\"size\":10,\"solidity\":0.2}},\"type\":\"barpolar\"}],\"bar\":[{\"error_x\":{\"color\":\"#2a3f5f\"},\"error_y\":{\"color\":\"#2a3f5f\"},\"marker\":{\"line\":{\"color\":\"#E5ECF6\",\"width\":0.5},\"pattern\":{\"fillmode\":\"overlay\",\"size\":10,\"solidity\":0.2}},\"type\":\"bar\"}],\"carpet\":[{\"aaxis\":{\"endlinecolor\":\"#2a3f5f\",\"gridcolor\":\"white\",\"linecolor\":\"white\",\"minorgridcolor\":\"white\",\"startlinecolor\":\"#2a3f5f\"},\"baxis\":{\"endlinecolor\":\"#2a3f5f\",\"gridcolor\":\"white\",\"linecolor\":\"white\",\"minorgridcolor\":\"white\",\"startlinecolor\":\"#2a3f5f\"},\"type\":\"carpet\"}],\"choropleth\":[{\"colorbar\":{\"outlinewidth\":0,\"ticks\":\"\"},\"type\":\"choropleth\"}],\"contourcarpet\":[{\"colorbar\":{\"outlinewidth\":0,\"ticks\":\"\"},\"type\":\"contourcarpet\"}],\"contour\":[{\"colorbar\":{\"outlinewidth\":0,\"ticks\":\"\"},\"colorscale\":[[0.0,\"#0d0887\"],[0.1111111111111111,\"#46039f\"],[0.2222222222222222,\"#7201a8\"],[0.3333333333333333,\"#9c179e\"],[0.4444444444444444,\"#bd3786\"],[0.5555555555555556,\"#d8576b\"],[0.6666666666666666,\"#ed7953\"],[0.7777777777777778,\"#fb9f3a\"],[0.8888888888888888,\"#fdca26\"],[1.0,\"#f0f921\"]],\"type\":\"contour\"}],\"heatmapgl\":[{\"colorbar\":{\"outlinewidth\":0,\"ticks\":\"\"},\"colorscale\":[[0.0,\"#0d0887\"],[0.1111111111111111,\"#46039f\"],[0.2222222222222222,\"#7201a8\"],[0.3333333333333333,\"#9c179e\"],[0.4444444444444444,\"#bd3786\"],[0.5555555555555556,\"#d8576b\"],[0.6666666666666666,\"#ed7953\"],[0.7777777777777778,\"#fb9f3a\"],[0.8888888888888888,\"#fdca26\"],[1.0,\"#f0f921\"]],\"type\":\"heatmapgl\"}],\"heatmap\":[{\"colorbar\":{\"outlinewidth\":0,\"ticks\":\"\"},\"colorscale\":[[0.0,\"#0d0887\"],[0.1111111111111111,\"#46039f\"],[0.2222222222222222,\"#7201a8\"],[0.3333333333333333,\"#9c179e\"],[0.4444444444444444,\"#bd3786\"],[0.5555555555555556,\"#d8576b\"],[0.6666666666666666,\"#ed7953\"],[0.7777777777777778,\"#fb9f3a\"],[0.8888888888888888,\"#fdca26\"],[1.0,\"#f0f921\"]],\"type\":\"heatmap\"}],\"histogram2dcontour\":[{\"colorbar\":{\"outlinewidth\":0,\"ticks\":\"\"},\"colorscale\":[[0.0,\"#0d0887\"],[0.1111111111111111,\"#46039f\"],[0.2222222222222222,\"#7201a8\"],[0.3333333333333333,\"#9c179e\"],[0.4444444444444444,\"#bd3786\"],[0.5555555555555556,\"#d8576b\"],[0.6666666666666666,\"#ed7953\"],[0.7777777777777778,\"#fb9f3a\"],[0.8888888888888888,\"#fdca26\"],[1.0,\"#f0f921\"]],\"type\":\"histogram2dcontour\"}],\"histogram2d\":[{\"colorbar\":{\"outlinewidth\":0,\"ticks\":\"\"},\"colorscale\":[[0.0,\"#0d0887\"],[0.1111111111111111,\"#46039f\"],[0.2222222222222222,\"#7201a8\"],[0.3333333333333333,\"#9c179e\"],[0.4444444444444444,\"#bd3786\"],[0.5555555555555556,\"#d8576b\"],[0.6666666666666666,\"#ed7953\"],[0.7777777777777778,\"#fb9f3a\"],[0.8888888888888888,\"#fdca26\"],[1.0,\"#f0f921\"]],\"type\":\"histogram2d\"}],\"histogram\":[{\"marker\":{\"pattern\":{\"fillmode\":\"overlay\",\"size\":10,\"solidity\":0.2}},\"type\":\"histogram\"}],\"mesh3d\":[{\"colorbar\":{\"outlinewidth\":0,\"ticks\":\"\"},\"type\":\"mesh3d\"}],\"parcoords\":[{\"line\":{\"colorbar\":{\"outlinewidth\":0,\"ticks\":\"\"}},\"type\":\"parcoords\"}],\"pie\":[{\"automargin\":true,\"type\":\"pie\"}],\"scatter3d\":[{\"line\":{\"colorbar\":{\"outlinewidth\":0,\"ticks\":\"\"}},\"marker\":{\"colorbar\":{\"outlinewidth\":0,\"ticks\":\"\"}},\"type\":\"scatter3d\"}],\"scattercarpet\":[{\"marker\":{\"colorbar\":{\"outlinewidth\":0,\"ticks\":\"\"}},\"type\":\"scattercarpet\"}],\"scattergeo\":[{\"marker\":{\"colorbar\":{\"outlinewidth\":0,\"ticks\":\"\"}},\"type\":\"scattergeo\"}],\"scattergl\":[{\"marker\":{\"colorbar\":{\"outlinewidth\":0,\"ticks\":\"\"}},\"type\":\"scattergl\"}],\"scattermapbox\":[{\"marker\":{\"colorbar\":{\"outlinewidth\":0,\"ticks\":\"\"}},\"type\":\"scattermapbox\"}],\"scatterpolargl\":[{\"marker\":{\"colorbar\":{\"outlinewidth\":0,\"ticks\":\"\"}},\"type\":\"scatterpolargl\"}],\"scatterpolar\":[{\"marker\":{\"colorbar\":{\"outlinewidth\":0,\"ticks\":\"\"}},\"type\":\"scatterpolar\"}],\"scatter\":[{\"fillpattern\":{\"fillmode\":\"overlay\",\"size\":10,\"solidity\":0.2},\"type\":\"scatter\"}],\"scatterternary\":[{\"marker\":{\"colorbar\":{\"outlinewidth\":0,\"ticks\":\"\"}},\"type\":\"scatterternary\"}],\"surface\":[{\"colorbar\":{\"outlinewidth\":0,\"ticks\":\"\"},\"colorscale\":[[0.0,\"#0d0887\"],[0.1111111111111111,\"#46039f\"],[0.2222222222222222,\"#7201a8\"],[0.3333333333333333,\"#9c179e\"],[0.4444444444444444,\"#bd3786\"],[0.5555555555555556,\"#d8576b\"],[0.6666666666666666,\"#ed7953\"],[0.7777777777777778,\"#fb9f3a\"],[0.8888888888888888,\"#fdca26\"],[1.0,\"#f0f921\"]],\"type\":\"surface\"}],\"table\":[{\"cells\":{\"fill\":{\"color\":\"#EBF0F8\"},\"line\":{\"color\":\"white\"}},\"header\":{\"fill\":{\"color\":\"#C8D4E3\"},\"line\":{\"color\":\"white\"}},\"type\":\"table\"}]},\"layout\":{\"annotationdefaults\":{\"arrowcolor\":\"#2a3f5f\",\"arrowhead\":0,\"arrowwidth\":1},\"autotypenumbers\":\"strict\",\"coloraxis\":{\"colorbar\":{\"outlinewidth\":0,\"ticks\":\"\"}},\"colorscale\":{\"diverging\":[[0,\"#8e0152\"],[0.1,\"#c51b7d\"],[0.2,\"#de77ae\"],[0.3,\"#f1b6da\"],[0.4,\"#fde0ef\"],[0.5,\"#f7f7f7\"],[0.6,\"#e6f5d0\"],[0.7,\"#b8e186\"],[0.8,\"#7fbc41\"],[0.9,\"#4d9221\"],[1,\"#276419\"]],\"sequential\":[[0.0,\"#0d0887\"],[0.1111111111111111,\"#46039f\"],[0.2222222222222222,\"#7201a8\"],[0.3333333333333333,\"#9c179e\"],[0.4444444444444444,\"#bd3786\"],[0.5555555555555556,\"#d8576b\"],[0.6666666666666666,\"#ed7953\"],[0.7777777777777778,\"#fb9f3a\"],[0.8888888888888888,\"#fdca26\"],[1.0,\"#f0f921\"]],\"sequentialminus\":[[0.0,\"#0d0887\"],[0.1111111111111111,\"#46039f\"],[0.2222222222222222,\"#7201a8\"],[0.3333333333333333,\"#9c179e\"],[0.4444444444444444,\"#bd3786\"],[0.5555555555555556,\"#d8576b\"],[0.6666666666666666,\"#ed7953\"],[0.7777777777777778,\"#fb9f3a\"],[0.8888888888888888,\"#fdca26\"],[1.0,\"#f0f921\"]]},\"colorway\":[\"#636efa\",\"#EF553B\",\"#00cc96\",\"#ab63fa\",\"#FFA15A\",\"#19d3f3\",\"#FF6692\",\"#B6E880\",\"#FF97FF\",\"#FECB52\"],\"font\":{\"color\":\"#2a3f5f\"},\"geo\":{\"bgcolor\":\"white\",\"lakecolor\":\"white\",\"landcolor\":\"#E5ECF6\",\"showlakes\":true,\"showland\":true,\"subunitcolor\":\"white\"},\"hoverlabel\":{\"align\":\"left\"},\"hovermode\":\"closest\",\"mapbox\":{\"style\":\"light\"},\"paper_bgcolor\":\"white\",\"plot_bgcolor\":\"#E5ECF6\",\"polar\":{\"angularaxis\":{\"gridcolor\":\"white\",\"linecolor\":\"white\",\"ticks\":\"\"},\"bgcolor\":\"#E5ECF6\",\"radialaxis\":{\"gridcolor\":\"white\",\"linecolor\":\"white\",\"ticks\":\"\"}},\"scene\":{\"xaxis\":{\"backgroundcolor\":\"#E5ECF6\",\"gridcolor\":\"white\",\"gridwidth\":2,\"linecolor\":\"white\",\"showbackground\":true,\"ticks\":\"\",\"zerolinecolor\":\"white\"},\"yaxis\":{\"backgroundcolor\":\"#E5ECF6\",\"gridcolor\":\"white\",\"gridwidth\":2,\"linecolor\":\"white\",\"showbackground\":true,\"ticks\":\"\",\"zerolinecolor\":\"white\"},\"zaxis\":{\"backgroundcolor\":\"#E5ECF6\",\"gridcolor\":\"white\",\"gridwidth\":2,\"linecolor\":\"white\",\"showbackground\":true,\"ticks\":\"\",\"zerolinecolor\":\"white\"}},\"shapedefaults\":{\"line\":{\"color\":\"#2a3f5f\"}},\"ternary\":{\"aaxis\":{\"gridcolor\":\"white\",\"linecolor\":\"white\",\"ticks\":\"\"},\"baxis\":{\"gridcolor\":\"white\",\"linecolor\":\"white\",\"ticks\":\"\"},\"bgcolor\":\"#E5ECF6\",\"caxis\":{\"gridcolor\":\"white\",\"linecolor\":\"white\",\"ticks\":\"\"}},\"title\":{\"x\":0.05},\"xaxis\":{\"automargin\":true,\"gridcolor\":\"white\",\"linecolor\":\"white\",\"ticks\":\"\",\"title\":{\"standoff\":15},\"zerolinecolor\":\"white\",\"zerolinewidth\":2},\"yaxis\":{\"automargin\":true,\"gridcolor\":\"white\",\"linecolor\":\"white\",\"ticks\":\"\",\"title\":{\"standoff\":15},\"zerolinecolor\":\"white\",\"zerolinewidth\":2}}},\"title\":{\"font\":{\"color\":\"#4D5663\"}},\"xaxis\":{\"gridcolor\":\"#E1E5ED\",\"showgrid\":true,\"tickfont\":{\"color\":\"#4D5663\"},\"title\":{\"font\":{\"color\":\"#4D5663\"},\"text\":\"\"},\"zerolinecolor\":\"#E1E5ED\"},\"yaxis\":{\"domain\":[0.3,1],\"gridcolor\":\"#E1E5ED\",\"showgrid\":true,\"tickfont\":{\"color\":\"#4D5663\"},\"title\":{\"font\":{\"color\":\"#4D5663\"},\"text\":\"\"},\"zerolinecolor\":\"#E1E5ED\"},\"yaxis2\":{\"domain\":[0,0.25],\"gridcolor\":\"#E1E5ED\",\"showgrid\":true,\"tickfont\":{\"color\":\"#4D5663\"},\"title\":{\"font\":{\"color\":\"#4D5663\"},\"text\":\"Spread\"},\"zerolinecolor\":\"#E1E5ED\"},\"xaxis2\":{\"anchor\":\"y2\",\"gridcolor\":\"#E1E5ED\",\"showgrid\":true,\"showticklabels\":false,\"tickfont\":{\"color\":\"#4D5663\"},\"title\":{\"font\":{\"color\":\"#4D5663\"},\"text\":\"\"},\"zerolinecolor\":\"#E1E5ED\"}},                        {\"showLink\": true, \"linkText\": \"Export to plot.ly\", \"plotlyServerURL\": \"https://plot.ly\", \"responsive\": true}                    ).then(function(){\n",
       "                            \n",
       "var gd = document.getElementById('41426620-5cb1-40cf-bbc4-85190fed3ef3');\n",
       "var x = new MutationObserver(function (mutations, observer) {{\n",
       "        var display = window.getComputedStyle(gd).display;\n",
       "        if (!display || display === 'none') {{\n",
       "            console.log([gd, 'removed!']);\n",
       "            Plotly.purge(gd);\n",
       "            observer.disconnect();\n",
       "        }}\n",
       "}});\n",
       "\n",
       "// Listen for the removal of the full notebook cells\n",
       "var notebookContainer = gd.closest('#notebook-container');\n",
       "if (notebookContainer) {{\n",
       "    x.observe(notebookContainer, {childList: true});\n",
       "}}\n",
       "\n",
       "// Listen for the clearing of the current output cell\n",
       "var outputEl = gd.closest('.output');\n",
       "if (outputEl) {{\n",
       "    x.observe(outputEl, {childList: true});\n",
       "}}\n",
       "\n",
       "                        })                };                });            </script>        </div>"
      ]
     },
     "metadata": {},
     "output_type": "display_data"
    }
   ],
   "source": [
    "import pandas as pd\n",
    "import numpy as np\n",
    "\n",
    "df[['A','B']].iplot(kind='spread')"
   ]
  },
  {
   "cell_type": "code",
   "execution_count": 31,
   "id": "2280df1a",
   "metadata": {},
   "outputs": [
    {
     "data": {
      "application/vnd.plotly.v1+json": {
       "config": {
        "linkText": "Export to plot.ly",
        "plotlyServerURL": "https://plot.ly",
        "showLink": true
       },
       "data": [
        {
         "marker": {
          "color": [
           "rgb(255, 153, 51)",
           "rgb(55, 128, 191)",
           "rgb(50, 171, 96)",
           "rgb(128, 0, 128)",
           "rgb(219, 64, 82)",
           "rgb(0, 128, 128)",
           "rgb(255, 255, 51)",
           "rgb(128, 128, 0)",
           "rgb(251, 128, 114)",
           "rgb(128, 177, 211)"
          ],
          "line": {
           "width": 1.3
          },
          "size": [
           43,
           78,
           12,
           56,
           81,
           49,
           80,
           52,
           111,
           69,
           72,
           76,
           61,
           33,
           41,
           90,
           56,
           26,
           58,
           77,
           92,
           29,
           74,
           61,
           57,
           42,
           64,
           18,
           60,
           85,
           50,
           87,
           90,
           74,
           22,
           50,
           84,
           87,
           50,
           55,
           87,
           82,
           70,
           55,
           24,
           106,
           71,
           70,
           61,
           20,
           65,
           89,
           84,
           87,
           45,
           40,
           65,
           79,
           55,
           45,
           14,
           52,
           58,
           39,
           56,
           72,
           57,
           58,
           83,
           44,
           108,
           51,
           112,
           77,
           39,
           61,
           49,
           70,
           92,
           32,
           52,
           57,
           84,
           71,
           59,
           88,
           72,
           66,
           16,
           27,
           54,
           57,
           73,
           45,
           58,
           48,
           75,
           57,
           79,
           57
          ],
          "symbol": "circle"
         },
         "mode": "markers",
         "text": "",
         "type": "scatter",
         "x": [
          -1.2821232259307913,
          -0.39999089040185204,
          0.18603955462223581,
          1.9454784431368184,
          -0.5976460193168096,
          -1.1357869422281528,
          0.5011941647418091,
          -0.3165890810433005,
          -0.49026251352794514,
          -0.3070155142823813,
          -0.00928407711693977,
          0.40742108364021007,
          -0.8059220890051619,
          -1.6150012335022794,
          0.2831274750204807,
          -0.8071318749394667,
          1.2578496478325498,
          0.5546354700979511,
          -0.8058535128503591,
          -1.325128537682219,
          -0.6293771302746785,
          -0.18505519612184348,
          1.161217988148961,
          -0.9940280665073525,
          -1.0517075260495918,
          -0.021950386799966522,
          1.7059306402459018,
          -0.5431574852715914,
          -1.6652518510749255,
          -0.2293687085613229,
          -0.9330038160520542,
          -0.40135606395472045,
          -0.5904818764111005,
          0.1561604164203169,
          0.05909328601089837,
          -0.27648155744488384,
          1.5426214018051496,
          2.00748019586431,
          -0.23004698398830756,
          -0.9034603928397359,
          -0.8432824015442412,
          0.5985161962702256,
          0.2064791649332286,
          -1.5981203262502197,
          -0.691193621887644,
          1.2648788373359174,
          -0.9812428188552841,
          0.29077257292937864,
          -0.3860304784116714,
          0.7348736205455061,
          -0.30194463093884955,
          -1.1804849866851235,
          1.8555927233230805,
          0.3206204405021417,
          -0.3484647029488913,
          0.17804035824914086,
          -0.005932309547459654,
          -1.09324321057662,
          1.0537325994802822,
          -0.11131747857058517,
          1.5510248050539293,
          0.0641092321739744,
          0.011983916018163067,
          0.07671899326363087,
          -1.6383015593850865,
          -0.8930202201725317,
          2.177001154926578,
          0.10032475555698285,
          0.19801577044420687,
          -0.8143086148611789,
          2.5765300667706303,
          1.1424955734563713,
          -1.1782421287147495,
          0.36719261575559925,
          1.913126328532216,
          0.5316725673593986,
          1.0609389309814266,
          -0.2580418540315302,
          -1.1096209702275894,
          -0.16525766112282678,
          -0.6350618813045671,
          -0.6680136886957433,
          2.2019863428116317,
          -0.6545846207600245,
          -0.9819257347533642,
          0.7686352817125546,
          -0.28770493344401477,
          0.5918740917074815,
          0.5183444223241045,
          -1.7520524718812602,
          1.3980636906330712,
          -1.1245314917361031,
          0.022139236012942463,
          0.7592364488219824,
          0.42600620243372245,
          -1.5866222361761575,
          0.9371724506934582,
          -0.9137856349047465,
          1.6410233938129204,
          -0.16725096651345864
         ],
         "y": [
          -2.467489679081685,
          -0.9109994341608991,
          -0.9775439597470429,
          -0.8050359803816095,
          0.3880837334389582,
          0.7226047001728041,
          2.12261391775626,
          -1.585119821691273,
          -1.4789391663694118,
          1.4130010878680048,
          0.5171336797321604,
          0.8200803187753855,
          -0.1651247430133621,
          -0.020378991429335632,
          1.7248920409679187,
          -1.0379234752961863,
          1.0288558054083492,
          -0.4209039800868332,
          0.9359771990048374,
          0.5283817923005579,
          -0.704072800755225,
          0.33848644671342304,
          1.1773768477836346,
          -0.45103721768800803,
          0.13224782035424706,
          0.7204598068251858,
          -0.9342447733723493,
          -1.5204779496076484,
          1.0181798372524824,
          2.0464668998426223,
          0.6454665423594669,
          -0.5056759016895037,
          0.6527386290509671,
          -0.5547342801162942,
          0.3788700033858548,
          -0.3676073288176218,
          0.5656698820540743,
          1.580633720103138,
          -0.12711454975637088,
          -0.3505517026278936,
          -0.7660622716697431,
          1.523972798077345,
          0.8877692878051118,
          -0.10704995915426571,
          1.629723149498767,
          -0.15762680777432658,
          -1.2668726445596794,
          0.20016928924696611,
          0.699254128347382,
          -0.03689603754636403,
          0.30371287844000294,
          0.28611928397815256,
          2.0585330014523042,
          1.0140945140540905,
          -0.8297552712905361,
          0.09013592833499368,
          0.3984442817811917,
          -0.4571516491840917,
          -0.44287898704643447,
          -1.0569149385856347,
          0.04807235507245364,
          -0.34419688596532827,
          0.10004621268753495,
          0.08731147708013766,
          1.0876804228688925,
          1.3099639910003447,
          0.7539412010773562,
          0.11957250636430646,
          2.3106977365467682,
          2.519930816359611,
          0.08534530825215789,
          -0.9825625396071127,
          -0.39525470620522996,
          -3.1375179773086317,
          0.6132469463474309,
          -0.16942740949205784,
          0.09266214650465411,
          -1.0902353511589595,
          0.8250519676663988,
          -0.13858028835181693,
          -0.28940274670430133,
          -0.002690390203971974,
          0.046357330322069706,
          0.85344253401098,
          0.5158074327785028,
          -1.0161437917023335,
          0.4572488313164856,
          -0.10617864673067459,
          -0.5613388514490533,
          0.3160584742132285,
          -0.8654585149192117,
          0.5512673818002701,
          -0.048270305086464724,
          0.7690216936257351,
          0.8258710118208544,
          -0.16396989659898215,
          -0.7355413370519562,
          -0.163054476714875,
          -1.1757281031956057,
          0.7343984686472602
         ]
        }
       ],
       "layout": {
        "legend": {
         "bgcolor": "#F5F6F9",
         "font": {
          "color": "#4D5663"
         }
        },
        "paper_bgcolor": "#F5F6F9",
        "plot_bgcolor": "#F5F6F9",
        "template": {
         "data": {
          "bar": [
           {
            "error_x": {
             "color": "#2a3f5f"
            },
            "error_y": {
             "color": "#2a3f5f"
            },
            "marker": {
             "line": {
              "color": "#E5ECF6",
              "width": 0.5
             },
             "pattern": {
              "fillmode": "overlay",
              "size": 10,
              "solidity": 0.2
             }
            },
            "type": "bar"
           }
          ],
          "barpolar": [
           {
            "marker": {
             "line": {
              "color": "#E5ECF6",
              "width": 0.5
             },
             "pattern": {
              "fillmode": "overlay",
              "size": 10,
              "solidity": 0.2
             }
            },
            "type": "barpolar"
           }
          ],
          "carpet": [
           {
            "aaxis": {
             "endlinecolor": "#2a3f5f",
             "gridcolor": "white",
             "linecolor": "white",
             "minorgridcolor": "white",
             "startlinecolor": "#2a3f5f"
            },
            "baxis": {
             "endlinecolor": "#2a3f5f",
             "gridcolor": "white",
             "linecolor": "white",
             "minorgridcolor": "white",
             "startlinecolor": "#2a3f5f"
            },
            "type": "carpet"
           }
          ],
          "choropleth": [
           {
            "colorbar": {
             "outlinewidth": 0,
             "ticks": ""
            },
            "type": "choropleth"
           }
          ],
          "contour": [
           {
            "colorbar": {
             "outlinewidth": 0,
             "ticks": ""
            },
            "colorscale": [
             [
              0,
              "#0d0887"
             ],
             [
              0.1111111111111111,
              "#46039f"
             ],
             [
              0.2222222222222222,
              "#7201a8"
             ],
             [
              0.3333333333333333,
              "#9c179e"
             ],
             [
              0.4444444444444444,
              "#bd3786"
             ],
             [
              0.5555555555555556,
              "#d8576b"
             ],
             [
              0.6666666666666666,
              "#ed7953"
             ],
             [
              0.7777777777777778,
              "#fb9f3a"
             ],
             [
              0.8888888888888888,
              "#fdca26"
             ],
             [
              1,
              "#f0f921"
             ]
            ],
            "type": "contour"
           }
          ],
          "contourcarpet": [
           {
            "colorbar": {
             "outlinewidth": 0,
             "ticks": ""
            },
            "type": "contourcarpet"
           }
          ],
          "heatmap": [
           {
            "colorbar": {
             "outlinewidth": 0,
             "ticks": ""
            },
            "colorscale": [
             [
              0,
              "#0d0887"
             ],
             [
              0.1111111111111111,
              "#46039f"
             ],
             [
              0.2222222222222222,
              "#7201a8"
             ],
             [
              0.3333333333333333,
              "#9c179e"
             ],
             [
              0.4444444444444444,
              "#bd3786"
             ],
             [
              0.5555555555555556,
              "#d8576b"
             ],
             [
              0.6666666666666666,
              "#ed7953"
             ],
             [
              0.7777777777777778,
              "#fb9f3a"
             ],
             [
              0.8888888888888888,
              "#fdca26"
             ],
             [
              1,
              "#f0f921"
             ]
            ],
            "type": "heatmap"
           }
          ],
          "heatmapgl": [
           {
            "colorbar": {
             "outlinewidth": 0,
             "ticks": ""
            },
            "colorscale": [
             [
              0,
              "#0d0887"
             ],
             [
              0.1111111111111111,
              "#46039f"
             ],
             [
              0.2222222222222222,
              "#7201a8"
             ],
             [
              0.3333333333333333,
              "#9c179e"
             ],
             [
              0.4444444444444444,
              "#bd3786"
             ],
             [
              0.5555555555555556,
              "#d8576b"
             ],
             [
              0.6666666666666666,
              "#ed7953"
             ],
             [
              0.7777777777777778,
              "#fb9f3a"
             ],
             [
              0.8888888888888888,
              "#fdca26"
             ],
             [
              1,
              "#f0f921"
             ]
            ],
            "type": "heatmapgl"
           }
          ],
          "histogram": [
           {
            "marker": {
             "pattern": {
              "fillmode": "overlay",
              "size": 10,
              "solidity": 0.2
             }
            },
            "type": "histogram"
           }
          ],
          "histogram2d": [
           {
            "colorbar": {
             "outlinewidth": 0,
             "ticks": ""
            },
            "colorscale": [
             [
              0,
              "#0d0887"
             ],
             [
              0.1111111111111111,
              "#46039f"
             ],
             [
              0.2222222222222222,
              "#7201a8"
             ],
             [
              0.3333333333333333,
              "#9c179e"
             ],
             [
              0.4444444444444444,
              "#bd3786"
             ],
             [
              0.5555555555555556,
              "#d8576b"
             ],
             [
              0.6666666666666666,
              "#ed7953"
             ],
             [
              0.7777777777777778,
              "#fb9f3a"
             ],
             [
              0.8888888888888888,
              "#fdca26"
             ],
             [
              1,
              "#f0f921"
             ]
            ],
            "type": "histogram2d"
           }
          ],
          "histogram2dcontour": [
           {
            "colorbar": {
             "outlinewidth": 0,
             "ticks": ""
            },
            "colorscale": [
             [
              0,
              "#0d0887"
             ],
             [
              0.1111111111111111,
              "#46039f"
             ],
             [
              0.2222222222222222,
              "#7201a8"
             ],
             [
              0.3333333333333333,
              "#9c179e"
             ],
             [
              0.4444444444444444,
              "#bd3786"
             ],
             [
              0.5555555555555556,
              "#d8576b"
             ],
             [
              0.6666666666666666,
              "#ed7953"
             ],
             [
              0.7777777777777778,
              "#fb9f3a"
             ],
             [
              0.8888888888888888,
              "#fdca26"
             ],
             [
              1,
              "#f0f921"
             ]
            ],
            "type": "histogram2dcontour"
           }
          ],
          "mesh3d": [
           {
            "colorbar": {
             "outlinewidth": 0,
             "ticks": ""
            },
            "type": "mesh3d"
           }
          ],
          "parcoords": [
           {
            "line": {
             "colorbar": {
              "outlinewidth": 0,
              "ticks": ""
             }
            },
            "type": "parcoords"
           }
          ],
          "pie": [
           {
            "automargin": true,
            "type": "pie"
           }
          ],
          "scatter": [
           {
            "fillpattern": {
             "fillmode": "overlay",
             "size": 10,
             "solidity": 0.2
            },
            "type": "scatter"
           }
          ],
          "scatter3d": [
           {
            "line": {
             "colorbar": {
              "outlinewidth": 0,
              "ticks": ""
             }
            },
            "marker": {
             "colorbar": {
              "outlinewidth": 0,
              "ticks": ""
             }
            },
            "type": "scatter3d"
           }
          ],
          "scattercarpet": [
           {
            "marker": {
             "colorbar": {
              "outlinewidth": 0,
              "ticks": ""
             }
            },
            "type": "scattercarpet"
           }
          ],
          "scattergeo": [
           {
            "marker": {
             "colorbar": {
              "outlinewidth": 0,
              "ticks": ""
             }
            },
            "type": "scattergeo"
           }
          ],
          "scattergl": [
           {
            "marker": {
             "colorbar": {
              "outlinewidth": 0,
              "ticks": ""
             }
            },
            "type": "scattergl"
           }
          ],
          "scattermapbox": [
           {
            "marker": {
             "colorbar": {
              "outlinewidth": 0,
              "ticks": ""
             }
            },
            "type": "scattermapbox"
           }
          ],
          "scatterpolar": [
           {
            "marker": {
             "colorbar": {
              "outlinewidth": 0,
              "ticks": ""
             }
            },
            "type": "scatterpolar"
           }
          ],
          "scatterpolargl": [
           {
            "marker": {
             "colorbar": {
              "outlinewidth": 0,
              "ticks": ""
             }
            },
            "type": "scatterpolargl"
           }
          ],
          "scatterternary": [
           {
            "marker": {
             "colorbar": {
              "outlinewidth": 0,
              "ticks": ""
             }
            },
            "type": "scatterternary"
           }
          ],
          "surface": [
           {
            "colorbar": {
             "outlinewidth": 0,
             "ticks": ""
            },
            "colorscale": [
             [
              0,
              "#0d0887"
             ],
             [
              0.1111111111111111,
              "#46039f"
             ],
             [
              0.2222222222222222,
              "#7201a8"
             ],
             [
              0.3333333333333333,
              "#9c179e"
             ],
             [
              0.4444444444444444,
              "#bd3786"
             ],
             [
              0.5555555555555556,
              "#d8576b"
             ],
             [
              0.6666666666666666,
              "#ed7953"
             ],
             [
              0.7777777777777778,
              "#fb9f3a"
             ],
             [
              0.8888888888888888,
              "#fdca26"
             ],
             [
              1,
              "#f0f921"
             ]
            ],
            "type": "surface"
           }
          ],
          "table": [
           {
            "cells": {
             "fill": {
              "color": "#EBF0F8"
             },
             "line": {
              "color": "white"
             }
            },
            "header": {
             "fill": {
              "color": "#C8D4E3"
             },
             "line": {
              "color": "white"
             }
            },
            "type": "table"
           }
          ]
         },
         "layout": {
          "annotationdefaults": {
           "arrowcolor": "#2a3f5f",
           "arrowhead": 0,
           "arrowwidth": 1
          },
          "autotypenumbers": "strict",
          "coloraxis": {
           "colorbar": {
            "outlinewidth": 0,
            "ticks": ""
           }
          },
          "colorscale": {
           "diverging": [
            [
             0,
             "#8e0152"
            ],
            [
             0.1,
             "#c51b7d"
            ],
            [
             0.2,
             "#de77ae"
            ],
            [
             0.3,
             "#f1b6da"
            ],
            [
             0.4,
             "#fde0ef"
            ],
            [
             0.5,
             "#f7f7f7"
            ],
            [
             0.6,
             "#e6f5d0"
            ],
            [
             0.7,
             "#b8e186"
            ],
            [
             0.8,
             "#7fbc41"
            ],
            [
             0.9,
             "#4d9221"
            ],
            [
             1,
             "#276419"
            ]
           ],
           "sequential": [
            [
             0,
             "#0d0887"
            ],
            [
             0.1111111111111111,
             "#46039f"
            ],
            [
             0.2222222222222222,
             "#7201a8"
            ],
            [
             0.3333333333333333,
             "#9c179e"
            ],
            [
             0.4444444444444444,
             "#bd3786"
            ],
            [
             0.5555555555555556,
             "#d8576b"
            ],
            [
             0.6666666666666666,
             "#ed7953"
            ],
            [
             0.7777777777777778,
             "#fb9f3a"
            ],
            [
             0.8888888888888888,
             "#fdca26"
            ],
            [
             1,
             "#f0f921"
            ]
           ],
           "sequentialminus": [
            [
             0,
             "#0d0887"
            ],
            [
             0.1111111111111111,
             "#46039f"
            ],
            [
             0.2222222222222222,
             "#7201a8"
            ],
            [
             0.3333333333333333,
             "#9c179e"
            ],
            [
             0.4444444444444444,
             "#bd3786"
            ],
            [
             0.5555555555555556,
             "#d8576b"
            ],
            [
             0.6666666666666666,
             "#ed7953"
            ],
            [
             0.7777777777777778,
             "#fb9f3a"
            ],
            [
             0.8888888888888888,
             "#fdca26"
            ],
            [
             1,
             "#f0f921"
            ]
           ]
          },
          "colorway": [
           "#636efa",
           "#EF553B",
           "#00cc96",
           "#ab63fa",
           "#FFA15A",
           "#19d3f3",
           "#FF6692",
           "#B6E880",
           "#FF97FF",
           "#FECB52"
          ],
          "font": {
           "color": "#2a3f5f"
          },
          "geo": {
           "bgcolor": "white",
           "lakecolor": "white",
           "landcolor": "#E5ECF6",
           "showlakes": true,
           "showland": true,
           "subunitcolor": "white"
          },
          "hoverlabel": {
           "align": "left"
          },
          "hovermode": "closest",
          "mapbox": {
           "style": "light"
          },
          "paper_bgcolor": "white",
          "plot_bgcolor": "#E5ECF6",
          "polar": {
           "angularaxis": {
            "gridcolor": "white",
            "linecolor": "white",
            "ticks": ""
           },
           "bgcolor": "#E5ECF6",
           "radialaxis": {
            "gridcolor": "white",
            "linecolor": "white",
            "ticks": ""
           }
          },
          "scene": {
           "xaxis": {
            "backgroundcolor": "#E5ECF6",
            "gridcolor": "white",
            "gridwidth": 2,
            "linecolor": "white",
            "showbackground": true,
            "ticks": "",
            "zerolinecolor": "white"
           },
           "yaxis": {
            "backgroundcolor": "#E5ECF6",
            "gridcolor": "white",
            "gridwidth": 2,
            "linecolor": "white",
            "showbackground": true,
            "ticks": "",
            "zerolinecolor": "white"
           },
           "zaxis": {
            "backgroundcolor": "#E5ECF6",
            "gridcolor": "white",
            "gridwidth": 2,
            "linecolor": "white",
            "showbackground": true,
            "ticks": "",
            "zerolinecolor": "white"
           }
          },
          "shapedefaults": {
           "line": {
            "color": "#2a3f5f"
           }
          },
          "ternary": {
           "aaxis": {
            "gridcolor": "white",
            "linecolor": "white",
            "ticks": ""
           },
           "baxis": {
            "gridcolor": "white",
            "linecolor": "white",
            "ticks": ""
           },
           "bgcolor": "#E5ECF6",
           "caxis": {
            "gridcolor": "white",
            "linecolor": "white",
            "ticks": ""
           }
          },
          "title": {
           "x": 0.05
          },
          "xaxis": {
           "automargin": true,
           "gridcolor": "white",
           "linecolor": "white",
           "ticks": "",
           "title": {
            "standoff": 15
           },
           "zerolinecolor": "white",
           "zerolinewidth": 2
          },
          "yaxis": {
           "automargin": true,
           "gridcolor": "white",
           "linecolor": "white",
           "ticks": "",
           "title": {
            "standoff": 15
           },
           "zerolinecolor": "white",
           "zerolinewidth": 2
          }
         }
        },
        "title": {
         "font": {
          "color": "#4D5663"
         }
        },
        "xaxis": {
         "gridcolor": "#E1E5ED",
         "showgrid": true,
         "tickfont": {
          "color": "#4D5663"
         },
         "title": {
          "font": {
           "color": "#4D5663"
          },
          "text": ""
         },
         "zerolinecolor": "#E1E5ED"
        },
        "yaxis": {
         "gridcolor": "#E1E5ED",
         "showgrid": true,
         "tickfont": {
          "color": "#4D5663"
         },
         "title": {
          "font": {
           "color": "#4D5663"
          },
          "text": ""
         },
         "zerolinecolor": "#E1E5ED"
        }
       }
      },
      "text/html": [
       "<div>                            <div id=\"1d303873-7b48-4bc1-9c35-ee2df9fc4d3c\" class=\"plotly-graph-div\" style=\"height:525px; width:100%;\"></div>            <script type=\"text/javascript\">                require([\"plotly\"], function(Plotly) {                    window.PLOTLYENV=window.PLOTLYENV || {};\n",
       "                    window.PLOTLYENV.BASE_URL='https://plot.ly';                                    if (document.getElementById(\"1d303873-7b48-4bc1-9c35-ee2df9fc4d3c\")) {                    Plotly.newPlot(                        \"1d303873-7b48-4bc1-9c35-ee2df9fc4d3c\",                        [{\"marker\":{\"color\":[\"rgb(255, 153, 51)\",\"rgb(55, 128, 191)\",\"rgb(50, 171, 96)\",\"rgb(128, 0, 128)\",\"rgb(219, 64, 82)\",\"rgb(0, 128, 128)\",\"rgb(255, 255, 51)\",\"rgb(128, 128, 0)\",\"rgb(251, 128, 114)\",\"rgb(128, 177, 211)\"],\"line\":{\"width\":1.3},\"size\":[43,78,12,56,81,49,80,52,111,69,72,76,61,33,41,90,56,26,58,77,92,29,74,61,57,42,64,18,60,85,50,87,90,74,22,50,84,87,50,55,87,82,70,55,24,106,71,70,61,20,65,89,84,87,45,40,65,79,55,45,14,52,58,39,56,72,57,58,83,44,108,51,112,77,39,61,49,70,92,32,52,57,84,71,59,88,72,66,16,27,54,57,73,45,58,48,75,57,79,57],\"symbol\":\"circle\"},\"mode\":\"markers\",\"text\":\"\",\"x\":[-1.2821232259307913,-0.39999089040185204,0.18603955462223581,1.9454784431368184,-0.5976460193168096,-1.1357869422281528,0.5011941647418091,-0.3165890810433005,-0.49026251352794514,-0.3070155142823813,-0.00928407711693977,0.40742108364021007,-0.8059220890051619,-1.6150012335022794,0.2831274750204807,-0.8071318749394667,1.2578496478325498,0.5546354700979511,-0.8058535128503591,-1.325128537682219,-0.6293771302746785,-0.18505519612184348,1.161217988148961,-0.9940280665073525,-1.0517075260495918,-0.021950386799966522,1.7059306402459018,-0.5431574852715914,-1.6652518510749255,-0.2293687085613229,-0.9330038160520542,-0.40135606395472045,-0.5904818764111005,0.1561604164203169,0.05909328601089837,-0.27648155744488384,1.5426214018051496,2.00748019586431,-0.23004698398830756,-0.9034603928397359,-0.8432824015442412,0.5985161962702256,0.2064791649332286,-1.5981203262502197,-0.691193621887644,1.2648788373359174,-0.9812428188552841,0.29077257292937864,-0.3860304784116714,0.7348736205455061,-0.30194463093884955,-1.1804849866851235,1.8555927233230805,0.3206204405021417,-0.3484647029488913,0.17804035824914086,-0.005932309547459654,-1.09324321057662,1.0537325994802822,-0.11131747857058517,1.5510248050539293,0.0641092321739744,0.011983916018163067,0.07671899326363087,-1.6383015593850865,-0.8930202201725317,2.177001154926578,0.10032475555698285,0.19801577044420687,-0.8143086148611789,2.5765300667706303,1.1424955734563713,-1.1782421287147495,0.36719261575559925,1.913126328532216,0.5316725673593986,1.0609389309814266,-0.2580418540315302,-1.1096209702275894,-0.16525766112282678,-0.6350618813045671,-0.6680136886957433,2.2019863428116317,-0.6545846207600245,-0.9819257347533642,0.7686352817125546,-0.28770493344401477,0.5918740917074815,0.5183444223241045,-1.7520524718812602,1.3980636906330712,-1.1245314917361031,0.022139236012942463,0.7592364488219824,0.42600620243372245,-1.5866222361761575,0.9371724506934582,-0.9137856349047465,1.6410233938129204,-0.16725096651345864],\"y\":[-2.467489679081685,-0.9109994341608991,-0.9775439597470429,-0.8050359803816095,0.3880837334389582,0.7226047001728041,2.12261391775626,-1.585119821691273,-1.4789391663694118,1.4130010878680048,0.5171336797321604,0.8200803187753855,-0.1651247430133621,-0.020378991429335632,1.7248920409679187,-1.0379234752961863,1.0288558054083492,-0.4209039800868332,0.9359771990048374,0.5283817923005579,-0.704072800755225,0.33848644671342304,1.1773768477836346,-0.45103721768800803,0.13224782035424706,0.7204598068251858,-0.9342447733723493,-1.5204779496076484,1.0181798372524824,2.0464668998426223,0.6454665423594669,-0.5056759016895037,0.6527386290509671,-0.5547342801162942,0.3788700033858548,-0.3676073288176218,0.5656698820540743,1.580633720103138,-0.12711454975637088,-0.3505517026278936,-0.7660622716697431,1.523972798077345,0.8877692878051118,-0.10704995915426571,1.629723149498767,-0.15762680777432658,-1.2668726445596794,0.20016928924696611,0.699254128347382,-0.03689603754636403,0.30371287844000294,0.28611928397815256,2.0585330014523042,1.0140945140540905,-0.8297552712905361,0.09013592833499368,0.3984442817811917,-0.4571516491840917,-0.44287898704643447,-1.0569149385856347,0.04807235507245364,-0.34419688596532827,0.10004621268753495,0.08731147708013766,1.0876804228688925,1.3099639910003447,0.7539412010773562,0.11957250636430646,2.3106977365467682,2.519930816359611,0.08534530825215789,-0.9825625396071127,-0.39525470620522996,-3.1375179773086317,0.6132469463474309,-0.16942740949205784,0.09266214650465411,-1.0902353511589595,0.8250519676663988,-0.13858028835181693,-0.28940274670430133,-0.002690390203971974,0.046357330322069706,0.85344253401098,0.5158074327785028,-1.0161437917023335,0.4572488313164856,-0.10617864673067459,-0.5613388514490533,0.3160584742132285,-0.8654585149192117,0.5512673818002701,-0.048270305086464724,0.7690216936257351,0.8258710118208544,-0.16396989659898215,-0.7355413370519562,-0.163054476714875,-1.1757281031956057,0.7343984686472602],\"type\":\"scatter\"}],                        {\"legend\":{\"bgcolor\":\"#F5F6F9\",\"font\":{\"color\":\"#4D5663\"}},\"paper_bgcolor\":\"#F5F6F9\",\"plot_bgcolor\":\"#F5F6F9\",\"template\":{\"data\":{\"barpolar\":[{\"marker\":{\"line\":{\"color\":\"#E5ECF6\",\"width\":0.5},\"pattern\":{\"fillmode\":\"overlay\",\"size\":10,\"solidity\":0.2}},\"type\":\"barpolar\"}],\"bar\":[{\"error_x\":{\"color\":\"#2a3f5f\"},\"error_y\":{\"color\":\"#2a3f5f\"},\"marker\":{\"line\":{\"color\":\"#E5ECF6\",\"width\":0.5},\"pattern\":{\"fillmode\":\"overlay\",\"size\":10,\"solidity\":0.2}},\"type\":\"bar\"}],\"carpet\":[{\"aaxis\":{\"endlinecolor\":\"#2a3f5f\",\"gridcolor\":\"white\",\"linecolor\":\"white\",\"minorgridcolor\":\"white\",\"startlinecolor\":\"#2a3f5f\"},\"baxis\":{\"endlinecolor\":\"#2a3f5f\",\"gridcolor\":\"white\",\"linecolor\":\"white\",\"minorgridcolor\":\"white\",\"startlinecolor\":\"#2a3f5f\"},\"type\":\"carpet\"}],\"choropleth\":[{\"colorbar\":{\"outlinewidth\":0,\"ticks\":\"\"},\"type\":\"choropleth\"}],\"contourcarpet\":[{\"colorbar\":{\"outlinewidth\":0,\"ticks\":\"\"},\"type\":\"contourcarpet\"}],\"contour\":[{\"colorbar\":{\"outlinewidth\":0,\"ticks\":\"\"},\"colorscale\":[[0.0,\"#0d0887\"],[0.1111111111111111,\"#46039f\"],[0.2222222222222222,\"#7201a8\"],[0.3333333333333333,\"#9c179e\"],[0.4444444444444444,\"#bd3786\"],[0.5555555555555556,\"#d8576b\"],[0.6666666666666666,\"#ed7953\"],[0.7777777777777778,\"#fb9f3a\"],[0.8888888888888888,\"#fdca26\"],[1.0,\"#f0f921\"]],\"type\":\"contour\"}],\"heatmapgl\":[{\"colorbar\":{\"outlinewidth\":0,\"ticks\":\"\"},\"colorscale\":[[0.0,\"#0d0887\"],[0.1111111111111111,\"#46039f\"],[0.2222222222222222,\"#7201a8\"],[0.3333333333333333,\"#9c179e\"],[0.4444444444444444,\"#bd3786\"],[0.5555555555555556,\"#d8576b\"],[0.6666666666666666,\"#ed7953\"],[0.7777777777777778,\"#fb9f3a\"],[0.8888888888888888,\"#fdca26\"],[1.0,\"#f0f921\"]],\"type\":\"heatmapgl\"}],\"heatmap\":[{\"colorbar\":{\"outlinewidth\":0,\"ticks\":\"\"},\"colorscale\":[[0.0,\"#0d0887\"],[0.1111111111111111,\"#46039f\"],[0.2222222222222222,\"#7201a8\"],[0.3333333333333333,\"#9c179e\"],[0.4444444444444444,\"#bd3786\"],[0.5555555555555556,\"#d8576b\"],[0.6666666666666666,\"#ed7953\"],[0.7777777777777778,\"#fb9f3a\"],[0.8888888888888888,\"#fdca26\"],[1.0,\"#f0f921\"]],\"type\":\"heatmap\"}],\"histogram2dcontour\":[{\"colorbar\":{\"outlinewidth\":0,\"ticks\":\"\"},\"colorscale\":[[0.0,\"#0d0887\"],[0.1111111111111111,\"#46039f\"],[0.2222222222222222,\"#7201a8\"],[0.3333333333333333,\"#9c179e\"],[0.4444444444444444,\"#bd3786\"],[0.5555555555555556,\"#d8576b\"],[0.6666666666666666,\"#ed7953\"],[0.7777777777777778,\"#fb9f3a\"],[0.8888888888888888,\"#fdca26\"],[1.0,\"#f0f921\"]],\"type\":\"histogram2dcontour\"}],\"histogram2d\":[{\"colorbar\":{\"outlinewidth\":0,\"ticks\":\"\"},\"colorscale\":[[0.0,\"#0d0887\"],[0.1111111111111111,\"#46039f\"],[0.2222222222222222,\"#7201a8\"],[0.3333333333333333,\"#9c179e\"],[0.4444444444444444,\"#bd3786\"],[0.5555555555555556,\"#d8576b\"],[0.6666666666666666,\"#ed7953\"],[0.7777777777777778,\"#fb9f3a\"],[0.8888888888888888,\"#fdca26\"],[1.0,\"#f0f921\"]],\"type\":\"histogram2d\"}],\"histogram\":[{\"marker\":{\"pattern\":{\"fillmode\":\"overlay\",\"size\":10,\"solidity\":0.2}},\"type\":\"histogram\"}],\"mesh3d\":[{\"colorbar\":{\"outlinewidth\":0,\"ticks\":\"\"},\"type\":\"mesh3d\"}],\"parcoords\":[{\"line\":{\"colorbar\":{\"outlinewidth\":0,\"ticks\":\"\"}},\"type\":\"parcoords\"}],\"pie\":[{\"automargin\":true,\"type\":\"pie\"}],\"scatter3d\":[{\"line\":{\"colorbar\":{\"outlinewidth\":0,\"ticks\":\"\"}},\"marker\":{\"colorbar\":{\"outlinewidth\":0,\"ticks\":\"\"}},\"type\":\"scatter3d\"}],\"scattercarpet\":[{\"marker\":{\"colorbar\":{\"outlinewidth\":0,\"ticks\":\"\"}},\"type\":\"scattercarpet\"}],\"scattergeo\":[{\"marker\":{\"colorbar\":{\"outlinewidth\":0,\"ticks\":\"\"}},\"type\":\"scattergeo\"}],\"scattergl\":[{\"marker\":{\"colorbar\":{\"outlinewidth\":0,\"ticks\":\"\"}},\"type\":\"scattergl\"}],\"scattermapbox\":[{\"marker\":{\"colorbar\":{\"outlinewidth\":0,\"ticks\":\"\"}},\"type\":\"scattermapbox\"}],\"scatterpolargl\":[{\"marker\":{\"colorbar\":{\"outlinewidth\":0,\"ticks\":\"\"}},\"type\":\"scatterpolargl\"}],\"scatterpolar\":[{\"marker\":{\"colorbar\":{\"outlinewidth\":0,\"ticks\":\"\"}},\"type\":\"scatterpolar\"}],\"scatter\":[{\"fillpattern\":{\"fillmode\":\"overlay\",\"size\":10,\"solidity\":0.2},\"type\":\"scatter\"}],\"scatterternary\":[{\"marker\":{\"colorbar\":{\"outlinewidth\":0,\"ticks\":\"\"}},\"type\":\"scatterternary\"}],\"surface\":[{\"colorbar\":{\"outlinewidth\":0,\"ticks\":\"\"},\"colorscale\":[[0.0,\"#0d0887\"],[0.1111111111111111,\"#46039f\"],[0.2222222222222222,\"#7201a8\"],[0.3333333333333333,\"#9c179e\"],[0.4444444444444444,\"#bd3786\"],[0.5555555555555556,\"#d8576b\"],[0.6666666666666666,\"#ed7953\"],[0.7777777777777778,\"#fb9f3a\"],[0.8888888888888888,\"#fdca26\"],[1.0,\"#f0f921\"]],\"type\":\"surface\"}],\"table\":[{\"cells\":{\"fill\":{\"color\":\"#EBF0F8\"},\"line\":{\"color\":\"white\"}},\"header\":{\"fill\":{\"color\":\"#C8D4E3\"},\"line\":{\"color\":\"white\"}},\"type\":\"table\"}]},\"layout\":{\"annotationdefaults\":{\"arrowcolor\":\"#2a3f5f\",\"arrowhead\":0,\"arrowwidth\":1},\"autotypenumbers\":\"strict\",\"coloraxis\":{\"colorbar\":{\"outlinewidth\":0,\"ticks\":\"\"}},\"colorscale\":{\"diverging\":[[0,\"#8e0152\"],[0.1,\"#c51b7d\"],[0.2,\"#de77ae\"],[0.3,\"#f1b6da\"],[0.4,\"#fde0ef\"],[0.5,\"#f7f7f7\"],[0.6,\"#e6f5d0\"],[0.7,\"#b8e186\"],[0.8,\"#7fbc41\"],[0.9,\"#4d9221\"],[1,\"#276419\"]],\"sequential\":[[0.0,\"#0d0887\"],[0.1111111111111111,\"#46039f\"],[0.2222222222222222,\"#7201a8\"],[0.3333333333333333,\"#9c179e\"],[0.4444444444444444,\"#bd3786\"],[0.5555555555555556,\"#d8576b\"],[0.6666666666666666,\"#ed7953\"],[0.7777777777777778,\"#fb9f3a\"],[0.8888888888888888,\"#fdca26\"],[1.0,\"#f0f921\"]],\"sequentialminus\":[[0.0,\"#0d0887\"],[0.1111111111111111,\"#46039f\"],[0.2222222222222222,\"#7201a8\"],[0.3333333333333333,\"#9c179e\"],[0.4444444444444444,\"#bd3786\"],[0.5555555555555556,\"#d8576b\"],[0.6666666666666666,\"#ed7953\"],[0.7777777777777778,\"#fb9f3a\"],[0.8888888888888888,\"#fdca26\"],[1.0,\"#f0f921\"]]},\"colorway\":[\"#636efa\",\"#EF553B\",\"#00cc96\",\"#ab63fa\",\"#FFA15A\",\"#19d3f3\",\"#FF6692\",\"#B6E880\",\"#FF97FF\",\"#FECB52\"],\"font\":{\"color\":\"#2a3f5f\"},\"geo\":{\"bgcolor\":\"white\",\"lakecolor\":\"white\",\"landcolor\":\"#E5ECF6\",\"showlakes\":true,\"showland\":true,\"subunitcolor\":\"white\"},\"hoverlabel\":{\"align\":\"left\"},\"hovermode\":\"closest\",\"mapbox\":{\"style\":\"light\"},\"paper_bgcolor\":\"white\",\"plot_bgcolor\":\"#E5ECF6\",\"polar\":{\"angularaxis\":{\"gridcolor\":\"white\",\"linecolor\":\"white\",\"ticks\":\"\"},\"bgcolor\":\"#E5ECF6\",\"radialaxis\":{\"gridcolor\":\"white\",\"linecolor\":\"white\",\"ticks\":\"\"}},\"scene\":{\"xaxis\":{\"backgroundcolor\":\"#E5ECF6\",\"gridcolor\":\"white\",\"gridwidth\":2,\"linecolor\":\"white\",\"showbackground\":true,\"ticks\":\"\",\"zerolinecolor\":\"white\"},\"yaxis\":{\"backgroundcolor\":\"#E5ECF6\",\"gridcolor\":\"white\",\"gridwidth\":2,\"linecolor\":\"white\",\"showbackground\":true,\"ticks\":\"\",\"zerolinecolor\":\"white\"},\"zaxis\":{\"backgroundcolor\":\"#E5ECF6\",\"gridcolor\":\"white\",\"gridwidth\":2,\"linecolor\":\"white\",\"showbackground\":true,\"ticks\":\"\",\"zerolinecolor\":\"white\"}},\"shapedefaults\":{\"line\":{\"color\":\"#2a3f5f\"}},\"ternary\":{\"aaxis\":{\"gridcolor\":\"white\",\"linecolor\":\"white\",\"ticks\":\"\"},\"baxis\":{\"gridcolor\":\"white\",\"linecolor\":\"white\",\"ticks\":\"\"},\"bgcolor\":\"#E5ECF6\",\"caxis\":{\"gridcolor\":\"white\",\"linecolor\":\"white\",\"ticks\":\"\"}},\"title\":{\"x\":0.05},\"xaxis\":{\"automargin\":true,\"gridcolor\":\"white\",\"linecolor\":\"white\",\"ticks\":\"\",\"title\":{\"standoff\":15},\"zerolinecolor\":\"white\",\"zerolinewidth\":2},\"yaxis\":{\"automargin\":true,\"gridcolor\":\"white\",\"linecolor\":\"white\",\"ticks\":\"\",\"title\":{\"standoff\":15},\"zerolinecolor\":\"white\",\"zerolinewidth\":2}}},\"title\":{\"font\":{\"color\":\"#4D5663\"}},\"xaxis\":{\"gridcolor\":\"#E1E5ED\",\"showgrid\":true,\"tickfont\":{\"color\":\"#4D5663\"},\"title\":{\"font\":{\"color\":\"#4D5663\"},\"text\":\"\"},\"zerolinecolor\":\"#E1E5ED\"},\"yaxis\":{\"gridcolor\":\"#E1E5ED\",\"showgrid\":true,\"tickfont\":{\"color\":\"#4D5663\"},\"title\":{\"font\":{\"color\":\"#4D5663\"},\"text\":\"\"},\"zerolinecolor\":\"#E1E5ED\"}},                        {\"showLink\": true, \"linkText\": \"Export to plot.ly\", \"plotlyServerURL\": \"https://plot.ly\", \"responsive\": true}                    ).then(function(){\n",
       "                            \n",
       "var gd = document.getElementById('1d303873-7b48-4bc1-9c35-ee2df9fc4d3c');\n",
       "var x = new MutationObserver(function (mutations, observer) {{\n",
       "        var display = window.getComputedStyle(gd).display;\n",
       "        if (!display || display === 'none') {{\n",
       "            console.log([gd, 'removed!']);\n",
       "            Plotly.purge(gd);\n",
       "            observer.disconnect();\n",
       "        }}\n",
       "}});\n",
       "\n",
       "// Listen for the removal of the full notebook cells\n",
       "var notebookContainer = gd.closest('#notebook-container');\n",
       "if (notebookContainer) {{\n",
       "    x.observe(notebookContainer, {childList: true});\n",
       "}}\n",
       "\n",
       "// Listen for the clearing of the current output cell\n",
       "var outputEl = gd.closest('.output');\n",
       "if (outputEl) {{\n",
       "    x.observe(outputEl, {childList: true});\n",
       "}}\n",
       "\n",
       "                        })                };                });            </script>        </div>"
      ]
     },
     "metadata": {},
     "output_type": "display_data"
    }
   ],
   "source": [
    "df.iplot(kind='bubble',x='A', y='B', size='C')"
   ]
  },
  {
   "cell_type": "code",
   "execution_count": 32,
   "id": "e78810fb",
   "metadata": {},
   "outputs": [
    {
     "data": {
      "application/vnd.plotly.v1+json": {
       "config": {
        "linkText": "Export to plot.ly",
        "plotlyServerURL": "https://plot.ly",
        "showLink": true
       },
       "data": [
        {
         "histfunc": "count",
         "histnorm": "",
         "marker": {
          "color": "rgba(255, 153, 51, 1.0)",
          "line": {
           "color": "#4D5663",
           "width": 1.3
          }
         },
         "name": "A",
         "nbinsx": 10,
         "opacity": 0.8,
         "orientation": "v",
         "type": "histogram",
         "x": [
          -1.2821232259307913,
          -0.39999089040185204,
          0.18603955462223581,
          1.9454784431368184,
          -0.5976460193168096,
          -1.1357869422281528,
          0.5011941647418091,
          -0.3165890810433005,
          -0.49026251352794514,
          -0.3070155142823813,
          -0.00928407711693977,
          0.40742108364021007,
          -0.8059220890051619,
          -1.6150012335022794,
          0.2831274750204807,
          -0.8071318749394667,
          1.2578496478325498,
          0.5546354700979511,
          -0.8058535128503591,
          -1.325128537682219,
          -0.6293771302746785,
          -0.18505519612184348,
          1.161217988148961,
          -0.9940280665073525,
          -1.0517075260495918,
          -0.021950386799966522,
          1.7059306402459018,
          -0.5431574852715914,
          -1.6652518510749255,
          -0.2293687085613229,
          -0.9330038160520542,
          -0.40135606395472045,
          -0.5904818764111005,
          0.1561604164203169,
          0.05909328601089837,
          -0.27648155744488384,
          1.5426214018051496,
          2.00748019586431,
          -0.23004698398830756,
          -0.9034603928397359,
          -0.8432824015442412,
          0.5985161962702256,
          0.2064791649332286,
          -1.5981203262502197,
          -0.691193621887644,
          1.2648788373359174,
          -0.9812428188552841,
          0.29077257292937864,
          -0.3860304784116714,
          0.7348736205455061,
          -0.30194463093884955,
          -1.1804849866851235,
          1.8555927233230805,
          0.3206204405021417,
          -0.3484647029488913,
          0.17804035824914086,
          -0.005932309547459654,
          -1.09324321057662,
          1.0537325994802822,
          -0.11131747857058517,
          1.5510248050539293,
          0.0641092321739744,
          0.011983916018163067,
          0.07671899326363087,
          -1.6383015593850865,
          -0.8930202201725317,
          2.177001154926578,
          0.10032475555698285,
          0.19801577044420687,
          -0.8143086148611789,
          2.5765300667706303,
          1.1424955734563713,
          -1.1782421287147495,
          0.36719261575559925,
          1.913126328532216,
          0.5316725673593986,
          1.0609389309814266,
          -0.2580418540315302,
          -1.1096209702275894,
          -0.16525766112282678,
          -0.6350618813045671,
          -0.6680136886957433,
          2.2019863428116317,
          -0.6545846207600245,
          -0.9819257347533642,
          0.7686352817125546,
          -0.28770493344401477,
          0.5918740917074815,
          0.5183444223241045,
          -1.7520524718812602,
          1.3980636906330712,
          -1.1245314917361031,
          0.022139236012942463,
          0.7592364488219824,
          0.42600620243372245,
          -1.5866222361761575,
          0.9371724506934582,
          -0.9137856349047465,
          1.6410233938129204,
          -0.16725096651345864
         ],
         "xaxis": "x",
         "yaxis": "y"
        },
        {
         "line": {
          "color": "rgba(128, 128, 128, 1.0)",
          "dash": "solid",
          "shape": "linear",
          "width": 1.3
         },
         "marker": {
          "size": 2,
          "symbol": "circle"
         },
         "mode": "markers",
         "name": "A",
         "text": "",
         "type": "scatter",
         "x": [
          -2.467489679081685,
          -0.9109994341608991,
          -0.9775439597470429,
          -0.8050359803816095,
          0.3880837334389582,
          0.7226047001728041,
          2.12261391775626,
          -1.585119821691273,
          -1.4789391663694118,
          1.4130010878680048,
          0.5171336797321604,
          0.8200803187753855,
          -0.1651247430133621,
          -0.020378991429335632,
          1.7248920409679187,
          -1.0379234752961863,
          1.0288558054083492,
          -0.4209039800868332,
          0.9359771990048374,
          0.5283817923005579,
          -0.704072800755225,
          0.33848644671342304,
          1.1773768477836346,
          -0.45103721768800803,
          0.13224782035424706,
          0.7204598068251858,
          -0.9342447733723493,
          -1.5204779496076484,
          1.0181798372524824,
          2.0464668998426223,
          0.6454665423594669,
          -0.5056759016895037,
          0.6527386290509671,
          -0.5547342801162942,
          0.3788700033858548,
          -0.3676073288176218,
          0.5656698820540743,
          1.580633720103138,
          -0.12711454975637088,
          -0.3505517026278936,
          -0.7660622716697431,
          1.523972798077345,
          0.8877692878051118,
          -0.10704995915426571,
          1.629723149498767,
          -0.15762680777432658,
          -1.2668726445596794,
          0.20016928924696611,
          0.699254128347382,
          -0.03689603754636403,
          0.30371287844000294,
          0.28611928397815256,
          2.0585330014523042,
          1.0140945140540905,
          -0.8297552712905361,
          0.09013592833499368,
          0.3984442817811917,
          -0.4571516491840917,
          -0.44287898704643447,
          -1.0569149385856347,
          0.04807235507245364,
          -0.34419688596532827,
          0.10004621268753495,
          0.08731147708013766,
          1.0876804228688925,
          1.3099639910003447,
          0.7539412010773562,
          0.11957250636430646,
          2.3106977365467682,
          2.519930816359611,
          0.08534530825215789,
          -0.9825625396071127,
          -0.39525470620522996,
          -3.1375179773086317,
          0.6132469463474309,
          -0.16942740949205784,
          0.09266214650465411,
          -1.0902353511589595,
          0.8250519676663988,
          -0.13858028835181693,
          -0.28940274670430133,
          -0.002690390203971974,
          0.046357330322069706,
          0.85344253401098,
          0.5158074327785028,
          -1.0161437917023335,
          0.4572488313164856,
          -0.10617864673067459,
          -0.5613388514490533,
          0.3160584742132285,
          -0.8654585149192117,
          0.5512673818002701,
          -0.048270305086464724,
          0.7690216936257351,
          0.8258710118208544,
          -0.16396989659898215,
          -0.7355413370519562,
          -0.163054476714875,
          -1.1757281031956057,
          0.7343984686472602
         ],
         "xaxis": "x2",
         "y": [
          -1.2821232259307913,
          -0.39999089040185204,
          0.18603955462223581,
          1.9454784431368184,
          -0.5976460193168096,
          -1.1357869422281528,
          0.5011941647418091,
          -0.3165890810433005,
          -0.49026251352794514,
          -0.3070155142823813,
          -0.00928407711693977,
          0.40742108364021007,
          -0.8059220890051619,
          -1.6150012335022794,
          0.2831274750204807,
          -0.8071318749394667,
          1.2578496478325498,
          0.5546354700979511,
          -0.8058535128503591,
          -1.325128537682219,
          -0.6293771302746785,
          -0.18505519612184348,
          1.161217988148961,
          -0.9940280665073525,
          -1.0517075260495918,
          -0.021950386799966522,
          1.7059306402459018,
          -0.5431574852715914,
          -1.6652518510749255,
          -0.2293687085613229,
          -0.9330038160520542,
          -0.40135606395472045,
          -0.5904818764111005,
          0.1561604164203169,
          0.05909328601089837,
          -0.27648155744488384,
          1.5426214018051496,
          2.00748019586431,
          -0.23004698398830756,
          -0.9034603928397359,
          -0.8432824015442412,
          0.5985161962702256,
          0.2064791649332286,
          -1.5981203262502197,
          -0.691193621887644,
          1.2648788373359174,
          -0.9812428188552841,
          0.29077257292937864,
          -0.3860304784116714,
          0.7348736205455061,
          -0.30194463093884955,
          -1.1804849866851235,
          1.8555927233230805,
          0.3206204405021417,
          -0.3484647029488913,
          0.17804035824914086,
          -0.005932309547459654,
          -1.09324321057662,
          1.0537325994802822,
          -0.11131747857058517,
          1.5510248050539293,
          0.0641092321739744,
          0.011983916018163067,
          0.07671899326363087,
          -1.6383015593850865,
          -0.8930202201725317,
          2.177001154926578,
          0.10032475555698285,
          0.19801577044420687,
          -0.8143086148611789,
          2.5765300667706303,
          1.1424955734563713,
          -1.1782421287147495,
          0.36719261575559925,
          1.913126328532216,
          0.5316725673593986,
          1.0609389309814266,
          -0.2580418540315302,
          -1.1096209702275894,
          -0.16525766112282678,
          -0.6350618813045671,
          -0.6680136886957433,
          2.2019863428116317,
          -0.6545846207600245,
          -0.9819257347533642,
          0.7686352817125546,
          -0.28770493344401477,
          0.5918740917074815,
          0.5183444223241045,
          -1.7520524718812602,
          1.3980636906330712,
          -1.1245314917361031,
          0.022139236012942463,
          0.7592364488219824,
          0.42600620243372245,
          -1.5866222361761575,
          0.9371724506934582,
          -0.9137856349047465,
          1.6410233938129204,
          -0.16725096651345864
         ],
         "yaxis": "y2"
        },
        {
         "line": {
          "color": "rgba(128, 128, 128, 1.0)",
          "dash": "solid",
          "shape": "linear",
          "width": 1.3
         },
         "marker": {
          "size": 2,
          "symbol": "circle"
         },
         "mode": "markers",
         "name": "A",
         "text": "",
         "type": "scatter",
         "x": [
          -0.8893998141162937,
          0.6372436645570296,
          -2.23741081423564,
          -0.31765623347929695,
          0.7561914475460509,
          -0.623860105721561,
          0.6903173494809115,
          -0.5048600551762947,
          2.020714308651883,
          0.23026979636838407,
          0.37398753003537616,
          0.5206609753244256,
          -0.10018920147383852,
          -1.2985299229663352,
          -0.9483501928456123,
          1.135689521637158,
          -0.3337735918049371,
          -1.6326402352224678,
          -0.25866872748129416,
          0.5924898339790267,
          1.2233285790848265,
          -1.474457852245962,
          0.45596964798191353,
          -0.10814969404145522,
          -0.27594004426502083,
          -0.9124845686148109,
          0.01100070388541124,
          -1.9505347477078452,
          -0.15105469124096588,
          0.907630680494936,
          -0.6029292033423908,
          0.990481495159389,
          1.1515227416718936,
          0.44789830857842894,
          -1.7855238667231463,
          -0.5902657180884271,
          0.8584499386080536,
          1.0116028854383643,
          -0.571014671596426,
          -0.3866591298764715,
          0.9949808495557023,
          0.7875792632930714,
          0.29112207583799676,
          -0.3884189898620297,
          -1.6966161836642502,
          1.8160384812003816,
          0.32587379503399005,
          0.2644828784239742,
          -0.08883414710595931,
          -1.8782287388849652,
          0.05256177117982688,
          1.0882529289653526,
          0.8784535728298893,
          1.0193199732692901,
          -0.8088506639910596,
          -1.0223568889142052,
          0.06939344982076391,
          0.6655572511232158,
          -0.38330034677819247,
          -0.7887206396605513,
          -2.1337760011371416,
          -0.505300093639108,
          -0.22328614767833907,
          -1.0417437989607305,
          -0.34560269984827874,
          0.3537127142015969,
          -0.2736786047966587,
          -0.2298074753826692,
          0.8303171527118302,
          -0.8303087103507922,
          1.9162689202891265,
          -0.5565059936724137,
          2.061512699042052,
          0.5734812031194394,
          -1.034854720445252,
          -0.11071862296050343,
          -0.6111748958387944,
          0.28806307986797813,
          1.2021557339158877,
          -1.3410568555000184,
          -0.5043708568868606,
          -0.26905233445725124,
          0.8835614081469708,
          0.31823037951212957,
          -0.20841669540258473,
          1.051719819048651,
          0.3510133756617166,
          0.11514781134378886,
          -2.0386124893706765,
          -1.569657323964556,
          -0.4080591760496254,
          -0.29178810250300924,
          0.40457254548522725,
          -0.7983154563691286,
          -0.2538226193332108,
          -0.678911915924447,
          0.5116043020782122,
          -0.2827194860534984,
          0.6441183952673111,
          -0.2619746150812916
         ],
         "xaxis": "x3",
         "y": [
          -1.2821232259307913,
          -0.39999089040185204,
          0.18603955462223581,
          1.9454784431368184,
          -0.5976460193168096,
          -1.1357869422281528,
          0.5011941647418091,
          -0.3165890810433005,
          -0.49026251352794514,
          -0.3070155142823813,
          -0.00928407711693977,
          0.40742108364021007,
          -0.8059220890051619,
          -1.6150012335022794,
          0.2831274750204807,
          -0.8071318749394667,
          1.2578496478325498,
          0.5546354700979511,
          -0.8058535128503591,
          -1.325128537682219,
          -0.6293771302746785,
          -0.18505519612184348,
          1.161217988148961,
          -0.9940280665073525,
          -1.0517075260495918,
          -0.021950386799966522,
          1.7059306402459018,
          -0.5431574852715914,
          -1.6652518510749255,
          -0.2293687085613229,
          -0.9330038160520542,
          -0.40135606395472045,
          -0.5904818764111005,
          0.1561604164203169,
          0.05909328601089837,
          -0.27648155744488384,
          1.5426214018051496,
          2.00748019586431,
          -0.23004698398830756,
          -0.9034603928397359,
          -0.8432824015442412,
          0.5985161962702256,
          0.2064791649332286,
          -1.5981203262502197,
          -0.691193621887644,
          1.2648788373359174,
          -0.9812428188552841,
          0.29077257292937864,
          -0.3860304784116714,
          0.7348736205455061,
          -0.30194463093884955,
          -1.1804849866851235,
          1.8555927233230805,
          0.3206204405021417,
          -0.3484647029488913,
          0.17804035824914086,
          -0.005932309547459654,
          -1.09324321057662,
          1.0537325994802822,
          -0.11131747857058517,
          1.5510248050539293,
          0.0641092321739744,
          0.011983916018163067,
          0.07671899326363087,
          -1.6383015593850865,
          -0.8930202201725317,
          2.177001154926578,
          0.10032475555698285,
          0.19801577044420687,
          -0.8143086148611789,
          2.5765300667706303,
          1.1424955734563713,
          -1.1782421287147495,
          0.36719261575559925,
          1.913126328532216,
          0.5316725673593986,
          1.0609389309814266,
          -0.2580418540315302,
          -1.1096209702275894,
          -0.16525766112282678,
          -0.6350618813045671,
          -0.6680136886957433,
          2.2019863428116317,
          -0.6545846207600245,
          -0.9819257347533642,
          0.7686352817125546,
          -0.28770493344401477,
          0.5918740917074815,
          0.5183444223241045,
          -1.7520524718812602,
          1.3980636906330712,
          -1.1245314917361031,
          0.022139236012942463,
          0.7592364488219824,
          0.42600620243372245,
          -1.5866222361761575,
          0.9371724506934582,
          -0.9137856349047465,
          1.6410233938129204,
          -0.16725096651345864
         ],
         "yaxis": "y3"
        },
        {
         "line": {
          "color": "rgba(128, 128, 128, 1.0)",
          "dash": "solid",
          "shape": "linear",
          "width": 1.3
         },
         "marker": {
          "size": 2,
          "symbol": "circle"
         },
         "mode": "markers",
         "name": "A",
         "text": "",
         "type": "scatter",
         "x": [
          0.18451300084608604,
          -0.3022177165304333,
          -0.6006769288458926,
          -0.3052576828469785,
          0.012925204395338697,
          0.06072685016311775,
          1.2464010145843716,
          2.2562220704540947,
          1.7541323312485497,
          -2.7953960478174134,
          1.7960094174179742,
          0.8587481039984973,
          1.0574408725210322,
          -1.576207770904765,
          -0.16787222872406804,
          -1.580171289911969,
          -0.7405713053105409,
          -0.12211621622406345,
          -0.02719325408965277,
          0.7455332289902771,
          1.0431039917089024,
          -0.5573515013267838,
          -0.9478720009528269,
          -2.2240467163863453,
          0.47885219514426564,
          0.6635970834572871,
          0.16347637504181256,
          -0.514245754001384,
          0.2450690907864287,
          0.05695716481583332,
          0.6634388719648321,
          -0.39840694654691705,
          0.5490831922887796,
          -1.3498267213886324,
          2.0059690281820273,
          2.4237220564037774,
          0.6409158751104084,
          -1.145590629899955,
          -0.6344692609620162,
          -1.964475569311091,
          -2.553119815804278,
          -0.4154753044515657,
          0.93288515541365,
          0.41607149191763854,
          -0.5223885849225867,
          -0.5097269627705164,
          0.3137166198850058,
          -0.41033148846453166,
          -1.3504160978888808,
          -1.44639215776379,
          -1.2558830397396972,
          0.5085298183118243,
          -0.4844584936706081,
          -1.1095044253580726,
          -0.7520124292610786,
          0.5109618144518884,
          -1.0808074527541336,
          2.0158253236315438,
          0.8194125244241102,
          -1.830150410875788,
          -0.11276219125895252,
          0.7023652442498306,
          1.9866344386381598,
          -1.112745174819402,
          -1.0955180400783469,
          -0.44312559456598377,
          -0.9639932603404257,
          1.419599652907551,
          0.13032087210775575,
          -0.08480607840877766,
          -0.07161572488825718,
          -0.9309787384976403,
          0.11791449149366284,
          -1.1062473942402988,
          -0.35788548437586404,
          -0.3021284959768266,
          -1.3895146183345222,
          1.0207429380778419,
          0.17078822856664266,
          -0.1907799131125399,
          0.4714082561261303,
          0.2754318671952387,
          -0.2514751898440218,
          0.2837712535707717,
          -2.96998439652934,
          -0.1986095130641284,
          0.8367124996316605,
          -1.2139829622550151,
          0.6954813803560759,
          1.3221282513598556,
          -0.28719994075524213,
          2.2187535094641837,
          -0.3975645906718611,
          1.4843046228816186,
          -0.1192081000017448,
          1.0537349037666213,
          -0.6698748203139302,
          0.32146389721568674,
          -1.7296684021234106,
          0.531263702406474
         ],
         "xaxis": "x4",
         "y": [
          -1.2821232259307913,
          -0.39999089040185204,
          0.18603955462223581,
          1.9454784431368184,
          -0.5976460193168096,
          -1.1357869422281528,
          0.5011941647418091,
          -0.3165890810433005,
          -0.49026251352794514,
          -0.3070155142823813,
          -0.00928407711693977,
          0.40742108364021007,
          -0.8059220890051619,
          -1.6150012335022794,
          0.2831274750204807,
          -0.8071318749394667,
          1.2578496478325498,
          0.5546354700979511,
          -0.8058535128503591,
          -1.325128537682219,
          -0.6293771302746785,
          -0.18505519612184348,
          1.161217988148961,
          -0.9940280665073525,
          -1.0517075260495918,
          -0.021950386799966522,
          1.7059306402459018,
          -0.5431574852715914,
          -1.6652518510749255,
          -0.2293687085613229,
          -0.9330038160520542,
          -0.40135606395472045,
          -0.5904818764111005,
          0.1561604164203169,
          0.05909328601089837,
          -0.27648155744488384,
          1.5426214018051496,
          2.00748019586431,
          -0.23004698398830756,
          -0.9034603928397359,
          -0.8432824015442412,
          0.5985161962702256,
          0.2064791649332286,
          -1.5981203262502197,
          -0.691193621887644,
          1.2648788373359174,
          -0.9812428188552841,
          0.29077257292937864,
          -0.3860304784116714,
          0.7348736205455061,
          -0.30194463093884955,
          -1.1804849866851235,
          1.8555927233230805,
          0.3206204405021417,
          -0.3484647029488913,
          0.17804035824914086,
          -0.005932309547459654,
          -1.09324321057662,
          1.0537325994802822,
          -0.11131747857058517,
          1.5510248050539293,
          0.0641092321739744,
          0.011983916018163067,
          0.07671899326363087,
          -1.6383015593850865,
          -0.8930202201725317,
          2.177001154926578,
          0.10032475555698285,
          0.19801577044420687,
          -0.8143086148611789,
          2.5765300667706303,
          1.1424955734563713,
          -1.1782421287147495,
          0.36719261575559925,
          1.913126328532216,
          0.5316725673593986,
          1.0609389309814266,
          -0.2580418540315302,
          -1.1096209702275894,
          -0.16525766112282678,
          -0.6350618813045671,
          -0.6680136886957433,
          2.2019863428116317,
          -0.6545846207600245,
          -0.9819257347533642,
          0.7686352817125546,
          -0.28770493344401477,
          0.5918740917074815,
          0.5183444223241045,
          -1.7520524718812602,
          1.3980636906330712,
          -1.1245314917361031,
          0.022139236012942463,
          0.7592364488219824,
          0.42600620243372245,
          -1.5866222361761575,
          0.9371724506934582,
          -0.9137856349047465,
          1.6410233938129204,
          -0.16725096651345864
         ],
         "yaxis": "y4"
        },
        {
         "line": {
          "color": "rgba(128, 128, 128, 1.0)",
          "dash": "solid",
          "shape": "linear",
          "width": 1.3
         },
         "marker": {
          "size": 2,
          "symbol": "circle"
         },
         "mode": "markers",
         "name": "B",
         "text": "",
         "type": "scatter",
         "x": [
          -1.2821232259307913,
          -0.39999089040185204,
          0.18603955462223581,
          1.9454784431368184,
          -0.5976460193168096,
          -1.1357869422281528,
          0.5011941647418091,
          -0.3165890810433005,
          -0.49026251352794514,
          -0.3070155142823813,
          -0.00928407711693977,
          0.40742108364021007,
          -0.8059220890051619,
          -1.6150012335022794,
          0.2831274750204807,
          -0.8071318749394667,
          1.2578496478325498,
          0.5546354700979511,
          -0.8058535128503591,
          -1.325128537682219,
          -0.6293771302746785,
          -0.18505519612184348,
          1.161217988148961,
          -0.9940280665073525,
          -1.0517075260495918,
          -0.021950386799966522,
          1.7059306402459018,
          -0.5431574852715914,
          -1.6652518510749255,
          -0.2293687085613229,
          -0.9330038160520542,
          -0.40135606395472045,
          -0.5904818764111005,
          0.1561604164203169,
          0.05909328601089837,
          -0.27648155744488384,
          1.5426214018051496,
          2.00748019586431,
          -0.23004698398830756,
          -0.9034603928397359,
          -0.8432824015442412,
          0.5985161962702256,
          0.2064791649332286,
          -1.5981203262502197,
          -0.691193621887644,
          1.2648788373359174,
          -0.9812428188552841,
          0.29077257292937864,
          -0.3860304784116714,
          0.7348736205455061,
          -0.30194463093884955,
          -1.1804849866851235,
          1.8555927233230805,
          0.3206204405021417,
          -0.3484647029488913,
          0.17804035824914086,
          -0.005932309547459654,
          -1.09324321057662,
          1.0537325994802822,
          -0.11131747857058517,
          1.5510248050539293,
          0.0641092321739744,
          0.011983916018163067,
          0.07671899326363087,
          -1.6383015593850865,
          -0.8930202201725317,
          2.177001154926578,
          0.10032475555698285,
          0.19801577044420687,
          -0.8143086148611789,
          2.5765300667706303,
          1.1424955734563713,
          -1.1782421287147495,
          0.36719261575559925,
          1.913126328532216,
          0.5316725673593986,
          1.0609389309814266,
          -0.2580418540315302,
          -1.1096209702275894,
          -0.16525766112282678,
          -0.6350618813045671,
          -0.6680136886957433,
          2.2019863428116317,
          -0.6545846207600245,
          -0.9819257347533642,
          0.7686352817125546,
          -0.28770493344401477,
          0.5918740917074815,
          0.5183444223241045,
          -1.7520524718812602,
          1.3980636906330712,
          -1.1245314917361031,
          0.022139236012942463,
          0.7592364488219824,
          0.42600620243372245,
          -1.5866222361761575,
          0.9371724506934582,
          -0.9137856349047465,
          1.6410233938129204,
          -0.16725096651345864
         ],
         "xaxis": "x5",
         "y": [
          -2.467489679081685,
          -0.9109994341608991,
          -0.9775439597470429,
          -0.8050359803816095,
          0.3880837334389582,
          0.7226047001728041,
          2.12261391775626,
          -1.585119821691273,
          -1.4789391663694118,
          1.4130010878680048,
          0.5171336797321604,
          0.8200803187753855,
          -0.1651247430133621,
          -0.020378991429335632,
          1.7248920409679187,
          -1.0379234752961863,
          1.0288558054083492,
          -0.4209039800868332,
          0.9359771990048374,
          0.5283817923005579,
          -0.704072800755225,
          0.33848644671342304,
          1.1773768477836346,
          -0.45103721768800803,
          0.13224782035424706,
          0.7204598068251858,
          -0.9342447733723493,
          -1.5204779496076484,
          1.0181798372524824,
          2.0464668998426223,
          0.6454665423594669,
          -0.5056759016895037,
          0.6527386290509671,
          -0.5547342801162942,
          0.3788700033858548,
          -0.3676073288176218,
          0.5656698820540743,
          1.580633720103138,
          -0.12711454975637088,
          -0.3505517026278936,
          -0.7660622716697431,
          1.523972798077345,
          0.8877692878051118,
          -0.10704995915426571,
          1.629723149498767,
          -0.15762680777432658,
          -1.2668726445596794,
          0.20016928924696611,
          0.699254128347382,
          -0.03689603754636403,
          0.30371287844000294,
          0.28611928397815256,
          2.0585330014523042,
          1.0140945140540905,
          -0.8297552712905361,
          0.09013592833499368,
          0.3984442817811917,
          -0.4571516491840917,
          -0.44287898704643447,
          -1.0569149385856347,
          0.04807235507245364,
          -0.34419688596532827,
          0.10004621268753495,
          0.08731147708013766,
          1.0876804228688925,
          1.3099639910003447,
          0.7539412010773562,
          0.11957250636430646,
          2.3106977365467682,
          2.519930816359611,
          0.08534530825215789,
          -0.9825625396071127,
          -0.39525470620522996,
          -3.1375179773086317,
          0.6132469463474309,
          -0.16942740949205784,
          0.09266214650465411,
          -1.0902353511589595,
          0.8250519676663988,
          -0.13858028835181693,
          -0.28940274670430133,
          -0.002690390203971974,
          0.046357330322069706,
          0.85344253401098,
          0.5158074327785028,
          -1.0161437917023335,
          0.4572488313164856,
          -0.10617864673067459,
          -0.5613388514490533,
          0.3160584742132285,
          -0.8654585149192117,
          0.5512673818002701,
          -0.048270305086464724,
          0.7690216936257351,
          0.8258710118208544,
          -0.16396989659898215,
          -0.7355413370519562,
          -0.163054476714875,
          -1.1757281031956057,
          0.7343984686472602
         ],
         "yaxis": "y5"
        },
        {
         "histfunc": "count",
         "histnorm": "",
         "marker": {
          "color": "rgba(55, 128, 191, 1.0)",
          "line": {
           "color": "#4D5663",
           "width": 1.3
          }
         },
         "name": "B",
         "nbinsx": 10,
         "opacity": 0.8,
         "orientation": "v",
         "type": "histogram",
         "x": [
          -2.467489679081685,
          -0.9109994341608991,
          -0.9775439597470429,
          -0.8050359803816095,
          0.3880837334389582,
          0.7226047001728041,
          2.12261391775626,
          -1.585119821691273,
          -1.4789391663694118,
          1.4130010878680048,
          0.5171336797321604,
          0.8200803187753855,
          -0.1651247430133621,
          -0.020378991429335632,
          1.7248920409679187,
          -1.0379234752961863,
          1.0288558054083492,
          -0.4209039800868332,
          0.9359771990048374,
          0.5283817923005579,
          -0.704072800755225,
          0.33848644671342304,
          1.1773768477836346,
          -0.45103721768800803,
          0.13224782035424706,
          0.7204598068251858,
          -0.9342447733723493,
          -1.5204779496076484,
          1.0181798372524824,
          2.0464668998426223,
          0.6454665423594669,
          -0.5056759016895037,
          0.6527386290509671,
          -0.5547342801162942,
          0.3788700033858548,
          -0.3676073288176218,
          0.5656698820540743,
          1.580633720103138,
          -0.12711454975637088,
          -0.3505517026278936,
          -0.7660622716697431,
          1.523972798077345,
          0.8877692878051118,
          -0.10704995915426571,
          1.629723149498767,
          -0.15762680777432658,
          -1.2668726445596794,
          0.20016928924696611,
          0.699254128347382,
          -0.03689603754636403,
          0.30371287844000294,
          0.28611928397815256,
          2.0585330014523042,
          1.0140945140540905,
          -0.8297552712905361,
          0.09013592833499368,
          0.3984442817811917,
          -0.4571516491840917,
          -0.44287898704643447,
          -1.0569149385856347,
          0.04807235507245364,
          -0.34419688596532827,
          0.10004621268753495,
          0.08731147708013766,
          1.0876804228688925,
          1.3099639910003447,
          0.7539412010773562,
          0.11957250636430646,
          2.3106977365467682,
          2.519930816359611,
          0.08534530825215789,
          -0.9825625396071127,
          -0.39525470620522996,
          -3.1375179773086317,
          0.6132469463474309,
          -0.16942740949205784,
          0.09266214650465411,
          -1.0902353511589595,
          0.8250519676663988,
          -0.13858028835181693,
          -0.28940274670430133,
          -0.002690390203971974,
          0.046357330322069706,
          0.85344253401098,
          0.5158074327785028,
          -1.0161437917023335,
          0.4572488313164856,
          -0.10617864673067459,
          -0.5613388514490533,
          0.3160584742132285,
          -0.8654585149192117,
          0.5512673818002701,
          -0.048270305086464724,
          0.7690216936257351,
          0.8258710118208544,
          -0.16396989659898215,
          -0.7355413370519562,
          -0.163054476714875,
          -1.1757281031956057,
          0.7343984686472602
         ],
         "xaxis": "x6",
         "yaxis": "y6"
        },
        {
         "line": {
          "color": "rgba(128, 128, 128, 1.0)",
          "dash": "solid",
          "shape": "linear",
          "width": 1.3
         },
         "marker": {
          "size": 2,
          "symbol": "circle"
         },
         "mode": "markers",
         "name": "B",
         "text": "",
         "type": "scatter",
         "x": [
          -0.8893998141162937,
          0.6372436645570296,
          -2.23741081423564,
          -0.31765623347929695,
          0.7561914475460509,
          -0.623860105721561,
          0.6903173494809115,
          -0.5048600551762947,
          2.020714308651883,
          0.23026979636838407,
          0.37398753003537616,
          0.5206609753244256,
          -0.10018920147383852,
          -1.2985299229663352,
          -0.9483501928456123,
          1.135689521637158,
          -0.3337735918049371,
          -1.6326402352224678,
          -0.25866872748129416,
          0.5924898339790267,
          1.2233285790848265,
          -1.474457852245962,
          0.45596964798191353,
          -0.10814969404145522,
          -0.27594004426502083,
          -0.9124845686148109,
          0.01100070388541124,
          -1.9505347477078452,
          -0.15105469124096588,
          0.907630680494936,
          -0.6029292033423908,
          0.990481495159389,
          1.1515227416718936,
          0.44789830857842894,
          -1.7855238667231463,
          -0.5902657180884271,
          0.8584499386080536,
          1.0116028854383643,
          -0.571014671596426,
          -0.3866591298764715,
          0.9949808495557023,
          0.7875792632930714,
          0.29112207583799676,
          -0.3884189898620297,
          -1.6966161836642502,
          1.8160384812003816,
          0.32587379503399005,
          0.2644828784239742,
          -0.08883414710595931,
          -1.8782287388849652,
          0.05256177117982688,
          1.0882529289653526,
          0.8784535728298893,
          1.0193199732692901,
          -0.8088506639910596,
          -1.0223568889142052,
          0.06939344982076391,
          0.6655572511232158,
          -0.38330034677819247,
          -0.7887206396605513,
          -2.1337760011371416,
          -0.505300093639108,
          -0.22328614767833907,
          -1.0417437989607305,
          -0.34560269984827874,
          0.3537127142015969,
          -0.2736786047966587,
          -0.2298074753826692,
          0.8303171527118302,
          -0.8303087103507922,
          1.9162689202891265,
          -0.5565059936724137,
          2.061512699042052,
          0.5734812031194394,
          -1.034854720445252,
          -0.11071862296050343,
          -0.6111748958387944,
          0.28806307986797813,
          1.2021557339158877,
          -1.3410568555000184,
          -0.5043708568868606,
          -0.26905233445725124,
          0.8835614081469708,
          0.31823037951212957,
          -0.20841669540258473,
          1.051719819048651,
          0.3510133756617166,
          0.11514781134378886,
          -2.0386124893706765,
          -1.569657323964556,
          -0.4080591760496254,
          -0.29178810250300924,
          0.40457254548522725,
          -0.7983154563691286,
          -0.2538226193332108,
          -0.678911915924447,
          0.5116043020782122,
          -0.2827194860534984,
          0.6441183952673111,
          -0.2619746150812916
         ],
         "xaxis": "x7",
         "y": [
          -2.467489679081685,
          -0.9109994341608991,
          -0.9775439597470429,
          -0.8050359803816095,
          0.3880837334389582,
          0.7226047001728041,
          2.12261391775626,
          -1.585119821691273,
          -1.4789391663694118,
          1.4130010878680048,
          0.5171336797321604,
          0.8200803187753855,
          -0.1651247430133621,
          -0.020378991429335632,
          1.7248920409679187,
          -1.0379234752961863,
          1.0288558054083492,
          -0.4209039800868332,
          0.9359771990048374,
          0.5283817923005579,
          -0.704072800755225,
          0.33848644671342304,
          1.1773768477836346,
          -0.45103721768800803,
          0.13224782035424706,
          0.7204598068251858,
          -0.9342447733723493,
          -1.5204779496076484,
          1.0181798372524824,
          2.0464668998426223,
          0.6454665423594669,
          -0.5056759016895037,
          0.6527386290509671,
          -0.5547342801162942,
          0.3788700033858548,
          -0.3676073288176218,
          0.5656698820540743,
          1.580633720103138,
          -0.12711454975637088,
          -0.3505517026278936,
          -0.7660622716697431,
          1.523972798077345,
          0.8877692878051118,
          -0.10704995915426571,
          1.629723149498767,
          -0.15762680777432658,
          -1.2668726445596794,
          0.20016928924696611,
          0.699254128347382,
          -0.03689603754636403,
          0.30371287844000294,
          0.28611928397815256,
          2.0585330014523042,
          1.0140945140540905,
          -0.8297552712905361,
          0.09013592833499368,
          0.3984442817811917,
          -0.4571516491840917,
          -0.44287898704643447,
          -1.0569149385856347,
          0.04807235507245364,
          -0.34419688596532827,
          0.10004621268753495,
          0.08731147708013766,
          1.0876804228688925,
          1.3099639910003447,
          0.7539412010773562,
          0.11957250636430646,
          2.3106977365467682,
          2.519930816359611,
          0.08534530825215789,
          -0.9825625396071127,
          -0.39525470620522996,
          -3.1375179773086317,
          0.6132469463474309,
          -0.16942740949205784,
          0.09266214650465411,
          -1.0902353511589595,
          0.8250519676663988,
          -0.13858028835181693,
          -0.28940274670430133,
          -0.002690390203971974,
          0.046357330322069706,
          0.85344253401098,
          0.5158074327785028,
          -1.0161437917023335,
          0.4572488313164856,
          -0.10617864673067459,
          -0.5613388514490533,
          0.3160584742132285,
          -0.8654585149192117,
          0.5512673818002701,
          -0.048270305086464724,
          0.7690216936257351,
          0.8258710118208544,
          -0.16396989659898215,
          -0.7355413370519562,
          -0.163054476714875,
          -1.1757281031956057,
          0.7343984686472602
         ],
         "yaxis": "y7"
        },
        {
         "line": {
          "color": "rgba(128, 128, 128, 1.0)",
          "dash": "solid",
          "shape": "linear",
          "width": 1.3
         },
         "marker": {
          "size": 2,
          "symbol": "circle"
         },
         "mode": "markers",
         "name": "B",
         "text": "",
         "type": "scatter",
         "x": [
          0.18451300084608604,
          -0.3022177165304333,
          -0.6006769288458926,
          -0.3052576828469785,
          0.012925204395338697,
          0.06072685016311775,
          1.2464010145843716,
          2.2562220704540947,
          1.7541323312485497,
          -2.7953960478174134,
          1.7960094174179742,
          0.8587481039984973,
          1.0574408725210322,
          -1.576207770904765,
          -0.16787222872406804,
          -1.580171289911969,
          -0.7405713053105409,
          -0.12211621622406345,
          -0.02719325408965277,
          0.7455332289902771,
          1.0431039917089024,
          -0.5573515013267838,
          -0.9478720009528269,
          -2.2240467163863453,
          0.47885219514426564,
          0.6635970834572871,
          0.16347637504181256,
          -0.514245754001384,
          0.2450690907864287,
          0.05695716481583332,
          0.6634388719648321,
          -0.39840694654691705,
          0.5490831922887796,
          -1.3498267213886324,
          2.0059690281820273,
          2.4237220564037774,
          0.6409158751104084,
          -1.145590629899955,
          -0.6344692609620162,
          -1.964475569311091,
          -2.553119815804278,
          -0.4154753044515657,
          0.93288515541365,
          0.41607149191763854,
          -0.5223885849225867,
          -0.5097269627705164,
          0.3137166198850058,
          -0.41033148846453166,
          -1.3504160978888808,
          -1.44639215776379,
          -1.2558830397396972,
          0.5085298183118243,
          -0.4844584936706081,
          -1.1095044253580726,
          -0.7520124292610786,
          0.5109618144518884,
          -1.0808074527541336,
          2.0158253236315438,
          0.8194125244241102,
          -1.830150410875788,
          -0.11276219125895252,
          0.7023652442498306,
          1.9866344386381598,
          -1.112745174819402,
          -1.0955180400783469,
          -0.44312559456598377,
          -0.9639932603404257,
          1.419599652907551,
          0.13032087210775575,
          -0.08480607840877766,
          -0.07161572488825718,
          -0.9309787384976403,
          0.11791449149366284,
          -1.1062473942402988,
          -0.35788548437586404,
          -0.3021284959768266,
          -1.3895146183345222,
          1.0207429380778419,
          0.17078822856664266,
          -0.1907799131125399,
          0.4714082561261303,
          0.2754318671952387,
          -0.2514751898440218,
          0.2837712535707717,
          -2.96998439652934,
          -0.1986095130641284,
          0.8367124996316605,
          -1.2139829622550151,
          0.6954813803560759,
          1.3221282513598556,
          -0.28719994075524213,
          2.2187535094641837,
          -0.3975645906718611,
          1.4843046228816186,
          -0.1192081000017448,
          1.0537349037666213,
          -0.6698748203139302,
          0.32146389721568674,
          -1.7296684021234106,
          0.531263702406474
         ],
         "xaxis": "x8",
         "y": [
          -2.467489679081685,
          -0.9109994341608991,
          -0.9775439597470429,
          -0.8050359803816095,
          0.3880837334389582,
          0.7226047001728041,
          2.12261391775626,
          -1.585119821691273,
          -1.4789391663694118,
          1.4130010878680048,
          0.5171336797321604,
          0.8200803187753855,
          -0.1651247430133621,
          -0.020378991429335632,
          1.7248920409679187,
          -1.0379234752961863,
          1.0288558054083492,
          -0.4209039800868332,
          0.9359771990048374,
          0.5283817923005579,
          -0.704072800755225,
          0.33848644671342304,
          1.1773768477836346,
          -0.45103721768800803,
          0.13224782035424706,
          0.7204598068251858,
          -0.9342447733723493,
          -1.5204779496076484,
          1.0181798372524824,
          2.0464668998426223,
          0.6454665423594669,
          -0.5056759016895037,
          0.6527386290509671,
          -0.5547342801162942,
          0.3788700033858548,
          -0.3676073288176218,
          0.5656698820540743,
          1.580633720103138,
          -0.12711454975637088,
          -0.3505517026278936,
          -0.7660622716697431,
          1.523972798077345,
          0.8877692878051118,
          -0.10704995915426571,
          1.629723149498767,
          -0.15762680777432658,
          -1.2668726445596794,
          0.20016928924696611,
          0.699254128347382,
          -0.03689603754636403,
          0.30371287844000294,
          0.28611928397815256,
          2.0585330014523042,
          1.0140945140540905,
          -0.8297552712905361,
          0.09013592833499368,
          0.3984442817811917,
          -0.4571516491840917,
          -0.44287898704643447,
          -1.0569149385856347,
          0.04807235507245364,
          -0.34419688596532827,
          0.10004621268753495,
          0.08731147708013766,
          1.0876804228688925,
          1.3099639910003447,
          0.7539412010773562,
          0.11957250636430646,
          2.3106977365467682,
          2.519930816359611,
          0.08534530825215789,
          -0.9825625396071127,
          -0.39525470620522996,
          -3.1375179773086317,
          0.6132469463474309,
          -0.16942740949205784,
          0.09266214650465411,
          -1.0902353511589595,
          0.8250519676663988,
          -0.13858028835181693,
          -0.28940274670430133,
          -0.002690390203971974,
          0.046357330322069706,
          0.85344253401098,
          0.5158074327785028,
          -1.0161437917023335,
          0.4572488313164856,
          -0.10617864673067459,
          -0.5613388514490533,
          0.3160584742132285,
          -0.8654585149192117,
          0.5512673818002701,
          -0.048270305086464724,
          0.7690216936257351,
          0.8258710118208544,
          -0.16396989659898215,
          -0.7355413370519562,
          -0.163054476714875,
          -1.1757281031956057,
          0.7343984686472602
         ],
         "yaxis": "y8"
        },
        {
         "line": {
          "color": "rgba(128, 128, 128, 1.0)",
          "dash": "solid",
          "shape": "linear",
          "width": 1.3
         },
         "marker": {
          "size": 2,
          "symbol": "circle"
         },
         "mode": "markers",
         "name": "C",
         "text": "",
         "type": "scatter",
         "x": [
          -1.2821232259307913,
          -0.39999089040185204,
          0.18603955462223581,
          1.9454784431368184,
          -0.5976460193168096,
          -1.1357869422281528,
          0.5011941647418091,
          -0.3165890810433005,
          -0.49026251352794514,
          -0.3070155142823813,
          -0.00928407711693977,
          0.40742108364021007,
          -0.8059220890051619,
          -1.6150012335022794,
          0.2831274750204807,
          -0.8071318749394667,
          1.2578496478325498,
          0.5546354700979511,
          -0.8058535128503591,
          -1.325128537682219,
          -0.6293771302746785,
          -0.18505519612184348,
          1.161217988148961,
          -0.9940280665073525,
          -1.0517075260495918,
          -0.021950386799966522,
          1.7059306402459018,
          -0.5431574852715914,
          -1.6652518510749255,
          -0.2293687085613229,
          -0.9330038160520542,
          -0.40135606395472045,
          -0.5904818764111005,
          0.1561604164203169,
          0.05909328601089837,
          -0.27648155744488384,
          1.5426214018051496,
          2.00748019586431,
          -0.23004698398830756,
          -0.9034603928397359,
          -0.8432824015442412,
          0.5985161962702256,
          0.2064791649332286,
          -1.5981203262502197,
          -0.691193621887644,
          1.2648788373359174,
          -0.9812428188552841,
          0.29077257292937864,
          -0.3860304784116714,
          0.7348736205455061,
          -0.30194463093884955,
          -1.1804849866851235,
          1.8555927233230805,
          0.3206204405021417,
          -0.3484647029488913,
          0.17804035824914086,
          -0.005932309547459654,
          -1.09324321057662,
          1.0537325994802822,
          -0.11131747857058517,
          1.5510248050539293,
          0.0641092321739744,
          0.011983916018163067,
          0.07671899326363087,
          -1.6383015593850865,
          -0.8930202201725317,
          2.177001154926578,
          0.10032475555698285,
          0.19801577044420687,
          -0.8143086148611789,
          2.5765300667706303,
          1.1424955734563713,
          -1.1782421287147495,
          0.36719261575559925,
          1.913126328532216,
          0.5316725673593986,
          1.0609389309814266,
          -0.2580418540315302,
          -1.1096209702275894,
          -0.16525766112282678,
          -0.6350618813045671,
          -0.6680136886957433,
          2.2019863428116317,
          -0.6545846207600245,
          -0.9819257347533642,
          0.7686352817125546,
          -0.28770493344401477,
          0.5918740917074815,
          0.5183444223241045,
          -1.7520524718812602,
          1.3980636906330712,
          -1.1245314917361031,
          0.022139236012942463,
          0.7592364488219824,
          0.42600620243372245,
          -1.5866222361761575,
          0.9371724506934582,
          -0.9137856349047465,
          1.6410233938129204,
          -0.16725096651345864
         ],
         "xaxis": "x9",
         "y": [
          -0.8893998141162937,
          0.6372436645570296,
          -2.23741081423564,
          -0.31765623347929695,
          0.7561914475460509,
          -0.623860105721561,
          0.6903173494809115,
          -0.5048600551762947,
          2.020714308651883,
          0.23026979636838407,
          0.37398753003537616,
          0.5206609753244256,
          -0.10018920147383852,
          -1.2985299229663352,
          -0.9483501928456123,
          1.135689521637158,
          -0.3337735918049371,
          -1.6326402352224678,
          -0.25866872748129416,
          0.5924898339790267,
          1.2233285790848265,
          -1.474457852245962,
          0.45596964798191353,
          -0.10814969404145522,
          -0.27594004426502083,
          -0.9124845686148109,
          0.01100070388541124,
          -1.9505347477078452,
          -0.15105469124096588,
          0.907630680494936,
          -0.6029292033423908,
          0.990481495159389,
          1.1515227416718936,
          0.44789830857842894,
          -1.7855238667231463,
          -0.5902657180884271,
          0.8584499386080536,
          1.0116028854383643,
          -0.571014671596426,
          -0.3866591298764715,
          0.9949808495557023,
          0.7875792632930714,
          0.29112207583799676,
          -0.3884189898620297,
          -1.6966161836642502,
          1.8160384812003816,
          0.32587379503399005,
          0.2644828784239742,
          -0.08883414710595931,
          -1.8782287388849652,
          0.05256177117982688,
          1.0882529289653526,
          0.8784535728298893,
          1.0193199732692901,
          -0.8088506639910596,
          -1.0223568889142052,
          0.06939344982076391,
          0.6655572511232158,
          -0.38330034677819247,
          -0.7887206396605513,
          -2.1337760011371416,
          -0.505300093639108,
          -0.22328614767833907,
          -1.0417437989607305,
          -0.34560269984827874,
          0.3537127142015969,
          -0.2736786047966587,
          -0.2298074753826692,
          0.8303171527118302,
          -0.8303087103507922,
          1.9162689202891265,
          -0.5565059936724137,
          2.061512699042052,
          0.5734812031194394,
          -1.034854720445252,
          -0.11071862296050343,
          -0.6111748958387944,
          0.28806307986797813,
          1.2021557339158877,
          -1.3410568555000184,
          -0.5043708568868606,
          -0.26905233445725124,
          0.8835614081469708,
          0.31823037951212957,
          -0.20841669540258473,
          1.051719819048651,
          0.3510133756617166,
          0.11514781134378886,
          -2.0386124893706765,
          -1.569657323964556,
          -0.4080591760496254,
          -0.29178810250300924,
          0.40457254548522725,
          -0.7983154563691286,
          -0.2538226193332108,
          -0.678911915924447,
          0.5116043020782122,
          -0.2827194860534984,
          0.6441183952673111,
          -0.2619746150812916
         ],
         "yaxis": "y9"
        },
        {
         "line": {
          "color": "rgba(128, 128, 128, 1.0)",
          "dash": "solid",
          "shape": "linear",
          "width": 1.3
         },
         "marker": {
          "size": 2,
          "symbol": "circle"
         },
         "mode": "markers",
         "name": "C",
         "text": "",
         "type": "scatter",
         "x": [
          -2.467489679081685,
          -0.9109994341608991,
          -0.9775439597470429,
          -0.8050359803816095,
          0.3880837334389582,
          0.7226047001728041,
          2.12261391775626,
          -1.585119821691273,
          -1.4789391663694118,
          1.4130010878680048,
          0.5171336797321604,
          0.8200803187753855,
          -0.1651247430133621,
          -0.020378991429335632,
          1.7248920409679187,
          -1.0379234752961863,
          1.0288558054083492,
          -0.4209039800868332,
          0.9359771990048374,
          0.5283817923005579,
          -0.704072800755225,
          0.33848644671342304,
          1.1773768477836346,
          -0.45103721768800803,
          0.13224782035424706,
          0.7204598068251858,
          -0.9342447733723493,
          -1.5204779496076484,
          1.0181798372524824,
          2.0464668998426223,
          0.6454665423594669,
          -0.5056759016895037,
          0.6527386290509671,
          -0.5547342801162942,
          0.3788700033858548,
          -0.3676073288176218,
          0.5656698820540743,
          1.580633720103138,
          -0.12711454975637088,
          -0.3505517026278936,
          -0.7660622716697431,
          1.523972798077345,
          0.8877692878051118,
          -0.10704995915426571,
          1.629723149498767,
          -0.15762680777432658,
          -1.2668726445596794,
          0.20016928924696611,
          0.699254128347382,
          -0.03689603754636403,
          0.30371287844000294,
          0.28611928397815256,
          2.0585330014523042,
          1.0140945140540905,
          -0.8297552712905361,
          0.09013592833499368,
          0.3984442817811917,
          -0.4571516491840917,
          -0.44287898704643447,
          -1.0569149385856347,
          0.04807235507245364,
          -0.34419688596532827,
          0.10004621268753495,
          0.08731147708013766,
          1.0876804228688925,
          1.3099639910003447,
          0.7539412010773562,
          0.11957250636430646,
          2.3106977365467682,
          2.519930816359611,
          0.08534530825215789,
          -0.9825625396071127,
          -0.39525470620522996,
          -3.1375179773086317,
          0.6132469463474309,
          -0.16942740949205784,
          0.09266214650465411,
          -1.0902353511589595,
          0.8250519676663988,
          -0.13858028835181693,
          -0.28940274670430133,
          -0.002690390203971974,
          0.046357330322069706,
          0.85344253401098,
          0.5158074327785028,
          -1.0161437917023335,
          0.4572488313164856,
          -0.10617864673067459,
          -0.5613388514490533,
          0.3160584742132285,
          -0.8654585149192117,
          0.5512673818002701,
          -0.048270305086464724,
          0.7690216936257351,
          0.8258710118208544,
          -0.16396989659898215,
          -0.7355413370519562,
          -0.163054476714875,
          -1.1757281031956057,
          0.7343984686472602
         ],
         "xaxis": "x10",
         "y": [
          -0.8893998141162937,
          0.6372436645570296,
          -2.23741081423564,
          -0.31765623347929695,
          0.7561914475460509,
          -0.623860105721561,
          0.6903173494809115,
          -0.5048600551762947,
          2.020714308651883,
          0.23026979636838407,
          0.37398753003537616,
          0.5206609753244256,
          -0.10018920147383852,
          -1.2985299229663352,
          -0.9483501928456123,
          1.135689521637158,
          -0.3337735918049371,
          -1.6326402352224678,
          -0.25866872748129416,
          0.5924898339790267,
          1.2233285790848265,
          -1.474457852245962,
          0.45596964798191353,
          -0.10814969404145522,
          -0.27594004426502083,
          -0.9124845686148109,
          0.01100070388541124,
          -1.9505347477078452,
          -0.15105469124096588,
          0.907630680494936,
          -0.6029292033423908,
          0.990481495159389,
          1.1515227416718936,
          0.44789830857842894,
          -1.7855238667231463,
          -0.5902657180884271,
          0.8584499386080536,
          1.0116028854383643,
          -0.571014671596426,
          -0.3866591298764715,
          0.9949808495557023,
          0.7875792632930714,
          0.29112207583799676,
          -0.3884189898620297,
          -1.6966161836642502,
          1.8160384812003816,
          0.32587379503399005,
          0.2644828784239742,
          -0.08883414710595931,
          -1.8782287388849652,
          0.05256177117982688,
          1.0882529289653526,
          0.8784535728298893,
          1.0193199732692901,
          -0.8088506639910596,
          -1.0223568889142052,
          0.06939344982076391,
          0.6655572511232158,
          -0.38330034677819247,
          -0.7887206396605513,
          -2.1337760011371416,
          -0.505300093639108,
          -0.22328614767833907,
          -1.0417437989607305,
          -0.34560269984827874,
          0.3537127142015969,
          -0.2736786047966587,
          -0.2298074753826692,
          0.8303171527118302,
          -0.8303087103507922,
          1.9162689202891265,
          -0.5565059936724137,
          2.061512699042052,
          0.5734812031194394,
          -1.034854720445252,
          -0.11071862296050343,
          -0.6111748958387944,
          0.28806307986797813,
          1.2021557339158877,
          -1.3410568555000184,
          -0.5043708568868606,
          -0.26905233445725124,
          0.8835614081469708,
          0.31823037951212957,
          -0.20841669540258473,
          1.051719819048651,
          0.3510133756617166,
          0.11514781134378886,
          -2.0386124893706765,
          -1.569657323964556,
          -0.4080591760496254,
          -0.29178810250300924,
          0.40457254548522725,
          -0.7983154563691286,
          -0.2538226193332108,
          -0.678911915924447,
          0.5116043020782122,
          -0.2827194860534984,
          0.6441183952673111,
          -0.2619746150812916
         ],
         "yaxis": "y10"
        },
        {
         "histfunc": "count",
         "histnorm": "",
         "marker": {
          "color": "rgba(50, 171, 96, 1.0)",
          "line": {
           "color": "#4D5663",
           "width": 1.3
          }
         },
         "name": "C",
         "nbinsx": 10,
         "opacity": 0.8,
         "orientation": "v",
         "type": "histogram",
         "x": [
          -0.8893998141162937,
          0.6372436645570296,
          -2.23741081423564,
          -0.31765623347929695,
          0.7561914475460509,
          -0.623860105721561,
          0.6903173494809115,
          -0.5048600551762947,
          2.020714308651883,
          0.23026979636838407,
          0.37398753003537616,
          0.5206609753244256,
          -0.10018920147383852,
          -1.2985299229663352,
          -0.9483501928456123,
          1.135689521637158,
          -0.3337735918049371,
          -1.6326402352224678,
          -0.25866872748129416,
          0.5924898339790267,
          1.2233285790848265,
          -1.474457852245962,
          0.45596964798191353,
          -0.10814969404145522,
          -0.27594004426502083,
          -0.9124845686148109,
          0.01100070388541124,
          -1.9505347477078452,
          -0.15105469124096588,
          0.907630680494936,
          -0.6029292033423908,
          0.990481495159389,
          1.1515227416718936,
          0.44789830857842894,
          -1.7855238667231463,
          -0.5902657180884271,
          0.8584499386080536,
          1.0116028854383643,
          -0.571014671596426,
          -0.3866591298764715,
          0.9949808495557023,
          0.7875792632930714,
          0.29112207583799676,
          -0.3884189898620297,
          -1.6966161836642502,
          1.8160384812003816,
          0.32587379503399005,
          0.2644828784239742,
          -0.08883414710595931,
          -1.8782287388849652,
          0.05256177117982688,
          1.0882529289653526,
          0.8784535728298893,
          1.0193199732692901,
          -0.8088506639910596,
          -1.0223568889142052,
          0.06939344982076391,
          0.6655572511232158,
          -0.38330034677819247,
          -0.7887206396605513,
          -2.1337760011371416,
          -0.505300093639108,
          -0.22328614767833907,
          -1.0417437989607305,
          -0.34560269984827874,
          0.3537127142015969,
          -0.2736786047966587,
          -0.2298074753826692,
          0.8303171527118302,
          -0.8303087103507922,
          1.9162689202891265,
          -0.5565059936724137,
          2.061512699042052,
          0.5734812031194394,
          -1.034854720445252,
          -0.11071862296050343,
          -0.6111748958387944,
          0.28806307986797813,
          1.2021557339158877,
          -1.3410568555000184,
          -0.5043708568868606,
          -0.26905233445725124,
          0.8835614081469708,
          0.31823037951212957,
          -0.20841669540258473,
          1.051719819048651,
          0.3510133756617166,
          0.11514781134378886,
          -2.0386124893706765,
          -1.569657323964556,
          -0.4080591760496254,
          -0.29178810250300924,
          0.40457254548522725,
          -0.7983154563691286,
          -0.2538226193332108,
          -0.678911915924447,
          0.5116043020782122,
          -0.2827194860534984,
          0.6441183952673111,
          -0.2619746150812916
         ],
         "xaxis": "x11",
         "yaxis": "y11"
        },
        {
         "line": {
          "color": "rgba(128, 128, 128, 1.0)",
          "dash": "solid",
          "shape": "linear",
          "width": 1.3
         },
         "marker": {
          "size": 2,
          "symbol": "circle"
         },
         "mode": "markers",
         "name": "C",
         "text": "",
         "type": "scatter",
         "x": [
          0.18451300084608604,
          -0.3022177165304333,
          -0.6006769288458926,
          -0.3052576828469785,
          0.012925204395338697,
          0.06072685016311775,
          1.2464010145843716,
          2.2562220704540947,
          1.7541323312485497,
          -2.7953960478174134,
          1.7960094174179742,
          0.8587481039984973,
          1.0574408725210322,
          -1.576207770904765,
          -0.16787222872406804,
          -1.580171289911969,
          -0.7405713053105409,
          -0.12211621622406345,
          -0.02719325408965277,
          0.7455332289902771,
          1.0431039917089024,
          -0.5573515013267838,
          -0.9478720009528269,
          -2.2240467163863453,
          0.47885219514426564,
          0.6635970834572871,
          0.16347637504181256,
          -0.514245754001384,
          0.2450690907864287,
          0.05695716481583332,
          0.6634388719648321,
          -0.39840694654691705,
          0.5490831922887796,
          -1.3498267213886324,
          2.0059690281820273,
          2.4237220564037774,
          0.6409158751104084,
          -1.145590629899955,
          -0.6344692609620162,
          -1.964475569311091,
          -2.553119815804278,
          -0.4154753044515657,
          0.93288515541365,
          0.41607149191763854,
          -0.5223885849225867,
          -0.5097269627705164,
          0.3137166198850058,
          -0.41033148846453166,
          -1.3504160978888808,
          -1.44639215776379,
          -1.2558830397396972,
          0.5085298183118243,
          -0.4844584936706081,
          -1.1095044253580726,
          -0.7520124292610786,
          0.5109618144518884,
          -1.0808074527541336,
          2.0158253236315438,
          0.8194125244241102,
          -1.830150410875788,
          -0.11276219125895252,
          0.7023652442498306,
          1.9866344386381598,
          -1.112745174819402,
          -1.0955180400783469,
          -0.44312559456598377,
          -0.9639932603404257,
          1.419599652907551,
          0.13032087210775575,
          -0.08480607840877766,
          -0.07161572488825718,
          -0.9309787384976403,
          0.11791449149366284,
          -1.1062473942402988,
          -0.35788548437586404,
          -0.3021284959768266,
          -1.3895146183345222,
          1.0207429380778419,
          0.17078822856664266,
          -0.1907799131125399,
          0.4714082561261303,
          0.2754318671952387,
          -0.2514751898440218,
          0.2837712535707717,
          -2.96998439652934,
          -0.1986095130641284,
          0.8367124996316605,
          -1.2139829622550151,
          0.6954813803560759,
          1.3221282513598556,
          -0.28719994075524213,
          2.2187535094641837,
          -0.3975645906718611,
          1.4843046228816186,
          -0.1192081000017448,
          1.0537349037666213,
          -0.6698748203139302,
          0.32146389721568674,
          -1.7296684021234106,
          0.531263702406474
         ],
         "xaxis": "x12",
         "y": [
          -0.8893998141162937,
          0.6372436645570296,
          -2.23741081423564,
          -0.31765623347929695,
          0.7561914475460509,
          -0.623860105721561,
          0.6903173494809115,
          -0.5048600551762947,
          2.020714308651883,
          0.23026979636838407,
          0.37398753003537616,
          0.5206609753244256,
          -0.10018920147383852,
          -1.2985299229663352,
          -0.9483501928456123,
          1.135689521637158,
          -0.3337735918049371,
          -1.6326402352224678,
          -0.25866872748129416,
          0.5924898339790267,
          1.2233285790848265,
          -1.474457852245962,
          0.45596964798191353,
          -0.10814969404145522,
          -0.27594004426502083,
          -0.9124845686148109,
          0.01100070388541124,
          -1.9505347477078452,
          -0.15105469124096588,
          0.907630680494936,
          -0.6029292033423908,
          0.990481495159389,
          1.1515227416718936,
          0.44789830857842894,
          -1.7855238667231463,
          -0.5902657180884271,
          0.8584499386080536,
          1.0116028854383643,
          -0.571014671596426,
          -0.3866591298764715,
          0.9949808495557023,
          0.7875792632930714,
          0.29112207583799676,
          -0.3884189898620297,
          -1.6966161836642502,
          1.8160384812003816,
          0.32587379503399005,
          0.2644828784239742,
          -0.08883414710595931,
          -1.8782287388849652,
          0.05256177117982688,
          1.0882529289653526,
          0.8784535728298893,
          1.0193199732692901,
          -0.8088506639910596,
          -1.0223568889142052,
          0.06939344982076391,
          0.6655572511232158,
          -0.38330034677819247,
          -0.7887206396605513,
          -2.1337760011371416,
          -0.505300093639108,
          -0.22328614767833907,
          -1.0417437989607305,
          -0.34560269984827874,
          0.3537127142015969,
          -0.2736786047966587,
          -0.2298074753826692,
          0.8303171527118302,
          -0.8303087103507922,
          1.9162689202891265,
          -0.5565059936724137,
          2.061512699042052,
          0.5734812031194394,
          -1.034854720445252,
          -0.11071862296050343,
          -0.6111748958387944,
          0.28806307986797813,
          1.2021557339158877,
          -1.3410568555000184,
          -0.5043708568868606,
          -0.26905233445725124,
          0.8835614081469708,
          0.31823037951212957,
          -0.20841669540258473,
          1.051719819048651,
          0.3510133756617166,
          0.11514781134378886,
          -2.0386124893706765,
          -1.569657323964556,
          -0.4080591760496254,
          -0.29178810250300924,
          0.40457254548522725,
          -0.7983154563691286,
          -0.2538226193332108,
          -0.678911915924447,
          0.5116043020782122,
          -0.2827194860534984,
          0.6441183952673111,
          -0.2619746150812916
         ],
         "yaxis": "y12"
        },
        {
         "line": {
          "color": "rgba(128, 128, 128, 1.0)",
          "dash": "solid",
          "shape": "linear",
          "width": 1.3
         },
         "marker": {
          "size": 2,
          "symbol": "circle"
         },
         "mode": "markers",
         "name": "D",
         "text": "",
         "type": "scatter",
         "x": [
          -1.2821232259307913,
          -0.39999089040185204,
          0.18603955462223581,
          1.9454784431368184,
          -0.5976460193168096,
          -1.1357869422281528,
          0.5011941647418091,
          -0.3165890810433005,
          -0.49026251352794514,
          -0.3070155142823813,
          -0.00928407711693977,
          0.40742108364021007,
          -0.8059220890051619,
          -1.6150012335022794,
          0.2831274750204807,
          -0.8071318749394667,
          1.2578496478325498,
          0.5546354700979511,
          -0.8058535128503591,
          -1.325128537682219,
          -0.6293771302746785,
          -0.18505519612184348,
          1.161217988148961,
          -0.9940280665073525,
          -1.0517075260495918,
          -0.021950386799966522,
          1.7059306402459018,
          -0.5431574852715914,
          -1.6652518510749255,
          -0.2293687085613229,
          -0.9330038160520542,
          -0.40135606395472045,
          -0.5904818764111005,
          0.1561604164203169,
          0.05909328601089837,
          -0.27648155744488384,
          1.5426214018051496,
          2.00748019586431,
          -0.23004698398830756,
          -0.9034603928397359,
          -0.8432824015442412,
          0.5985161962702256,
          0.2064791649332286,
          -1.5981203262502197,
          -0.691193621887644,
          1.2648788373359174,
          -0.9812428188552841,
          0.29077257292937864,
          -0.3860304784116714,
          0.7348736205455061,
          -0.30194463093884955,
          -1.1804849866851235,
          1.8555927233230805,
          0.3206204405021417,
          -0.3484647029488913,
          0.17804035824914086,
          -0.005932309547459654,
          -1.09324321057662,
          1.0537325994802822,
          -0.11131747857058517,
          1.5510248050539293,
          0.0641092321739744,
          0.011983916018163067,
          0.07671899326363087,
          -1.6383015593850865,
          -0.8930202201725317,
          2.177001154926578,
          0.10032475555698285,
          0.19801577044420687,
          -0.8143086148611789,
          2.5765300667706303,
          1.1424955734563713,
          -1.1782421287147495,
          0.36719261575559925,
          1.913126328532216,
          0.5316725673593986,
          1.0609389309814266,
          -0.2580418540315302,
          -1.1096209702275894,
          -0.16525766112282678,
          -0.6350618813045671,
          -0.6680136886957433,
          2.2019863428116317,
          -0.6545846207600245,
          -0.9819257347533642,
          0.7686352817125546,
          -0.28770493344401477,
          0.5918740917074815,
          0.5183444223241045,
          -1.7520524718812602,
          1.3980636906330712,
          -1.1245314917361031,
          0.022139236012942463,
          0.7592364488219824,
          0.42600620243372245,
          -1.5866222361761575,
          0.9371724506934582,
          -0.9137856349047465,
          1.6410233938129204,
          -0.16725096651345864
         ],
         "xaxis": "x13",
         "y": [
          0.18451300084608604,
          -0.3022177165304333,
          -0.6006769288458926,
          -0.3052576828469785,
          0.012925204395338697,
          0.06072685016311775,
          1.2464010145843716,
          2.2562220704540947,
          1.7541323312485497,
          -2.7953960478174134,
          1.7960094174179742,
          0.8587481039984973,
          1.0574408725210322,
          -1.576207770904765,
          -0.16787222872406804,
          -1.580171289911969,
          -0.7405713053105409,
          -0.12211621622406345,
          -0.02719325408965277,
          0.7455332289902771,
          1.0431039917089024,
          -0.5573515013267838,
          -0.9478720009528269,
          -2.2240467163863453,
          0.47885219514426564,
          0.6635970834572871,
          0.16347637504181256,
          -0.514245754001384,
          0.2450690907864287,
          0.05695716481583332,
          0.6634388719648321,
          -0.39840694654691705,
          0.5490831922887796,
          -1.3498267213886324,
          2.0059690281820273,
          2.4237220564037774,
          0.6409158751104084,
          -1.145590629899955,
          -0.6344692609620162,
          -1.964475569311091,
          -2.553119815804278,
          -0.4154753044515657,
          0.93288515541365,
          0.41607149191763854,
          -0.5223885849225867,
          -0.5097269627705164,
          0.3137166198850058,
          -0.41033148846453166,
          -1.3504160978888808,
          -1.44639215776379,
          -1.2558830397396972,
          0.5085298183118243,
          -0.4844584936706081,
          -1.1095044253580726,
          -0.7520124292610786,
          0.5109618144518884,
          -1.0808074527541336,
          2.0158253236315438,
          0.8194125244241102,
          -1.830150410875788,
          -0.11276219125895252,
          0.7023652442498306,
          1.9866344386381598,
          -1.112745174819402,
          -1.0955180400783469,
          -0.44312559456598377,
          -0.9639932603404257,
          1.419599652907551,
          0.13032087210775575,
          -0.08480607840877766,
          -0.07161572488825718,
          -0.9309787384976403,
          0.11791449149366284,
          -1.1062473942402988,
          -0.35788548437586404,
          -0.3021284959768266,
          -1.3895146183345222,
          1.0207429380778419,
          0.17078822856664266,
          -0.1907799131125399,
          0.4714082561261303,
          0.2754318671952387,
          -0.2514751898440218,
          0.2837712535707717,
          -2.96998439652934,
          -0.1986095130641284,
          0.8367124996316605,
          -1.2139829622550151,
          0.6954813803560759,
          1.3221282513598556,
          -0.28719994075524213,
          2.2187535094641837,
          -0.3975645906718611,
          1.4843046228816186,
          -0.1192081000017448,
          1.0537349037666213,
          -0.6698748203139302,
          0.32146389721568674,
          -1.7296684021234106,
          0.531263702406474
         ],
         "yaxis": "y13"
        },
        {
         "line": {
          "color": "rgba(128, 128, 128, 1.0)",
          "dash": "solid",
          "shape": "linear",
          "width": 1.3
         },
         "marker": {
          "size": 2,
          "symbol": "circle"
         },
         "mode": "markers",
         "name": "D",
         "text": "",
         "type": "scatter",
         "x": [
          -2.467489679081685,
          -0.9109994341608991,
          -0.9775439597470429,
          -0.8050359803816095,
          0.3880837334389582,
          0.7226047001728041,
          2.12261391775626,
          -1.585119821691273,
          -1.4789391663694118,
          1.4130010878680048,
          0.5171336797321604,
          0.8200803187753855,
          -0.1651247430133621,
          -0.020378991429335632,
          1.7248920409679187,
          -1.0379234752961863,
          1.0288558054083492,
          -0.4209039800868332,
          0.9359771990048374,
          0.5283817923005579,
          -0.704072800755225,
          0.33848644671342304,
          1.1773768477836346,
          -0.45103721768800803,
          0.13224782035424706,
          0.7204598068251858,
          -0.9342447733723493,
          -1.5204779496076484,
          1.0181798372524824,
          2.0464668998426223,
          0.6454665423594669,
          -0.5056759016895037,
          0.6527386290509671,
          -0.5547342801162942,
          0.3788700033858548,
          -0.3676073288176218,
          0.5656698820540743,
          1.580633720103138,
          -0.12711454975637088,
          -0.3505517026278936,
          -0.7660622716697431,
          1.523972798077345,
          0.8877692878051118,
          -0.10704995915426571,
          1.629723149498767,
          -0.15762680777432658,
          -1.2668726445596794,
          0.20016928924696611,
          0.699254128347382,
          -0.03689603754636403,
          0.30371287844000294,
          0.28611928397815256,
          2.0585330014523042,
          1.0140945140540905,
          -0.8297552712905361,
          0.09013592833499368,
          0.3984442817811917,
          -0.4571516491840917,
          -0.44287898704643447,
          -1.0569149385856347,
          0.04807235507245364,
          -0.34419688596532827,
          0.10004621268753495,
          0.08731147708013766,
          1.0876804228688925,
          1.3099639910003447,
          0.7539412010773562,
          0.11957250636430646,
          2.3106977365467682,
          2.519930816359611,
          0.08534530825215789,
          -0.9825625396071127,
          -0.39525470620522996,
          -3.1375179773086317,
          0.6132469463474309,
          -0.16942740949205784,
          0.09266214650465411,
          -1.0902353511589595,
          0.8250519676663988,
          -0.13858028835181693,
          -0.28940274670430133,
          -0.002690390203971974,
          0.046357330322069706,
          0.85344253401098,
          0.5158074327785028,
          -1.0161437917023335,
          0.4572488313164856,
          -0.10617864673067459,
          -0.5613388514490533,
          0.3160584742132285,
          -0.8654585149192117,
          0.5512673818002701,
          -0.048270305086464724,
          0.7690216936257351,
          0.8258710118208544,
          -0.16396989659898215,
          -0.7355413370519562,
          -0.163054476714875,
          -1.1757281031956057,
          0.7343984686472602
         ],
         "xaxis": "x14",
         "y": [
          0.18451300084608604,
          -0.3022177165304333,
          -0.6006769288458926,
          -0.3052576828469785,
          0.012925204395338697,
          0.06072685016311775,
          1.2464010145843716,
          2.2562220704540947,
          1.7541323312485497,
          -2.7953960478174134,
          1.7960094174179742,
          0.8587481039984973,
          1.0574408725210322,
          -1.576207770904765,
          -0.16787222872406804,
          -1.580171289911969,
          -0.7405713053105409,
          -0.12211621622406345,
          -0.02719325408965277,
          0.7455332289902771,
          1.0431039917089024,
          -0.5573515013267838,
          -0.9478720009528269,
          -2.2240467163863453,
          0.47885219514426564,
          0.6635970834572871,
          0.16347637504181256,
          -0.514245754001384,
          0.2450690907864287,
          0.05695716481583332,
          0.6634388719648321,
          -0.39840694654691705,
          0.5490831922887796,
          -1.3498267213886324,
          2.0059690281820273,
          2.4237220564037774,
          0.6409158751104084,
          -1.145590629899955,
          -0.6344692609620162,
          -1.964475569311091,
          -2.553119815804278,
          -0.4154753044515657,
          0.93288515541365,
          0.41607149191763854,
          -0.5223885849225867,
          -0.5097269627705164,
          0.3137166198850058,
          -0.41033148846453166,
          -1.3504160978888808,
          -1.44639215776379,
          -1.2558830397396972,
          0.5085298183118243,
          -0.4844584936706081,
          -1.1095044253580726,
          -0.7520124292610786,
          0.5109618144518884,
          -1.0808074527541336,
          2.0158253236315438,
          0.8194125244241102,
          -1.830150410875788,
          -0.11276219125895252,
          0.7023652442498306,
          1.9866344386381598,
          -1.112745174819402,
          -1.0955180400783469,
          -0.44312559456598377,
          -0.9639932603404257,
          1.419599652907551,
          0.13032087210775575,
          -0.08480607840877766,
          -0.07161572488825718,
          -0.9309787384976403,
          0.11791449149366284,
          -1.1062473942402988,
          -0.35788548437586404,
          -0.3021284959768266,
          -1.3895146183345222,
          1.0207429380778419,
          0.17078822856664266,
          -0.1907799131125399,
          0.4714082561261303,
          0.2754318671952387,
          -0.2514751898440218,
          0.2837712535707717,
          -2.96998439652934,
          -0.1986095130641284,
          0.8367124996316605,
          -1.2139829622550151,
          0.6954813803560759,
          1.3221282513598556,
          -0.28719994075524213,
          2.2187535094641837,
          -0.3975645906718611,
          1.4843046228816186,
          -0.1192081000017448,
          1.0537349037666213,
          -0.6698748203139302,
          0.32146389721568674,
          -1.7296684021234106,
          0.531263702406474
         ],
         "yaxis": "y14"
        },
        {
         "line": {
          "color": "rgba(128, 128, 128, 1.0)",
          "dash": "solid",
          "shape": "linear",
          "width": 1.3
         },
         "marker": {
          "size": 2,
          "symbol": "circle"
         },
         "mode": "markers",
         "name": "D",
         "text": "",
         "type": "scatter",
         "x": [
          -0.8893998141162937,
          0.6372436645570296,
          -2.23741081423564,
          -0.31765623347929695,
          0.7561914475460509,
          -0.623860105721561,
          0.6903173494809115,
          -0.5048600551762947,
          2.020714308651883,
          0.23026979636838407,
          0.37398753003537616,
          0.5206609753244256,
          -0.10018920147383852,
          -1.2985299229663352,
          -0.9483501928456123,
          1.135689521637158,
          -0.3337735918049371,
          -1.6326402352224678,
          -0.25866872748129416,
          0.5924898339790267,
          1.2233285790848265,
          -1.474457852245962,
          0.45596964798191353,
          -0.10814969404145522,
          -0.27594004426502083,
          -0.9124845686148109,
          0.01100070388541124,
          -1.9505347477078452,
          -0.15105469124096588,
          0.907630680494936,
          -0.6029292033423908,
          0.990481495159389,
          1.1515227416718936,
          0.44789830857842894,
          -1.7855238667231463,
          -0.5902657180884271,
          0.8584499386080536,
          1.0116028854383643,
          -0.571014671596426,
          -0.3866591298764715,
          0.9949808495557023,
          0.7875792632930714,
          0.29112207583799676,
          -0.3884189898620297,
          -1.6966161836642502,
          1.8160384812003816,
          0.32587379503399005,
          0.2644828784239742,
          -0.08883414710595931,
          -1.8782287388849652,
          0.05256177117982688,
          1.0882529289653526,
          0.8784535728298893,
          1.0193199732692901,
          -0.8088506639910596,
          -1.0223568889142052,
          0.06939344982076391,
          0.6655572511232158,
          -0.38330034677819247,
          -0.7887206396605513,
          -2.1337760011371416,
          -0.505300093639108,
          -0.22328614767833907,
          -1.0417437989607305,
          -0.34560269984827874,
          0.3537127142015969,
          -0.2736786047966587,
          -0.2298074753826692,
          0.8303171527118302,
          -0.8303087103507922,
          1.9162689202891265,
          -0.5565059936724137,
          2.061512699042052,
          0.5734812031194394,
          -1.034854720445252,
          -0.11071862296050343,
          -0.6111748958387944,
          0.28806307986797813,
          1.2021557339158877,
          -1.3410568555000184,
          -0.5043708568868606,
          -0.26905233445725124,
          0.8835614081469708,
          0.31823037951212957,
          -0.20841669540258473,
          1.051719819048651,
          0.3510133756617166,
          0.11514781134378886,
          -2.0386124893706765,
          -1.569657323964556,
          -0.4080591760496254,
          -0.29178810250300924,
          0.40457254548522725,
          -0.7983154563691286,
          -0.2538226193332108,
          -0.678911915924447,
          0.5116043020782122,
          -0.2827194860534984,
          0.6441183952673111,
          -0.2619746150812916
         ],
         "xaxis": "x15",
         "y": [
          0.18451300084608604,
          -0.3022177165304333,
          -0.6006769288458926,
          -0.3052576828469785,
          0.012925204395338697,
          0.06072685016311775,
          1.2464010145843716,
          2.2562220704540947,
          1.7541323312485497,
          -2.7953960478174134,
          1.7960094174179742,
          0.8587481039984973,
          1.0574408725210322,
          -1.576207770904765,
          -0.16787222872406804,
          -1.580171289911969,
          -0.7405713053105409,
          -0.12211621622406345,
          -0.02719325408965277,
          0.7455332289902771,
          1.0431039917089024,
          -0.5573515013267838,
          -0.9478720009528269,
          -2.2240467163863453,
          0.47885219514426564,
          0.6635970834572871,
          0.16347637504181256,
          -0.514245754001384,
          0.2450690907864287,
          0.05695716481583332,
          0.6634388719648321,
          -0.39840694654691705,
          0.5490831922887796,
          -1.3498267213886324,
          2.0059690281820273,
          2.4237220564037774,
          0.6409158751104084,
          -1.145590629899955,
          -0.6344692609620162,
          -1.964475569311091,
          -2.553119815804278,
          -0.4154753044515657,
          0.93288515541365,
          0.41607149191763854,
          -0.5223885849225867,
          -0.5097269627705164,
          0.3137166198850058,
          -0.41033148846453166,
          -1.3504160978888808,
          -1.44639215776379,
          -1.2558830397396972,
          0.5085298183118243,
          -0.4844584936706081,
          -1.1095044253580726,
          -0.7520124292610786,
          0.5109618144518884,
          -1.0808074527541336,
          2.0158253236315438,
          0.8194125244241102,
          -1.830150410875788,
          -0.11276219125895252,
          0.7023652442498306,
          1.9866344386381598,
          -1.112745174819402,
          -1.0955180400783469,
          -0.44312559456598377,
          -0.9639932603404257,
          1.419599652907551,
          0.13032087210775575,
          -0.08480607840877766,
          -0.07161572488825718,
          -0.9309787384976403,
          0.11791449149366284,
          -1.1062473942402988,
          -0.35788548437586404,
          -0.3021284959768266,
          -1.3895146183345222,
          1.0207429380778419,
          0.17078822856664266,
          -0.1907799131125399,
          0.4714082561261303,
          0.2754318671952387,
          -0.2514751898440218,
          0.2837712535707717,
          -2.96998439652934,
          -0.1986095130641284,
          0.8367124996316605,
          -1.2139829622550151,
          0.6954813803560759,
          1.3221282513598556,
          -0.28719994075524213,
          2.2187535094641837,
          -0.3975645906718611,
          1.4843046228816186,
          -0.1192081000017448,
          1.0537349037666213,
          -0.6698748203139302,
          0.32146389721568674,
          -1.7296684021234106,
          0.531263702406474
         ],
         "yaxis": "y15"
        },
        {
         "histfunc": "count",
         "histnorm": "",
         "marker": {
          "color": "rgba(128, 0, 128, 1.0)",
          "line": {
           "color": "#4D5663",
           "width": 1.3
          }
         },
         "name": "D",
         "nbinsx": 10,
         "opacity": 0.8,
         "orientation": "v",
         "type": "histogram",
         "x": [
          0.18451300084608604,
          -0.3022177165304333,
          -0.6006769288458926,
          -0.3052576828469785,
          0.012925204395338697,
          0.06072685016311775,
          1.2464010145843716,
          2.2562220704540947,
          1.7541323312485497,
          -2.7953960478174134,
          1.7960094174179742,
          0.8587481039984973,
          1.0574408725210322,
          -1.576207770904765,
          -0.16787222872406804,
          -1.580171289911969,
          -0.7405713053105409,
          -0.12211621622406345,
          -0.02719325408965277,
          0.7455332289902771,
          1.0431039917089024,
          -0.5573515013267838,
          -0.9478720009528269,
          -2.2240467163863453,
          0.47885219514426564,
          0.6635970834572871,
          0.16347637504181256,
          -0.514245754001384,
          0.2450690907864287,
          0.05695716481583332,
          0.6634388719648321,
          -0.39840694654691705,
          0.5490831922887796,
          -1.3498267213886324,
          2.0059690281820273,
          2.4237220564037774,
          0.6409158751104084,
          -1.145590629899955,
          -0.6344692609620162,
          -1.964475569311091,
          -2.553119815804278,
          -0.4154753044515657,
          0.93288515541365,
          0.41607149191763854,
          -0.5223885849225867,
          -0.5097269627705164,
          0.3137166198850058,
          -0.41033148846453166,
          -1.3504160978888808,
          -1.44639215776379,
          -1.2558830397396972,
          0.5085298183118243,
          -0.4844584936706081,
          -1.1095044253580726,
          -0.7520124292610786,
          0.5109618144518884,
          -1.0808074527541336,
          2.0158253236315438,
          0.8194125244241102,
          -1.830150410875788,
          -0.11276219125895252,
          0.7023652442498306,
          1.9866344386381598,
          -1.112745174819402,
          -1.0955180400783469,
          -0.44312559456598377,
          -0.9639932603404257,
          1.419599652907551,
          0.13032087210775575,
          -0.08480607840877766,
          -0.07161572488825718,
          -0.9309787384976403,
          0.11791449149366284,
          -1.1062473942402988,
          -0.35788548437586404,
          -0.3021284959768266,
          -1.3895146183345222,
          1.0207429380778419,
          0.17078822856664266,
          -0.1907799131125399,
          0.4714082561261303,
          0.2754318671952387,
          -0.2514751898440218,
          0.2837712535707717,
          -2.96998439652934,
          -0.1986095130641284,
          0.8367124996316605,
          -1.2139829622550151,
          0.6954813803560759,
          1.3221282513598556,
          -0.28719994075524213,
          2.2187535094641837,
          -0.3975645906718611,
          1.4843046228816186,
          -0.1192081000017448,
          1.0537349037666213,
          -0.6698748203139302,
          0.32146389721568674,
          -1.7296684021234106,
          0.531263702406474
         ],
         "xaxis": "x16",
         "yaxis": "y16"
        }
       ],
       "layout": {
        "bargap": 0.02,
        "legend": {
         "bgcolor": "#F5F6F9",
         "font": {
          "color": "#4D5663"
         }
        },
        "paper_bgcolor": "#F5F6F9",
        "plot_bgcolor": "#F5F6F9",
        "showlegend": false,
        "template": {
         "data": {
          "bar": [
           {
            "error_x": {
             "color": "#2a3f5f"
            },
            "error_y": {
             "color": "#2a3f5f"
            },
            "marker": {
             "line": {
              "color": "#E5ECF6",
              "width": 0.5
             },
             "pattern": {
              "fillmode": "overlay",
              "size": 10,
              "solidity": 0.2
             }
            },
            "type": "bar"
           }
          ],
          "barpolar": [
           {
            "marker": {
             "line": {
              "color": "#E5ECF6",
              "width": 0.5
             },
             "pattern": {
              "fillmode": "overlay",
              "size": 10,
              "solidity": 0.2
             }
            },
            "type": "barpolar"
           }
          ],
          "carpet": [
           {
            "aaxis": {
             "endlinecolor": "#2a3f5f",
             "gridcolor": "white",
             "linecolor": "white",
             "minorgridcolor": "white",
             "startlinecolor": "#2a3f5f"
            },
            "baxis": {
             "endlinecolor": "#2a3f5f",
             "gridcolor": "white",
             "linecolor": "white",
             "minorgridcolor": "white",
             "startlinecolor": "#2a3f5f"
            },
            "type": "carpet"
           }
          ],
          "choropleth": [
           {
            "colorbar": {
             "outlinewidth": 0,
             "ticks": ""
            },
            "type": "choropleth"
           }
          ],
          "contour": [
           {
            "colorbar": {
             "outlinewidth": 0,
             "ticks": ""
            },
            "colorscale": [
             [
              0,
              "#0d0887"
             ],
             [
              0.1111111111111111,
              "#46039f"
             ],
             [
              0.2222222222222222,
              "#7201a8"
             ],
             [
              0.3333333333333333,
              "#9c179e"
             ],
             [
              0.4444444444444444,
              "#bd3786"
             ],
             [
              0.5555555555555556,
              "#d8576b"
             ],
             [
              0.6666666666666666,
              "#ed7953"
             ],
             [
              0.7777777777777778,
              "#fb9f3a"
             ],
             [
              0.8888888888888888,
              "#fdca26"
             ],
             [
              1,
              "#f0f921"
             ]
            ],
            "type": "contour"
           }
          ],
          "contourcarpet": [
           {
            "colorbar": {
             "outlinewidth": 0,
             "ticks": ""
            },
            "type": "contourcarpet"
           }
          ],
          "heatmap": [
           {
            "colorbar": {
             "outlinewidth": 0,
             "ticks": ""
            },
            "colorscale": [
             [
              0,
              "#0d0887"
             ],
             [
              0.1111111111111111,
              "#46039f"
             ],
             [
              0.2222222222222222,
              "#7201a8"
             ],
             [
              0.3333333333333333,
              "#9c179e"
             ],
             [
              0.4444444444444444,
              "#bd3786"
             ],
             [
              0.5555555555555556,
              "#d8576b"
             ],
             [
              0.6666666666666666,
              "#ed7953"
             ],
             [
              0.7777777777777778,
              "#fb9f3a"
             ],
             [
              0.8888888888888888,
              "#fdca26"
             ],
             [
              1,
              "#f0f921"
             ]
            ],
            "type": "heatmap"
           }
          ],
          "heatmapgl": [
           {
            "colorbar": {
             "outlinewidth": 0,
             "ticks": ""
            },
            "colorscale": [
             [
              0,
              "#0d0887"
             ],
             [
              0.1111111111111111,
              "#46039f"
             ],
             [
              0.2222222222222222,
              "#7201a8"
             ],
             [
              0.3333333333333333,
              "#9c179e"
             ],
             [
              0.4444444444444444,
              "#bd3786"
             ],
             [
              0.5555555555555556,
              "#d8576b"
             ],
             [
              0.6666666666666666,
              "#ed7953"
             ],
             [
              0.7777777777777778,
              "#fb9f3a"
             ],
             [
              0.8888888888888888,
              "#fdca26"
             ],
             [
              1,
              "#f0f921"
             ]
            ],
            "type": "heatmapgl"
           }
          ],
          "histogram": [
           {
            "marker": {
             "pattern": {
              "fillmode": "overlay",
              "size": 10,
              "solidity": 0.2
             }
            },
            "type": "histogram"
           }
          ],
          "histogram2d": [
           {
            "colorbar": {
             "outlinewidth": 0,
             "ticks": ""
            },
            "colorscale": [
             [
              0,
              "#0d0887"
             ],
             [
              0.1111111111111111,
              "#46039f"
             ],
             [
              0.2222222222222222,
              "#7201a8"
             ],
             [
              0.3333333333333333,
              "#9c179e"
             ],
             [
              0.4444444444444444,
              "#bd3786"
             ],
             [
              0.5555555555555556,
              "#d8576b"
             ],
             [
              0.6666666666666666,
              "#ed7953"
             ],
             [
              0.7777777777777778,
              "#fb9f3a"
             ],
             [
              0.8888888888888888,
              "#fdca26"
             ],
             [
              1,
              "#f0f921"
             ]
            ],
            "type": "histogram2d"
           }
          ],
          "histogram2dcontour": [
           {
            "colorbar": {
             "outlinewidth": 0,
             "ticks": ""
            },
            "colorscale": [
             [
              0,
              "#0d0887"
             ],
             [
              0.1111111111111111,
              "#46039f"
             ],
             [
              0.2222222222222222,
              "#7201a8"
             ],
             [
              0.3333333333333333,
              "#9c179e"
             ],
             [
              0.4444444444444444,
              "#bd3786"
             ],
             [
              0.5555555555555556,
              "#d8576b"
             ],
             [
              0.6666666666666666,
              "#ed7953"
             ],
             [
              0.7777777777777778,
              "#fb9f3a"
             ],
             [
              0.8888888888888888,
              "#fdca26"
             ],
             [
              1,
              "#f0f921"
             ]
            ],
            "type": "histogram2dcontour"
           }
          ],
          "mesh3d": [
           {
            "colorbar": {
             "outlinewidth": 0,
             "ticks": ""
            },
            "type": "mesh3d"
           }
          ],
          "parcoords": [
           {
            "line": {
             "colorbar": {
              "outlinewidth": 0,
              "ticks": ""
             }
            },
            "type": "parcoords"
           }
          ],
          "pie": [
           {
            "automargin": true,
            "type": "pie"
           }
          ],
          "scatter": [
           {
            "fillpattern": {
             "fillmode": "overlay",
             "size": 10,
             "solidity": 0.2
            },
            "type": "scatter"
           }
          ],
          "scatter3d": [
           {
            "line": {
             "colorbar": {
              "outlinewidth": 0,
              "ticks": ""
             }
            },
            "marker": {
             "colorbar": {
              "outlinewidth": 0,
              "ticks": ""
             }
            },
            "type": "scatter3d"
           }
          ],
          "scattercarpet": [
           {
            "marker": {
             "colorbar": {
              "outlinewidth": 0,
              "ticks": ""
             }
            },
            "type": "scattercarpet"
           }
          ],
          "scattergeo": [
           {
            "marker": {
             "colorbar": {
              "outlinewidth": 0,
              "ticks": ""
             }
            },
            "type": "scattergeo"
           }
          ],
          "scattergl": [
           {
            "marker": {
             "colorbar": {
              "outlinewidth": 0,
              "ticks": ""
             }
            },
            "type": "scattergl"
           }
          ],
          "scattermapbox": [
           {
            "marker": {
             "colorbar": {
              "outlinewidth": 0,
              "ticks": ""
             }
            },
            "type": "scattermapbox"
           }
          ],
          "scatterpolar": [
           {
            "marker": {
             "colorbar": {
              "outlinewidth": 0,
              "ticks": ""
             }
            },
            "type": "scatterpolar"
           }
          ],
          "scatterpolargl": [
           {
            "marker": {
             "colorbar": {
              "outlinewidth": 0,
              "ticks": ""
             }
            },
            "type": "scatterpolargl"
           }
          ],
          "scatterternary": [
           {
            "marker": {
             "colorbar": {
              "outlinewidth": 0,
              "ticks": ""
             }
            },
            "type": "scatterternary"
           }
          ],
          "surface": [
           {
            "colorbar": {
             "outlinewidth": 0,
             "ticks": ""
            },
            "colorscale": [
             [
              0,
              "#0d0887"
             ],
             [
              0.1111111111111111,
              "#46039f"
             ],
             [
              0.2222222222222222,
              "#7201a8"
             ],
             [
              0.3333333333333333,
              "#9c179e"
             ],
             [
              0.4444444444444444,
              "#bd3786"
             ],
             [
              0.5555555555555556,
              "#d8576b"
             ],
             [
              0.6666666666666666,
              "#ed7953"
             ],
             [
              0.7777777777777778,
              "#fb9f3a"
             ],
             [
              0.8888888888888888,
              "#fdca26"
             ],
             [
              1,
              "#f0f921"
             ]
            ],
            "type": "surface"
           }
          ],
          "table": [
           {
            "cells": {
             "fill": {
              "color": "#EBF0F8"
             },
             "line": {
              "color": "white"
             }
            },
            "header": {
             "fill": {
              "color": "#C8D4E3"
             },
             "line": {
              "color": "white"
             }
            },
            "type": "table"
           }
          ]
         },
         "layout": {
          "annotationdefaults": {
           "arrowcolor": "#2a3f5f",
           "arrowhead": 0,
           "arrowwidth": 1
          },
          "autotypenumbers": "strict",
          "coloraxis": {
           "colorbar": {
            "outlinewidth": 0,
            "ticks": ""
           }
          },
          "colorscale": {
           "diverging": [
            [
             0,
             "#8e0152"
            ],
            [
             0.1,
             "#c51b7d"
            ],
            [
             0.2,
             "#de77ae"
            ],
            [
             0.3,
             "#f1b6da"
            ],
            [
             0.4,
             "#fde0ef"
            ],
            [
             0.5,
             "#f7f7f7"
            ],
            [
             0.6,
             "#e6f5d0"
            ],
            [
             0.7,
             "#b8e186"
            ],
            [
             0.8,
             "#7fbc41"
            ],
            [
             0.9,
             "#4d9221"
            ],
            [
             1,
             "#276419"
            ]
           ],
           "sequential": [
            [
             0,
             "#0d0887"
            ],
            [
             0.1111111111111111,
             "#46039f"
            ],
            [
             0.2222222222222222,
             "#7201a8"
            ],
            [
             0.3333333333333333,
             "#9c179e"
            ],
            [
             0.4444444444444444,
             "#bd3786"
            ],
            [
             0.5555555555555556,
             "#d8576b"
            ],
            [
             0.6666666666666666,
             "#ed7953"
            ],
            [
             0.7777777777777778,
             "#fb9f3a"
            ],
            [
             0.8888888888888888,
             "#fdca26"
            ],
            [
             1,
             "#f0f921"
            ]
           ],
           "sequentialminus": [
            [
             0,
             "#0d0887"
            ],
            [
             0.1111111111111111,
             "#46039f"
            ],
            [
             0.2222222222222222,
             "#7201a8"
            ],
            [
             0.3333333333333333,
             "#9c179e"
            ],
            [
             0.4444444444444444,
             "#bd3786"
            ],
            [
             0.5555555555555556,
             "#d8576b"
            ],
            [
             0.6666666666666666,
             "#ed7953"
            ],
            [
             0.7777777777777778,
             "#fb9f3a"
            ],
            [
             0.8888888888888888,
             "#fdca26"
            ],
            [
             1,
             "#f0f921"
            ]
           ]
          },
          "colorway": [
           "#636efa",
           "#EF553B",
           "#00cc96",
           "#ab63fa",
           "#FFA15A",
           "#19d3f3",
           "#FF6692",
           "#B6E880",
           "#FF97FF",
           "#FECB52"
          ],
          "font": {
           "color": "#2a3f5f"
          },
          "geo": {
           "bgcolor": "white",
           "lakecolor": "white",
           "landcolor": "#E5ECF6",
           "showlakes": true,
           "showland": true,
           "subunitcolor": "white"
          },
          "hoverlabel": {
           "align": "left"
          },
          "hovermode": "closest",
          "mapbox": {
           "style": "light"
          },
          "paper_bgcolor": "white",
          "plot_bgcolor": "#E5ECF6",
          "polar": {
           "angularaxis": {
            "gridcolor": "white",
            "linecolor": "white",
            "ticks": ""
           },
           "bgcolor": "#E5ECF6",
           "radialaxis": {
            "gridcolor": "white",
            "linecolor": "white",
            "ticks": ""
           }
          },
          "scene": {
           "xaxis": {
            "backgroundcolor": "#E5ECF6",
            "gridcolor": "white",
            "gridwidth": 2,
            "linecolor": "white",
            "showbackground": true,
            "ticks": "",
            "zerolinecolor": "white"
           },
           "yaxis": {
            "backgroundcolor": "#E5ECF6",
            "gridcolor": "white",
            "gridwidth": 2,
            "linecolor": "white",
            "showbackground": true,
            "ticks": "",
            "zerolinecolor": "white"
           },
           "zaxis": {
            "backgroundcolor": "#E5ECF6",
            "gridcolor": "white",
            "gridwidth": 2,
            "linecolor": "white",
            "showbackground": true,
            "ticks": "",
            "zerolinecolor": "white"
           }
          },
          "shapedefaults": {
           "line": {
            "color": "#2a3f5f"
           }
          },
          "ternary": {
           "aaxis": {
            "gridcolor": "white",
            "linecolor": "white",
            "ticks": ""
           },
           "baxis": {
            "gridcolor": "white",
            "linecolor": "white",
            "ticks": ""
           },
           "bgcolor": "#E5ECF6",
           "caxis": {
            "gridcolor": "white",
            "linecolor": "white",
            "ticks": ""
           }
          },
          "title": {
           "x": 0.05
          },
          "xaxis": {
           "automargin": true,
           "gridcolor": "white",
           "linecolor": "white",
           "ticks": "",
           "title": {
            "standoff": 15
           },
           "zerolinecolor": "white",
           "zerolinewidth": 2
          },
          "yaxis": {
           "automargin": true,
           "gridcolor": "white",
           "linecolor": "white",
           "ticks": "",
           "title": {
            "standoff": 15
           },
           "zerolinecolor": "white",
           "zerolinewidth": 2
          }
         }
        },
        "title": {
         "font": {
          "color": "#4D5663"
         }
        },
        "xaxis": {
         "anchor": "y",
         "domain": [
          0,
          0.2125
         ],
         "gridcolor": "#E1E5ED",
         "showgrid": false,
         "tickfont": {
          "color": "#4D5663"
         },
         "title": {
          "font": {
           "color": "#4D5663"
          },
          "text": ""
         },
         "zerolinecolor": "#E1E5ED"
        },
        "xaxis10": {
         "anchor": "y10",
         "domain": [
          0.2625,
          0.475
         ],
         "gridcolor": "#E1E5ED",
         "showgrid": false,
         "tickfont": {
          "color": "#4D5663"
         },
         "title": {
          "font": {
           "color": "#4D5663"
          },
          "text": ""
         },
         "zerolinecolor": "#E1E5ED"
        },
        "xaxis11": {
         "anchor": "y11",
         "domain": [
          0.525,
          0.7375
         ],
         "gridcolor": "#E1E5ED",
         "showgrid": false,
         "tickfont": {
          "color": "#4D5663"
         },
         "title": {
          "font": {
           "color": "#4D5663"
          },
          "text": ""
         },
         "zerolinecolor": "#E1E5ED"
        },
        "xaxis12": {
         "anchor": "y12",
         "domain": [
          0.7875,
          1
         ],
         "gridcolor": "#E1E5ED",
         "showgrid": false,
         "tickfont": {
          "color": "#4D5663"
         },
         "title": {
          "font": {
           "color": "#4D5663"
          },
          "text": ""
         },
         "zerolinecolor": "#E1E5ED"
        },
        "xaxis13": {
         "anchor": "y13",
         "domain": [
          0,
          0.2125
         ],
         "gridcolor": "#E1E5ED",
         "showgrid": false,
         "tickfont": {
          "color": "#4D5663"
         },
         "title": {
          "font": {
           "color": "#4D5663"
          },
          "text": ""
         },
         "zerolinecolor": "#E1E5ED"
        },
        "xaxis14": {
         "anchor": "y14",
         "domain": [
          0.2625,
          0.475
         ],
         "gridcolor": "#E1E5ED",
         "showgrid": false,
         "tickfont": {
          "color": "#4D5663"
         },
         "title": {
          "font": {
           "color": "#4D5663"
          },
          "text": ""
         },
         "zerolinecolor": "#E1E5ED"
        },
        "xaxis15": {
         "anchor": "y15",
         "domain": [
          0.525,
          0.7375
         ],
         "gridcolor": "#E1E5ED",
         "showgrid": false,
         "tickfont": {
          "color": "#4D5663"
         },
         "title": {
          "font": {
           "color": "#4D5663"
          },
          "text": ""
         },
         "zerolinecolor": "#E1E5ED"
        },
        "xaxis16": {
         "anchor": "y16",
         "domain": [
          0.7875,
          1
         ],
         "gridcolor": "#E1E5ED",
         "showgrid": false,
         "tickfont": {
          "color": "#4D5663"
         },
         "title": {
          "font": {
           "color": "#4D5663"
          },
          "text": ""
         },
         "zerolinecolor": "#E1E5ED"
        },
        "xaxis2": {
         "anchor": "y2",
         "domain": [
          0.2625,
          0.475
         ],
         "gridcolor": "#E1E5ED",
         "showgrid": false,
         "tickfont": {
          "color": "#4D5663"
         },
         "title": {
          "font": {
           "color": "#4D5663"
          },
          "text": ""
         },
         "zerolinecolor": "#E1E5ED"
        },
        "xaxis3": {
         "anchor": "y3",
         "domain": [
          0.525,
          0.7375
         ],
         "gridcolor": "#E1E5ED",
         "showgrid": false,
         "tickfont": {
          "color": "#4D5663"
         },
         "title": {
          "font": {
           "color": "#4D5663"
          },
          "text": ""
         },
         "zerolinecolor": "#E1E5ED"
        },
        "xaxis4": {
         "anchor": "y4",
         "domain": [
          0.7875,
          1
         ],
         "gridcolor": "#E1E5ED",
         "showgrid": false,
         "tickfont": {
          "color": "#4D5663"
         },
         "title": {
          "font": {
           "color": "#4D5663"
          },
          "text": ""
         },
         "zerolinecolor": "#E1E5ED"
        },
        "xaxis5": {
         "anchor": "y5",
         "domain": [
          0,
          0.2125
         ],
         "gridcolor": "#E1E5ED",
         "showgrid": false,
         "tickfont": {
          "color": "#4D5663"
         },
         "title": {
          "font": {
           "color": "#4D5663"
          },
          "text": ""
         },
         "zerolinecolor": "#E1E5ED"
        },
        "xaxis6": {
         "anchor": "y6",
         "domain": [
          0.2625,
          0.475
         ],
         "gridcolor": "#E1E5ED",
         "showgrid": false,
         "tickfont": {
          "color": "#4D5663"
         },
         "title": {
          "font": {
           "color": "#4D5663"
          },
          "text": ""
         },
         "zerolinecolor": "#E1E5ED"
        },
        "xaxis7": {
         "anchor": "y7",
         "domain": [
          0.525,
          0.7375
         ],
         "gridcolor": "#E1E5ED",
         "showgrid": false,
         "tickfont": {
          "color": "#4D5663"
         },
         "title": {
          "font": {
           "color": "#4D5663"
          },
          "text": ""
         },
         "zerolinecolor": "#E1E5ED"
        },
        "xaxis8": {
         "anchor": "y8",
         "domain": [
          0.7875,
          1
         ],
         "gridcolor": "#E1E5ED",
         "showgrid": false,
         "tickfont": {
          "color": "#4D5663"
         },
         "title": {
          "font": {
           "color": "#4D5663"
          },
          "text": ""
         },
         "zerolinecolor": "#E1E5ED"
        },
        "xaxis9": {
         "anchor": "y9",
         "domain": [
          0,
          0.2125
         ],
         "gridcolor": "#E1E5ED",
         "showgrid": false,
         "tickfont": {
          "color": "#4D5663"
         },
         "title": {
          "font": {
           "color": "#4D5663"
          },
          "text": ""
         },
         "zerolinecolor": "#E1E5ED"
        },
        "yaxis": {
         "anchor": "x",
         "domain": [
          0.8025,
          1
         ],
         "gridcolor": "#E1E5ED",
         "showgrid": false,
         "tickfont": {
          "color": "#4D5663"
         },
         "title": {
          "font": {
           "color": "#4D5663"
          },
          "text": ""
         },
         "zerolinecolor": "#E1E5ED"
        },
        "yaxis10": {
         "anchor": "x10",
         "domain": [
          0.2675,
          0.465
         ],
         "gridcolor": "#E1E5ED",
         "showgrid": false,
         "tickfont": {
          "color": "#4D5663"
         },
         "title": {
          "font": {
           "color": "#4D5663"
          },
          "text": ""
         },
         "zerolinecolor": "#E1E5ED"
        },
        "yaxis11": {
         "anchor": "x11",
         "domain": [
          0.2675,
          0.465
         ],
         "gridcolor": "#E1E5ED",
         "showgrid": false,
         "tickfont": {
          "color": "#4D5663"
         },
         "title": {
          "font": {
           "color": "#4D5663"
          },
          "text": ""
         },
         "zerolinecolor": "#E1E5ED"
        },
        "yaxis12": {
         "anchor": "x12",
         "domain": [
          0.2675,
          0.465
         ],
         "gridcolor": "#E1E5ED",
         "showgrid": false,
         "tickfont": {
          "color": "#4D5663"
         },
         "title": {
          "font": {
           "color": "#4D5663"
          },
          "text": ""
         },
         "zerolinecolor": "#E1E5ED"
        },
        "yaxis13": {
         "anchor": "x13",
         "domain": [
          0,
          0.1975
         ],
         "gridcolor": "#E1E5ED",
         "showgrid": false,
         "tickfont": {
          "color": "#4D5663"
         },
         "title": {
          "font": {
           "color": "#4D5663"
          },
          "text": ""
         },
         "zerolinecolor": "#E1E5ED"
        },
        "yaxis14": {
         "anchor": "x14",
         "domain": [
          0,
          0.1975
         ],
         "gridcolor": "#E1E5ED",
         "showgrid": false,
         "tickfont": {
          "color": "#4D5663"
         },
         "title": {
          "font": {
           "color": "#4D5663"
          },
          "text": ""
         },
         "zerolinecolor": "#E1E5ED"
        },
        "yaxis15": {
         "anchor": "x15",
         "domain": [
          0,
          0.1975
         ],
         "gridcolor": "#E1E5ED",
         "showgrid": false,
         "tickfont": {
          "color": "#4D5663"
         },
         "title": {
          "font": {
           "color": "#4D5663"
          },
          "text": ""
         },
         "zerolinecolor": "#E1E5ED"
        },
        "yaxis16": {
         "anchor": "x16",
         "domain": [
          0,
          0.1975
         ],
         "gridcolor": "#E1E5ED",
         "showgrid": false,
         "tickfont": {
          "color": "#4D5663"
         },
         "title": {
          "font": {
           "color": "#4D5663"
          },
          "text": ""
         },
         "zerolinecolor": "#E1E5ED"
        },
        "yaxis2": {
         "anchor": "x2",
         "domain": [
          0.8025,
          1
         ],
         "gridcolor": "#E1E5ED",
         "showgrid": false,
         "tickfont": {
          "color": "#4D5663"
         },
         "title": {
          "font": {
           "color": "#4D5663"
          },
          "text": ""
         },
         "zerolinecolor": "#E1E5ED"
        },
        "yaxis3": {
         "anchor": "x3",
         "domain": [
          0.8025,
          1
         ],
         "gridcolor": "#E1E5ED",
         "showgrid": false,
         "tickfont": {
          "color": "#4D5663"
         },
         "title": {
          "font": {
           "color": "#4D5663"
          },
          "text": ""
         },
         "zerolinecolor": "#E1E5ED"
        },
        "yaxis4": {
         "anchor": "x4",
         "domain": [
          0.8025,
          1
         ],
         "gridcolor": "#E1E5ED",
         "showgrid": false,
         "tickfont": {
          "color": "#4D5663"
         },
         "title": {
          "font": {
           "color": "#4D5663"
          },
          "text": ""
         },
         "zerolinecolor": "#E1E5ED"
        },
        "yaxis5": {
         "anchor": "x5",
         "domain": [
          0.535,
          0.7325
         ],
         "gridcolor": "#E1E5ED",
         "showgrid": false,
         "tickfont": {
          "color": "#4D5663"
         },
         "title": {
          "font": {
           "color": "#4D5663"
          },
          "text": ""
         },
         "zerolinecolor": "#E1E5ED"
        },
        "yaxis6": {
         "anchor": "x6",
         "domain": [
          0.535,
          0.7325
         ],
         "gridcolor": "#E1E5ED",
         "showgrid": false,
         "tickfont": {
          "color": "#4D5663"
         },
         "title": {
          "font": {
           "color": "#4D5663"
          },
          "text": ""
         },
         "zerolinecolor": "#E1E5ED"
        },
        "yaxis7": {
         "anchor": "x7",
         "domain": [
          0.535,
          0.7325
         ],
         "gridcolor": "#E1E5ED",
         "showgrid": false,
         "tickfont": {
          "color": "#4D5663"
         },
         "title": {
          "font": {
           "color": "#4D5663"
          },
          "text": ""
         },
         "zerolinecolor": "#E1E5ED"
        },
        "yaxis8": {
         "anchor": "x8",
         "domain": [
          0.535,
          0.7325
         ],
         "gridcolor": "#E1E5ED",
         "showgrid": false,
         "tickfont": {
          "color": "#4D5663"
         },
         "title": {
          "font": {
           "color": "#4D5663"
          },
          "text": ""
         },
         "zerolinecolor": "#E1E5ED"
        },
        "yaxis9": {
         "anchor": "x9",
         "domain": [
          0.2675,
          0.465
         ],
         "gridcolor": "#E1E5ED",
         "showgrid": false,
         "tickfont": {
          "color": "#4D5663"
         },
         "title": {
          "font": {
           "color": "#4D5663"
          },
          "text": ""
         },
         "zerolinecolor": "#E1E5ED"
        }
       }
      },
      "text/html": [
       "<div>                            <div id=\"f42da57b-bf03-43e0-a31d-70b1ec61378b\" class=\"plotly-graph-div\" style=\"height:525px; width:100%;\"></div>            <script type=\"text/javascript\">                require([\"plotly\"], function(Plotly) {                    window.PLOTLYENV=window.PLOTLYENV || {};\n",
       "                    window.PLOTLYENV.BASE_URL='https://plot.ly';                                    if (document.getElementById(\"f42da57b-bf03-43e0-a31d-70b1ec61378b\")) {                    Plotly.newPlot(                        \"f42da57b-bf03-43e0-a31d-70b1ec61378b\",                        [{\"histfunc\":\"count\",\"histnorm\":\"\",\"marker\":{\"color\":\"rgba(255, 153, 51, 1.0)\",\"line\":{\"color\":\"#4D5663\",\"width\":1.3}},\"name\":\"A\",\"nbinsx\":10,\"opacity\":0.8,\"orientation\":\"v\",\"x\":[-1.2821232259307913,-0.39999089040185204,0.18603955462223581,1.9454784431368184,-0.5976460193168096,-1.1357869422281528,0.5011941647418091,-0.3165890810433005,-0.49026251352794514,-0.3070155142823813,-0.00928407711693977,0.40742108364021007,-0.8059220890051619,-1.6150012335022794,0.2831274750204807,-0.8071318749394667,1.2578496478325498,0.5546354700979511,-0.8058535128503591,-1.325128537682219,-0.6293771302746785,-0.18505519612184348,1.161217988148961,-0.9940280665073525,-1.0517075260495918,-0.021950386799966522,1.7059306402459018,-0.5431574852715914,-1.6652518510749255,-0.2293687085613229,-0.9330038160520542,-0.40135606395472045,-0.5904818764111005,0.1561604164203169,0.05909328601089837,-0.27648155744488384,1.5426214018051496,2.00748019586431,-0.23004698398830756,-0.9034603928397359,-0.8432824015442412,0.5985161962702256,0.2064791649332286,-1.5981203262502197,-0.691193621887644,1.2648788373359174,-0.9812428188552841,0.29077257292937864,-0.3860304784116714,0.7348736205455061,-0.30194463093884955,-1.1804849866851235,1.8555927233230805,0.3206204405021417,-0.3484647029488913,0.17804035824914086,-0.005932309547459654,-1.09324321057662,1.0537325994802822,-0.11131747857058517,1.5510248050539293,0.0641092321739744,0.011983916018163067,0.07671899326363087,-1.6383015593850865,-0.8930202201725317,2.177001154926578,0.10032475555698285,0.19801577044420687,-0.8143086148611789,2.5765300667706303,1.1424955734563713,-1.1782421287147495,0.36719261575559925,1.913126328532216,0.5316725673593986,1.0609389309814266,-0.2580418540315302,-1.1096209702275894,-0.16525766112282678,-0.6350618813045671,-0.6680136886957433,2.2019863428116317,-0.6545846207600245,-0.9819257347533642,0.7686352817125546,-0.28770493344401477,0.5918740917074815,0.5183444223241045,-1.7520524718812602,1.3980636906330712,-1.1245314917361031,0.022139236012942463,0.7592364488219824,0.42600620243372245,-1.5866222361761575,0.9371724506934582,-0.9137856349047465,1.6410233938129204,-0.16725096651345864],\"xaxis\":\"x\",\"yaxis\":\"y\",\"type\":\"histogram\"},{\"line\":{\"color\":\"rgba(128, 128, 128, 1.0)\",\"dash\":\"solid\",\"shape\":\"linear\",\"width\":1.3},\"marker\":{\"size\":2,\"symbol\":\"circle\"},\"mode\":\"markers\",\"name\":\"A\",\"text\":\"\",\"x\":[-2.467489679081685,-0.9109994341608991,-0.9775439597470429,-0.8050359803816095,0.3880837334389582,0.7226047001728041,2.12261391775626,-1.585119821691273,-1.4789391663694118,1.4130010878680048,0.5171336797321604,0.8200803187753855,-0.1651247430133621,-0.020378991429335632,1.7248920409679187,-1.0379234752961863,1.0288558054083492,-0.4209039800868332,0.9359771990048374,0.5283817923005579,-0.704072800755225,0.33848644671342304,1.1773768477836346,-0.45103721768800803,0.13224782035424706,0.7204598068251858,-0.9342447733723493,-1.5204779496076484,1.0181798372524824,2.0464668998426223,0.6454665423594669,-0.5056759016895037,0.6527386290509671,-0.5547342801162942,0.3788700033858548,-0.3676073288176218,0.5656698820540743,1.580633720103138,-0.12711454975637088,-0.3505517026278936,-0.7660622716697431,1.523972798077345,0.8877692878051118,-0.10704995915426571,1.629723149498767,-0.15762680777432658,-1.2668726445596794,0.20016928924696611,0.699254128347382,-0.03689603754636403,0.30371287844000294,0.28611928397815256,2.0585330014523042,1.0140945140540905,-0.8297552712905361,0.09013592833499368,0.3984442817811917,-0.4571516491840917,-0.44287898704643447,-1.0569149385856347,0.04807235507245364,-0.34419688596532827,0.10004621268753495,0.08731147708013766,1.0876804228688925,1.3099639910003447,0.7539412010773562,0.11957250636430646,2.3106977365467682,2.519930816359611,0.08534530825215789,-0.9825625396071127,-0.39525470620522996,-3.1375179773086317,0.6132469463474309,-0.16942740949205784,0.09266214650465411,-1.0902353511589595,0.8250519676663988,-0.13858028835181693,-0.28940274670430133,-0.002690390203971974,0.046357330322069706,0.85344253401098,0.5158074327785028,-1.0161437917023335,0.4572488313164856,-0.10617864673067459,-0.5613388514490533,0.3160584742132285,-0.8654585149192117,0.5512673818002701,-0.048270305086464724,0.7690216936257351,0.8258710118208544,-0.16396989659898215,-0.7355413370519562,-0.163054476714875,-1.1757281031956057,0.7343984686472602],\"xaxis\":\"x2\",\"y\":[-1.2821232259307913,-0.39999089040185204,0.18603955462223581,1.9454784431368184,-0.5976460193168096,-1.1357869422281528,0.5011941647418091,-0.3165890810433005,-0.49026251352794514,-0.3070155142823813,-0.00928407711693977,0.40742108364021007,-0.8059220890051619,-1.6150012335022794,0.2831274750204807,-0.8071318749394667,1.2578496478325498,0.5546354700979511,-0.8058535128503591,-1.325128537682219,-0.6293771302746785,-0.18505519612184348,1.161217988148961,-0.9940280665073525,-1.0517075260495918,-0.021950386799966522,1.7059306402459018,-0.5431574852715914,-1.6652518510749255,-0.2293687085613229,-0.9330038160520542,-0.40135606395472045,-0.5904818764111005,0.1561604164203169,0.05909328601089837,-0.27648155744488384,1.5426214018051496,2.00748019586431,-0.23004698398830756,-0.9034603928397359,-0.8432824015442412,0.5985161962702256,0.2064791649332286,-1.5981203262502197,-0.691193621887644,1.2648788373359174,-0.9812428188552841,0.29077257292937864,-0.3860304784116714,0.7348736205455061,-0.30194463093884955,-1.1804849866851235,1.8555927233230805,0.3206204405021417,-0.3484647029488913,0.17804035824914086,-0.005932309547459654,-1.09324321057662,1.0537325994802822,-0.11131747857058517,1.5510248050539293,0.0641092321739744,0.011983916018163067,0.07671899326363087,-1.6383015593850865,-0.8930202201725317,2.177001154926578,0.10032475555698285,0.19801577044420687,-0.8143086148611789,2.5765300667706303,1.1424955734563713,-1.1782421287147495,0.36719261575559925,1.913126328532216,0.5316725673593986,1.0609389309814266,-0.2580418540315302,-1.1096209702275894,-0.16525766112282678,-0.6350618813045671,-0.6680136886957433,2.2019863428116317,-0.6545846207600245,-0.9819257347533642,0.7686352817125546,-0.28770493344401477,0.5918740917074815,0.5183444223241045,-1.7520524718812602,1.3980636906330712,-1.1245314917361031,0.022139236012942463,0.7592364488219824,0.42600620243372245,-1.5866222361761575,0.9371724506934582,-0.9137856349047465,1.6410233938129204,-0.16725096651345864],\"yaxis\":\"y2\",\"type\":\"scatter\"},{\"line\":{\"color\":\"rgba(128, 128, 128, 1.0)\",\"dash\":\"solid\",\"shape\":\"linear\",\"width\":1.3},\"marker\":{\"size\":2,\"symbol\":\"circle\"},\"mode\":\"markers\",\"name\":\"A\",\"text\":\"\",\"x\":[-0.8893998141162937,0.6372436645570296,-2.23741081423564,-0.31765623347929695,0.7561914475460509,-0.623860105721561,0.6903173494809115,-0.5048600551762947,2.020714308651883,0.23026979636838407,0.37398753003537616,0.5206609753244256,-0.10018920147383852,-1.2985299229663352,-0.9483501928456123,1.135689521637158,-0.3337735918049371,-1.6326402352224678,-0.25866872748129416,0.5924898339790267,1.2233285790848265,-1.474457852245962,0.45596964798191353,-0.10814969404145522,-0.27594004426502083,-0.9124845686148109,0.01100070388541124,-1.9505347477078452,-0.15105469124096588,0.907630680494936,-0.6029292033423908,0.990481495159389,1.1515227416718936,0.44789830857842894,-1.7855238667231463,-0.5902657180884271,0.8584499386080536,1.0116028854383643,-0.571014671596426,-0.3866591298764715,0.9949808495557023,0.7875792632930714,0.29112207583799676,-0.3884189898620297,-1.6966161836642502,1.8160384812003816,0.32587379503399005,0.2644828784239742,-0.08883414710595931,-1.8782287388849652,0.05256177117982688,1.0882529289653526,0.8784535728298893,1.0193199732692901,-0.8088506639910596,-1.0223568889142052,0.06939344982076391,0.6655572511232158,-0.38330034677819247,-0.7887206396605513,-2.1337760011371416,-0.505300093639108,-0.22328614767833907,-1.0417437989607305,-0.34560269984827874,0.3537127142015969,-0.2736786047966587,-0.2298074753826692,0.8303171527118302,-0.8303087103507922,1.9162689202891265,-0.5565059936724137,2.061512699042052,0.5734812031194394,-1.034854720445252,-0.11071862296050343,-0.6111748958387944,0.28806307986797813,1.2021557339158877,-1.3410568555000184,-0.5043708568868606,-0.26905233445725124,0.8835614081469708,0.31823037951212957,-0.20841669540258473,1.051719819048651,0.3510133756617166,0.11514781134378886,-2.0386124893706765,-1.569657323964556,-0.4080591760496254,-0.29178810250300924,0.40457254548522725,-0.7983154563691286,-0.2538226193332108,-0.678911915924447,0.5116043020782122,-0.2827194860534984,0.6441183952673111,-0.2619746150812916],\"xaxis\":\"x3\",\"y\":[-1.2821232259307913,-0.39999089040185204,0.18603955462223581,1.9454784431368184,-0.5976460193168096,-1.1357869422281528,0.5011941647418091,-0.3165890810433005,-0.49026251352794514,-0.3070155142823813,-0.00928407711693977,0.40742108364021007,-0.8059220890051619,-1.6150012335022794,0.2831274750204807,-0.8071318749394667,1.2578496478325498,0.5546354700979511,-0.8058535128503591,-1.325128537682219,-0.6293771302746785,-0.18505519612184348,1.161217988148961,-0.9940280665073525,-1.0517075260495918,-0.021950386799966522,1.7059306402459018,-0.5431574852715914,-1.6652518510749255,-0.2293687085613229,-0.9330038160520542,-0.40135606395472045,-0.5904818764111005,0.1561604164203169,0.05909328601089837,-0.27648155744488384,1.5426214018051496,2.00748019586431,-0.23004698398830756,-0.9034603928397359,-0.8432824015442412,0.5985161962702256,0.2064791649332286,-1.5981203262502197,-0.691193621887644,1.2648788373359174,-0.9812428188552841,0.29077257292937864,-0.3860304784116714,0.7348736205455061,-0.30194463093884955,-1.1804849866851235,1.8555927233230805,0.3206204405021417,-0.3484647029488913,0.17804035824914086,-0.005932309547459654,-1.09324321057662,1.0537325994802822,-0.11131747857058517,1.5510248050539293,0.0641092321739744,0.011983916018163067,0.07671899326363087,-1.6383015593850865,-0.8930202201725317,2.177001154926578,0.10032475555698285,0.19801577044420687,-0.8143086148611789,2.5765300667706303,1.1424955734563713,-1.1782421287147495,0.36719261575559925,1.913126328532216,0.5316725673593986,1.0609389309814266,-0.2580418540315302,-1.1096209702275894,-0.16525766112282678,-0.6350618813045671,-0.6680136886957433,2.2019863428116317,-0.6545846207600245,-0.9819257347533642,0.7686352817125546,-0.28770493344401477,0.5918740917074815,0.5183444223241045,-1.7520524718812602,1.3980636906330712,-1.1245314917361031,0.022139236012942463,0.7592364488219824,0.42600620243372245,-1.5866222361761575,0.9371724506934582,-0.9137856349047465,1.6410233938129204,-0.16725096651345864],\"yaxis\":\"y3\",\"type\":\"scatter\"},{\"line\":{\"color\":\"rgba(128, 128, 128, 1.0)\",\"dash\":\"solid\",\"shape\":\"linear\",\"width\":1.3},\"marker\":{\"size\":2,\"symbol\":\"circle\"},\"mode\":\"markers\",\"name\":\"A\",\"text\":\"\",\"x\":[0.18451300084608604,-0.3022177165304333,-0.6006769288458926,-0.3052576828469785,0.012925204395338697,0.06072685016311775,1.2464010145843716,2.2562220704540947,1.7541323312485497,-2.7953960478174134,1.7960094174179742,0.8587481039984973,1.0574408725210322,-1.576207770904765,-0.16787222872406804,-1.580171289911969,-0.7405713053105409,-0.12211621622406345,-0.02719325408965277,0.7455332289902771,1.0431039917089024,-0.5573515013267838,-0.9478720009528269,-2.2240467163863453,0.47885219514426564,0.6635970834572871,0.16347637504181256,-0.514245754001384,0.2450690907864287,0.05695716481583332,0.6634388719648321,-0.39840694654691705,0.5490831922887796,-1.3498267213886324,2.0059690281820273,2.4237220564037774,0.6409158751104084,-1.145590629899955,-0.6344692609620162,-1.964475569311091,-2.553119815804278,-0.4154753044515657,0.93288515541365,0.41607149191763854,-0.5223885849225867,-0.5097269627705164,0.3137166198850058,-0.41033148846453166,-1.3504160978888808,-1.44639215776379,-1.2558830397396972,0.5085298183118243,-0.4844584936706081,-1.1095044253580726,-0.7520124292610786,0.5109618144518884,-1.0808074527541336,2.0158253236315438,0.8194125244241102,-1.830150410875788,-0.11276219125895252,0.7023652442498306,1.9866344386381598,-1.112745174819402,-1.0955180400783469,-0.44312559456598377,-0.9639932603404257,1.419599652907551,0.13032087210775575,-0.08480607840877766,-0.07161572488825718,-0.9309787384976403,0.11791449149366284,-1.1062473942402988,-0.35788548437586404,-0.3021284959768266,-1.3895146183345222,1.0207429380778419,0.17078822856664266,-0.1907799131125399,0.4714082561261303,0.2754318671952387,-0.2514751898440218,0.2837712535707717,-2.96998439652934,-0.1986095130641284,0.8367124996316605,-1.2139829622550151,0.6954813803560759,1.3221282513598556,-0.28719994075524213,2.2187535094641837,-0.3975645906718611,1.4843046228816186,-0.1192081000017448,1.0537349037666213,-0.6698748203139302,0.32146389721568674,-1.7296684021234106,0.531263702406474],\"xaxis\":\"x4\",\"y\":[-1.2821232259307913,-0.39999089040185204,0.18603955462223581,1.9454784431368184,-0.5976460193168096,-1.1357869422281528,0.5011941647418091,-0.3165890810433005,-0.49026251352794514,-0.3070155142823813,-0.00928407711693977,0.40742108364021007,-0.8059220890051619,-1.6150012335022794,0.2831274750204807,-0.8071318749394667,1.2578496478325498,0.5546354700979511,-0.8058535128503591,-1.325128537682219,-0.6293771302746785,-0.18505519612184348,1.161217988148961,-0.9940280665073525,-1.0517075260495918,-0.021950386799966522,1.7059306402459018,-0.5431574852715914,-1.6652518510749255,-0.2293687085613229,-0.9330038160520542,-0.40135606395472045,-0.5904818764111005,0.1561604164203169,0.05909328601089837,-0.27648155744488384,1.5426214018051496,2.00748019586431,-0.23004698398830756,-0.9034603928397359,-0.8432824015442412,0.5985161962702256,0.2064791649332286,-1.5981203262502197,-0.691193621887644,1.2648788373359174,-0.9812428188552841,0.29077257292937864,-0.3860304784116714,0.7348736205455061,-0.30194463093884955,-1.1804849866851235,1.8555927233230805,0.3206204405021417,-0.3484647029488913,0.17804035824914086,-0.005932309547459654,-1.09324321057662,1.0537325994802822,-0.11131747857058517,1.5510248050539293,0.0641092321739744,0.011983916018163067,0.07671899326363087,-1.6383015593850865,-0.8930202201725317,2.177001154926578,0.10032475555698285,0.19801577044420687,-0.8143086148611789,2.5765300667706303,1.1424955734563713,-1.1782421287147495,0.36719261575559925,1.913126328532216,0.5316725673593986,1.0609389309814266,-0.2580418540315302,-1.1096209702275894,-0.16525766112282678,-0.6350618813045671,-0.6680136886957433,2.2019863428116317,-0.6545846207600245,-0.9819257347533642,0.7686352817125546,-0.28770493344401477,0.5918740917074815,0.5183444223241045,-1.7520524718812602,1.3980636906330712,-1.1245314917361031,0.022139236012942463,0.7592364488219824,0.42600620243372245,-1.5866222361761575,0.9371724506934582,-0.9137856349047465,1.6410233938129204,-0.16725096651345864],\"yaxis\":\"y4\",\"type\":\"scatter\"},{\"line\":{\"color\":\"rgba(128, 128, 128, 1.0)\",\"dash\":\"solid\",\"shape\":\"linear\",\"width\":1.3},\"marker\":{\"size\":2,\"symbol\":\"circle\"},\"mode\":\"markers\",\"name\":\"B\",\"text\":\"\",\"x\":[-1.2821232259307913,-0.39999089040185204,0.18603955462223581,1.9454784431368184,-0.5976460193168096,-1.1357869422281528,0.5011941647418091,-0.3165890810433005,-0.49026251352794514,-0.3070155142823813,-0.00928407711693977,0.40742108364021007,-0.8059220890051619,-1.6150012335022794,0.2831274750204807,-0.8071318749394667,1.2578496478325498,0.5546354700979511,-0.8058535128503591,-1.325128537682219,-0.6293771302746785,-0.18505519612184348,1.161217988148961,-0.9940280665073525,-1.0517075260495918,-0.021950386799966522,1.7059306402459018,-0.5431574852715914,-1.6652518510749255,-0.2293687085613229,-0.9330038160520542,-0.40135606395472045,-0.5904818764111005,0.1561604164203169,0.05909328601089837,-0.27648155744488384,1.5426214018051496,2.00748019586431,-0.23004698398830756,-0.9034603928397359,-0.8432824015442412,0.5985161962702256,0.2064791649332286,-1.5981203262502197,-0.691193621887644,1.2648788373359174,-0.9812428188552841,0.29077257292937864,-0.3860304784116714,0.7348736205455061,-0.30194463093884955,-1.1804849866851235,1.8555927233230805,0.3206204405021417,-0.3484647029488913,0.17804035824914086,-0.005932309547459654,-1.09324321057662,1.0537325994802822,-0.11131747857058517,1.5510248050539293,0.0641092321739744,0.011983916018163067,0.07671899326363087,-1.6383015593850865,-0.8930202201725317,2.177001154926578,0.10032475555698285,0.19801577044420687,-0.8143086148611789,2.5765300667706303,1.1424955734563713,-1.1782421287147495,0.36719261575559925,1.913126328532216,0.5316725673593986,1.0609389309814266,-0.2580418540315302,-1.1096209702275894,-0.16525766112282678,-0.6350618813045671,-0.6680136886957433,2.2019863428116317,-0.6545846207600245,-0.9819257347533642,0.7686352817125546,-0.28770493344401477,0.5918740917074815,0.5183444223241045,-1.7520524718812602,1.3980636906330712,-1.1245314917361031,0.022139236012942463,0.7592364488219824,0.42600620243372245,-1.5866222361761575,0.9371724506934582,-0.9137856349047465,1.6410233938129204,-0.16725096651345864],\"xaxis\":\"x5\",\"y\":[-2.467489679081685,-0.9109994341608991,-0.9775439597470429,-0.8050359803816095,0.3880837334389582,0.7226047001728041,2.12261391775626,-1.585119821691273,-1.4789391663694118,1.4130010878680048,0.5171336797321604,0.8200803187753855,-0.1651247430133621,-0.020378991429335632,1.7248920409679187,-1.0379234752961863,1.0288558054083492,-0.4209039800868332,0.9359771990048374,0.5283817923005579,-0.704072800755225,0.33848644671342304,1.1773768477836346,-0.45103721768800803,0.13224782035424706,0.7204598068251858,-0.9342447733723493,-1.5204779496076484,1.0181798372524824,2.0464668998426223,0.6454665423594669,-0.5056759016895037,0.6527386290509671,-0.5547342801162942,0.3788700033858548,-0.3676073288176218,0.5656698820540743,1.580633720103138,-0.12711454975637088,-0.3505517026278936,-0.7660622716697431,1.523972798077345,0.8877692878051118,-0.10704995915426571,1.629723149498767,-0.15762680777432658,-1.2668726445596794,0.20016928924696611,0.699254128347382,-0.03689603754636403,0.30371287844000294,0.28611928397815256,2.0585330014523042,1.0140945140540905,-0.8297552712905361,0.09013592833499368,0.3984442817811917,-0.4571516491840917,-0.44287898704643447,-1.0569149385856347,0.04807235507245364,-0.34419688596532827,0.10004621268753495,0.08731147708013766,1.0876804228688925,1.3099639910003447,0.7539412010773562,0.11957250636430646,2.3106977365467682,2.519930816359611,0.08534530825215789,-0.9825625396071127,-0.39525470620522996,-3.1375179773086317,0.6132469463474309,-0.16942740949205784,0.09266214650465411,-1.0902353511589595,0.8250519676663988,-0.13858028835181693,-0.28940274670430133,-0.002690390203971974,0.046357330322069706,0.85344253401098,0.5158074327785028,-1.0161437917023335,0.4572488313164856,-0.10617864673067459,-0.5613388514490533,0.3160584742132285,-0.8654585149192117,0.5512673818002701,-0.048270305086464724,0.7690216936257351,0.8258710118208544,-0.16396989659898215,-0.7355413370519562,-0.163054476714875,-1.1757281031956057,0.7343984686472602],\"yaxis\":\"y5\",\"type\":\"scatter\"},{\"histfunc\":\"count\",\"histnorm\":\"\",\"marker\":{\"color\":\"rgba(55, 128, 191, 1.0)\",\"line\":{\"color\":\"#4D5663\",\"width\":1.3}},\"name\":\"B\",\"nbinsx\":10,\"opacity\":0.8,\"orientation\":\"v\",\"x\":[-2.467489679081685,-0.9109994341608991,-0.9775439597470429,-0.8050359803816095,0.3880837334389582,0.7226047001728041,2.12261391775626,-1.585119821691273,-1.4789391663694118,1.4130010878680048,0.5171336797321604,0.8200803187753855,-0.1651247430133621,-0.020378991429335632,1.7248920409679187,-1.0379234752961863,1.0288558054083492,-0.4209039800868332,0.9359771990048374,0.5283817923005579,-0.704072800755225,0.33848644671342304,1.1773768477836346,-0.45103721768800803,0.13224782035424706,0.7204598068251858,-0.9342447733723493,-1.5204779496076484,1.0181798372524824,2.0464668998426223,0.6454665423594669,-0.5056759016895037,0.6527386290509671,-0.5547342801162942,0.3788700033858548,-0.3676073288176218,0.5656698820540743,1.580633720103138,-0.12711454975637088,-0.3505517026278936,-0.7660622716697431,1.523972798077345,0.8877692878051118,-0.10704995915426571,1.629723149498767,-0.15762680777432658,-1.2668726445596794,0.20016928924696611,0.699254128347382,-0.03689603754636403,0.30371287844000294,0.28611928397815256,2.0585330014523042,1.0140945140540905,-0.8297552712905361,0.09013592833499368,0.3984442817811917,-0.4571516491840917,-0.44287898704643447,-1.0569149385856347,0.04807235507245364,-0.34419688596532827,0.10004621268753495,0.08731147708013766,1.0876804228688925,1.3099639910003447,0.7539412010773562,0.11957250636430646,2.3106977365467682,2.519930816359611,0.08534530825215789,-0.9825625396071127,-0.39525470620522996,-3.1375179773086317,0.6132469463474309,-0.16942740949205784,0.09266214650465411,-1.0902353511589595,0.8250519676663988,-0.13858028835181693,-0.28940274670430133,-0.002690390203971974,0.046357330322069706,0.85344253401098,0.5158074327785028,-1.0161437917023335,0.4572488313164856,-0.10617864673067459,-0.5613388514490533,0.3160584742132285,-0.8654585149192117,0.5512673818002701,-0.048270305086464724,0.7690216936257351,0.8258710118208544,-0.16396989659898215,-0.7355413370519562,-0.163054476714875,-1.1757281031956057,0.7343984686472602],\"xaxis\":\"x6\",\"yaxis\":\"y6\",\"type\":\"histogram\"},{\"line\":{\"color\":\"rgba(128, 128, 128, 1.0)\",\"dash\":\"solid\",\"shape\":\"linear\",\"width\":1.3},\"marker\":{\"size\":2,\"symbol\":\"circle\"},\"mode\":\"markers\",\"name\":\"B\",\"text\":\"\",\"x\":[-0.8893998141162937,0.6372436645570296,-2.23741081423564,-0.31765623347929695,0.7561914475460509,-0.623860105721561,0.6903173494809115,-0.5048600551762947,2.020714308651883,0.23026979636838407,0.37398753003537616,0.5206609753244256,-0.10018920147383852,-1.2985299229663352,-0.9483501928456123,1.135689521637158,-0.3337735918049371,-1.6326402352224678,-0.25866872748129416,0.5924898339790267,1.2233285790848265,-1.474457852245962,0.45596964798191353,-0.10814969404145522,-0.27594004426502083,-0.9124845686148109,0.01100070388541124,-1.9505347477078452,-0.15105469124096588,0.907630680494936,-0.6029292033423908,0.990481495159389,1.1515227416718936,0.44789830857842894,-1.7855238667231463,-0.5902657180884271,0.8584499386080536,1.0116028854383643,-0.571014671596426,-0.3866591298764715,0.9949808495557023,0.7875792632930714,0.29112207583799676,-0.3884189898620297,-1.6966161836642502,1.8160384812003816,0.32587379503399005,0.2644828784239742,-0.08883414710595931,-1.8782287388849652,0.05256177117982688,1.0882529289653526,0.8784535728298893,1.0193199732692901,-0.8088506639910596,-1.0223568889142052,0.06939344982076391,0.6655572511232158,-0.38330034677819247,-0.7887206396605513,-2.1337760011371416,-0.505300093639108,-0.22328614767833907,-1.0417437989607305,-0.34560269984827874,0.3537127142015969,-0.2736786047966587,-0.2298074753826692,0.8303171527118302,-0.8303087103507922,1.9162689202891265,-0.5565059936724137,2.061512699042052,0.5734812031194394,-1.034854720445252,-0.11071862296050343,-0.6111748958387944,0.28806307986797813,1.2021557339158877,-1.3410568555000184,-0.5043708568868606,-0.26905233445725124,0.8835614081469708,0.31823037951212957,-0.20841669540258473,1.051719819048651,0.3510133756617166,0.11514781134378886,-2.0386124893706765,-1.569657323964556,-0.4080591760496254,-0.29178810250300924,0.40457254548522725,-0.7983154563691286,-0.2538226193332108,-0.678911915924447,0.5116043020782122,-0.2827194860534984,0.6441183952673111,-0.2619746150812916],\"xaxis\":\"x7\",\"y\":[-2.467489679081685,-0.9109994341608991,-0.9775439597470429,-0.8050359803816095,0.3880837334389582,0.7226047001728041,2.12261391775626,-1.585119821691273,-1.4789391663694118,1.4130010878680048,0.5171336797321604,0.8200803187753855,-0.1651247430133621,-0.020378991429335632,1.7248920409679187,-1.0379234752961863,1.0288558054083492,-0.4209039800868332,0.9359771990048374,0.5283817923005579,-0.704072800755225,0.33848644671342304,1.1773768477836346,-0.45103721768800803,0.13224782035424706,0.7204598068251858,-0.9342447733723493,-1.5204779496076484,1.0181798372524824,2.0464668998426223,0.6454665423594669,-0.5056759016895037,0.6527386290509671,-0.5547342801162942,0.3788700033858548,-0.3676073288176218,0.5656698820540743,1.580633720103138,-0.12711454975637088,-0.3505517026278936,-0.7660622716697431,1.523972798077345,0.8877692878051118,-0.10704995915426571,1.629723149498767,-0.15762680777432658,-1.2668726445596794,0.20016928924696611,0.699254128347382,-0.03689603754636403,0.30371287844000294,0.28611928397815256,2.0585330014523042,1.0140945140540905,-0.8297552712905361,0.09013592833499368,0.3984442817811917,-0.4571516491840917,-0.44287898704643447,-1.0569149385856347,0.04807235507245364,-0.34419688596532827,0.10004621268753495,0.08731147708013766,1.0876804228688925,1.3099639910003447,0.7539412010773562,0.11957250636430646,2.3106977365467682,2.519930816359611,0.08534530825215789,-0.9825625396071127,-0.39525470620522996,-3.1375179773086317,0.6132469463474309,-0.16942740949205784,0.09266214650465411,-1.0902353511589595,0.8250519676663988,-0.13858028835181693,-0.28940274670430133,-0.002690390203971974,0.046357330322069706,0.85344253401098,0.5158074327785028,-1.0161437917023335,0.4572488313164856,-0.10617864673067459,-0.5613388514490533,0.3160584742132285,-0.8654585149192117,0.5512673818002701,-0.048270305086464724,0.7690216936257351,0.8258710118208544,-0.16396989659898215,-0.7355413370519562,-0.163054476714875,-1.1757281031956057,0.7343984686472602],\"yaxis\":\"y7\",\"type\":\"scatter\"},{\"line\":{\"color\":\"rgba(128, 128, 128, 1.0)\",\"dash\":\"solid\",\"shape\":\"linear\",\"width\":1.3},\"marker\":{\"size\":2,\"symbol\":\"circle\"},\"mode\":\"markers\",\"name\":\"B\",\"text\":\"\",\"x\":[0.18451300084608604,-0.3022177165304333,-0.6006769288458926,-0.3052576828469785,0.012925204395338697,0.06072685016311775,1.2464010145843716,2.2562220704540947,1.7541323312485497,-2.7953960478174134,1.7960094174179742,0.8587481039984973,1.0574408725210322,-1.576207770904765,-0.16787222872406804,-1.580171289911969,-0.7405713053105409,-0.12211621622406345,-0.02719325408965277,0.7455332289902771,1.0431039917089024,-0.5573515013267838,-0.9478720009528269,-2.2240467163863453,0.47885219514426564,0.6635970834572871,0.16347637504181256,-0.514245754001384,0.2450690907864287,0.05695716481583332,0.6634388719648321,-0.39840694654691705,0.5490831922887796,-1.3498267213886324,2.0059690281820273,2.4237220564037774,0.6409158751104084,-1.145590629899955,-0.6344692609620162,-1.964475569311091,-2.553119815804278,-0.4154753044515657,0.93288515541365,0.41607149191763854,-0.5223885849225867,-0.5097269627705164,0.3137166198850058,-0.41033148846453166,-1.3504160978888808,-1.44639215776379,-1.2558830397396972,0.5085298183118243,-0.4844584936706081,-1.1095044253580726,-0.7520124292610786,0.5109618144518884,-1.0808074527541336,2.0158253236315438,0.8194125244241102,-1.830150410875788,-0.11276219125895252,0.7023652442498306,1.9866344386381598,-1.112745174819402,-1.0955180400783469,-0.44312559456598377,-0.9639932603404257,1.419599652907551,0.13032087210775575,-0.08480607840877766,-0.07161572488825718,-0.9309787384976403,0.11791449149366284,-1.1062473942402988,-0.35788548437586404,-0.3021284959768266,-1.3895146183345222,1.0207429380778419,0.17078822856664266,-0.1907799131125399,0.4714082561261303,0.2754318671952387,-0.2514751898440218,0.2837712535707717,-2.96998439652934,-0.1986095130641284,0.8367124996316605,-1.2139829622550151,0.6954813803560759,1.3221282513598556,-0.28719994075524213,2.2187535094641837,-0.3975645906718611,1.4843046228816186,-0.1192081000017448,1.0537349037666213,-0.6698748203139302,0.32146389721568674,-1.7296684021234106,0.531263702406474],\"xaxis\":\"x8\",\"y\":[-2.467489679081685,-0.9109994341608991,-0.9775439597470429,-0.8050359803816095,0.3880837334389582,0.7226047001728041,2.12261391775626,-1.585119821691273,-1.4789391663694118,1.4130010878680048,0.5171336797321604,0.8200803187753855,-0.1651247430133621,-0.020378991429335632,1.7248920409679187,-1.0379234752961863,1.0288558054083492,-0.4209039800868332,0.9359771990048374,0.5283817923005579,-0.704072800755225,0.33848644671342304,1.1773768477836346,-0.45103721768800803,0.13224782035424706,0.7204598068251858,-0.9342447733723493,-1.5204779496076484,1.0181798372524824,2.0464668998426223,0.6454665423594669,-0.5056759016895037,0.6527386290509671,-0.5547342801162942,0.3788700033858548,-0.3676073288176218,0.5656698820540743,1.580633720103138,-0.12711454975637088,-0.3505517026278936,-0.7660622716697431,1.523972798077345,0.8877692878051118,-0.10704995915426571,1.629723149498767,-0.15762680777432658,-1.2668726445596794,0.20016928924696611,0.699254128347382,-0.03689603754636403,0.30371287844000294,0.28611928397815256,2.0585330014523042,1.0140945140540905,-0.8297552712905361,0.09013592833499368,0.3984442817811917,-0.4571516491840917,-0.44287898704643447,-1.0569149385856347,0.04807235507245364,-0.34419688596532827,0.10004621268753495,0.08731147708013766,1.0876804228688925,1.3099639910003447,0.7539412010773562,0.11957250636430646,2.3106977365467682,2.519930816359611,0.08534530825215789,-0.9825625396071127,-0.39525470620522996,-3.1375179773086317,0.6132469463474309,-0.16942740949205784,0.09266214650465411,-1.0902353511589595,0.8250519676663988,-0.13858028835181693,-0.28940274670430133,-0.002690390203971974,0.046357330322069706,0.85344253401098,0.5158074327785028,-1.0161437917023335,0.4572488313164856,-0.10617864673067459,-0.5613388514490533,0.3160584742132285,-0.8654585149192117,0.5512673818002701,-0.048270305086464724,0.7690216936257351,0.8258710118208544,-0.16396989659898215,-0.7355413370519562,-0.163054476714875,-1.1757281031956057,0.7343984686472602],\"yaxis\":\"y8\",\"type\":\"scatter\"},{\"line\":{\"color\":\"rgba(128, 128, 128, 1.0)\",\"dash\":\"solid\",\"shape\":\"linear\",\"width\":1.3},\"marker\":{\"size\":2,\"symbol\":\"circle\"},\"mode\":\"markers\",\"name\":\"C\",\"text\":\"\",\"x\":[-1.2821232259307913,-0.39999089040185204,0.18603955462223581,1.9454784431368184,-0.5976460193168096,-1.1357869422281528,0.5011941647418091,-0.3165890810433005,-0.49026251352794514,-0.3070155142823813,-0.00928407711693977,0.40742108364021007,-0.8059220890051619,-1.6150012335022794,0.2831274750204807,-0.8071318749394667,1.2578496478325498,0.5546354700979511,-0.8058535128503591,-1.325128537682219,-0.6293771302746785,-0.18505519612184348,1.161217988148961,-0.9940280665073525,-1.0517075260495918,-0.021950386799966522,1.7059306402459018,-0.5431574852715914,-1.6652518510749255,-0.2293687085613229,-0.9330038160520542,-0.40135606395472045,-0.5904818764111005,0.1561604164203169,0.05909328601089837,-0.27648155744488384,1.5426214018051496,2.00748019586431,-0.23004698398830756,-0.9034603928397359,-0.8432824015442412,0.5985161962702256,0.2064791649332286,-1.5981203262502197,-0.691193621887644,1.2648788373359174,-0.9812428188552841,0.29077257292937864,-0.3860304784116714,0.7348736205455061,-0.30194463093884955,-1.1804849866851235,1.8555927233230805,0.3206204405021417,-0.3484647029488913,0.17804035824914086,-0.005932309547459654,-1.09324321057662,1.0537325994802822,-0.11131747857058517,1.5510248050539293,0.0641092321739744,0.011983916018163067,0.07671899326363087,-1.6383015593850865,-0.8930202201725317,2.177001154926578,0.10032475555698285,0.19801577044420687,-0.8143086148611789,2.5765300667706303,1.1424955734563713,-1.1782421287147495,0.36719261575559925,1.913126328532216,0.5316725673593986,1.0609389309814266,-0.2580418540315302,-1.1096209702275894,-0.16525766112282678,-0.6350618813045671,-0.6680136886957433,2.2019863428116317,-0.6545846207600245,-0.9819257347533642,0.7686352817125546,-0.28770493344401477,0.5918740917074815,0.5183444223241045,-1.7520524718812602,1.3980636906330712,-1.1245314917361031,0.022139236012942463,0.7592364488219824,0.42600620243372245,-1.5866222361761575,0.9371724506934582,-0.9137856349047465,1.6410233938129204,-0.16725096651345864],\"xaxis\":\"x9\",\"y\":[-0.8893998141162937,0.6372436645570296,-2.23741081423564,-0.31765623347929695,0.7561914475460509,-0.623860105721561,0.6903173494809115,-0.5048600551762947,2.020714308651883,0.23026979636838407,0.37398753003537616,0.5206609753244256,-0.10018920147383852,-1.2985299229663352,-0.9483501928456123,1.135689521637158,-0.3337735918049371,-1.6326402352224678,-0.25866872748129416,0.5924898339790267,1.2233285790848265,-1.474457852245962,0.45596964798191353,-0.10814969404145522,-0.27594004426502083,-0.9124845686148109,0.01100070388541124,-1.9505347477078452,-0.15105469124096588,0.907630680494936,-0.6029292033423908,0.990481495159389,1.1515227416718936,0.44789830857842894,-1.7855238667231463,-0.5902657180884271,0.8584499386080536,1.0116028854383643,-0.571014671596426,-0.3866591298764715,0.9949808495557023,0.7875792632930714,0.29112207583799676,-0.3884189898620297,-1.6966161836642502,1.8160384812003816,0.32587379503399005,0.2644828784239742,-0.08883414710595931,-1.8782287388849652,0.05256177117982688,1.0882529289653526,0.8784535728298893,1.0193199732692901,-0.8088506639910596,-1.0223568889142052,0.06939344982076391,0.6655572511232158,-0.38330034677819247,-0.7887206396605513,-2.1337760011371416,-0.505300093639108,-0.22328614767833907,-1.0417437989607305,-0.34560269984827874,0.3537127142015969,-0.2736786047966587,-0.2298074753826692,0.8303171527118302,-0.8303087103507922,1.9162689202891265,-0.5565059936724137,2.061512699042052,0.5734812031194394,-1.034854720445252,-0.11071862296050343,-0.6111748958387944,0.28806307986797813,1.2021557339158877,-1.3410568555000184,-0.5043708568868606,-0.26905233445725124,0.8835614081469708,0.31823037951212957,-0.20841669540258473,1.051719819048651,0.3510133756617166,0.11514781134378886,-2.0386124893706765,-1.569657323964556,-0.4080591760496254,-0.29178810250300924,0.40457254548522725,-0.7983154563691286,-0.2538226193332108,-0.678911915924447,0.5116043020782122,-0.2827194860534984,0.6441183952673111,-0.2619746150812916],\"yaxis\":\"y9\",\"type\":\"scatter\"},{\"line\":{\"color\":\"rgba(128, 128, 128, 1.0)\",\"dash\":\"solid\",\"shape\":\"linear\",\"width\":1.3},\"marker\":{\"size\":2,\"symbol\":\"circle\"},\"mode\":\"markers\",\"name\":\"C\",\"text\":\"\",\"x\":[-2.467489679081685,-0.9109994341608991,-0.9775439597470429,-0.8050359803816095,0.3880837334389582,0.7226047001728041,2.12261391775626,-1.585119821691273,-1.4789391663694118,1.4130010878680048,0.5171336797321604,0.8200803187753855,-0.1651247430133621,-0.020378991429335632,1.7248920409679187,-1.0379234752961863,1.0288558054083492,-0.4209039800868332,0.9359771990048374,0.5283817923005579,-0.704072800755225,0.33848644671342304,1.1773768477836346,-0.45103721768800803,0.13224782035424706,0.7204598068251858,-0.9342447733723493,-1.5204779496076484,1.0181798372524824,2.0464668998426223,0.6454665423594669,-0.5056759016895037,0.6527386290509671,-0.5547342801162942,0.3788700033858548,-0.3676073288176218,0.5656698820540743,1.580633720103138,-0.12711454975637088,-0.3505517026278936,-0.7660622716697431,1.523972798077345,0.8877692878051118,-0.10704995915426571,1.629723149498767,-0.15762680777432658,-1.2668726445596794,0.20016928924696611,0.699254128347382,-0.03689603754636403,0.30371287844000294,0.28611928397815256,2.0585330014523042,1.0140945140540905,-0.8297552712905361,0.09013592833499368,0.3984442817811917,-0.4571516491840917,-0.44287898704643447,-1.0569149385856347,0.04807235507245364,-0.34419688596532827,0.10004621268753495,0.08731147708013766,1.0876804228688925,1.3099639910003447,0.7539412010773562,0.11957250636430646,2.3106977365467682,2.519930816359611,0.08534530825215789,-0.9825625396071127,-0.39525470620522996,-3.1375179773086317,0.6132469463474309,-0.16942740949205784,0.09266214650465411,-1.0902353511589595,0.8250519676663988,-0.13858028835181693,-0.28940274670430133,-0.002690390203971974,0.046357330322069706,0.85344253401098,0.5158074327785028,-1.0161437917023335,0.4572488313164856,-0.10617864673067459,-0.5613388514490533,0.3160584742132285,-0.8654585149192117,0.5512673818002701,-0.048270305086464724,0.7690216936257351,0.8258710118208544,-0.16396989659898215,-0.7355413370519562,-0.163054476714875,-1.1757281031956057,0.7343984686472602],\"xaxis\":\"x10\",\"y\":[-0.8893998141162937,0.6372436645570296,-2.23741081423564,-0.31765623347929695,0.7561914475460509,-0.623860105721561,0.6903173494809115,-0.5048600551762947,2.020714308651883,0.23026979636838407,0.37398753003537616,0.5206609753244256,-0.10018920147383852,-1.2985299229663352,-0.9483501928456123,1.135689521637158,-0.3337735918049371,-1.6326402352224678,-0.25866872748129416,0.5924898339790267,1.2233285790848265,-1.474457852245962,0.45596964798191353,-0.10814969404145522,-0.27594004426502083,-0.9124845686148109,0.01100070388541124,-1.9505347477078452,-0.15105469124096588,0.907630680494936,-0.6029292033423908,0.990481495159389,1.1515227416718936,0.44789830857842894,-1.7855238667231463,-0.5902657180884271,0.8584499386080536,1.0116028854383643,-0.571014671596426,-0.3866591298764715,0.9949808495557023,0.7875792632930714,0.29112207583799676,-0.3884189898620297,-1.6966161836642502,1.8160384812003816,0.32587379503399005,0.2644828784239742,-0.08883414710595931,-1.8782287388849652,0.05256177117982688,1.0882529289653526,0.8784535728298893,1.0193199732692901,-0.8088506639910596,-1.0223568889142052,0.06939344982076391,0.6655572511232158,-0.38330034677819247,-0.7887206396605513,-2.1337760011371416,-0.505300093639108,-0.22328614767833907,-1.0417437989607305,-0.34560269984827874,0.3537127142015969,-0.2736786047966587,-0.2298074753826692,0.8303171527118302,-0.8303087103507922,1.9162689202891265,-0.5565059936724137,2.061512699042052,0.5734812031194394,-1.034854720445252,-0.11071862296050343,-0.6111748958387944,0.28806307986797813,1.2021557339158877,-1.3410568555000184,-0.5043708568868606,-0.26905233445725124,0.8835614081469708,0.31823037951212957,-0.20841669540258473,1.051719819048651,0.3510133756617166,0.11514781134378886,-2.0386124893706765,-1.569657323964556,-0.4080591760496254,-0.29178810250300924,0.40457254548522725,-0.7983154563691286,-0.2538226193332108,-0.678911915924447,0.5116043020782122,-0.2827194860534984,0.6441183952673111,-0.2619746150812916],\"yaxis\":\"y10\",\"type\":\"scatter\"},{\"histfunc\":\"count\",\"histnorm\":\"\",\"marker\":{\"color\":\"rgba(50, 171, 96, 1.0)\",\"line\":{\"color\":\"#4D5663\",\"width\":1.3}},\"name\":\"C\",\"nbinsx\":10,\"opacity\":0.8,\"orientation\":\"v\",\"x\":[-0.8893998141162937,0.6372436645570296,-2.23741081423564,-0.31765623347929695,0.7561914475460509,-0.623860105721561,0.6903173494809115,-0.5048600551762947,2.020714308651883,0.23026979636838407,0.37398753003537616,0.5206609753244256,-0.10018920147383852,-1.2985299229663352,-0.9483501928456123,1.135689521637158,-0.3337735918049371,-1.6326402352224678,-0.25866872748129416,0.5924898339790267,1.2233285790848265,-1.474457852245962,0.45596964798191353,-0.10814969404145522,-0.27594004426502083,-0.9124845686148109,0.01100070388541124,-1.9505347477078452,-0.15105469124096588,0.907630680494936,-0.6029292033423908,0.990481495159389,1.1515227416718936,0.44789830857842894,-1.7855238667231463,-0.5902657180884271,0.8584499386080536,1.0116028854383643,-0.571014671596426,-0.3866591298764715,0.9949808495557023,0.7875792632930714,0.29112207583799676,-0.3884189898620297,-1.6966161836642502,1.8160384812003816,0.32587379503399005,0.2644828784239742,-0.08883414710595931,-1.8782287388849652,0.05256177117982688,1.0882529289653526,0.8784535728298893,1.0193199732692901,-0.8088506639910596,-1.0223568889142052,0.06939344982076391,0.6655572511232158,-0.38330034677819247,-0.7887206396605513,-2.1337760011371416,-0.505300093639108,-0.22328614767833907,-1.0417437989607305,-0.34560269984827874,0.3537127142015969,-0.2736786047966587,-0.2298074753826692,0.8303171527118302,-0.8303087103507922,1.9162689202891265,-0.5565059936724137,2.061512699042052,0.5734812031194394,-1.034854720445252,-0.11071862296050343,-0.6111748958387944,0.28806307986797813,1.2021557339158877,-1.3410568555000184,-0.5043708568868606,-0.26905233445725124,0.8835614081469708,0.31823037951212957,-0.20841669540258473,1.051719819048651,0.3510133756617166,0.11514781134378886,-2.0386124893706765,-1.569657323964556,-0.4080591760496254,-0.29178810250300924,0.40457254548522725,-0.7983154563691286,-0.2538226193332108,-0.678911915924447,0.5116043020782122,-0.2827194860534984,0.6441183952673111,-0.2619746150812916],\"xaxis\":\"x11\",\"yaxis\":\"y11\",\"type\":\"histogram\"},{\"line\":{\"color\":\"rgba(128, 128, 128, 1.0)\",\"dash\":\"solid\",\"shape\":\"linear\",\"width\":1.3},\"marker\":{\"size\":2,\"symbol\":\"circle\"},\"mode\":\"markers\",\"name\":\"C\",\"text\":\"\",\"x\":[0.18451300084608604,-0.3022177165304333,-0.6006769288458926,-0.3052576828469785,0.012925204395338697,0.06072685016311775,1.2464010145843716,2.2562220704540947,1.7541323312485497,-2.7953960478174134,1.7960094174179742,0.8587481039984973,1.0574408725210322,-1.576207770904765,-0.16787222872406804,-1.580171289911969,-0.7405713053105409,-0.12211621622406345,-0.02719325408965277,0.7455332289902771,1.0431039917089024,-0.5573515013267838,-0.9478720009528269,-2.2240467163863453,0.47885219514426564,0.6635970834572871,0.16347637504181256,-0.514245754001384,0.2450690907864287,0.05695716481583332,0.6634388719648321,-0.39840694654691705,0.5490831922887796,-1.3498267213886324,2.0059690281820273,2.4237220564037774,0.6409158751104084,-1.145590629899955,-0.6344692609620162,-1.964475569311091,-2.553119815804278,-0.4154753044515657,0.93288515541365,0.41607149191763854,-0.5223885849225867,-0.5097269627705164,0.3137166198850058,-0.41033148846453166,-1.3504160978888808,-1.44639215776379,-1.2558830397396972,0.5085298183118243,-0.4844584936706081,-1.1095044253580726,-0.7520124292610786,0.5109618144518884,-1.0808074527541336,2.0158253236315438,0.8194125244241102,-1.830150410875788,-0.11276219125895252,0.7023652442498306,1.9866344386381598,-1.112745174819402,-1.0955180400783469,-0.44312559456598377,-0.9639932603404257,1.419599652907551,0.13032087210775575,-0.08480607840877766,-0.07161572488825718,-0.9309787384976403,0.11791449149366284,-1.1062473942402988,-0.35788548437586404,-0.3021284959768266,-1.3895146183345222,1.0207429380778419,0.17078822856664266,-0.1907799131125399,0.4714082561261303,0.2754318671952387,-0.2514751898440218,0.2837712535707717,-2.96998439652934,-0.1986095130641284,0.8367124996316605,-1.2139829622550151,0.6954813803560759,1.3221282513598556,-0.28719994075524213,2.2187535094641837,-0.3975645906718611,1.4843046228816186,-0.1192081000017448,1.0537349037666213,-0.6698748203139302,0.32146389721568674,-1.7296684021234106,0.531263702406474],\"xaxis\":\"x12\",\"y\":[-0.8893998141162937,0.6372436645570296,-2.23741081423564,-0.31765623347929695,0.7561914475460509,-0.623860105721561,0.6903173494809115,-0.5048600551762947,2.020714308651883,0.23026979636838407,0.37398753003537616,0.5206609753244256,-0.10018920147383852,-1.2985299229663352,-0.9483501928456123,1.135689521637158,-0.3337735918049371,-1.6326402352224678,-0.25866872748129416,0.5924898339790267,1.2233285790848265,-1.474457852245962,0.45596964798191353,-0.10814969404145522,-0.27594004426502083,-0.9124845686148109,0.01100070388541124,-1.9505347477078452,-0.15105469124096588,0.907630680494936,-0.6029292033423908,0.990481495159389,1.1515227416718936,0.44789830857842894,-1.7855238667231463,-0.5902657180884271,0.8584499386080536,1.0116028854383643,-0.571014671596426,-0.3866591298764715,0.9949808495557023,0.7875792632930714,0.29112207583799676,-0.3884189898620297,-1.6966161836642502,1.8160384812003816,0.32587379503399005,0.2644828784239742,-0.08883414710595931,-1.8782287388849652,0.05256177117982688,1.0882529289653526,0.8784535728298893,1.0193199732692901,-0.8088506639910596,-1.0223568889142052,0.06939344982076391,0.6655572511232158,-0.38330034677819247,-0.7887206396605513,-2.1337760011371416,-0.505300093639108,-0.22328614767833907,-1.0417437989607305,-0.34560269984827874,0.3537127142015969,-0.2736786047966587,-0.2298074753826692,0.8303171527118302,-0.8303087103507922,1.9162689202891265,-0.5565059936724137,2.061512699042052,0.5734812031194394,-1.034854720445252,-0.11071862296050343,-0.6111748958387944,0.28806307986797813,1.2021557339158877,-1.3410568555000184,-0.5043708568868606,-0.26905233445725124,0.8835614081469708,0.31823037951212957,-0.20841669540258473,1.051719819048651,0.3510133756617166,0.11514781134378886,-2.0386124893706765,-1.569657323964556,-0.4080591760496254,-0.29178810250300924,0.40457254548522725,-0.7983154563691286,-0.2538226193332108,-0.678911915924447,0.5116043020782122,-0.2827194860534984,0.6441183952673111,-0.2619746150812916],\"yaxis\":\"y12\",\"type\":\"scatter\"},{\"line\":{\"color\":\"rgba(128, 128, 128, 1.0)\",\"dash\":\"solid\",\"shape\":\"linear\",\"width\":1.3},\"marker\":{\"size\":2,\"symbol\":\"circle\"},\"mode\":\"markers\",\"name\":\"D\",\"text\":\"\",\"x\":[-1.2821232259307913,-0.39999089040185204,0.18603955462223581,1.9454784431368184,-0.5976460193168096,-1.1357869422281528,0.5011941647418091,-0.3165890810433005,-0.49026251352794514,-0.3070155142823813,-0.00928407711693977,0.40742108364021007,-0.8059220890051619,-1.6150012335022794,0.2831274750204807,-0.8071318749394667,1.2578496478325498,0.5546354700979511,-0.8058535128503591,-1.325128537682219,-0.6293771302746785,-0.18505519612184348,1.161217988148961,-0.9940280665073525,-1.0517075260495918,-0.021950386799966522,1.7059306402459018,-0.5431574852715914,-1.6652518510749255,-0.2293687085613229,-0.9330038160520542,-0.40135606395472045,-0.5904818764111005,0.1561604164203169,0.05909328601089837,-0.27648155744488384,1.5426214018051496,2.00748019586431,-0.23004698398830756,-0.9034603928397359,-0.8432824015442412,0.5985161962702256,0.2064791649332286,-1.5981203262502197,-0.691193621887644,1.2648788373359174,-0.9812428188552841,0.29077257292937864,-0.3860304784116714,0.7348736205455061,-0.30194463093884955,-1.1804849866851235,1.8555927233230805,0.3206204405021417,-0.3484647029488913,0.17804035824914086,-0.005932309547459654,-1.09324321057662,1.0537325994802822,-0.11131747857058517,1.5510248050539293,0.0641092321739744,0.011983916018163067,0.07671899326363087,-1.6383015593850865,-0.8930202201725317,2.177001154926578,0.10032475555698285,0.19801577044420687,-0.8143086148611789,2.5765300667706303,1.1424955734563713,-1.1782421287147495,0.36719261575559925,1.913126328532216,0.5316725673593986,1.0609389309814266,-0.2580418540315302,-1.1096209702275894,-0.16525766112282678,-0.6350618813045671,-0.6680136886957433,2.2019863428116317,-0.6545846207600245,-0.9819257347533642,0.7686352817125546,-0.28770493344401477,0.5918740917074815,0.5183444223241045,-1.7520524718812602,1.3980636906330712,-1.1245314917361031,0.022139236012942463,0.7592364488219824,0.42600620243372245,-1.5866222361761575,0.9371724506934582,-0.9137856349047465,1.6410233938129204,-0.16725096651345864],\"xaxis\":\"x13\",\"y\":[0.18451300084608604,-0.3022177165304333,-0.6006769288458926,-0.3052576828469785,0.012925204395338697,0.06072685016311775,1.2464010145843716,2.2562220704540947,1.7541323312485497,-2.7953960478174134,1.7960094174179742,0.8587481039984973,1.0574408725210322,-1.576207770904765,-0.16787222872406804,-1.580171289911969,-0.7405713053105409,-0.12211621622406345,-0.02719325408965277,0.7455332289902771,1.0431039917089024,-0.5573515013267838,-0.9478720009528269,-2.2240467163863453,0.47885219514426564,0.6635970834572871,0.16347637504181256,-0.514245754001384,0.2450690907864287,0.05695716481583332,0.6634388719648321,-0.39840694654691705,0.5490831922887796,-1.3498267213886324,2.0059690281820273,2.4237220564037774,0.6409158751104084,-1.145590629899955,-0.6344692609620162,-1.964475569311091,-2.553119815804278,-0.4154753044515657,0.93288515541365,0.41607149191763854,-0.5223885849225867,-0.5097269627705164,0.3137166198850058,-0.41033148846453166,-1.3504160978888808,-1.44639215776379,-1.2558830397396972,0.5085298183118243,-0.4844584936706081,-1.1095044253580726,-0.7520124292610786,0.5109618144518884,-1.0808074527541336,2.0158253236315438,0.8194125244241102,-1.830150410875788,-0.11276219125895252,0.7023652442498306,1.9866344386381598,-1.112745174819402,-1.0955180400783469,-0.44312559456598377,-0.9639932603404257,1.419599652907551,0.13032087210775575,-0.08480607840877766,-0.07161572488825718,-0.9309787384976403,0.11791449149366284,-1.1062473942402988,-0.35788548437586404,-0.3021284959768266,-1.3895146183345222,1.0207429380778419,0.17078822856664266,-0.1907799131125399,0.4714082561261303,0.2754318671952387,-0.2514751898440218,0.2837712535707717,-2.96998439652934,-0.1986095130641284,0.8367124996316605,-1.2139829622550151,0.6954813803560759,1.3221282513598556,-0.28719994075524213,2.2187535094641837,-0.3975645906718611,1.4843046228816186,-0.1192081000017448,1.0537349037666213,-0.6698748203139302,0.32146389721568674,-1.7296684021234106,0.531263702406474],\"yaxis\":\"y13\",\"type\":\"scatter\"},{\"line\":{\"color\":\"rgba(128, 128, 128, 1.0)\",\"dash\":\"solid\",\"shape\":\"linear\",\"width\":1.3},\"marker\":{\"size\":2,\"symbol\":\"circle\"},\"mode\":\"markers\",\"name\":\"D\",\"text\":\"\",\"x\":[-2.467489679081685,-0.9109994341608991,-0.9775439597470429,-0.8050359803816095,0.3880837334389582,0.7226047001728041,2.12261391775626,-1.585119821691273,-1.4789391663694118,1.4130010878680048,0.5171336797321604,0.8200803187753855,-0.1651247430133621,-0.020378991429335632,1.7248920409679187,-1.0379234752961863,1.0288558054083492,-0.4209039800868332,0.9359771990048374,0.5283817923005579,-0.704072800755225,0.33848644671342304,1.1773768477836346,-0.45103721768800803,0.13224782035424706,0.7204598068251858,-0.9342447733723493,-1.5204779496076484,1.0181798372524824,2.0464668998426223,0.6454665423594669,-0.5056759016895037,0.6527386290509671,-0.5547342801162942,0.3788700033858548,-0.3676073288176218,0.5656698820540743,1.580633720103138,-0.12711454975637088,-0.3505517026278936,-0.7660622716697431,1.523972798077345,0.8877692878051118,-0.10704995915426571,1.629723149498767,-0.15762680777432658,-1.2668726445596794,0.20016928924696611,0.699254128347382,-0.03689603754636403,0.30371287844000294,0.28611928397815256,2.0585330014523042,1.0140945140540905,-0.8297552712905361,0.09013592833499368,0.3984442817811917,-0.4571516491840917,-0.44287898704643447,-1.0569149385856347,0.04807235507245364,-0.34419688596532827,0.10004621268753495,0.08731147708013766,1.0876804228688925,1.3099639910003447,0.7539412010773562,0.11957250636430646,2.3106977365467682,2.519930816359611,0.08534530825215789,-0.9825625396071127,-0.39525470620522996,-3.1375179773086317,0.6132469463474309,-0.16942740949205784,0.09266214650465411,-1.0902353511589595,0.8250519676663988,-0.13858028835181693,-0.28940274670430133,-0.002690390203971974,0.046357330322069706,0.85344253401098,0.5158074327785028,-1.0161437917023335,0.4572488313164856,-0.10617864673067459,-0.5613388514490533,0.3160584742132285,-0.8654585149192117,0.5512673818002701,-0.048270305086464724,0.7690216936257351,0.8258710118208544,-0.16396989659898215,-0.7355413370519562,-0.163054476714875,-1.1757281031956057,0.7343984686472602],\"xaxis\":\"x14\",\"y\":[0.18451300084608604,-0.3022177165304333,-0.6006769288458926,-0.3052576828469785,0.012925204395338697,0.06072685016311775,1.2464010145843716,2.2562220704540947,1.7541323312485497,-2.7953960478174134,1.7960094174179742,0.8587481039984973,1.0574408725210322,-1.576207770904765,-0.16787222872406804,-1.580171289911969,-0.7405713053105409,-0.12211621622406345,-0.02719325408965277,0.7455332289902771,1.0431039917089024,-0.5573515013267838,-0.9478720009528269,-2.2240467163863453,0.47885219514426564,0.6635970834572871,0.16347637504181256,-0.514245754001384,0.2450690907864287,0.05695716481583332,0.6634388719648321,-0.39840694654691705,0.5490831922887796,-1.3498267213886324,2.0059690281820273,2.4237220564037774,0.6409158751104084,-1.145590629899955,-0.6344692609620162,-1.964475569311091,-2.553119815804278,-0.4154753044515657,0.93288515541365,0.41607149191763854,-0.5223885849225867,-0.5097269627705164,0.3137166198850058,-0.41033148846453166,-1.3504160978888808,-1.44639215776379,-1.2558830397396972,0.5085298183118243,-0.4844584936706081,-1.1095044253580726,-0.7520124292610786,0.5109618144518884,-1.0808074527541336,2.0158253236315438,0.8194125244241102,-1.830150410875788,-0.11276219125895252,0.7023652442498306,1.9866344386381598,-1.112745174819402,-1.0955180400783469,-0.44312559456598377,-0.9639932603404257,1.419599652907551,0.13032087210775575,-0.08480607840877766,-0.07161572488825718,-0.9309787384976403,0.11791449149366284,-1.1062473942402988,-0.35788548437586404,-0.3021284959768266,-1.3895146183345222,1.0207429380778419,0.17078822856664266,-0.1907799131125399,0.4714082561261303,0.2754318671952387,-0.2514751898440218,0.2837712535707717,-2.96998439652934,-0.1986095130641284,0.8367124996316605,-1.2139829622550151,0.6954813803560759,1.3221282513598556,-0.28719994075524213,2.2187535094641837,-0.3975645906718611,1.4843046228816186,-0.1192081000017448,1.0537349037666213,-0.6698748203139302,0.32146389721568674,-1.7296684021234106,0.531263702406474],\"yaxis\":\"y14\",\"type\":\"scatter\"},{\"line\":{\"color\":\"rgba(128, 128, 128, 1.0)\",\"dash\":\"solid\",\"shape\":\"linear\",\"width\":1.3},\"marker\":{\"size\":2,\"symbol\":\"circle\"},\"mode\":\"markers\",\"name\":\"D\",\"text\":\"\",\"x\":[-0.8893998141162937,0.6372436645570296,-2.23741081423564,-0.31765623347929695,0.7561914475460509,-0.623860105721561,0.6903173494809115,-0.5048600551762947,2.020714308651883,0.23026979636838407,0.37398753003537616,0.5206609753244256,-0.10018920147383852,-1.2985299229663352,-0.9483501928456123,1.135689521637158,-0.3337735918049371,-1.6326402352224678,-0.25866872748129416,0.5924898339790267,1.2233285790848265,-1.474457852245962,0.45596964798191353,-0.10814969404145522,-0.27594004426502083,-0.9124845686148109,0.01100070388541124,-1.9505347477078452,-0.15105469124096588,0.907630680494936,-0.6029292033423908,0.990481495159389,1.1515227416718936,0.44789830857842894,-1.7855238667231463,-0.5902657180884271,0.8584499386080536,1.0116028854383643,-0.571014671596426,-0.3866591298764715,0.9949808495557023,0.7875792632930714,0.29112207583799676,-0.3884189898620297,-1.6966161836642502,1.8160384812003816,0.32587379503399005,0.2644828784239742,-0.08883414710595931,-1.8782287388849652,0.05256177117982688,1.0882529289653526,0.8784535728298893,1.0193199732692901,-0.8088506639910596,-1.0223568889142052,0.06939344982076391,0.6655572511232158,-0.38330034677819247,-0.7887206396605513,-2.1337760011371416,-0.505300093639108,-0.22328614767833907,-1.0417437989607305,-0.34560269984827874,0.3537127142015969,-0.2736786047966587,-0.2298074753826692,0.8303171527118302,-0.8303087103507922,1.9162689202891265,-0.5565059936724137,2.061512699042052,0.5734812031194394,-1.034854720445252,-0.11071862296050343,-0.6111748958387944,0.28806307986797813,1.2021557339158877,-1.3410568555000184,-0.5043708568868606,-0.26905233445725124,0.8835614081469708,0.31823037951212957,-0.20841669540258473,1.051719819048651,0.3510133756617166,0.11514781134378886,-2.0386124893706765,-1.569657323964556,-0.4080591760496254,-0.29178810250300924,0.40457254548522725,-0.7983154563691286,-0.2538226193332108,-0.678911915924447,0.5116043020782122,-0.2827194860534984,0.6441183952673111,-0.2619746150812916],\"xaxis\":\"x15\",\"y\":[0.18451300084608604,-0.3022177165304333,-0.6006769288458926,-0.3052576828469785,0.012925204395338697,0.06072685016311775,1.2464010145843716,2.2562220704540947,1.7541323312485497,-2.7953960478174134,1.7960094174179742,0.8587481039984973,1.0574408725210322,-1.576207770904765,-0.16787222872406804,-1.580171289911969,-0.7405713053105409,-0.12211621622406345,-0.02719325408965277,0.7455332289902771,1.0431039917089024,-0.5573515013267838,-0.9478720009528269,-2.2240467163863453,0.47885219514426564,0.6635970834572871,0.16347637504181256,-0.514245754001384,0.2450690907864287,0.05695716481583332,0.6634388719648321,-0.39840694654691705,0.5490831922887796,-1.3498267213886324,2.0059690281820273,2.4237220564037774,0.6409158751104084,-1.145590629899955,-0.6344692609620162,-1.964475569311091,-2.553119815804278,-0.4154753044515657,0.93288515541365,0.41607149191763854,-0.5223885849225867,-0.5097269627705164,0.3137166198850058,-0.41033148846453166,-1.3504160978888808,-1.44639215776379,-1.2558830397396972,0.5085298183118243,-0.4844584936706081,-1.1095044253580726,-0.7520124292610786,0.5109618144518884,-1.0808074527541336,2.0158253236315438,0.8194125244241102,-1.830150410875788,-0.11276219125895252,0.7023652442498306,1.9866344386381598,-1.112745174819402,-1.0955180400783469,-0.44312559456598377,-0.9639932603404257,1.419599652907551,0.13032087210775575,-0.08480607840877766,-0.07161572488825718,-0.9309787384976403,0.11791449149366284,-1.1062473942402988,-0.35788548437586404,-0.3021284959768266,-1.3895146183345222,1.0207429380778419,0.17078822856664266,-0.1907799131125399,0.4714082561261303,0.2754318671952387,-0.2514751898440218,0.2837712535707717,-2.96998439652934,-0.1986095130641284,0.8367124996316605,-1.2139829622550151,0.6954813803560759,1.3221282513598556,-0.28719994075524213,2.2187535094641837,-0.3975645906718611,1.4843046228816186,-0.1192081000017448,1.0537349037666213,-0.6698748203139302,0.32146389721568674,-1.7296684021234106,0.531263702406474],\"yaxis\":\"y15\",\"type\":\"scatter\"},{\"histfunc\":\"count\",\"histnorm\":\"\",\"marker\":{\"color\":\"rgba(128, 0, 128, 1.0)\",\"line\":{\"color\":\"#4D5663\",\"width\":1.3}},\"name\":\"D\",\"nbinsx\":10,\"opacity\":0.8,\"orientation\":\"v\",\"x\":[0.18451300084608604,-0.3022177165304333,-0.6006769288458926,-0.3052576828469785,0.012925204395338697,0.06072685016311775,1.2464010145843716,2.2562220704540947,1.7541323312485497,-2.7953960478174134,1.7960094174179742,0.8587481039984973,1.0574408725210322,-1.576207770904765,-0.16787222872406804,-1.580171289911969,-0.7405713053105409,-0.12211621622406345,-0.02719325408965277,0.7455332289902771,1.0431039917089024,-0.5573515013267838,-0.9478720009528269,-2.2240467163863453,0.47885219514426564,0.6635970834572871,0.16347637504181256,-0.514245754001384,0.2450690907864287,0.05695716481583332,0.6634388719648321,-0.39840694654691705,0.5490831922887796,-1.3498267213886324,2.0059690281820273,2.4237220564037774,0.6409158751104084,-1.145590629899955,-0.6344692609620162,-1.964475569311091,-2.553119815804278,-0.4154753044515657,0.93288515541365,0.41607149191763854,-0.5223885849225867,-0.5097269627705164,0.3137166198850058,-0.41033148846453166,-1.3504160978888808,-1.44639215776379,-1.2558830397396972,0.5085298183118243,-0.4844584936706081,-1.1095044253580726,-0.7520124292610786,0.5109618144518884,-1.0808074527541336,2.0158253236315438,0.8194125244241102,-1.830150410875788,-0.11276219125895252,0.7023652442498306,1.9866344386381598,-1.112745174819402,-1.0955180400783469,-0.44312559456598377,-0.9639932603404257,1.419599652907551,0.13032087210775575,-0.08480607840877766,-0.07161572488825718,-0.9309787384976403,0.11791449149366284,-1.1062473942402988,-0.35788548437586404,-0.3021284959768266,-1.3895146183345222,1.0207429380778419,0.17078822856664266,-0.1907799131125399,0.4714082561261303,0.2754318671952387,-0.2514751898440218,0.2837712535707717,-2.96998439652934,-0.1986095130641284,0.8367124996316605,-1.2139829622550151,0.6954813803560759,1.3221282513598556,-0.28719994075524213,2.2187535094641837,-0.3975645906718611,1.4843046228816186,-0.1192081000017448,1.0537349037666213,-0.6698748203139302,0.32146389721568674,-1.7296684021234106,0.531263702406474],\"xaxis\":\"x16\",\"yaxis\":\"y16\",\"type\":\"histogram\"}],                        {\"bargap\":0.02,\"legend\":{\"bgcolor\":\"#F5F6F9\",\"font\":{\"color\":\"#4D5663\"}},\"paper_bgcolor\":\"#F5F6F9\",\"plot_bgcolor\":\"#F5F6F9\",\"showlegend\":false,\"template\":{\"data\":{\"barpolar\":[{\"marker\":{\"line\":{\"color\":\"#E5ECF6\",\"width\":0.5},\"pattern\":{\"fillmode\":\"overlay\",\"size\":10,\"solidity\":0.2}},\"type\":\"barpolar\"}],\"bar\":[{\"error_x\":{\"color\":\"#2a3f5f\"},\"error_y\":{\"color\":\"#2a3f5f\"},\"marker\":{\"line\":{\"color\":\"#E5ECF6\",\"width\":0.5},\"pattern\":{\"fillmode\":\"overlay\",\"size\":10,\"solidity\":0.2}},\"type\":\"bar\"}],\"carpet\":[{\"aaxis\":{\"endlinecolor\":\"#2a3f5f\",\"gridcolor\":\"white\",\"linecolor\":\"white\",\"minorgridcolor\":\"white\",\"startlinecolor\":\"#2a3f5f\"},\"baxis\":{\"endlinecolor\":\"#2a3f5f\",\"gridcolor\":\"white\",\"linecolor\":\"white\",\"minorgridcolor\":\"white\",\"startlinecolor\":\"#2a3f5f\"},\"type\":\"carpet\"}],\"choropleth\":[{\"colorbar\":{\"outlinewidth\":0,\"ticks\":\"\"},\"type\":\"choropleth\"}],\"contourcarpet\":[{\"colorbar\":{\"outlinewidth\":0,\"ticks\":\"\"},\"type\":\"contourcarpet\"}],\"contour\":[{\"colorbar\":{\"outlinewidth\":0,\"ticks\":\"\"},\"colorscale\":[[0.0,\"#0d0887\"],[0.1111111111111111,\"#46039f\"],[0.2222222222222222,\"#7201a8\"],[0.3333333333333333,\"#9c179e\"],[0.4444444444444444,\"#bd3786\"],[0.5555555555555556,\"#d8576b\"],[0.6666666666666666,\"#ed7953\"],[0.7777777777777778,\"#fb9f3a\"],[0.8888888888888888,\"#fdca26\"],[1.0,\"#f0f921\"]],\"type\":\"contour\"}],\"heatmapgl\":[{\"colorbar\":{\"outlinewidth\":0,\"ticks\":\"\"},\"colorscale\":[[0.0,\"#0d0887\"],[0.1111111111111111,\"#46039f\"],[0.2222222222222222,\"#7201a8\"],[0.3333333333333333,\"#9c179e\"],[0.4444444444444444,\"#bd3786\"],[0.5555555555555556,\"#d8576b\"],[0.6666666666666666,\"#ed7953\"],[0.7777777777777778,\"#fb9f3a\"],[0.8888888888888888,\"#fdca26\"],[1.0,\"#f0f921\"]],\"type\":\"heatmapgl\"}],\"heatmap\":[{\"colorbar\":{\"outlinewidth\":0,\"ticks\":\"\"},\"colorscale\":[[0.0,\"#0d0887\"],[0.1111111111111111,\"#46039f\"],[0.2222222222222222,\"#7201a8\"],[0.3333333333333333,\"#9c179e\"],[0.4444444444444444,\"#bd3786\"],[0.5555555555555556,\"#d8576b\"],[0.6666666666666666,\"#ed7953\"],[0.7777777777777778,\"#fb9f3a\"],[0.8888888888888888,\"#fdca26\"],[1.0,\"#f0f921\"]],\"type\":\"heatmap\"}],\"histogram2dcontour\":[{\"colorbar\":{\"outlinewidth\":0,\"ticks\":\"\"},\"colorscale\":[[0.0,\"#0d0887\"],[0.1111111111111111,\"#46039f\"],[0.2222222222222222,\"#7201a8\"],[0.3333333333333333,\"#9c179e\"],[0.4444444444444444,\"#bd3786\"],[0.5555555555555556,\"#d8576b\"],[0.6666666666666666,\"#ed7953\"],[0.7777777777777778,\"#fb9f3a\"],[0.8888888888888888,\"#fdca26\"],[1.0,\"#f0f921\"]],\"type\":\"histogram2dcontour\"}],\"histogram2d\":[{\"colorbar\":{\"outlinewidth\":0,\"ticks\":\"\"},\"colorscale\":[[0.0,\"#0d0887\"],[0.1111111111111111,\"#46039f\"],[0.2222222222222222,\"#7201a8\"],[0.3333333333333333,\"#9c179e\"],[0.4444444444444444,\"#bd3786\"],[0.5555555555555556,\"#d8576b\"],[0.6666666666666666,\"#ed7953\"],[0.7777777777777778,\"#fb9f3a\"],[0.8888888888888888,\"#fdca26\"],[1.0,\"#f0f921\"]],\"type\":\"histogram2d\"}],\"histogram\":[{\"marker\":{\"pattern\":{\"fillmode\":\"overlay\",\"size\":10,\"solidity\":0.2}},\"type\":\"histogram\"}],\"mesh3d\":[{\"colorbar\":{\"outlinewidth\":0,\"ticks\":\"\"},\"type\":\"mesh3d\"}],\"parcoords\":[{\"line\":{\"colorbar\":{\"outlinewidth\":0,\"ticks\":\"\"}},\"type\":\"parcoords\"}],\"pie\":[{\"automargin\":true,\"type\":\"pie\"}],\"scatter3d\":[{\"line\":{\"colorbar\":{\"outlinewidth\":0,\"ticks\":\"\"}},\"marker\":{\"colorbar\":{\"outlinewidth\":0,\"ticks\":\"\"}},\"type\":\"scatter3d\"}],\"scattercarpet\":[{\"marker\":{\"colorbar\":{\"outlinewidth\":0,\"ticks\":\"\"}},\"type\":\"scattercarpet\"}],\"scattergeo\":[{\"marker\":{\"colorbar\":{\"outlinewidth\":0,\"ticks\":\"\"}},\"type\":\"scattergeo\"}],\"scattergl\":[{\"marker\":{\"colorbar\":{\"outlinewidth\":0,\"ticks\":\"\"}},\"type\":\"scattergl\"}],\"scattermapbox\":[{\"marker\":{\"colorbar\":{\"outlinewidth\":0,\"ticks\":\"\"}},\"type\":\"scattermapbox\"}],\"scatterpolargl\":[{\"marker\":{\"colorbar\":{\"outlinewidth\":0,\"ticks\":\"\"}},\"type\":\"scatterpolargl\"}],\"scatterpolar\":[{\"marker\":{\"colorbar\":{\"outlinewidth\":0,\"ticks\":\"\"}},\"type\":\"scatterpolar\"}],\"scatter\":[{\"fillpattern\":{\"fillmode\":\"overlay\",\"size\":10,\"solidity\":0.2},\"type\":\"scatter\"}],\"scatterternary\":[{\"marker\":{\"colorbar\":{\"outlinewidth\":0,\"ticks\":\"\"}},\"type\":\"scatterternary\"}],\"surface\":[{\"colorbar\":{\"outlinewidth\":0,\"ticks\":\"\"},\"colorscale\":[[0.0,\"#0d0887\"],[0.1111111111111111,\"#46039f\"],[0.2222222222222222,\"#7201a8\"],[0.3333333333333333,\"#9c179e\"],[0.4444444444444444,\"#bd3786\"],[0.5555555555555556,\"#d8576b\"],[0.6666666666666666,\"#ed7953\"],[0.7777777777777778,\"#fb9f3a\"],[0.8888888888888888,\"#fdca26\"],[1.0,\"#f0f921\"]],\"type\":\"surface\"}],\"table\":[{\"cells\":{\"fill\":{\"color\":\"#EBF0F8\"},\"line\":{\"color\":\"white\"}},\"header\":{\"fill\":{\"color\":\"#C8D4E3\"},\"line\":{\"color\":\"white\"}},\"type\":\"table\"}]},\"layout\":{\"annotationdefaults\":{\"arrowcolor\":\"#2a3f5f\",\"arrowhead\":0,\"arrowwidth\":1},\"autotypenumbers\":\"strict\",\"coloraxis\":{\"colorbar\":{\"outlinewidth\":0,\"ticks\":\"\"}},\"colorscale\":{\"diverging\":[[0,\"#8e0152\"],[0.1,\"#c51b7d\"],[0.2,\"#de77ae\"],[0.3,\"#f1b6da\"],[0.4,\"#fde0ef\"],[0.5,\"#f7f7f7\"],[0.6,\"#e6f5d0\"],[0.7,\"#b8e186\"],[0.8,\"#7fbc41\"],[0.9,\"#4d9221\"],[1,\"#276419\"]],\"sequential\":[[0.0,\"#0d0887\"],[0.1111111111111111,\"#46039f\"],[0.2222222222222222,\"#7201a8\"],[0.3333333333333333,\"#9c179e\"],[0.4444444444444444,\"#bd3786\"],[0.5555555555555556,\"#d8576b\"],[0.6666666666666666,\"#ed7953\"],[0.7777777777777778,\"#fb9f3a\"],[0.8888888888888888,\"#fdca26\"],[1.0,\"#f0f921\"]],\"sequentialminus\":[[0.0,\"#0d0887\"],[0.1111111111111111,\"#46039f\"],[0.2222222222222222,\"#7201a8\"],[0.3333333333333333,\"#9c179e\"],[0.4444444444444444,\"#bd3786\"],[0.5555555555555556,\"#d8576b\"],[0.6666666666666666,\"#ed7953\"],[0.7777777777777778,\"#fb9f3a\"],[0.8888888888888888,\"#fdca26\"],[1.0,\"#f0f921\"]]},\"colorway\":[\"#636efa\",\"#EF553B\",\"#00cc96\",\"#ab63fa\",\"#FFA15A\",\"#19d3f3\",\"#FF6692\",\"#B6E880\",\"#FF97FF\",\"#FECB52\"],\"font\":{\"color\":\"#2a3f5f\"},\"geo\":{\"bgcolor\":\"white\",\"lakecolor\":\"white\",\"landcolor\":\"#E5ECF6\",\"showlakes\":true,\"showland\":true,\"subunitcolor\":\"white\"},\"hoverlabel\":{\"align\":\"left\"},\"hovermode\":\"closest\",\"mapbox\":{\"style\":\"light\"},\"paper_bgcolor\":\"white\",\"plot_bgcolor\":\"#E5ECF6\",\"polar\":{\"angularaxis\":{\"gridcolor\":\"white\",\"linecolor\":\"white\",\"ticks\":\"\"},\"bgcolor\":\"#E5ECF6\",\"radialaxis\":{\"gridcolor\":\"white\",\"linecolor\":\"white\",\"ticks\":\"\"}},\"scene\":{\"xaxis\":{\"backgroundcolor\":\"#E5ECF6\",\"gridcolor\":\"white\",\"gridwidth\":2,\"linecolor\":\"white\",\"showbackground\":true,\"ticks\":\"\",\"zerolinecolor\":\"white\"},\"yaxis\":{\"backgroundcolor\":\"#E5ECF6\",\"gridcolor\":\"white\",\"gridwidth\":2,\"linecolor\":\"white\",\"showbackground\":true,\"ticks\":\"\",\"zerolinecolor\":\"white\"},\"zaxis\":{\"backgroundcolor\":\"#E5ECF6\",\"gridcolor\":\"white\",\"gridwidth\":2,\"linecolor\":\"white\",\"showbackground\":true,\"ticks\":\"\",\"zerolinecolor\":\"white\"}},\"shapedefaults\":{\"line\":{\"color\":\"#2a3f5f\"}},\"ternary\":{\"aaxis\":{\"gridcolor\":\"white\",\"linecolor\":\"white\",\"ticks\":\"\"},\"baxis\":{\"gridcolor\":\"white\",\"linecolor\":\"white\",\"ticks\":\"\"},\"bgcolor\":\"#E5ECF6\",\"caxis\":{\"gridcolor\":\"white\",\"linecolor\":\"white\",\"ticks\":\"\"}},\"title\":{\"x\":0.05},\"xaxis\":{\"automargin\":true,\"gridcolor\":\"white\",\"linecolor\":\"white\",\"ticks\":\"\",\"title\":{\"standoff\":15},\"zerolinecolor\":\"white\",\"zerolinewidth\":2},\"yaxis\":{\"automargin\":true,\"gridcolor\":\"white\",\"linecolor\":\"white\",\"ticks\":\"\",\"title\":{\"standoff\":15},\"zerolinecolor\":\"white\",\"zerolinewidth\":2}}},\"title\":{\"font\":{\"color\":\"#4D5663\"}},\"xaxis\":{\"anchor\":\"y\",\"domain\":[0.0,0.2125],\"gridcolor\":\"#E1E5ED\",\"showgrid\":false,\"tickfont\":{\"color\":\"#4D5663\"},\"title\":{\"font\":{\"color\":\"#4D5663\"},\"text\":\"\"},\"zerolinecolor\":\"#E1E5ED\"},\"yaxis\":{\"anchor\":\"x\",\"domain\":[0.8025,1.0],\"gridcolor\":\"#E1E5ED\",\"showgrid\":false,\"tickfont\":{\"color\":\"#4D5663\"},\"title\":{\"font\":{\"color\":\"#4D5663\"},\"text\":\"\"},\"zerolinecolor\":\"#E1E5ED\"},\"xaxis2\":{\"anchor\":\"y2\",\"domain\":[0.2625,0.475],\"gridcolor\":\"#E1E5ED\",\"showgrid\":false,\"tickfont\":{\"color\":\"#4D5663\"},\"title\":{\"font\":{\"color\":\"#4D5663\"},\"text\":\"\"},\"zerolinecolor\":\"#E1E5ED\"},\"yaxis2\":{\"anchor\":\"x2\",\"domain\":[0.8025,1.0],\"gridcolor\":\"#E1E5ED\",\"showgrid\":false,\"tickfont\":{\"color\":\"#4D5663\"},\"title\":{\"font\":{\"color\":\"#4D5663\"},\"text\":\"\"},\"zerolinecolor\":\"#E1E5ED\"},\"xaxis3\":{\"anchor\":\"y3\",\"domain\":[0.525,0.7375],\"gridcolor\":\"#E1E5ED\",\"showgrid\":false,\"tickfont\":{\"color\":\"#4D5663\"},\"title\":{\"font\":{\"color\":\"#4D5663\"},\"text\":\"\"},\"zerolinecolor\":\"#E1E5ED\"},\"yaxis3\":{\"anchor\":\"x3\",\"domain\":[0.8025,1.0],\"gridcolor\":\"#E1E5ED\",\"showgrid\":false,\"tickfont\":{\"color\":\"#4D5663\"},\"title\":{\"font\":{\"color\":\"#4D5663\"},\"text\":\"\"},\"zerolinecolor\":\"#E1E5ED\"},\"xaxis4\":{\"anchor\":\"y4\",\"domain\":[0.7875,1.0],\"gridcolor\":\"#E1E5ED\",\"showgrid\":false,\"tickfont\":{\"color\":\"#4D5663\"},\"title\":{\"font\":{\"color\":\"#4D5663\"},\"text\":\"\"},\"zerolinecolor\":\"#E1E5ED\"},\"yaxis4\":{\"anchor\":\"x4\",\"domain\":[0.8025,1.0],\"gridcolor\":\"#E1E5ED\",\"showgrid\":false,\"tickfont\":{\"color\":\"#4D5663\"},\"title\":{\"font\":{\"color\":\"#4D5663\"},\"text\":\"\"},\"zerolinecolor\":\"#E1E5ED\"},\"xaxis5\":{\"anchor\":\"y5\",\"domain\":[0.0,0.2125],\"gridcolor\":\"#E1E5ED\",\"showgrid\":false,\"tickfont\":{\"color\":\"#4D5663\"},\"title\":{\"font\":{\"color\":\"#4D5663\"},\"text\":\"\"},\"zerolinecolor\":\"#E1E5ED\"},\"yaxis5\":{\"anchor\":\"x5\",\"domain\":[0.535,0.7325],\"gridcolor\":\"#E1E5ED\",\"showgrid\":false,\"tickfont\":{\"color\":\"#4D5663\"},\"title\":{\"font\":{\"color\":\"#4D5663\"},\"text\":\"\"},\"zerolinecolor\":\"#E1E5ED\"},\"xaxis6\":{\"anchor\":\"y6\",\"domain\":[0.2625,0.475],\"gridcolor\":\"#E1E5ED\",\"showgrid\":false,\"tickfont\":{\"color\":\"#4D5663\"},\"title\":{\"font\":{\"color\":\"#4D5663\"},\"text\":\"\"},\"zerolinecolor\":\"#E1E5ED\"},\"yaxis6\":{\"anchor\":\"x6\",\"domain\":[0.535,0.7325],\"gridcolor\":\"#E1E5ED\",\"showgrid\":false,\"tickfont\":{\"color\":\"#4D5663\"},\"title\":{\"font\":{\"color\":\"#4D5663\"},\"text\":\"\"},\"zerolinecolor\":\"#E1E5ED\"},\"xaxis7\":{\"anchor\":\"y7\",\"domain\":[0.525,0.7375],\"gridcolor\":\"#E1E5ED\",\"showgrid\":false,\"tickfont\":{\"color\":\"#4D5663\"},\"title\":{\"font\":{\"color\":\"#4D5663\"},\"text\":\"\"},\"zerolinecolor\":\"#E1E5ED\"},\"yaxis7\":{\"anchor\":\"x7\",\"domain\":[0.535,0.7325],\"gridcolor\":\"#E1E5ED\",\"showgrid\":false,\"tickfont\":{\"color\":\"#4D5663\"},\"title\":{\"font\":{\"color\":\"#4D5663\"},\"text\":\"\"},\"zerolinecolor\":\"#E1E5ED\"},\"xaxis8\":{\"anchor\":\"y8\",\"domain\":[0.7875,1.0],\"gridcolor\":\"#E1E5ED\",\"showgrid\":false,\"tickfont\":{\"color\":\"#4D5663\"},\"title\":{\"font\":{\"color\":\"#4D5663\"},\"text\":\"\"},\"zerolinecolor\":\"#E1E5ED\"},\"yaxis8\":{\"anchor\":\"x8\",\"domain\":[0.535,0.7325],\"gridcolor\":\"#E1E5ED\",\"showgrid\":false,\"tickfont\":{\"color\":\"#4D5663\"},\"title\":{\"font\":{\"color\":\"#4D5663\"},\"text\":\"\"},\"zerolinecolor\":\"#E1E5ED\"},\"xaxis9\":{\"anchor\":\"y9\",\"domain\":[0.0,0.2125],\"gridcolor\":\"#E1E5ED\",\"showgrid\":false,\"tickfont\":{\"color\":\"#4D5663\"},\"title\":{\"font\":{\"color\":\"#4D5663\"},\"text\":\"\"},\"zerolinecolor\":\"#E1E5ED\"},\"yaxis9\":{\"anchor\":\"x9\",\"domain\":[0.2675,0.465],\"gridcolor\":\"#E1E5ED\",\"showgrid\":false,\"tickfont\":{\"color\":\"#4D5663\"},\"title\":{\"font\":{\"color\":\"#4D5663\"},\"text\":\"\"},\"zerolinecolor\":\"#E1E5ED\"},\"xaxis10\":{\"anchor\":\"y10\",\"domain\":[0.2625,0.475],\"gridcolor\":\"#E1E5ED\",\"showgrid\":false,\"tickfont\":{\"color\":\"#4D5663\"},\"title\":{\"font\":{\"color\":\"#4D5663\"},\"text\":\"\"},\"zerolinecolor\":\"#E1E5ED\"},\"yaxis10\":{\"anchor\":\"x10\",\"domain\":[0.2675,0.465],\"gridcolor\":\"#E1E5ED\",\"showgrid\":false,\"tickfont\":{\"color\":\"#4D5663\"},\"title\":{\"font\":{\"color\":\"#4D5663\"},\"text\":\"\"},\"zerolinecolor\":\"#E1E5ED\"},\"xaxis11\":{\"anchor\":\"y11\",\"domain\":[0.525,0.7375],\"gridcolor\":\"#E1E5ED\",\"showgrid\":false,\"tickfont\":{\"color\":\"#4D5663\"},\"title\":{\"font\":{\"color\":\"#4D5663\"},\"text\":\"\"},\"zerolinecolor\":\"#E1E5ED\"},\"yaxis11\":{\"anchor\":\"x11\",\"domain\":[0.2675,0.465],\"gridcolor\":\"#E1E5ED\",\"showgrid\":false,\"tickfont\":{\"color\":\"#4D5663\"},\"title\":{\"font\":{\"color\":\"#4D5663\"},\"text\":\"\"},\"zerolinecolor\":\"#E1E5ED\"},\"xaxis12\":{\"anchor\":\"y12\",\"domain\":[0.7875,1.0],\"gridcolor\":\"#E1E5ED\",\"showgrid\":false,\"tickfont\":{\"color\":\"#4D5663\"},\"title\":{\"font\":{\"color\":\"#4D5663\"},\"text\":\"\"},\"zerolinecolor\":\"#E1E5ED\"},\"yaxis12\":{\"anchor\":\"x12\",\"domain\":[0.2675,0.465],\"gridcolor\":\"#E1E5ED\",\"showgrid\":false,\"tickfont\":{\"color\":\"#4D5663\"},\"title\":{\"font\":{\"color\":\"#4D5663\"},\"text\":\"\"},\"zerolinecolor\":\"#E1E5ED\"},\"xaxis13\":{\"anchor\":\"y13\",\"domain\":[0.0,0.2125],\"gridcolor\":\"#E1E5ED\",\"showgrid\":false,\"tickfont\":{\"color\":\"#4D5663\"},\"title\":{\"font\":{\"color\":\"#4D5663\"},\"text\":\"\"},\"zerolinecolor\":\"#E1E5ED\"},\"yaxis13\":{\"anchor\":\"x13\",\"domain\":[0.0,0.1975],\"gridcolor\":\"#E1E5ED\",\"showgrid\":false,\"tickfont\":{\"color\":\"#4D5663\"},\"title\":{\"font\":{\"color\":\"#4D5663\"},\"text\":\"\"},\"zerolinecolor\":\"#E1E5ED\"},\"xaxis14\":{\"anchor\":\"y14\",\"domain\":[0.2625,0.475],\"gridcolor\":\"#E1E5ED\",\"showgrid\":false,\"tickfont\":{\"color\":\"#4D5663\"},\"title\":{\"font\":{\"color\":\"#4D5663\"},\"text\":\"\"},\"zerolinecolor\":\"#E1E5ED\"},\"yaxis14\":{\"anchor\":\"x14\",\"domain\":[0.0,0.1975],\"gridcolor\":\"#E1E5ED\",\"showgrid\":false,\"tickfont\":{\"color\":\"#4D5663\"},\"title\":{\"font\":{\"color\":\"#4D5663\"},\"text\":\"\"},\"zerolinecolor\":\"#E1E5ED\"},\"xaxis15\":{\"anchor\":\"y15\",\"domain\":[0.525,0.7375],\"gridcolor\":\"#E1E5ED\",\"showgrid\":false,\"tickfont\":{\"color\":\"#4D5663\"},\"title\":{\"font\":{\"color\":\"#4D5663\"},\"text\":\"\"},\"zerolinecolor\":\"#E1E5ED\"},\"yaxis15\":{\"anchor\":\"x15\",\"domain\":[0.0,0.1975],\"gridcolor\":\"#E1E5ED\",\"showgrid\":false,\"tickfont\":{\"color\":\"#4D5663\"},\"title\":{\"font\":{\"color\":\"#4D5663\"},\"text\":\"\"},\"zerolinecolor\":\"#E1E5ED\"},\"xaxis16\":{\"anchor\":\"y16\",\"domain\":[0.7875,1.0],\"gridcolor\":\"#E1E5ED\",\"showgrid\":false,\"tickfont\":{\"color\":\"#4D5663\"},\"title\":{\"font\":{\"color\":\"#4D5663\"},\"text\":\"\"},\"zerolinecolor\":\"#E1E5ED\"},\"yaxis16\":{\"anchor\":\"x16\",\"domain\":[0.0,0.1975],\"gridcolor\":\"#E1E5ED\",\"showgrid\":false,\"tickfont\":{\"color\":\"#4D5663\"},\"title\":{\"font\":{\"color\":\"#4D5663\"},\"text\":\"\"},\"zerolinecolor\":\"#E1E5ED\"}},                        {\"showLink\": true, \"linkText\": \"Export to plot.ly\", \"plotlyServerURL\": \"https://plot.ly\", \"responsive\": true}                    ).then(function(){\n",
       "                            \n",
       "var gd = document.getElementById('f42da57b-bf03-43e0-a31d-70b1ec61378b');\n",
       "var x = new MutationObserver(function (mutations, observer) {{\n",
       "        var display = window.getComputedStyle(gd).display;\n",
       "        if (!display || display === 'none') {{\n",
       "            console.log([gd, 'removed!']);\n",
       "            Plotly.purge(gd);\n",
       "            observer.disconnect();\n",
       "        }}\n",
       "}});\n",
       "\n",
       "// Listen for the removal of the full notebook cells\n",
       "var notebookContainer = gd.closest('#notebook-container');\n",
       "if (notebookContainer) {{\n",
       "    x.observe(notebookContainer, {childList: true});\n",
       "}}\n",
       "\n",
       "// Listen for the clearing of the current output cell\n",
       "var outputEl = gd.closest('.output');\n",
       "if (outputEl) {{\n",
       "    x.observe(outputEl, {childList: true});\n",
       "}}\n",
       "\n",
       "                        })                };                });            </script>        </div>"
      ]
     },
     "metadata": {},
     "output_type": "display_data"
    }
   ],
   "source": [
    "df.scatter_matrix()"
   ]
  },
  {
   "cell_type": "code",
   "execution_count": null,
   "id": "0c78d20b",
   "metadata": {},
   "outputs": [],
   "source": []
  }
 ],
 "metadata": {
  "kernelspec": {
   "display_name": "Python 3 (ipykernel)",
   "language": "python",
   "name": "python3"
  },
  "language_info": {
   "codemirror_mode": {
    "name": "ipython",
    "version": 3
   },
   "file_extension": ".py",
   "mimetype": "text/x-python",
   "name": "python",
   "nbconvert_exporter": "python",
   "pygments_lexer": "ipython3",
   "version": "3.9.7"
  }
 },
 "nbformat": 4,
 "nbformat_minor": 5
}
