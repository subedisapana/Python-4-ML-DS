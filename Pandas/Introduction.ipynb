{
 "cells": [
  {
   "cell_type": "code",
   "execution_count": 1,
   "metadata": {},
   "outputs": [],
   "source": [
    "## Pandas helps in analyzing and organizing data.\n",
    "## For data analysis, we basically collect and store data, clean and organize data, we perform EDA( Exploratory Data Analysis) and then report it or visualize or communicate that data analysis...\n",
    "## or if we have to jump to the machine learning models to create data model then after EDA we create ml model and then create data product from it.\n",
    "\n",
    "### Pandas is a library for Data Analysis\n",
    "### Extremely powerful table(Dataframe) system built off NumPy.\n"
   ]
  },
  {
   "cell_type": "code",
   "execution_count": 2,
   "metadata": {},
   "outputs": [],
   "source": [
    "#what can we do with pandas?\n",
    "# --> tool for reading and writing databetween many formats\n",
    "# ---> Intelligently grab data based on indexing, logic, subsetting and more.\n",
    "# ---> Handle missing data\n",
    "# ---> Adjust and restructure data"
   ]
  },
  {
   "cell_type": "code",
   "execution_count": null,
   "metadata": {},
   "outputs": [],
   "source": [
    "# Includes:\n",
    "#     1.Series and dataframes\n",
    "#     2.Conditionala Filtering and useful methods\n",
    "#     3.Missing Data\n",
    "#     4. Group By Operations\n",
    "#     5. Combining DataFrames\n",
    "#     6.Text Methods and time methods\n",
    "#     7. Inputs and outputs"
   ]
  }
 ],
 "metadata": {
  "kernelspec": {
   "display_name": "Python 3 (ipykernel)",
   "language": "python",
   "name": "python3"
  },
  "language_info": {
   "codemirror_mode": {
    "name": "ipython",
    "version": 3
   },
   "file_extension": ".py",
   "mimetype": "text/x-python",
   "name": "python",
   "nbconvert_exporter": "python",
   "pygments_lexer": "ipython3",
   "version": "3.9.7"
  }
 },
 "nbformat": 4,
 "nbformat_minor": 2
}
