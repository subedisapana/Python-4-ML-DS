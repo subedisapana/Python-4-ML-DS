{
 "cells": [
  {
   "cell_type": "code",
   "execution_count": null,
   "id": "9778f8c3",
   "metadata": {},
   "outputs": [],
   "source": [
    "import numpy as np\n",
    "import pandas as pd\n",
    "from numpy.random import randn"
   ]
  },
  {
   "cell_type": "code",
   "execution_count": null,
   "id": "12c9c927",
   "metadata": {},
   "outputs": [],
   "source": [
    "#Multi-index and index heirarcy"
   ]
  },
  {
   "cell_type": "code",
   "execution_count": null,
   "id": "cccb113e",
   "metadata": {},
   "outputs": [],
   "source": [
    "#index levels\n",
    "outside =['G1', 'G1', 'G1', 'G2', 'G2', 'G2']\n",
    "inside = [1,2,3,1,2,3]\n",
    "hier_index = list(zip(outside, inside))\n",
    "hier_index = pd.MultiIndex.from_tuples(hier_index)"
   ]
  },
  {
   "cell_type": "code",
   "execution_count": null,
   "id": "224cdb79",
   "metadata": {},
   "outputs": [],
   "source": [
    "hier_index"
   ]
  },
  {
   "cell_type": "code",
   "execution_count": null,
   "id": "9426c580",
   "metadata": {},
   "outputs": [],
   "source": [
    "df = pd.DataFrame(randn(6,2), hier_index, ['A', 'B'])\n",
    "df"
   ]
  },
  {
   "cell_type": "code",
   "execution_count": null,
   "id": "4f0da384",
   "metadata": {},
   "outputs": [],
   "source": [
    "#call data from MLI"
   ]
  },
  {
   "cell_type": "code",
   "execution_count": null,
   "id": "9b0f6719",
   "metadata": {},
   "outputs": [],
   "source": [
    "df.loc['G1'].loc[1]"
   ]
  },
  {
   "cell_type": "code",
   "execution_count": null,
   "id": "cb917bcc",
   "metadata": {},
   "outputs": [],
   "source": [
    "df.index.names=['Groups', 'Num']\n",
    "df"
   ]
  },
  {
   "cell_type": "code",
   "execution_count": null,
   "id": "81b0dfaf",
   "metadata": {},
   "outputs": [],
   "source": [
    "df.loc['G2']"
   ]
  },
  {
   "cell_type": "code",
   "execution_count": null,
   "id": "a1f6ed9f",
   "metadata": {},
   "outputs": [],
   "source": [
    " df.loc['G2'].loc[2] #call outside to inside index"
   ]
  },
  {
   "cell_type": "code",
   "execution_count": null,
   "id": "d7111eb6",
   "metadata": {},
   "outputs": [],
   "source": [
    "df.xs #cross section"
   ]
  },
  {
   "cell_type": "code",
   "execution_count": null,
   "id": "96f8d2f2",
   "metadata": {},
   "outputs": [],
   "source": [
    "df.xs('G1')"
   ]
  },
  {
   "cell_type": "code",
   "execution_count": null,
   "id": "af5c33bf",
   "metadata": {},
   "outputs": [],
   "source": [
    "df.xs(1, level='Num')"
   ]
  },
  {
   "cell_type": "code",
   "execution_count": null,
   "id": "b2c77007",
   "metadata": {},
   "outputs": [],
   "source": [
    "df\n"
   ]
  },
  {
   "cell_type": "code",
   "execution_count": null,
   "id": "3829ae3e",
   "metadata": {},
   "outputs": [],
   "source": []
  },
  {
   "cell_type": "code",
   "execution_count": null,
   "id": "946499cb",
   "metadata": {},
   "outputs": [],
   "source": []
  },
  {
   "cell_type": "code",
   "execution_count": null,
   "id": "20b1a14b",
   "metadata": {},
   "outputs": [],
   "source": []
  }
 ],
 "metadata": {
  "kernelspec": {
   "display_name": "Python 3 (ipykernel)",
   "language": "python",
   "name": "python3"
  },
  "language_info": {
   "codemirror_mode": {
    "name": "ipython",
    "version": 3
   },
   "file_extension": ".py",
   "mimetype": "text/x-python",
   "name": "python",
   "nbconvert_exporter": "python",
   "pygments_lexer": "ipython3",
   "version": "3.9.7"
  }
 },
 "nbformat": 4,
 "nbformat_minor": 5
}
